{
 "cells": [
  {
   "cell_type": "code",
   "execution_count": 3,
   "id": "33132ad3",
   "metadata": {},
   "outputs": [],
   "source": [
    "from datetime import datetime, timedelta\n",
    "from persiantools.jdatetime import JalaliDate, JalaliDateTime\n",
    "import pandas as pd\n",
    "import plotly.express as px\n",
    "import pandas as pd\n",
    "import json\n"
   ]
  },
  {
   "cell_type": "code",
   "execution_count": 5,
   "id": "066c06d7",
   "metadata": {},
   "outputs": [],
   "source": [
    "json_dir = 'temp-json/'\n",
    "f = open(json_dir+'request.json', encoding='utf-8')\n",
    "data = json.load(f)\n",
    "f.close()\n",
    "foods = data['foods']\n",
    "foodTypes = data['foodTypes']\n",
    "factors = data['factors']\n",
    "factorItems = data['factorItems']\n",
    "restaurant = data['restaurant']\n",
    "# foods # 'id', 'name', 'real_name', 'name_arabic', 'name_latin', 'discount', 'price', 'scale', 'cooking_duration', 'restaurant_id', 'food_type_id', 'cashback', 'real_price', 'packing_price', 'maximum_daily_capacity', 'maximum_hourly_capacity', 'created_at', 'updated_at', 'deleted_at',\n",
    "# foodTypes # 'id', 'name', 'real_name', 'name_latin', 'discount', 'cooking_duration', 'restaurant_id',  'created_at', 'updated_at', 'deleted_at',\n",
    "# factors # 'id','price','phone_number','description','date','time','day_name','restaurant_id','created_at','updated_at','deleted_at',Items # 'id', 'food_id', 'factor_id', 'name', 'amount', 'scale', 'price', 'price_total', 'restaurant_id', 'created_at', 'updated_at', 'deleted_at'\n",
    "# factorItems # 'id','food_id':,'factor_id','name','amount','scale','price','price_total','restaurant_id','created_at','updated_at','deleted_at',\n",
    "# restaurant # 'id','owner_id','name','description','location','created_at','updated_at','deleted_at'\n",
    "factors = {d['id']: d for d in factors}\n",
    "\n",
    "\n",
    "#df = px.data.gapminder().query(\"continent=='Oceania'\")\n",
    "#fig = px.line(df, x=\"year\", y=\"lifeExp\", color='country', symbol=\"country\", markers=True, text=\"year\")\n",
    "#fig.show()\n",
    "\n",
    "foodGraphDaily = []\n",
    "foodGraphWeekly = []\n",
    "foodGraphMonthly = []\n",
    "\n",
    "food_ids = [1]\n",
    "foodType_ids = [1]\n",
    "fromDate = JalaliDate(1400, 8, 1)  # from < to\n",
    "toDate = JalaliDate(1401, 4, 1) #JalaliDate(datetime.today())    JalaliDate(datetime.today() - timedelta(days=dayShift))\n",
    "dayCounter = -1\n",
    "lastJdate = JalaliDate(datetime.today())\n",
    "itemBuffer = []\n",
    "dataBuffer = {}\n",
    "\n",
    "for idx, item in enumerate(factorItems):\n",
    "    date1 = factors[int(item['factor_id'])]['date']\n",
    "    time1 = factors[int(item['factor_id'])]['time']\n",
    "    jdate = JalaliDateTime(int(date1[0:4]),int(date1[5:7]),int(date1[8:10]), int(time1[0:2]),int(time1[3:5]),int(time1[6:8]))\n",
    "    #print(jdate.date())\n",
    "    if jdate.date() <= fromDate:\n",
    "        continue\n",
    "    if jdate.date() > toDate:\n",
    "        break\n",
    "    # setting the vars for the first time in the loop\n",
    "    if dayCounter == -1:\n",
    "        lastJdate = jdate\n",
    "        dayCounter = 0\n",
    "    # collecting every factors of the date\n",
    "    if lastJdate.date() == jdate.date():\n",
    "        dataBuffer = item\n",
    "        dataBuffer['date'] = date1\n",
    "        dataBuffer['time'] = time1\n",
    "        itemBuffer.append(item)\n",
    "        lastJdate = JalaliDateTime(int(date1[0:4]),int(date1[5:7]),int(date1[8:10]), int(time1[0:2]),int(time1[3:5]),int(time1[6:8]))\n",
    "    # processing the factors which are collected of one day\n",
    "    # itemBuffer contains all factors of the day\n",
    "    else: \n",
    "        dayCounter = dayCounter + 1\n",
    "        dataBuffer = {\n",
    "            'date':factors[int(itemBuffer[0]['factor_id'])]['date'],\n",
    "            'sumPayment':sum( [element['price_total'] for idx1, element in  enumerate(itemBuffer)] ),\n",
    "            'factorNumber':len(itemBuffer),\n",
    "            'dayName':factors[int(itemBuffer[0]['factor_id'])]['date'],\n",
    "        }\n",
    "        dataBuffer['08-18 (count)'] = len( [element[\"amount\"] for idx1, element in  enumerate(itemBuffer) if datetime.strptime(element[\"time\"],'%H:%M:%S') > datetime.strptime('08:00:00','%H:%M:%S') and datetime.strptime(element[\"time\"],'%H:%M:%S') < datetime.strptime('17:59:59','%H:%M:%S') ] )\n",
    "        dataBuffer['18-20 (count)'] = len( [element[\"amount\"] for idx1, element in  enumerate(itemBuffer) if datetime.strptime(element[\"time\"],'%H:%M:%S') > datetime.strptime('18:00:00','%H:%M:%S') and datetime.strptime(element[\"time\"],'%H:%M:%S') < datetime.strptime('19:59:59','%H:%M:%S') ] )\n",
    "        dataBuffer['20-21 (count)'] = len( [element[\"amount\"] for idx1, element in  enumerate(itemBuffer) if datetime.strptime(element[\"time\"],'%H:%M:%S') > datetime.strptime('20:00:00','%H:%M:%S') and datetime.strptime(element[\"time\"],'%H:%M:%S') < datetime.strptime('20:59:59','%H:%M:%S') ] )\n",
    "        dataBuffer['21-22 (count)'] = len( [element[\"amount\"] for idx1, element in  enumerate(itemBuffer) if datetime.strptime(element[\"time\"],'%H:%M:%S') > datetime.strptime('21:00:00','%H:%M:%S') and datetime.strptime(element[\"time\"],'%H:%M:%S') < datetime.strptime('21:59:59','%H:%M:%S') ] )\n",
    "        dataBuffer['22-23 (count)'] = len( [element[\"amount\"] for idx1, element in  enumerate(itemBuffer) if datetime.strptime(element[\"time\"],'%H:%M:%S') > datetime.strptime('22:00:00','%H:%M:%S') and datetime.strptime(element[\"time\"],'%H:%M:%S') < datetime.strptime('22:59:59','%H:%M:%S') ] )\n",
    "        dataBuffer['23-24 (count)'] = len( [element[\"amount\"] for idx1, element in  enumerate(itemBuffer) if datetime.strptime(element[\"time\"],'%H:%M:%S') > datetime.strptime('23:00:00','%H:%M:%S') and datetime.strptime(element[\"time\"],'%H:%M:%S') < datetime.strptime('23:59:59','%H:%M:%S') ] )\n",
    "        dataBuffer['24-08 (count)'] = len( [element[\"amount\"] for idx1, element in  enumerate(itemBuffer) if datetime.strptime(element[\"time\"],'%H:%M:%S') > datetime.strptime('00:00:00','%H:%M:%S') and datetime.strptime(element[\"time\"],'%H:%M:%S') < datetime.strptime('07:59:59','%H:%M:%S') ] )\n",
    "        dataBuffer['08-18 (payment)'] = sum( [element['price_total'] for idx1, element in  enumerate(itemBuffer) if datetime.strptime(element[\"time\"],'%H:%M:%S') > datetime.strptime('08:00:00','%H:%M:%S') and datetime.strptime(element[\"time\"],'%H:%M:%S') < datetime.strptime('17:59:59','%H:%M:%S') ] )\n",
    "        dataBuffer['18-20 (payment)'] = sum( [element['price_total'] for idx1, element in  enumerate(itemBuffer) if datetime.strptime(element[\"time\"],'%H:%M:%S') > datetime.strptime('18:00:00','%H:%M:%S') and datetime.strptime(element[\"time\"],'%H:%M:%S') < datetime.strptime('19:59:59','%H:%M:%S') ] )\n",
    "        dataBuffer['20-21 (payment)'] = sum( [element['price_total'] for idx1, element in  enumerate(itemBuffer) if datetime.strptime(element[\"time\"],'%H:%M:%S') > datetime.strptime('20:00:00','%H:%M:%S') and datetime.strptime(element[\"time\"],'%H:%M:%S') < datetime.strptime('20:59:59','%H:%M:%S') ] )\n",
    "        dataBuffer['21-22 (payment)'] = sum( [element['price_total'] for idx1, element in  enumerate(itemBuffer) if datetime.strptime(element[\"time\"],'%H:%M:%S') > datetime.strptime('21:00:00','%H:%M:%S') and datetime.strptime(element[\"time\"],'%H:%M:%S') < datetime.strptime('21:59:59','%H:%M:%S') ] )\n",
    "        dataBuffer['22-23 (payment)'] = sum( [element['price_total'] for idx1, element in  enumerate(itemBuffer) if datetime.strptime(element[\"time\"],'%H:%M:%S') > datetime.strptime('22:00:00','%H:%M:%S') and datetime.strptime(element[\"time\"],'%H:%M:%S') < datetime.strptime('22:59:59','%H:%M:%S') ] )\n",
    "        dataBuffer['23-24 (payment)'] = sum( [element['price_total'] for idx1, element in  enumerate(itemBuffer) if datetime.strptime(element[\"time\"],'%H:%M:%S') > datetime.strptime('23:00:00','%H:%M:%S') and datetime.strptime(element[\"time\"],'%H:%M:%S') < datetime.strptime('23:59:59','%H:%M:%S') ] )\n",
    "        dataBuffer['24-08 (payment)'] = sum( [element['price_total'] for idx1, element in  enumerate(itemBuffer) if datetime.strptime(element[\"time\"],'%H:%M:%S') > datetime.strptime('00:00:00','%H:%M:%S') and datetime.strptime(element[\"time\"],'%H:%M:%S') < datetime.strptime('07:59:59','%H:%M:%S') ] )\n",
    "        dataBuffer['24-08 (payment)'] = sum( [element['price_total'] for idx1, element in  enumerate(itemBuffer) if datetime.strptime(element[\"time\"],'%H:%M:%S') > datetime.strptime('00:00:00','%H:%M:%S') and datetime.strptime(element[\"time\"],'%H:%M:%S') < datetime.strptime('07:59:59','%H:%M:%S') ] )\n",
    "        foodGraphDaily.append(dataBuffer)\n",
    "        itemBuffer = []\n",
    "        #\n",
    "        dataBuffer = item\n",
    "        dataBuffer['date'] = date1\n",
    "        dataBuffer['time'] = time1\n",
    "        itemBuffer.append(item)\n",
    "        lastJdate = JalaliDateTime(int(date1[0:4]),int(date1[5:7]),int(date1[8:10]), int(time1[0:2]),int(time1[3:5]),int(time1[6:8]))\n",
    "\n"
   ]
  },
  {
   "cell_type": "code",
   "execution_count": 6,
   "id": "adc3c3c6",
   "metadata": {},
   "outputs": [
    {
     "data": {
      "application/vnd.plotly.v1+json": {
       "config": {
        "plotlyServerURL": "https://plot.ly"
       },
       "data": [
        {
         "hovertemplate": "date=%{x}<br>21-22 (payment)=%{text}<extra></extra>",
         "legendgroup": "",
         "line": {
          "color": "#636efa",
          "dash": "solid"
         },
         "marker": {
          "symbol": "circle"
         },
         "mode": "lines+markers+text",
         "name": "",
         "orientation": "v",
         "showlegend": false,
         "text": [
          7980,
          12285,
          5380,
          5750,
          11080,
          9500,
          7885,
          0,
          7710,
          9020,
          11895,
          10870,
          5135,
          5415,
          4650,
          9700,
          12690,
          2980,
          2540,
          5615,
          4350,
          5690,
          12190,
          4080,
          16720,
          2300,
          17220,
          5360,
          10710,
          14680,
          2750,
          7270,
          15060,
          10170,
          3820,
          6810,
          5310,
          5700,
          6960,
          1910,
          5340,
          7970,
          5390,
          7470,
          900,
          3770,
          6390,
          9280,
          9730,
          320,
          2430,
          8215,
          5905,
          4380,
          0,
          1020,
          3410,
          2670,
          4470,
          630,
          1880,
          14090,
          0,
          10935,
          7345,
          8515,
          7865,
          18140,
          7285,
          16025,
          6690,
          4610,
          5670,
          7995,
          4670,
          3635,
          10240,
          13915,
          1735,
          3975,
          1640,
          5370,
          7560,
          16880,
          1950,
          10240,
          1225,
          4310,
          5660,
          5970,
          8380,
          5010,
          8630,
          8770,
          5370,
          7230,
          3980,
          16130,
          19640,
          5280,
          7220,
          2760,
          10980,
          7280,
          4640,
          14930,
          5430,
          7630,
          9560,
          11600,
          12550,
          5250,
          2710,
          16280,
          9610,
          14320,
          6320,
          2220,
          5470,
          8320,
          17770,
          13320,
          1750,
          4150,
          16660,
          15026,
          18960,
          3080,
          2900,
          8590,
          13570,
          760,
          10190,
          5790,
          14830,
          3100,
          2370,
          8240,
          6200,
          1430,
          19990,
          3790,
          6480,
          6570,
          8920,
          12670,
          11720,
          7610,
          10930,
          3690,
          15290,
          4110,
          8640,
          8380,
          23140,
          2260,
          4670,
          5170,
          19870,
          2300,
          4840,
          13530,
          6540,
          6480,
          0,
          6720,
          9110,
          4030,
          5360,
          8470,
          0,
          2670,
          6430,
          6810,
          8350,
          2090,
          21610,
          9020,
          7850,
          9670,
          29370,
          25270,
          17770,
          16850,
          2800,
          6960,
          5530,
          6830,
          15430,
          6710,
          20610,
          18230,
          7960,
          14780,
          15930,
          15460,
          15890,
          7600,
          4890,
          13110,
          13310,
          11770,
          6390,
          1020,
          21130
         ],
         "type": "scatter",
         "x": [
          "1400-08-02",
          "1400-08-04",
          "1400-08-03",
          "1400-08-05",
          "1400-08-06",
          "1400-08-07",
          "1400-08-08",
          "1400-08-05",
          "1400-08-09",
          "1400-08-10",
          "1400-08-11",
          "1400-08-12",
          "1400-08-13",
          "1400-08-14",
          "1400-08-15",
          "1400-08-16",
          "1400-08-17",
          "1400-08-18",
          "1400-08-19",
          "1400-08-20",
          "1400-08-21",
          "1400-08-24",
          "1400-08-22",
          "1400-08-23",
          "1400-08-25",
          "1400-08-26",
          "1400-08-27",
          "1400-08-28",
          "1400-08-29",
          "1400-08-30",
          "1400-09-01",
          "1400-09-02",
          "1400-09-03",
          "1400-09-04",
          "1400-09-05",
          "1400-09-06",
          "1400-09-07",
          "1400-09-08",
          "1400-09-09",
          "1400-09-10",
          "1400-09-11",
          "1400-09-12",
          "1400-09-13",
          "1400-09-14",
          "1400-09-15",
          "1400-09-16",
          "1400-09-17",
          "1400-09-18",
          "1400-09-19",
          "1400-09-20",
          "1400-09-21",
          "1400-09-22",
          "1400-09-23",
          "1400-09-24",
          "1400-09-25",
          "1400-09-26",
          "1400-09-27",
          "1400-09-28",
          "1400-09-29",
          "1400-09-30",
          "1400-10-01",
          "1400-10-02",
          "1400-10-04",
          "1400-10-03",
          "1400-10-04",
          "1400-10-05",
          "1400-10-06",
          "1400-10-07",
          "1400-10-08",
          "1400-10-10",
          "1400-10-09",
          "1400-10-11",
          "1400-10-12",
          "1400-10-13",
          "1400-10-14",
          "1400-10-16",
          "1400-10-15",
          "1400-10-17",
          "1400-10-19",
          "1400-10-18",
          "1400-10-20",
          "1400-10-21",
          "1400-10-22",
          "1400-10-23",
          "1400-10-24",
          "1400-10-25",
          "1400-11-02",
          "1400-11-03",
          "1400-11-04",
          "1400-11-05",
          "1400-11-06",
          "1400-11-07",
          "1400-11-08",
          "1400-11-10",
          "1400-11-09",
          "1400-11-11",
          "1400-11-12",
          "1400-11-13",
          "1400-11-14",
          "1400-11-15",
          "1400-11-16",
          "1400-11-17",
          "1400-11-18",
          "1400-11-21",
          "1400-11-19",
          "1400-11-20",
          "1400-11-22",
          "1400-11-23",
          "1400-11-24",
          "1400-11-25",
          "1400-11-26",
          "1400-11-27",
          "1400-12-01",
          "1400-11-28",
          "1400-11-29",
          "1400-11-30",
          "1400-12-02",
          "1400-12-03",
          "1400-12-04",
          "1400-12-05",
          "1400-12-06",
          "1400-12-07",
          "1400-12-09",
          "1400-12-08",
          "1400-12-10",
          "1400-12-11",
          "1400-12-12",
          "1400-12-13",
          "1400-12-15",
          "1400-12-14",
          "1400-12-16",
          "1400-12-17",
          "1400-12-18",
          "1400-12-19",
          "1400-12-20",
          "1400-12-21",
          "1400-12-22",
          "1400-12-23",
          "1400-12-24",
          "1400-12-25",
          "1400-12-26",
          "1400-12-27",
          "1400-12-28",
          "1401-01-02",
          "1401-01-03",
          "1401-01-04",
          "1401-01-05",
          "1401-01-06",
          "1401-01-07",
          "1401-01-08",
          "1401-01-09",
          "1401-01-10",
          "1401-01-11",
          "1401-01-12",
          "1401-01-13",
          "1401-01-14",
          "1401-01-15",
          "1401-01-16",
          "1401-01-17",
          "1401-01-18",
          "1401-01-19",
          "1401-01-20",
          "1401-01-21",
          "1401-01-22",
          "1401-01-21",
          "1401-01-23",
          "1401-01-24",
          "1401-01-25",
          "1401-01-26",
          "1401-01-27",
          "1401-01-28",
          "1401-01-29",
          "1401-01-30",
          "1401-02-06",
          "1401-02-07",
          "1401-02-08",
          "1401-02-09",
          "1401-02-10",
          "1401-02-11",
          "1401-02-12",
          "1401-02-13",
          "1401-02-14",
          "1401-02-15",
          "1401-02-16",
          "1401-02-17",
          "1401-02-18",
          "1401-02-19",
          "1401-02-20",
          "1401-02-21",
          "1401-02-22",
          "1401-02-23",
          "1401-02-24",
          "1401-02-25",
          "1401-02-26",
          "1401-02-27",
          "1401-02-28",
          "1401-02-29",
          "1401-02-30",
          "1401-02-31",
          "1401-03-01",
          "1401-03-02",
          "1401-03-03",
          "1401-03-04",
          "1401-03-05",
          "1401-03-06"
         ],
         "xaxis": "x",
         "y": [
          7980,
          12285,
          5380,
          5750,
          11080,
          9500,
          7885,
          0,
          7710,
          9020,
          11895,
          10870,
          5135,
          5415,
          4650,
          9700,
          12690,
          2980,
          2540,
          5615,
          4350,
          5690,
          12190,
          4080,
          16720,
          2300,
          17220,
          5360,
          10710,
          14680,
          2750,
          7270,
          15060,
          10170,
          3820,
          6810,
          5310,
          5700,
          6960,
          1910,
          5340,
          7970,
          5390,
          7470,
          900,
          3770,
          6390,
          9280,
          9730,
          320,
          2430,
          8215,
          5905,
          4380,
          0,
          1020,
          3410,
          2670,
          4470,
          630,
          1880,
          14090,
          0,
          10935,
          7345,
          8515,
          7865,
          18140,
          7285,
          16025,
          6690,
          4610,
          5670,
          7995,
          4670,
          3635,
          10240,
          13915,
          1735,
          3975,
          1640,
          5370,
          7560,
          16880,
          1950,
          10240,
          1225,
          4310,
          5660,
          5970,
          8380,
          5010,
          8630,
          8770,
          5370,
          7230,
          3980,
          16130,
          19640,
          5280,
          7220,
          2760,
          10980,
          7280,
          4640,
          14930,
          5430,
          7630,
          9560,
          11600,
          12550,
          5250,
          2710,
          16280,
          9610,
          14320,
          6320,
          2220,
          5470,
          8320,
          17770,
          13320,
          1750,
          4150,
          16660,
          15026,
          18960,
          3080,
          2900,
          8590,
          13570,
          760,
          10190,
          5790,
          14830,
          3100,
          2370,
          8240,
          6200,
          1430,
          19990,
          3790,
          6480,
          6570,
          8920,
          12670,
          11720,
          7610,
          10930,
          3690,
          15290,
          4110,
          8640,
          8380,
          23140,
          2260,
          4670,
          5170,
          19870,
          2300,
          4840,
          13530,
          6540,
          6480,
          0,
          6720,
          9110,
          4030,
          5360,
          8470,
          0,
          2670,
          6430,
          6810,
          8350,
          2090,
          21610,
          9020,
          7850,
          9670,
          29370,
          25270,
          17770,
          16850,
          2800,
          6960,
          5530,
          6830,
          15430,
          6710,
          20610,
          18230,
          7960,
          14780,
          15930,
          15460,
          15890,
          7600,
          4890,
          13110,
          13310,
          11770,
          6390,
          1020,
          21130
         ],
         "yaxis": "y"
        }
       ],
       "layout": {
        "legend": {
         "tracegroupgap": 0
        },
        "margin": {
         "t": 60
        },
        "template": {
         "data": {
          "bar": [
           {
            "error_x": {
             "color": "#2a3f5f"
            },
            "error_y": {
             "color": "#2a3f5f"
            },
            "marker": {
             "line": {
              "color": "#E5ECF6",
              "width": 0.5
             },
             "pattern": {
              "fillmode": "overlay",
              "size": 10,
              "solidity": 0.2
             }
            },
            "type": "bar"
           }
          ],
          "barpolar": [
           {
            "marker": {
             "line": {
              "color": "#E5ECF6",
              "width": 0.5
             },
             "pattern": {
              "fillmode": "overlay",
              "size": 10,
              "solidity": 0.2
             }
            },
            "type": "barpolar"
           }
          ],
          "carpet": [
           {
            "aaxis": {
             "endlinecolor": "#2a3f5f",
             "gridcolor": "white",
             "linecolor": "white",
             "minorgridcolor": "white",
             "startlinecolor": "#2a3f5f"
            },
            "baxis": {
             "endlinecolor": "#2a3f5f",
             "gridcolor": "white",
             "linecolor": "white",
             "minorgridcolor": "white",
             "startlinecolor": "#2a3f5f"
            },
            "type": "carpet"
           }
          ],
          "choropleth": [
           {
            "colorbar": {
             "outlinewidth": 0,
             "ticks": ""
            },
            "type": "choropleth"
           }
          ],
          "contour": [
           {
            "colorbar": {
             "outlinewidth": 0,
             "ticks": ""
            },
            "colorscale": [
             [
              0,
              "#0d0887"
             ],
             [
              0.1111111111111111,
              "#46039f"
             ],
             [
              0.2222222222222222,
              "#7201a8"
             ],
             [
              0.3333333333333333,
              "#9c179e"
             ],
             [
              0.4444444444444444,
              "#bd3786"
             ],
             [
              0.5555555555555556,
              "#d8576b"
             ],
             [
              0.6666666666666666,
              "#ed7953"
             ],
             [
              0.7777777777777778,
              "#fb9f3a"
             ],
             [
              0.8888888888888888,
              "#fdca26"
             ],
             [
              1,
              "#f0f921"
             ]
            ],
            "type": "contour"
           }
          ],
          "contourcarpet": [
           {
            "colorbar": {
             "outlinewidth": 0,
             "ticks": ""
            },
            "type": "contourcarpet"
           }
          ],
          "heatmap": [
           {
            "colorbar": {
             "outlinewidth": 0,
             "ticks": ""
            },
            "colorscale": [
             [
              0,
              "#0d0887"
             ],
             [
              0.1111111111111111,
              "#46039f"
             ],
             [
              0.2222222222222222,
              "#7201a8"
             ],
             [
              0.3333333333333333,
              "#9c179e"
             ],
             [
              0.4444444444444444,
              "#bd3786"
             ],
             [
              0.5555555555555556,
              "#d8576b"
             ],
             [
              0.6666666666666666,
              "#ed7953"
             ],
             [
              0.7777777777777778,
              "#fb9f3a"
             ],
             [
              0.8888888888888888,
              "#fdca26"
             ],
             [
              1,
              "#f0f921"
             ]
            ],
            "type": "heatmap"
           }
          ],
          "heatmapgl": [
           {
            "colorbar": {
             "outlinewidth": 0,
             "ticks": ""
            },
            "colorscale": [
             [
              0,
              "#0d0887"
             ],
             [
              0.1111111111111111,
              "#46039f"
             ],
             [
              0.2222222222222222,
              "#7201a8"
             ],
             [
              0.3333333333333333,
              "#9c179e"
             ],
             [
              0.4444444444444444,
              "#bd3786"
             ],
             [
              0.5555555555555556,
              "#d8576b"
             ],
             [
              0.6666666666666666,
              "#ed7953"
             ],
             [
              0.7777777777777778,
              "#fb9f3a"
             ],
             [
              0.8888888888888888,
              "#fdca26"
             ],
             [
              1,
              "#f0f921"
             ]
            ],
            "type": "heatmapgl"
           }
          ],
          "histogram": [
           {
            "marker": {
             "pattern": {
              "fillmode": "overlay",
              "size": 10,
              "solidity": 0.2
             }
            },
            "type": "histogram"
           }
          ],
          "histogram2d": [
           {
            "colorbar": {
             "outlinewidth": 0,
             "ticks": ""
            },
            "colorscale": [
             [
              0,
              "#0d0887"
             ],
             [
              0.1111111111111111,
              "#46039f"
             ],
             [
              0.2222222222222222,
              "#7201a8"
             ],
             [
              0.3333333333333333,
              "#9c179e"
             ],
             [
              0.4444444444444444,
              "#bd3786"
             ],
             [
              0.5555555555555556,
              "#d8576b"
             ],
             [
              0.6666666666666666,
              "#ed7953"
             ],
             [
              0.7777777777777778,
              "#fb9f3a"
             ],
             [
              0.8888888888888888,
              "#fdca26"
             ],
             [
              1,
              "#f0f921"
             ]
            ],
            "type": "histogram2d"
           }
          ],
          "histogram2dcontour": [
           {
            "colorbar": {
             "outlinewidth": 0,
             "ticks": ""
            },
            "colorscale": [
             [
              0,
              "#0d0887"
             ],
             [
              0.1111111111111111,
              "#46039f"
             ],
             [
              0.2222222222222222,
              "#7201a8"
             ],
             [
              0.3333333333333333,
              "#9c179e"
             ],
             [
              0.4444444444444444,
              "#bd3786"
             ],
             [
              0.5555555555555556,
              "#d8576b"
             ],
             [
              0.6666666666666666,
              "#ed7953"
             ],
             [
              0.7777777777777778,
              "#fb9f3a"
             ],
             [
              0.8888888888888888,
              "#fdca26"
             ],
             [
              1,
              "#f0f921"
             ]
            ],
            "type": "histogram2dcontour"
           }
          ],
          "mesh3d": [
           {
            "colorbar": {
             "outlinewidth": 0,
             "ticks": ""
            },
            "type": "mesh3d"
           }
          ],
          "parcoords": [
           {
            "line": {
             "colorbar": {
              "outlinewidth": 0,
              "ticks": ""
             }
            },
            "type": "parcoords"
           }
          ],
          "pie": [
           {
            "automargin": true,
            "type": "pie"
           }
          ],
          "scatter": [
           {
            "fillpattern": {
             "fillmode": "overlay",
             "size": 10,
             "solidity": 0.2
            },
            "type": "scatter"
           }
          ],
          "scatter3d": [
           {
            "line": {
             "colorbar": {
              "outlinewidth": 0,
              "ticks": ""
             }
            },
            "marker": {
             "colorbar": {
              "outlinewidth": 0,
              "ticks": ""
             }
            },
            "type": "scatter3d"
           }
          ],
          "scattercarpet": [
           {
            "marker": {
             "colorbar": {
              "outlinewidth": 0,
              "ticks": ""
             }
            },
            "type": "scattercarpet"
           }
          ],
          "scattergeo": [
           {
            "marker": {
             "colorbar": {
              "outlinewidth": 0,
              "ticks": ""
             }
            },
            "type": "scattergeo"
           }
          ],
          "scattergl": [
           {
            "marker": {
             "colorbar": {
              "outlinewidth": 0,
              "ticks": ""
             }
            },
            "type": "scattergl"
           }
          ],
          "scattermapbox": [
           {
            "marker": {
             "colorbar": {
              "outlinewidth": 0,
              "ticks": ""
             }
            },
            "type": "scattermapbox"
           }
          ],
          "scatterpolar": [
           {
            "marker": {
             "colorbar": {
              "outlinewidth": 0,
              "ticks": ""
             }
            },
            "type": "scatterpolar"
           }
          ],
          "scatterpolargl": [
           {
            "marker": {
             "colorbar": {
              "outlinewidth": 0,
              "ticks": ""
             }
            },
            "type": "scatterpolargl"
           }
          ],
          "scatterternary": [
           {
            "marker": {
             "colorbar": {
              "outlinewidth": 0,
              "ticks": ""
             }
            },
            "type": "scatterternary"
           }
          ],
          "surface": [
           {
            "colorbar": {
             "outlinewidth": 0,
             "ticks": ""
            },
            "colorscale": [
             [
              0,
              "#0d0887"
             ],
             [
              0.1111111111111111,
              "#46039f"
             ],
             [
              0.2222222222222222,
              "#7201a8"
             ],
             [
              0.3333333333333333,
              "#9c179e"
             ],
             [
              0.4444444444444444,
              "#bd3786"
             ],
             [
              0.5555555555555556,
              "#d8576b"
             ],
             [
              0.6666666666666666,
              "#ed7953"
             ],
             [
              0.7777777777777778,
              "#fb9f3a"
             ],
             [
              0.8888888888888888,
              "#fdca26"
             ],
             [
              1,
              "#f0f921"
             ]
            ],
            "type": "surface"
           }
          ],
          "table": [
           {
            "cells": {
             "fill": {
              "color": "#EBF0F8"
             },
             "line": {
              "color": "white"
             }
            },
            "header": {
             "fill": {
              "color": "#C8D4E3"
             },
             "line": {
              "color": "white"
             }
            },
            "type": "table"
           }
          ]
         },
         "layout": {
          "annotationdefaults": {
           "arrowcolor": "#2a3f5f",
           "arrowhead": 0,
           "arrowwidth": 1
          },
          "autotypenumbers": "strict",
          "coloraxis": {
           "colorbar": {
            "outlinewidth": 0,
            "ticks": ""
           }
          },
          "colorscale": {
           "diverging": [
            [
             0,
             "#8e0152"
            ],
            [
             0.1,
             "#c51b7d"
            ],
            [
             0.2,
             "#de77ae"
            ],
            [
             0.3,
             "#f1b6da"
            ],
            [
             0.4,
             "#fde0ef"
            ],
            [
             0.5,
             "#f7f7f7"
            ],
            [
             0.6,
             "#e6f5d0"
            ],
            [
             0.7,
             "#b8e186"
            ],
            [
             0.8,
             "#7fbc41"
            ],
            [
             0.9,
             "#4d9221"
            ],
            [
             1,
             "#276419"
            ]
           ],
           "sequential": [
            [
             0,
             "#0d0887"
            ],
            [
             0.1111111111111111,
             "#46039f"
            ],
            [
             0.2222222222222222,
             "#7201a8"
            ],
            [
             0.3333333333333333,
             "#9c179e"
            ],
            [
             0.4444444444444444,
             "#bd3786"
            ],
            [
             0.5555555555555556,
             "#d8576b"
            ],
            [
             0.6666666666666666,
             "#ed7953"
            ],
            [
             0.7777777777777778,
             "#fb9f3a"
            ],
            [
             0.8888888888888888,
             "#fdca26"
            ],
            [
             1,
             "#f0f921"
            ]
           ],
           "sequentialminus": [
            [
             0,
             "#0d0887"
            ],
            [
             0.1111111111111111,
             "#46039f"
            ],
            [
             0.2222222222222222,
             "#7201a8"
            ],
            [
             0.3333333333333333,
             "#9c179e"
            ],
            [
             0.4444444444444444,
             "#bd3786"
            ],
            [
             0.5555555555555556,
             "#d8576b"
            ],
            [
             0.6666666666666666,
             "#ed7953"
            ],
            [
             0.7777777777777778,
             "#fb9f3a"
            ],
            [
             0.8888888888888888,
             "#fdca26"
            ],
            [
             1,
             "#f0f921"
            ]
           ]
          },
          "colorway": [
           "#636efa",
           "#EF553B",
           "#00cc96",
           "#ab63fa",
           "#FFA15A",
           "#19d3f3",
           "#FF6692",
           "#B6E880",
           "#FF97FF",
           "#FECB52"
          ],
          "font": {
           "color": "#2a3f5f"
          },
          "geo": {
           "bgcolor": "white",
           "lakecolor": "white",
           "landcolor": "#E5ECF6",
           "showlakes": true,
           "showland": true,
           "subunitcolor": "white"
          },
          "hoverlabel": {
           "align": "left"
          },
          "hovermode": "closest",
          "mapbox": {
           "style": "light"
          },
          "paper_bgcolor": "white",
          "plot_bgcolor": "#E5ECF6",
          "polar": {
           "angularaxis": {
            "gridcolor": "white",
            "linecolor": "white",
            "ticks": ""
           },
           "bgcolor": "#E5ECF6",
           "radialaxis": {
            "gridcolor": "white",
            "linecolor": "white",
            "ticks": ""
           }
          },
          "scene": {
           "xaxis": {
            "backgroundcolor": "#E5ECF6",
            "gridcolor": "white",
            "gridwidth": 2,
            "linecolor": "white",
            "showbackground": true,
            "ticks": "",
            "zerolinecolor": "white"
           },
           "yaxis": {
            "backgroundcolor": "#E5ECF6",
            "gridcolor": "white",
            "gridwidth": 2,
            "linecolor": "white",
            "showbackground": true,
            "ticks": "",
            "zerolinecolor": "white"
           },
           "zaxis": {
            "backgroundcolor": "#E5ECF6",
            "gridcolor": "white",
            "gridwidth": 2,
            "linecolor": "white",
            "showbackground": true,
            "ticks": "",
            "zerolinecolor": "white"
           }
          },
          "shapedefaults": {
           "line": {
            "color": "#2a3f5f"
           }
          },
          "ternary": {
           "aaxis": {
            "gridcolor": "white",
            "linecolor": "white",
            "ticks": ""
           },
           "baxis": {
            "gridcolor": "white",
            "linecolor": "white",
            "ticks": ""
           },
           "bgcolor": "#E5ECF6",
           "caxis": {
            "gridcolor": "white",
            "linecolor": "white",
            "ticks": ""
           }
          },
          "title": {
           "x": 0.05
          },
          "xaxis": {
           "automargin": true,
           "gridcolor": "white",
           "linecolor": "white",
           "ticks": "",
           "title": {
            "standoff": 15
           },
           "zerolinecolor": "white",
           "zerolinewidth": 2
          },
          "yaxis": {
           "automargin": true,
           "gridcolor": "white",
           "linecolor": "white",
           "ticks": "",
           "title": {
            "standoff": 15
           },
           "zerolinecolor": "white",
           "zerolinewidth": 2
          }
         }
        },
        "xaxis": {
         "anchor": "y",
         "domain": [
          0,
          1
         ],
         "title": {
          "text": "date"
         }
        },
        "yaxis": {
         "anchor": "x",
         "domain": [
          0,
          1
         ],
         "title": {
          "text": "21-22 (payment)"
         }
        }
       }
      },
      "text/html": [
       "<div>                            <div id=\"e54a20f2-2610-4d52-a106-e627ced67cac\" class=\"plotly-graph-div\" style=\"height:525px; width:100%;\"></div>            <script type=\"text/javascript\">                require([\"plotly\"], function(Plotly) {                    window.PLOTLYENV=window.PLOTLYENV || {};                                    if (document.getElementById(\"e54a20f2-2610-4d52-a106-e627ced67cac\")) {                    Plotly.newPlot(                        \"e54a20f2-2610-4d52-a106-e627ced67cac\",                        [{\"hovertemplate\":\"date=%{x}<br>21-22 (payment)=%{text}<extra></extra>\",\"legendgroup\":\"\",\"line\":{\"color\":\"#636efa\",\"dash\":\"solid\"},\"marker\":{\"symbol\":\"circle\"},\"mode\":\"lines+markers+text\",\"name\":\"\",\"orientation\":\"v\",\"showlegend\":false,\"text\":[7980.0,12285.0,5380.0,5750.0,11080.0,9500.0,7885.0,0.0,7710.0,9020.0,11895.0,10870.0,5135.0,5415.0,4650.0,9700.0,12690.0,2980.0,2540.0,5615.0,4350.0,5690.0,12190.0,4080.0,16720.0,2300.0,17220.0,5360.0,10710.0,14680.0,2750.0,7270.0,15060.0,10170.0,3820.0,6810.0,5310.0,5700.0,6960.0,1910.0,5340.0,7970.0,5390.0,7470.0,900.0,3770.0,6390.0,9280.0,9730.0,320.0,2430.0,8215.0,5905.0,4380.0,0.0,1020.0,3410.0,2670.0,4470.0,630.0,1880.0,14090.0,0.0,10935.0,7345.0,8515.0,7865.0,18140.0,7285.0,16025.0,6690.0,4610.0,5670.0,7995.0,4670.0,3635.0,10240.0,13915.0,1735.0,3975.0,1640.0,5370.0,7560.0,16880.0,1950.0,10240.0,1225.0,4310.0,5660.0,5970.0,8380.0,5010.0,8630.0,8770.0,5370.0,7230.0,3980.0,16130.0,19640.0,5280.0,7220.0,2760.0,10980.0,7280.0,4640.0,14930.0,5430.0,7630.0,9560.0,11600.0,12550.0,5250.0,2710.0,16280.0,9610.0,14320.0,6320.0,2220.0,5470.0,8320.0,17770.0,13320.0,1750.0,4150.0,16660.0,15026.0,18960.0,3080.0,2900.0,8590.0,13570.0,760.0,10190.0,5790.0,14830.0,3100.0,2370.0,8240.0,6200.0,1430.0,19990.0,3790.0,6480.0,6570.0,8920.0,12670.0,11720.0,7610.0,10930.0,3690.0,15290.0,4110.0,8640.0,8380.0,23140.0,2260.0,4670.0,5170.0,19870.0,2300.0,4840.0,13530.0,6540.0,6480.0,0.0,6720.0,9110.0,4030.0,5360.0,8470.0,0.0,2670.0,6430.0,6810.0,8350.0,2090.0,21610.0,9020.0,7850.0,9670.0,29370.0,25270.0,17770.0,16850.0,2800.0,6960.0,5530.0,6830.0,15430.0,6710.0,20610.0,18230.0,7960.0,14780.0,15930.0,15460.0,15890.0,7600.0,4890.0,13110.0,13310.0,11770.0,6390.0,1020.0,21130.0],\"x\":[\"1400-08-02\",\"1400-08-04\",\"1400-08-03\",\"1400-08-05\",\"1400-08-06\",\"1400-08-07\",\"1400-08-08\",\"1400-08-05\",\"1400-08-09\",\"1400-08-10\",\"1400-08-11\",\"1400-08-12\",\"1400-08-13\",\"1400-08-14\",\"1400-08-15\",\"1400-08-16\",\"1400-08-17\",\"1400-08-18\",\"1400-08-19\",\"1400-08-20\",\"1400-08-21\",\"1400-08-24\",\"1400-08-22\",\"1400-08-23\",\"1400-08-25\",\"1400-08-26\",\"1400-08-27\",\"1400-08-28\",\"1400-08-29\",\"1400-08-30\",\"1400-09-01\",\"1400-09-02\",\"1400-09-03\",\"1400-09-04\",\"1400-09-05\",\"1400-09-06\",\"1400-09-07\",\"1400-09-08\",\"1400-09-09\",\"1400-09-10\",\"1400-09-11\",\"1400-09-12\",\"1400-09-13\",\"1400-09-14\",\"1400-09-15\",\"1400-09-16\",\"1400-09-17\",\"1400-09-18\",\"1400-09-19\",\"1400-09-20\",\"1400-09-21\",\"1400-09-22\",\"1400-09-23\",\"1400-09-24\",\"1400-09-25\",\"1400-09-26\",\"1400-09-27\",\"1400-09-28\",\"1400-09-29\",\"1400-09-30\",\"1400-10-01\",\"1400-10-02\",\"1400-10-04\",\"1400-10-03\",\"1400-10-04\",\"1400-10-05\",\"1400-10-06\",\"1400-10-07\",\"1400-10-08\",\"1400-10-10\",\"1400-10-09\",\"1400-10-11\",\"1400-10-12\",\"1400-10-13\",\"1400-10-14\",\"1400-10-16\",\"1400-10-15\",\"1400-10-17\",\"1400-10-19\",\"1400-10-18\",\"1400-10-20\",\"1400-10-21\",\"1400-10-22\",\"1400-10-23\",\"1400-10-24\",\"1400-10-25\",\"1400-11-02\",\"1400-11-03\",\"1400-11-04\",\"1400-11-05\",\"1400-11-06\",\"1400-11-07\",\"1400-11-08\",\"1400-11-10\",\"1400-11-09\",\"1400-11-11\",\"1400-11-12\",\"1400-11-13\",\"1400-11-14\",\"1400-11-15\",\"1400-11-16\",\"1400-11-17\",\"1400-11-18\",\"1400-11-21\",\"1400-11-19\",\"1400-11-20\",\"1400-11-22\",\"1400-11-23\",\"1400-11-24\",\"1400-11-25\",\"1400-11-26\",\"1400-11-27\",\"1400-12-01\",\"1400-11-28\",\"1400-11-29\",\"1400-11-30\",\"1400-12-02\",\"1400-12-03\",\"1400-12-04\",\"1400-12-05\",\"1400-12-06\",\"1400-12-07\",\"1400-12-09\",\"1400-12-08\",\"1400-12-10\",\"1400-12-11\",\"1400-12-12\",\"1400-12-13\",\"1400-12-15\",\"1400-12-14\",\"1400-12-16\",\"1400-12-17\",\"1400-12-18\",\"1400-12-19\",\"1400-12-20\",\"1400-12-21\",\"1400-12-22\",\"1400-12-23\",\"1400-12-24\",\"1400-12-25\",\"1400-12-26\",\"1400-12-27\",\"1400-12-28\",\"1401-01-02\",\"1401-01-03\",\"1401-01-04\",\"1401-01-05\",\"1401-01-06\",\"1401-01-07\",\"1401-01-08\",\"1401-01-09\",\"1401-01-10\",\"1401-01-11\",\"1401-01-12\",\"1401-01-13\",\"1401-01-14\",\"1401-01-15\",\"1401-01-16\",\"1401-01-17\",\"1401-01-18\",\"1401-01-19\",\"1401-01-20\",\"1401-01-21\",\"1401-01-22\",\"1401-01-21\",\"1401-01-23\",\"1401-01-24\",\"1401-01-25\",\"1401-01-26\",\"1401-01-27\",\"1401-01-28\",\"1401-01-29\",\"1401-01-30\",\"1401-02-06\",\"1401-02-07\",\"1401-02-08\",\"1401-02-09\",\"1401-02-10\",\"1401-02-11\",\"1401-02-12\",\"1401-02-13\",\"1401-02-14\",\"1401-02-15\",\"1401-02-16\",\"1401-02-17\",\"1401-02-18\",\"1401-02-19\",\"1401-02-20\",\"1401-02-21\",\"1401-02-22\",\"1401-02-23\",\"1401-02-24\",\"1401-02-25\",\"1401-02-26\",\"1401-02-27\",\"1401-02-28\",\"1401-02-29\",\"1401-02-30\",\"1401-02-31\",\"1401-03-01\",\"1401-03-02\",\"1401-03-03\",\"1401-03-04\",\"1401-03-05\",\"1401-03-06\"],\"xaxis\":\"x\",\"y\":[7980.0,12285.0,5380.0,5750.0,11080.0,9500.0,7885.0,0.0,7710.0,9020.0,11895.0,10870.0,5135.0,5415.0,4650.0,9700.0,12690.0,2980.0,2540.0,5615.0,4350.0,5690.0,12190.0,4080.0,16720.0,2300.0,17220.0,5360.0,10710.0,14680.0,2750.0,7270.0,15060.0,10170.0,3820.0,6810.0,5310.0,5700.0,6960.0,1910.0,5340.0,7970.0,5390.0,7470.0,900.0,3770.0,6390.0,9280.0,9730.0,320.0,2430.0,8215.0,5905.0,4380.0,0.0,1020.0,3410.0,2670.0,4470.0,630.0,1880.0,14090.0,0.0,10935.0,7345.0,8515.0,7865.0,18140.0,7285.0,16025.0,6690.0,4610.0,5670.0,7995.0,4670.0,3635.0,10240.0,13915.0,1735.0,3975.0,1640.0,5370.0,7560.0,16880.0,1950.0,10240.0,1225.0,4310.0,5660.0,5970.0,8380.0,5010.0,8630.0,8770.0,5370.0,7230.0,3980.0,16130.0,19640.0,5280.0,7220.0,2760.0,10980.0,7280.0,4640.0,14930.0,5430.0,7630.0,9560.0,11600.0,12550.0,5250.0,2710.0,16280.0,9610.0,14320.0,6320.0,2220.0,5470.0,8320.0,17770.0,13320.0,1750.0,4150.0,16660.0,15026.0,18960.0,3080.0,2900.0,8590.0,13570.0,760.0,10190.0,5790.0,14830.0,3100.0,2370.0,8240.0,6200.0,1430.0,19990.0,3790.0,6480.0,6570.0,8920.0,12670.0,11720.0,7610.0,10930.0,3690.0,15290.0,4110.0,8640.0,8380.0,23140.0,2260.0,4670.0,5170.0,19870.0,2300.0,4840.0,13530.0,6540.0,6480.0,0.0,6720.0,9110.0,4030.0,5360.0,8470.0,0.0,2670.0,6430.0,6810.0,8350.0,2090.0,21610.0,9020.0,7850.0,9670.0,29370.0,25270.0,17770.0,16850.0,2800.0,6960.0,5530.0,6830.0,15430.0,6710.0,20610.0,18230.0,7960.0,14780.0,15930.0,15460.0,15890.0,7600.0,4890.0,13110.0,13310.0,11770.0,6390.0,1020.0,21130.0],\"yaxis\":\"y\",\"type\":\"scatter\"}],                        {\"template\":{\"data\":{\"histogram2dcontour\":[{\"type\":\"histogram2dcontour\",\"colorbar\":{\"outlinewidth\":0,\"ticks\":\"\"},\"colorscale\":[[0.0,\"#0d0887\"],[0.1111111111111111,\"#46039f\"],[0.2222222222222222,\"#7201a8\"],[0.3333333333333333,\"#9c179e\"],[0.4444444444444444,\"#bd3786\"],[0.5555555555555556,\"#d8576b\"],[0.6666666666666666,\"#ed7953\"],[0.7777777777777778,\"#fb9f3a\"],[0.8888888888888888,\"#fdca26\"],[1.0,\"#f0f921\"]]}],\"choropleth\":[{\"type\":\"choropleth\",\"colorbar\":{\"outlinewidth\":0,\"ticks\":\"\"}}],\"histogram2d\":[{\"type\":\"histogram2d\",\"colorbar\":{\"outlinewidth\":0,\"ticks\":\"\"},\"colorscale\":[[0.0,\"#0d0887\"],[0.1111111111111111,\"#46039f\"],[0.2222222222222222,\"#7201a8\"],[0.3333333333333333,\"#9c179e\"],[0.4444444444444444,\"#bd3786\"],[0.5555555555555556,\"#d8576b\"],[0.6666666666666666,\"#ed7953\"],[0.7777777777777778,\"#fb9f3a\"],[0.8888888888888888,\"#fdca26\"],[1.0,\"#f0f921\"]]}],\"heatmap\":[{\"type\":\"heatmap\",\"colorbar\":{\"outlinewidth\":0,\"ticks\":\"\"},\"colorscale\":[[0.0,\"#0d0887\"],[0.1111111111111111,\"#46039f\"],[0.2222222222222222,\"#7201a8\"],[0.3333333333333333,\"#9c179e\"],[0.4444444444444444,\"#bd3786\"],[0.5555555555555556,\"#d8576b\"],[0.6666666666666666,\"#ed7953\"],[0.7777777777777778,\"#fb9f3a\"],[0.8888888888888888,\"#fdca26\"],[1.0,\"#f0f921\"]]}],\"heatmapgl\":[{\"type\":\"heatmapgl\",\"colorbar\":{\"outlinewidth\":0,\"ticks\":\"\"},\"colorscale\":[[0.0,\"#0d0887\"],[0.1111111111111111,\"#46039f\"],[0.2222222222222222,\"#7201a8\"],[0.3333333333333333,\"#9c179e\"],[0.4444444444444444,\"#bd3786\"],[0.5555555555555556,\"#d8576b\"],[0.6666666666666666,\"#ed7953\"],[0.7777777777777778,\"#fb9f3a\"],[0.8888888888888888,\"#fdca26\"],[1.0,\"#f0f921\"]]}],\"contourcarpet\":[{\"type\":\"contourcarpet\",\"colorbar\":{\"outlinewidth\":0,\"ticks\":\"\"}}],\"contour\":[{\"type\":\"contour\",\"colorbar\":{\"outlinewidth\":0,\"ticks\":\"\"},\"colorscale\":[[0.0,\"#0d0887\"],[0.1111111111111111,\"#46039f\"],[0.2222222222222222,\"#7201a8\"],[0.3333333333333333,\"#9c179e\"],[0.4444444444444444,\"#bd3786\"],[0.5555555555555556,\"#d8576b\"],[0.6666666666666666,\"#ed7953\"],[0.7777777777777778,\"#fb9f3a\"],[0.8888888888888888,\"#fdca26\"],[1.0,\"#f0f921\"]]}],\"surface\":[{\"type\":\"surface\",\"colorbar\":{\"outlinewidth\":0,\"ticks\":\"\"},\"colorscale\":[[0.0,\"#0d0887\"],[0.1111111111111111,\"#46039f\"],[0.2222222222222222,\"#7201a8\"],[0.3333333333333333,\"#9c179e\"],[0.4444444444444444,\"#bd3786\"],[0.5555555555555556,\"#d8576b\"],[0.6666666666666666,\"#ed7953\"],[0.7777777777777778,\"#fb9f3a\"],[0.8888888888888888,\"#fdca26\"],[1.0,\"#f0f921\"]]}],\"mesh3d\":[{\"type\":\"mesh3d\",\"colorbar\":{\"outlinewidth\":0,\"ticks\":\"\"}}],\"scatter\":[{\"fillpattern\":{\"fillmode\":\"overlay\",\"size\":10,\"solidity\":0.2},\"type\":\"scatter\"}],\"parcoords\":[{\"type\":\"parcoords\",\"line\":{\"colorbar\":{\"outlinewidth\":0,\"ticks\":\"\"}}}],\"scatterpolargl\":[{\"type\":\"scatterpolargl\",\"marker\":{\"colorbar\":{\"outlinewidth\":0,\"ticks\":\"\"}}}],\"bar\":[{\"error_x\":{\"color\":\"#2a3f5f\"},\"error_y\":{\"color\":\"#2a3f5f\"},\"marker\":{\"line\":{\"color\":\"#E5ECF6\",\"width\":0.5},\"pattern\":{\"fillmode\":\"overlay\",\"size\":10,\"solidity\":0.2}},\"type\":\"bar\"}],\"scattergeo\":[{\"type\":\"scattergeo\",\"marker\":{\"colorbar\":{\"outlinewidth\":0,\"ticks\":\"\"}}}],\"scatterpolar\":[{\"type\":\"scatterpolar\",\"marker\":{\"colorbar\":{\"outlinewidth\":0,\"ticks\":\"\"}}}],\"histogram\":[{\"marker\":{\"pattern\":{\"fillmode\":\"overlay\",\"size\":10,\"solidity\":0.2}},\"type\":\"histogram\"}],\"scattergl\":[{\"type\":\"scattergl\",\"marker\":{\"colorbar\":{\"outlinewidth\":0,\"ticks\":\"\"}}}],\"scatter3d\":[{\"type\":\"scatter3d\",\"line\":{\"colorbar\":{\"outlinewidth\":0,\"ticks\":\"\"}},\"marker\":{\"colorbar\":{\"outlinewidth\":0,\"ticks\":\"\"}}}],\"scattermapbox\":[{\"type\":\"scattermapbox\",\"marker\":{\"colorbar\":{\"outlinewidth\":0,\"ticks\":\"\"}}}],\"scatterternary\":[{\"type\":\"scatterternary\",\"marker\":{\"colorbar\":{\"outlinewidth\":0,\"ticks\":\"\"}}}],\"scattercarpet\":[{\"type\":\"scattercarpet\",\"marker\":{\"colorbar\":{\"outlinewidth\":0,\"ticks\":\"\"}}}],\"carpet\":[{\"aaxis\":{\"endlinecolor\":\"#2a3f5f\",\"gridcolor\":\"white\",\"linecolor\":\"white\",\"minorgridcolor\":\"white\",\"startlinecolor\":\"#2a3f5f\"},\"baxis\":{\"endlinecolor\":\"#2a3f5f\",\"gridcolor\":\"white\",\"linecolor\":\"white\",\"minorgridcolor\":\"white\",\"startlinecolor\":\"#2a3f5f\"},\"type\":\"carpet\"}],\"table\":[{\"cells\":{\"fill\":{\"color\":\"#EBF0F8\"},\"line\":{\"color\":\"white\"}},\"header\":{\"fill\":{\"color\":\"#C8D4E3\"},\"line\":{\"color\":\"white\"}},\"type\":\"table\"}],\"barpolar\":[{\"marker\":{\"line\":{\"color\":\"#E5ECF6\",\"width\":0.5},\"pattern\":{\"fillmode\":\"overlay\",\"size\":10,\"solidity\":0.2}},\"type\":\"barpolar\"}],\"pie\":[{\"automargin\":true,\"type\":\"pie\"}]},\"layout\":{\"autotypenumbers\":\"strict\",\"colorway\":[\"#636efa\",\"#EF553B\",\"#00cc96\",\"#ab63fa\",\"#FFA15A\",\"#19d3f3\",\"#FF6692\",\"#B6E880\",\"#FF97FF\",\"#FECB52\"],\"font\":{\"color\":\"#2a3f5f\"},\"hovermode\":\"closest\",\"hoverlabel\":{\"align\":\"left\"},\"paper_bgcolor\":\"white\",\"plot_bgcolor\":\"#E5ECF6\",\"polar\":{\"bgcolor\":\"#E5ECF6\",\"angularaxis\":{\"gridcolor\":\"white\",\"linecolor\":\"white\",\"ticks\":\"\"},\"radialaxis\":{\"gridcolor\":\"white\",\"linecolor\":\"white\",\"ticks\":\"\"}},\"ternary\":{\"bgcolor\":\"#E5ECF6\",\"aaxis\":{\"gridcolor\":\"white\",\"linecolor\":\"white\",\"ticks\":\"\"},\"baxis\":{\"gridcolor\":\"white\",\"linecolor\":\"white\",\"ticks\":\"\"},\"caxis\":{\"gridcolor\":\"white\",\"linecolor\":\"white\",\"ticks\":\"\"}},\"coloraxis\":{\"colorbar\":{\"outlinewidth\":0,\"ticks\":\"\"}},\"colorscale\":{\"sequential\":[[0.0,\"#0d0887\"],[0.1111111111111111,\"#46039f\"],[0.2222222222222222,\"#7201a8\"],[0.3333333333333333,\"#9c179e\"],[0.4444444444444444,\"#bd3786\"],[0.5555555555555556,\"#d8576b\"],[0.6666666666666666,\"#ed7953\"],[0.7777777777777778,\"#fb9f3a\"],[0.8888888888888888,\"#fdca26\"],[1.0,\"#f0f921\"]],\"sequentialminus\":[[0.0,\"#0d0887\"],[0.1111111111111111,\"#46039f\"],[0.2222222222222222,\"#7201a8\"],[0.3333333333333333,\"#9c179e\"],[0.4444444444444444,\"#bd3786\"],[0.5555555555555556,\"#d8576b\"],[0.6666666666666666,\"#ed7953\"],[0.7777777777777778,\"#fb9f3a\"],[0.8888888888888888,\"#fdca26\"],[1.0,\"#f0f921\"]],\"diverging\":[[0,\"#8e0152\"],[0.1,\"#c51b7d\"],[0.2,\"#de77ae\"],[0.3,\"#f1b6da\"],[0.4,\"#fde0ef\"],[0.5,\"#f7f7f7\"],[0.6,\"#e6f5d0\"],[0.7,\"#b8e186\"],[0.8,\"#7fbc41\"],[0.9,\"#4d9221\"],[1,\"#276419\"]]},\"xaxis\":{\"gridcolor\":\"white\",\"linecolor\":\"white\",\"ticks\":\"\",\"title\":{\"standoff\":15},\"zerolinecolor\":\"white\",\"automargin\":true,\"zerolinewidth\":2},\"yaxis\":{\"gridcolor\":\"white\",\"linecolor\":\"white\",\"ticks\":\"\",\"title\":{\"standoff\":15},\"zerolinecolor\":\"white\",\"automargin\":true,\"zerolinewidth\":2},\"scene\":{\"xaxis\":{\"backgroundcolor\":\"#E5ECF6\",\"gridcolor\":\"white\",\"linecolor\":\"white\",\"showbackground\":true,\"ticks\":\"\",\"zerolinecolor\":\"white\",\"gridwidth\":2},\"yaxis\":{\"backgroundcolor\":\"#E5ECF6\",\"gridcolor\":\"white\",\"linecolor\":\"white\",\"showbackground\":true,\"ticks\":\"\",\"zerolinecolor\":\"white\",\"gridwidth\":2},\"zaxis\":{\"backgroundcolor\":\"#E5ECF6\",\"gridcolor\":\"white\",\"linecolor\":\"white\",\"showbackground\":true,\"ticks\":\"\",\"zerolinecolor\":\"white\",\"gridwidth\":2}},\"shapedefaults\":{\"line\":{\"color\":\"#2a3f5f\"}},\"annotationdefaults\":{\"arrowcolor\":\"#2a3f5f\",\"arrowhead\":0,\"arrowwidth\":1},\"geo\":{\"bgcolor\":\"white\",\"landcolor\":\"#E5ECF6\",\"subunitcolor\":\"white\",\"showland\":true,\"showlakes\":true,\"lakecolor\":\"white\"},\"title\":{\"x\":0.05},\"mapbox\":{\"style\":\"light\"}}},\"xaxis\":{\"anchor\":\"y\",\"domain\":[0.0,1.0],\"title\":{\"text\":\"date\"}},\"yaxis\":{\"anchor\":\"x\",\"domain\":[0.0,1.0],\"title\":{\"text\":\"21-22 (payment)\"}},\"legend\":{\"tracegroupgap\":0},\"margin\":{\"t\":60}},                        {\"responsive\": true}                    ).then(function(){\n",
       "                            \n",
       "var gd = document.getElementById('e54a20f2-2610-4d52-a106-e627ced67cac');\n",
       "var x = new MutationObserver(function (mutations, observer) {{\n",
       "        var display = window.getComputedStyle(gd).display;\n",
       "        if (!display || display === 'none') {{\n",
       "            console.log([gd, 'removed!']);\n",
       "            Plotly.purge(gd);\n",
       "            observer.disconnect();\n",
       "        }}\n",
       "}});\n",
       "\n",
       "// Listen for the removal of the full notebook cells\n",
       "var notebookContainer = gd.closest('#notebook-container');\n",
       "if (notebookContainer) {{\n",
       "    x.observe(notebookContainer, {childList: true});\n",
       "}}\n",
       "\n",
       "// Listen for the clearing of the current output cell\n",
       "var outputEl = gd.closest('.output');\n",
       "if (outputEl) {{\n",
       "    x.observe(outputEl, {childList: true});\n",
       "}}\n",
       "\n",
       "                        })                };                });            </script>        </div>"
      ]
     },
     "metadata": {},
     "output_type": "display_data"
    },
    {
     "data": {
      "application/vnd.plotly.v1+json": {
       "config": {
        "plotlyServerURL": "https://plot.ly"
       },
       "data": [
        {
         "hovertemplate": "date=%{x}<br>sumPayment=%{text}<extra></extra>",
         "legendgroup": "",
         "line": {
          "color": "#636efa",
          "dash": "solid"
         },
         "marker": {
          "symbol": "circle"
         },
         "mode": "lines+markers+text",
         "name": "",
         "orientation": "v",
         "showlegend": false,
         "text": [
          33415,
          36590,
          18935,
          22230,
          39345,
          30725,
          24235,
          4710,
          29140,
          21525,
          38875,
          28350,
          29195,
          33490,
          18925,
          26675,
          37410,
          21840,
          20995,
          38880,
          29180,
          32510,
          29300,
          39655,
          35950,
          25955,
          55115,
          40350,
          27910,
          36030,
          22530,
          17400,
          30240,
          31450,
          52560,
          25820,
          27160,
          25790,
          23080,
          26740,
          38340,
          37950,
          19290,
          20150,
          8960,
          20160,
          25690,
          34600,
          25330,
          17270,
          8810,
          26940,
          21530,
          25975,
          35985,
          11370,
          15970,
          13960,
          17695,
          6540,
          14175,
          37705,
          840,
          26695,
          45615,
          25520,
          21645,
          28985,
          25320,
          41100,
          35965,
          25845,
          17755,
          23665,
          34600,
          42055,
          23015,
          31565,
          17680,
          23055,
          14020,
          20580,
          29170,
          36270,
          35500,
          26500,
          19780,
          22630,
          17080,
          19800,
          26510,
          38830,
          27040,
          22580,
          16530,
          29600,
          24970,
          40770,
          50610,
          34960,
          30510,
          20290,
          24040,
          38050,
          30370,
          38580,
          31250,
          23980,
          28470,
          47700,
          46360,
          20600,
          17510,
          56090,
          35340,
          54230,
          23860,
          18270,
          38850,
          51490,
          45690,
          42200,
          20910,
          29320,
          52800,
          51466,
          49810,
          40970,
          15850,
          28740,
          27000,
          34230,
          28470,
          32990,
          44940,
          41600,
          40930,
          41460,
          19890,
          23500,
          37580,
          33150,
          34440,
          53120,
          34820,
          52810,
          44060,
          49930,
          55900,
          54930,
          54730,
          53480,
          59640,
          65230,
          49270,
          22250,
          18410,
          23660,
          37640,
          27150,
          39670,
          43600,
          30760,
          21370,
          1540,
          25150,
          32740,
          34880,
          25150,
          31040,
          15870,
          42930,
          30150,
          33420,
          30920,
          38140,
          42720,
          32030,
          51920,
          62650,
          85770,
          75400,
          92550,
          67100,
          45010,
          49650,
          46290,
          46520,
          43930,
          75300,
          62140,
          48810,
          38180,
          45960,
          58460,
          58230,
          79520,
          53680,
          58980,
          34270,
          51210,
          68720,
          50380,
          81210,
          58340
         ],
         "type": "scatter",
         "x": [
          "1400-08-02",
          "1400-08-04",
          "1400-08-03",
          "1400-08-05",
          "1400-08-06",
          "1400-08-07",
          "1400-08-08",
          "1400-08-05",
          "1400-08-09",
          "1400-08-10",
          "1400-08-11",
          "1400-08-12",
          "1400-08-13",
          "1400-08-14",
          "1400-08-15",
          "1400-08-16",
          "1400-08-17",
          "1400-08-18",
          "1400-08-19",
          "1400-08-20",
          "1400-08-21",
          "1400-08-24",
          "1400-08-22",
          "1400-08-23",
          "1400-08-25",
          "1400-08-26",
          "1400-08-27",
          "1400-08-28",
          "1400-08-29",
          "1400-08-30",
          "1400-09-01",
          "1400-09-02",
          "1400-09-03",
          "1400-09-04",
          "1400-09-05",
          "1400-09-06",
          "1400-09-07",
          "1400-09-08",
          "1400-09-09",
          "1400-09-10",
          "1400-09-11",
          "1400-09-12",
          "1400-09-13",
          "1400-09-14",
          "1400-09-15",
          "1400-09-16",
          "1400-09-17",
          "1400-09-18",
          "1400-09-19",
          "1400-09-20",
          "1400-09-21",
          "1400-09-22",
          "1400-09-23",
          "1400-09-24",
          "1400-09-25",
          "1400-09-26",
          "1400-09-27",
          "1400-09-28",
          "1400-09-29",
          "1400-09-30",
          "1400-10-01",
          "1400-10-02",
          "1400-10-04",
          "1400-10-03",
          "1400-10-04",
          "1400-10-05",
          "1400-10-06",
          "1400-10-07",
          "1400-10-08",
          "1400-10-10",
          "1400-10-09",
          "1400-10-11",
          "1400-10-12",
          "1400-10-13",
          "1400-10-14",
          "1400-10-16",
          "1400-10-15",
          "1400-10-17",
          "1400-10-19",
          "1400-10-18",
          "1400-10-20",
          "1400-10-21",
          "1400-10-22",
          "1400-10-23",
          "1400-10-24",
          "1400-10-25",
          "1400-11-02",
          "1400-11-03",
          "1400-11-04",
          "1400-11-05",
          "1400-11-06",
          "1400-11-07",
          "1400-11-08",
          "1400-11-10",
          "1400-11-09",
          "1400-11-11",
          "1400-11-12",
          "1400-11-13",
          "1400-11-14",
          "1400-11-15",
          "1400-11-16",
          "1400-11-17",
          "1400-11-18",
          "1400-11-21",
          "1400-11-19",
          "1400-11-20",
          "1400-11-22",
          "1400-11-23",
          "1400-11-24",
          "1400-11-25",
          "1400-11-26",
          "1400-11-27",
          "1400-12-01",
          "1400-11-28",
          "1400-11-29",
          "1400-11-30",
          "1400-12-02",
          "1400-12-03",
          "1400-12-04",
          "1400-12-05",
          "1400-12-06",
          "1400-12-07",
          "1400-12-09",
          "1400-12-08",
          "1400-12-10",
          "1400-12-11",
          "1400-12-12",
          "1400-12-13",
          "1400-12-15",
          "1400-12-14",
          "1400-12-16",
          "1400-12-17",
          "1400-12-18",
          "1400-12-19",
          "1400-12-20",
          "1400-12-21",
          "1400-12-22",
          "1400-12-23",
          "1400-12-24",
          "1400-12-25",
          "1400-12-26",
          "1400-12-27",
          "1400-12-28",
          "1401-01-02",
          "1401-01-03",
          "1401-01-04",
          "1401-01-05",
          "1401-01-06",
          "1401-01-07",
          "1401-01-08",
          "1401-01-09",
          "1401-01-10",
          "1401-01-11",
          "1401-01-12",
          "1401-01-13",
          "1401-01-14",
          "1401-01-15",
          "1401-01-16",
          "1401-01-17",
          "1401-01-18",
          "1401-01-19",
          "1401-01-20",
          "1401-01-21",
          "1401-01-22",
          "1401-01-21",
          "1401-01-23",
          "1401-01-24",
          "1401-01-25",
          "1401-01-26",
          "1401-01-27",
          "1401-01-28",
          "1401-01-29",
          "1401-01-30",
          "1401-02-06",
          "1401-02-07",
          "1401-02-08",
          "1401-02-09",
          "1401-02-10",
          "1401-02-11",
          "1401-02-12",
          "1401-02-13",
          "1401-02-14",
          "1401-02-15",
          "1401-02-16",
          "1401-02-17",
          "1401-02-18",
          "1401-02-19",
          "1401-02-20",
          "1401-02-21",
          "1401-02-22",
          "1401-02-23",
          "1401-02-24",
          "1401-02-25",
          "1401-02-26",
          "1401-02-27",
          "1401-02-28",
          "1401-02-29",
          "1401-02-30",
          "1401-02-31",
          "1401-03-01",
          "1401-03-02",
          "1401-03-03",
          "1401-03-04",
          "1401-03-05",
          "1401-03-06"
         ],
         "xaxis": "x",
         "y": [
          33415,
          36590,
          18935,
          22230,
          39345,
          30725,
          24235,
          4710,
          29140,
          21525,
          38875,
          28350,
          29195,
          33490,
          18925,
          26675,
          37410,
          21840,
          20995,
          38880,
          29180,
          32510,
          29300,
          39655,
          35950,
          25955,
          55115,
          40350,
          27910,
          36030,
          22530,
          17400,
          30240,
          31450,
          52560,
          25820,
          27160,
          25790,
          23080,
          26740,
          38340,
          37950,
          19290,
          20150,
          8960,
          20160,
          25690,
          34600,
          25330,
          17270,
          8810,
          26940,
          21530,
          25975,
          35985,
          11370,
          15970,
          13960,
          17695,
          6540,
          14175,
          37705,
          840,
          26695,
          45615,
          25520,
          21645,
          28985,
          25320,
          41100,
          35965,
          25845,
          17755,
          23665,
          34600,
          42055,
          23015,
          31565,
          17680,
          23055,
          14020,
          20580,
          29170,
          36270,
          35500,
          26500,
          19780,
          22630,
          17080,
          19800,
          26510,
          38830,
          27040,
          22580,
          16530,
          29600,
          24970,
          40770,
          50610,
          34960,
          30510,
          20290,
          24040,
          38050,
          30370,
          38580,
          31250,
          23980,
          28470,
          47700,
          46360,
          20600,
          17510,
          56090,
          35340,
          54230,
          23860,
          18270,
          38850,
          51490,
          45690,
          42200,
          20910,
          29320,
          52800,
          51466,
          49810,
          40970,
          15850,
          28740,
          27000,
          34230,
          28470,
          32990,
          44940,
          41600,
          40930,
          41460,
          19890,
          23500,
          37580,
          33150,
          34440,
          53120,
          34820,
          52810,
          44060,
          49930,
          55900,
          54930,
          54730,
          53480,
          59640,
          65230,
          49270,
          22250,
          18410,
          23660,
          37640,
          27150,
          39670,
          43600,
          30760,
          21370,
          1540,
          25150,
          32740,
          34880,
          25150,
          31040,
          15870,
          42930,
          30150,
          33420,
          30920,
          38140,
          42720,
          32030,
          51920,
          62650,
          85770,
          75400,
          92550,
          67100,
          45010,
          49650,
          46290,
          46520,
          43930,
          75300,
          62140,
          48810,
          38180,
          45960,
          58460,
          58230,
          79520,
          53680,
          58980,
          34270,
          51210,
          68720,
          50380,
          81210,
          58340
         ],
         "yaxis": "y"
        }
       ],
       "layout": {
        "legend": {
         "tracegroupgap": 0
        },
        "margin": {
         "t": 60
        },
        "template": {
         "data": {
          "bar": [
           {
            "error_x": {
             "color": "#2a3f5f"
            },
            "error_y": {
             "color": "#2a3f5f"
            },
            "marker": {
             "line": {
              "color": "#E5ECF6",
              "width": 0.5
             },
             "pattern": {
              "fillmode": "overlay",
              "size": 10,
              "solidity": 0.2
             }
            },
            "type": "bar"
           }
          ],
          "barpolar": [
           {
            "marker": {
             "line": {
              "color": "#E5ECF6",
              "width": 0.5
             },
             "pattern": {
              "fillmode": "overlay",
              "size": 10,
              "solidity": 0.2
             }
            },
            "type": "barpolar"
           }
          ],
          "carpet": [
           {
            "aaxis": {
             "endlinecolor": "#2a3f5f",
             "gridcolor": "white",
             "linecolor": "white",
             "minorgridcolor": "white",
             "startlinecolor": "#2a3f5f"
            },
            "baxis": {
             "endlinecolor": "#2a3f5f",
             "gridcolor": "white",
             "linecolor": "white",
             "minorgridcolor": "white",
             "startlinecolor": "#2a3f5f"
            },
            "type": "carpet"
           }
          ],
          "choropleth": [
           {
            "colorbar": {
             "outlinewidth": 0,
             "ticks": ""
            },
            "type": "choropleth"
           }
          ],
          "contour": [
           {
            "colorbar": {
             "outlinewidth": 0,
             "ticks": ""
            },
            "colorscale": [
             [
              0,
              "#0d0887"
             ],
             [
              0.1111111111111111,
              "#46039f"
             ],
             [
              0.2222222222222222,
              "#7201a8"
             ],
             [
              0.3333333333333333,
              "#9c179e"
             ],
             [
              0.4444444444444444,
              "#bd3786"
             ],
             [
              0.5555555555555556,
              "#d8576b"
             ],
             [
              0.6666666666666666,
              "#ed7953"
             ],
             [
              0.7777777777777778,
              "#fb9f3a"
             ],
             [
              0.8888888888888888,
              "#fdca26"
             ],
             [
              1,
              "#f0f921"
             ]
            ],
            "type": "contour"
           }
          ],
          "contourcarpet": [
           {
            "colorbar": {
             "outlinewidth": 0,
             "ticks": ""
            },
            "type": "contourcarpet"
           }
          ],
          "heatmap": [
           {
            "colorbar": {
             "outlinewidth": 0,
             "ticks": ""
            },
            "colorscale": [
             [
              0,
              "#0d0887"
             ],
             [
              0.1111111111111111,
              "#46039f"
             ],
             [
              0.2222222222222222,
              "#7201a8"
             ],
             [
              0.3333333333333333,
              "#9c179e"
             ],
             [
              0.4444444444444444,
              "#bd3786"
             ],
             [
              0.5555555555555556,
              "#d8576b"
             ],
             [
              0.6666666666666666,
              "#ed7953"
             ],
             [
              0.7777777777777778,
              "#fb9f3a"
             ],
             [
              0.8888888888888888,
              "#fdca26"
             ],
             [
              1,
              "#f0f921"
             ]
            ],
            "type": "heatmap"
           }
          ],
          "heatmapgl": [
           {
            "colorbar": {
             "outlinewidth": 0,
             "ticks": ""
            },
            "colorscale": [
             [
              0,
              "#0d0887"
             ],
             [
              0.1111111111111111,
              "#46039f"
             ],
             [
              0.2222222222222222,
              "#7201a8"
             ],
             [
              0.3333333333333333,
              "#9c179e"
             ],
             [
              0.4444444444444444,
              "#bd3786"
             ],
             [
              0.5555555555555556,
              "#d8576b"
             ],
             [
              0.6666666666666666,
              "#ed7953"
             ],
             [
              0.7777777777777778,
              "#fb9f3a"
             ],
             [
              0.8888888888888888,
              "#fdca26"
             ],
             [
              1,
              "#f0f921"
             ]
            ],
            "type": "heatmapgl"
           }
          ],
          "histogram": [
           {
            "marker": {
             "pattern": {
              "fillmode": "overlay",
              "size": 10,
              "solidity": 0.2
             }
            },
            "type": "histogram"
           }
          ],
          "histogram2d": [
           {
            "colorbar": {
             "outlinewidth": 0,
             "ticks": ""
            },
            "colorscale": [
             [
              0,
              "#0d0887"
             ],
             [
              0.1111111111111111,
              "#46039f"
             ],
             [
              0.2222222222222222,
              "#7201a8"
             ],
             [
              0.3333333333333333,
              "#9c179e"
             ],
             [
              0.4444444444444444,
              "#bd3786"
             ],
             [
              0.5555555555555556,
              "#d8576b"
             ],
             [
              0.6666666666666666,
              "#ed7953"
             ],
             [
              0.7777777777777778,
              "#fb9f3a"
             ],
             [
              0.8888888888888888,
              "#fdca26"
             ],
             [
              1,
              "#f0f921"
             ]
            ],
            "type": "histogram2d"
           }
          ],
          "histogram2dcontour": [
           {
            "colorbar": {
             "outlinewidth": 0,
             "ticks": ""
            },
            "colorscale": [
             [
              0,
              "#0d0887"
             ],
             [
              0.1111111111111111,
              "#46039f"
             ],
             [
              0.2222222222222222,
              "#7201a8"
             ],
             [
              0.3333333333333333,
              "#9c179e"
             ],
             [
              0.4444444444444444,
              "#bd3786"
             ],
             [
              0.5555555555555556,
              "#d8576b"
             ],
             [
              0.6666666666666666,
              "#ed7953"
             ],
             [
              0.7777777777777778,
              "#fb9f3a"
             ],
             [
              0.8888888888888888,
              "#fdca26"
             ],
             [
              1,
              "#f0f921"
             ]
            ],
            "type": "histogram2dcontour"
           }
          ],
          "mesh3d": [
           {
            "colorbar": {
             "outlinewidth": 0,
             "ticks": ""
            },
            "type": "mesh3d"
           }
          ],
          "parcoords": [
           {
            "line": {
             "colorbar": {
              "outlinewidth": 0,
              "ticks": ""
             }
            },
            "type": "parcoords"
           }
          ],
          "pie": [
           {
            "automargin": true,
            "type": "pie"
           }
          ],
          "scatter": [
           {
            "fillpattern": {
             "fillmode": "overlay",
             "size": 10,
             "solidity": 0.2
            },
            "type": "scatter"
           }
          ],
          "scatter3d": [
           {
            "line": {
             "colorbar": {
              "outlinewidth": 0,
              "ticks": ""
             }
            },
            "marker": {
             "colorbar": {
              "outlinewidth": 0,
              "ticks": ""
             }
            },
            "type": "scatter3d"
           }
          ],
          "scattercarpet": [
           {
            "marker": {
             "colorbar": {
              "outlinewidth": 0,
              "ticks": ""
             }
            },
            "type": "scattercarpet"
           }
          ],
          "scattergeo": [
           {
            "marker": {
             "colorbar": {
              "outlinewidth": 0,
              "ticks": ""
             }
            },
            "type": "scattergeo"
           }
          ],
          "scattergl": [
           {
            "marker": {
             "colorbar": {
              "outlinewidth": 0,
              "ticks": ""
             }
            },
            "type": "scattergl"
           }
          ],
          "scattermapbox": [
           {
            "marker": {
             "colorbar": {
              "outlinewidth": 0,
              "ticks": ""
             }
            },
            "type": "scattermapbox"
           }
          ],
          "scatterpolar": [
           {
            "marker": {
             "colorbar": {
              "outlinewidth": 0,
              "ticks": ""
             }
            },
            "type": "scatterpolar"
           }
          ],
          "scatterpolargl": [
           {
            "marker": {
             "colorbar": {
              "outlinewidth": 0,
              "ticks": ""
             }
            },
            "type": "scatterpolargl"
           }
          ],
          "scatterternary": [
           {
            "marker": {
             "colorbar": {
              "outlinewidth": 0,
              "ticks": ""
             }
            },
            "type": "scatterternary"
           }
          ],
          "surface": [
           {
            "colorbar": {
             "outlinewidth": 0,
             "ticks": ""
            },
            "colorscale": [
             [
              0,
              "#0d0887"
             ],
             [
              0.1111111111111111,
              "#46039f"
             ],
             [
              0.2222222222222222,
              "#7201a8"
             ],
             [
              0.3333333333333333,
              "#9c179e"
             ],
             [
              0.4444444444444444,
              "#bd3786"
             ],
             [
              0.5555555555555556,
              "#d8576b"
             ],
             [
              0.6666666666666666,
              "#ed7953"
             ],
             [
              0.7777777777777778,
              "#fb9f3a"
             ],
             [
              0.8888888888888888,
              "#fdca26"
             ],
             [
              1,
              "#f0f921"
             ]
            ],
            "type": "surface"
           }
          ],
          "table": [
           {
            "cells": {
             "fill": {
              "color": "#EBF0F8"
             },
             "line": {
              "color": "white"
             }
            },
            "header": {
             "fill": {
              "color": "#C8D4E3"
             },
             "line": {
              "color": "white"
             }
            },
            "type": "table"
           }
          ]
         },
         "layout": {
          "annotationdefaults": {
           "arrowcolor": "#2a3f5f",
           "arrowhead": 0,
           "arrowwidth": 1
          },
          "autotypenumbers": "strict",
          "coloraxis": {
           "colorbar": {
            "outlinewidth": 0,
            "ticks": ""
           }
          },
          "colorscale": {
           "diverging": [
            [
             0,
             "#8e0152"
            ],
            [
             0.1,
             "#c51b7d"
            ],
            [
             0.2,
             "#de77ae"
            ],
            [
             0.3,
             "#f1b6da"
            ],
            [
             0.4,
             "#fde0ef"
            ],
            [
             0.5,
             "#f7f7f7"
            ],
            [
             0.6,
             "#e6f5d0"
            ],
            [
             0.7,
             "#b8e186"
            ],
            [
             0.8,
             "#7fbc41"
            ],
            [
             0.9,
             "#4d9221"
            ],
            [
             1,
             "#276419"
            ]
           ],
           "sequential": [
            [
             0,
             "#0d0887"
            ],
            [
             0.1111111111111111,
             "#46039f"
            ],
            [
             0.2222222222222222,
             "#7201a8"
            ],
            [
             0.3333333333333333,
             "#9c179e"
            ],
            [
             0.4444444444444444,
             "#bd3786"
            ],
            [
             0.5555555555555556,
             "#d8576b"
            ],
            [
             0.6666666666666666,
             "#ed7953"
            ],
            [
             0.7777777777777778,
             "#fb9f3a"
            ],
            [
             0.8888888888888888,
             "#fdca26"
            ],
            [
             1,
             "#f0f921"
            ]
           ],
           "sequentialminus": [
            [
             0,
             "#0d0887"
            ],
            [
             0.1111111111111111,
             "#46039f"
            ],
            [
             0.2222222222222222,
             "#7201a8"
            ],
            [
             0.3333333333333333,
             "#9c179e"
            ],
            [
             0.4444444444444444,
             "#bd3786"
            ],
            [
             0.5555555555555556,
             "#d8576b"
            ],
            [
             0.6666666666666666,
             "#ed7953"
            ],
            [
             0.7777777777777778,
             "#fb9f3a"
            ],
            [
             0.8888888888888888,
             "#fdca26"
            ],
            [
             1,
             "#f0f921"
            ]
           ]
          },
          "colorway": [
           "#636efa",
           "#EF553B",
           "#00cc96",
           "#ab63fa",
           "#FFA15A",
           "#19d3f3",
           "#FF6692",
           "#B6E880",
           "#FF97FF",
           "#FECB52"
          ],
          "font": {
           "color": "#2a3f5f"
          },
          "geo": {
           "bgcolor": "white",
           "lakecolor": "white",
           "landcolor": "#E5ECF6",
           "showlakes": true,
           "showland": true,
           "subunitcolor": "white"
          },
          "hoverlabel": {
           "align": "left"
          },
          "hovermode": "closest",
          "mapbox": {
           "style": "light"
          },
          "paper_bgcolor": "white",
          "plot_bgcolor": "#E5ECF6",
          "polar": {
           "angularaxis": {
            "gridcolor": "white",
            "linecolor": "white",
            "ticks": ""
           },
           "bgcolor": "#E5ECF6",
           "radialaxis": {
            "gridcolor": "white",
            "linecolor": "white",
            "ticks": ""
           }
          },
          "scene": {
           "xaxis": {
            "backgroundcolor": "#E5ECF6",
            "gridcolor": "white",
            "gridwidth": 2,
            "linecolor": "white",
            "showbackground": true,
            "ticks": "",
            "zerolinecolor": "white"
           },
           "yaxis": {
            "backgroundcolor": "#E5ECF6",
            "gridcolor": "white",
            "gridwidth": 2,
            "linecolor": "white",
            "showbackground": true,
            "ticks": "",
            "zerolinecolor": "white"
           },
           "zaxis": {
            "backgroundcolor": "#E5ECF6",
            "gridcolor": "white",
            "gridwidth": 2,
            "linecolor": "white",
            "showbackground": true,
            "ticks": "",
            "zerolinecolor": "white"
           }
          },
          "shapedefaults": {
           "line": {
            "color": "#2a3f5f"
           }
          },
          "ternary": {
           "aaxis": {
            "gridcolor": "white",
            "linecolor": "white",
            "ticks": ""
           },
           "baxis": {
            "gridcolor": "white",
            "linecolor": "white",
            "ticks": ""
           },
           "bgcolor": "#E5ECF6",
           "caxis": {
            "gridcolor": "white",
            "linecolor": "white",
            "ticks": ""
           }
          },
          "title": {
           "x": 0.05
          },
          "xaxis": {
           "automargin": true,
           "gridcolor": "white",
           "linecolor": "white",
           "ticks": "",
           "title": {
            "standoff": 15
           },
           "zerolinecolor": "white",
           "zerolinewidth": 2
          },
          "yaxis": {
           "automargin": true,
           "gridcolor": "white",
           "linecolor": "white",
           "ticks": "",
           "title": {
            "standoff": 15
           },
           "zerolinecolor": "white",
           "zerolinewidth": 2
          }
         }
        },
        "xaxis": {
         "anchor": "y",
         "domain": [
          0,
          1
         ],
         "title": {
          "text": "date"
         }
        },
        "yaxis": {
         "anchor": "x",
         "domain": [
          0,
          1
         ],
         "title": {
          "text": "sumPayment"
         }
        }
       }
      },
      "text/html": [
       "<div>                            <div id=\"2dccdc1a-16c7-464f-90c7-4ab70babbd0c\" class=\"plotly-graph-div\" style=\"height:525px; width:100%;\"></div>            <script type=\"text/javascript\">                require([\"plotly\"], function(Plotly) {                    window.PLOTLYENV=window.PLOTLYENV || {};                                    if (document.getElementById(\"2dccdc1a-16c7-464f-90c7-4ab70babbd0c\")) {                    Plotly.newPlot(                        \"2dccdc1a-16c7-464f-90c7-4ab70babbd0c\",                        [{\"hovertemplate\":\"date=%{x}<br>sumPayment=%{text}<extra></extra>\",\"legendgroup\":\"\",\"line\":{\"color\":\"#636efa\",\"dash\":\"solid\"},\"marker\":{\"symbol\":\"circle\"},\"mode\":\"lines+markers+text\",\"name\":\"\",\"orientation\":\"v\",\"showlegend\":false,\"text\":[33415.0,36590.0,18935.0,22230.0,39345.0,30725.0,24235.0,4710.0,29140.0,21525.0,38875.0,28350.0,29195.0,33490.0,18925.0,26675.0,37410.0,21840.0,20995.0,38880.0,29180.0,32510.0,29300.0,39655.0,35950.0,25955.0,55115.0,40350.0,27910.0,36030.0,22530.0,17400.0,30240.0,31450.0,52560.0,25820.0,27160.0,25790.0,23080.0,26740.0,38340.0,37950.0,19290.0,20150.0,8960.0,20160.0,25690.0,34600.0,25330.0,17270.0,8810.0,26940.0,21530.0,25975.0,35985.0,11370.0,15970.0,13960.0,17695.0,6540.0,14175.0,37705.0,840.0,26695.0,45615.0,25520.0,21645.0,28985.0,25320.0,41100.0,35965.0,25845.0,17755.0,23665.0,34600.0,42055.0,23015.0,31565.0,17680.0,23055.0,14020.0,20580.0,29170.0,36270.0,35500.0,26500.0,19780.0,22630.0,17080.0,19800.0,26510.0,38830.0,27040.0,22580.0,16530.0,29600.0,24970.0,40770.0,50610.0,34960.0,30510.0,20290.0,24040.0,38050.0,30370.0,38580.0,31250.0,23980.0,28470.0,47700.0,46360.0,20600.0,17510.0,56090.0,35340.0,54230.0,23860.0,18270.0,38850.0,51490.0,45690.0,42200.0,20910.0,29320.0,52800.0,51466.0,49810.0,40970.0,15850.0,28740.0,27000.0,34230.0,28470.0,32990.0,44940.0,41600.0,40930.0,41460.0,19890.0,23500.0,37580.0,33150.0,34440.0,53120.0,34820.0,52810.0,44060.0,49930.0,55900.0,54930.0,54730.0,53480.0,59640.0,65230.0,49270.0,22250.0,18410.0,23660.0,37640.0,27150.0,39670.0,43600.0,30760.0,21370.0,1540.0,25150.0,32740.0,34880.0,25150.0,31040.0,15870.0,42930.0,30150.0,33420.0,30920.0,38140.0,42720.0,32030.0,51920.0,62650.0,85770.0,75400.0,92550.0,67100.0,45010.0,49650.0,46290.0,46520.0,43930.0,75300.0,62140.0,48810.0,38180.0,45960.0,58460.0,58230.0,79520.0,53680.0,58980.0,34270.0,51210.0,68720.0,50380.0,81210.0,58340.0],\"x\":[\"1400-08-02\",\"1400-08-04\",\"1400-08-03\",\"1400-08-05\",\"1400-08-06\",\"1400-08-07\",\"1400-08-08\",\"1400-08-05\",\"1400-08-09\",\"1400-08-10\",\"1400-08-11\",\"1400-08-12\",\"1400-08-13\",\"1400-08-14\",\"1400-08-15\",\"1400-08-16\",\"1400-08-17\",\"1400-08-18\",\"1400-08-19\",\"1400-08-20\",\"1400-08-21\",\"1400-08-24\",\"1400-08-22\",\"1400-08-23\",\"1400-08-25\",\"1400-08-26\",\"1400-08-27\",\"1400-08-28\",\"1400-08-29\",\"1400-08-30\",\"1400-09-01\",\"1400-09-02\",\"1400-09-03\",\"1400-09-04\",\"1400-09-05\",\"1400-09-06\",\"1400-09-07\",\"1400-09-08\",\"1400-09-09\",\"1400-09-10\",\"1400-09-11\",\"1400-09-12\",\"1400-09-13\",\"1400-09-14\",\"1400-09-15\",\"1400-09-16\",\"1400-09-17\",\"1400-09-18\",\"1400-09-19\",\"1400-09-20\",\"1400-09-21\",\"1400-09-22\",\"1400-09-23\",\"1400-09-24\",\"1400-09-25\",\"1400-09-26\",\"1400-09-27\",\"1400-09-28\",\"1400-09-29\",\"1400-09-30\",\"1400-10-01\",\"1400-10-02\",\"1400-10-04\",\"1400-10-03\",\"1400-10-04\",\"1400-10-05\",\"1400-10-06\",\"1400-10-07\",\"1400-10-08\",\"1400-10-10\",\"1400-10-09\",\"1400-10-11\",\"1400-10-12\",\"1400-10-13\",\"1400-10-14\",\"1400-10-16\",\"1400-10-15\",\"1400-10-17\",\"1400-10-19\",\"1400-10-18\",\"1400-10-20\",\"1400-10-21\",\"1400-10-22\",\"1400-10-23\",\"1400-10-24\",\"1400-10-25\",\"1400-11-02\",\"1400-11-03\",\"1400-11-04\",\"1400-11-05\",\"1400-11-06\",\"1400-11-07\",\"1400-11-08\",\"1400-11-10\",\"1400-11-09\",\"1400-11-11\",\"1400-11-12\",\"1400-11-13\",\"1400-11-14\",\"1400-11-15\",\"1400-11-16\",\"1400-11-17\",\"1400-11-18\",\"1400-11-21\",\"1400-11-19\",\"1400-11-20\",\"1400-11-22\",\"1400-11-23\",\"1400-11-24\",\"1400-11-25\",\"1400-11-26\",\"1400-11-27\",\"1400-12-01\",\"1400-11-28\",\"1400-11-29\",\"1400-11-30\",\"1400-12-02\",\"1400-12-03\",\"1400-12-04\",\"1400-12-05\",\"1400-12-06\",\"1400-12-07\",\"1400-12-09\",\"1400-12-08\",\"1400-12-10\",\"1400-12-11\",\"1400-12-12\",\"1400-12-13\",\"1400-12-15\",\"1400-12-14\",\"1400-12-16\",\"1400-12-17\",\"1400-12-18\",\"1400-12-19\",\"1400-12-20\",\"1400-12-21\",\"1400-12-22\",\"1400-12-23\",\"1400-12-24\",\"1400-12-25\",\"1400-12-26\",\"1400-12-27\",\"1400-12-28\",\"1401-01-02\",\"1401-01-03\",\"1401-01-04\",\"1401-01-05\",\"1401-01-06\",\"1401-01-07\",\"1401-01-08\",\"1401-01-09\",\"1401-01-10\",\"1401-01-11\",\"1401-01-12\",\"1401-01-13\",\"1401-01-14\",\"1401-01-15\",\"1401-01-16\",\"1401-01-17\",\"1401-01-18\",\"1401-01-19\",\"1401-01-20\",\"1401-01-21\",\"1401-01-22\",\"1401-01-21\",\"1401-01-23\",\"1401-01-24\",\"1401-01-25\",\"1401-01-26\",\"1401-01-27\",\"1401-01-28\",\"1401-01-29\",\"1401-01-30\",\"1401-02-06\",\"1401-02-07\",\"1401-02-08\",\"1401-02-09\",\"1401-02-10\",\"1401-02-11\",\"1401-02-12\",\"1401-02-13\",\"1401-02-14\",\"1401-02-15\",\"1401-02-16\",\"1401-02-17\",\"1401-02-18\",\"1401-02-19\",\"1401-02-20\",\"1401-02-21\",\"1401-02-22\",\"1401-02-23\",\"1401-02-24\",\"1401-02-25\",\"1401-02-26\",\"1401-02-27\",\"1401-02-28\",\"1401-02-29\",\"1401-02-30\",\"1401-02-31\",\"1401-03-01\",\"1401-03-02\",\"1401-03-03\",\"1401-03-04\",\"1401-03-05\",\"1401-03-06\"],\"xaxis\":\"x\",\"y\":[33415.0,36590.0,18935.0,22230.0,39345.0,30725.0,24235.0,4710.0,29140.0,21525.0,38875.0,28350.0,29195.0,33490.0,18925.0,26675.0,37410.0,21840.0,20995.0,38880.0,29180.0,32510.0,29300.0,39655.0,35950.0,25955.0,55115.0,40350.0,27910.0,36030.0,22530.0,17400.0,30240.0,31450.0,52560.0,25820.0,27160.0,25790.0,23080.0,26740.0,38340.0,37950.0,19290.0,20150.0,8960.0,20160.0,25690.0,34600.0,25330.0,17270.0,8810.0,26940.0,21530.0,25975.0,35985.0,11370.0,15970.0,13960.0,17695.0,6540.0,14175.0,37705.0,840.0,26695.0,45615.0,25520.0,21645.0,28985.0,25320.0,41100.0,35965.0,25845.0,17755.0,23665.0,34600.0,42055.0,23015.0,31565.0,17680.0,23055.0,14020.0,20580.0,29170.0,36270.0,35500.0,26500.0,19780.0,22630.0,17080.0,19800.0,26510.0,38830.0,27040.0,22580.0,16530.0,29600.0,24970.0,40770.0,50610.0,34960.0,30510.0,20290.0,24040.0,38050.0,30370.0,38580.0,31250.0,23980.0,28470.0,47700.0,46360.0,20600.0,17510.0,56090.0,35340.0,54230.0,23860.0,18270.0,38850.0,51490.0,45690.0,42200.0,20910.0,29320.0,52800.0,51466.0,49810.0,40970.0,15850.0,28740.0,27000.0,34230.0,28470.0,32990.0,44940.0,41600.0,40930.0,41460.0,19890.0,23500.0,37580.0,33150.0,34440.0,53120.0,34820.0,52810.0,44060.0,49930.0,55900.0,54930.0,54730.0,53480.0,59640.0,65230.0,49270.0,22250.0,18410.0,23660.0,37640.0,27150.0,39670.0,43600.0,30760.0,21370.0,1540.0,25150.0,32740.0,34880.0,25150.0,31040.0,15870.0,42930.0,30150.0,33420.0,30920.0,38140.0,42720.0,32030.0,51920.0,62650.0,85770.0,75400.0,92550.0,67100.0,45010.0,49650.0,46290.0,46520.0,43930.0,75300.0,62140.0,48810.0,38180.0,45960.0,58460.0,58230.0,79520.0,53680.0,58980.0,34270.0,51210.0,68720.0,50380.0,81210.0,58340.0],\"yaxis\":\"y\",\"type\":\"scatter\"}],                        {\"template\":{\"data\":{\"histogram2dcontour\":[{\"type\":\"histogram2dcontour\",\"colorbar\":{\"outlinewidth\":0,\"ticks\":\"\"},\"colorscale\":[[0.0,\"#0d0887\"],[0.1111111111111111,\"#46039f\"],[0.2222222222222222,\"#7201a8\"],[0.3333333333333333,\"#9c179e\"],[0.4444444444444444,\"#bd3786\"],[0.5555555555555556,\"#d8576b\"],[0.6666666666666666,\"#ed7953\"],[0.7777777777777778,\"#fb9f3a\"],[0.8888888888888888,\"#fdca26\"],[1.0,\"#f0f921\"]]}],\"choropleth\":[{\"type\":\"choropleth\",\"colorbar\":{\"outlinewidth\":0,\"ticks\":\"\"}}],\"histogram2d\":[{\"type\":\"histogram2d\",\"colorbar\":{\"outlinewidth\":0,\"ticks\":\"\"},\"colorscale\":[[0.0,\"#0d0887\"],[0.1111111111111111,\"#46039f\"],[0.2222222222222222,\"#7201a8\"],[0.3333333333333333,\"#9c179e\"],[0.4444444444444444,\"#bd3786\"],[0.5555555555555556,\"#d8576b\"],[0.6666666666666666,\"#ed7953\"],[0.7777777777777778,\"#fb9f3a\"],[0.8888888888888888,\"#fdca26\"],[1.0,\"#f0f921\"]]}],\"heatmap\":[{\"type\":\"heatmap\",\"colorbar\":{\"outlinewidth\":0,\"ticks\":\"\"},\"colorscale\":[[0.0,\"#0d0887\"],[0.1111111111111111,\"#46039f\"],[0.2222222222222222,\"#7201a8\"],[0.3333333333333333,\"#9c179e\"],[0.4444444444444444,\"#bd3786\"],[0.5555555555555556,\"#d8576b\"],[0.6666666666666666,\"#ed7953\"],[0.7777777777777778,\"#fb9f3a\"],[0.8888888888888888,\"#fdca26\"],[1.0,\"#f0f921\"]]}],\"heatmapgl\":[{\"type\":\"heatmapgl\",\"colorbar\":{\"outlinewidth\":0,\"ticks\":\"\"},\"colorscale\":[[0.0,\"#0d0887\"],[0.1111111111111111,\"#46039f\"],[0.2222222222222222,\"#7201a8\"],[0.3333333333333333,\"#9c179e\"],[0.4444444444444444,\"#bd3786\"],[0.5555555555555556,\"#d8576b\"],[0.6666666666666666,\"#ed7953\"],[0.7777777777777778,\"#fb9f3a\"],[0.8888888888888888,\"#fdca26\"],[1.0,\"#f0f921\"]]}],\"contourcarpet\":[{\"type\":\"contourcarpet\",\"colorbar\":{\"outlinewidth\":0,\"ticks\":\"\"}}],\"contour\":[{\"type\":\"contour\",\"colorbar\":{\"outlinewidth\":0,\"ticks\":\"\"},\"colorscale\":[[0.0,\"#0d0887\"],[0.1111111111111111,\"#46039f\"],[0.2222222222222222,\"#7201a8\"],[0.3333333333333333,\"#9c179e\"],[0.4444444444444444,\"#bd3786\"],[0.5555555555555556,\"#d8576b\"],[0.6666666666666666,\"#ed7953\"],[0.7777777777777778,\"#fb9f3a\"],[0.8888888888888888,\"#fdca26\"],[1.0,\"#f0f921\"]]}],\"surface\":[{\"type\":\"surface\",\"colorbar\":{\"outlinewidth\":0,\"ticks\":\"\"},\"colorscale\":[[0.0,\"#0d0887\"],[0.1111111111111111,\"#46039f\"],[0.2222222222222222,\"#7201a8\"],[0.3333333333333333,\"#9c179e\"],[0.4444444444444444,\"#bd3786\"],[0.5555555555555556,\"#d8576b\"],[0.6666666666666666,\"#ed7953\"],[0.7777777777777778,\"#fb9f3a\"],[0.8888888888888888,\"#fdca26\"],[1.0,\"#f0f921\"]]}],\"mesh3d\":[{\"type\":\"mesh3d\",\"colorbar\":{\"outlinewidth\":0,\"ticks\":\"\"}}],\"scatter\":[{\"fillpattern\":{\"fillmode\":\"overlay\",\"size\":10,\"solidity\":0.2},\"type\":\"scatter\"}],\"parcoords\":[{\"type\":\"parcoords\",\"line\":{\"colorbar\":{\"outlinewidth\":0,\"ticks\":\"\"}}}],\"scatterpolargl\":[{\"type\":\"scatterpolargl\",\"marker\":{\"colorbar\":{\"outlinewidth\":0,\"ticks\":\"\"}}}],\"bar\":[{\"error_x\":{\"color\":\"#2a3f5f\"},\"error_y\":{\"color\":\"#2a3f5f\"},\"marker\":{\"line\":{\"color\":\"#E5ECF6\",\"width\":0.5},\"pattern\":{\"fillmode\":\"overlay\",\"size\":10,\"solidity\":0.2}},\"type\":\"bar\"}],\"scattergeo\":[{\"type\":\"scattergeo\",\"marker\":{\"colorbar\":{\"outlinewidth\":0,\"ticks\":\"\"}}}],\"scatterpolar\":[{\"type\":\"scatterpolar\",\"marker\":{\"colorbar\":{\"outlinewidth\":0,\"ticks\":\"\"}}}],\"histogram\":[{\"marker\":{\"pattern\":{\"fillmode\":\"overlay\",\"size\":10,\"solidity\":0.2}},\"type\":\"histogram\"}],\"scattergl\":[{\"type\":\"scattergl\",\"marker\":{\"colorbar\":{\"outlinewidth\":0,\"ticks\":\"\"}}}],\"scatter3d\":[{\"type\":\"scatter3d\",\"line\":{\"colorbar\":{\"outlinewidth\":0,\"ticks\":\"\"}},\"marker\":{\"colorbar\":{\"outlinewidth\":0,\"ticks\":\"\"}}}],\"scattermapbox\":[{\"type\":\"scattermapbox\",\"marker\":{\"colorbar\":{\"outlinewidth\":0,\"ticks\":\"\"}}}],\"scatterternary\":[{\"type\":\"scatterternary\",\"marker\":{\"colorbar\":{\"outlinewidth\":0,\"ticks\":\"\"}}}],\"scattercarpet\":[{\"type\":\"scattercarpet\",\"marker\":{\"colorbar\":{\"outlinewidth\":0,\"ticks\":\"\"}}}],\"carpet\":[{\"aaxis\":{\"endlinecolor\":\"#2a3f5f\",\"gridcolor\":\"white\",\"linecolor\":\"white\",\"minorgridcolor\":\"white\",\"startlinecolor\":\"#2a3f5f\"},\"baxis\":{\"endlinecolor\":\"#2a3f5f\",\"gridcolor\":\"white\",\"linecolor\":\"white\",\"minorgridcolor\":\"white\",\"startlinecolor\":\"#2a3f5f\"},\"type\":\"carpet\"}],\"table\":[{\"cells\":{\"fill\":{\"color\":\"#EBF0F8\"},\"line\":{\"color\":\"white\"}},\"header\":{\"fill\":{\"color\":\"#C8D4E3\"},\"line\":{\"color\":\"white\"}},\"type\":\"table\"}],\"barpolar\":[{\"marker\":{\"line\":{\"color\":\"#E5ECF6\",\"width\":0.5},\"pattern\":{\"fillmode\":\"overlay\",\"size\":10,\"solidity\":0.2}},\"type\":\"barpolar\"}],\"pie\":[{\"automargin\":true,\"type\":\"pie\"}]},\"layout\":{\"autotypenumbers\":\"strict\",\"colorway\":[\"#636efa\",\"#EF553B\",\"#00cc96\",\"#ab63fa\",\"#FFA15A\",\"#19d3f3\",\"#FF6692\",\"#B6E880\",\"#FF97FF\",\"#FECB52\"],\"font\":{\"color\":\"#2a3f5f\"},\"hovermode\":\"closest\",\"hoverlabel\":{\"align\":\"left\"},\"paper_bgcolor\":\"white\",\"plot_bgcolor\":\"#E5ECF6\",\"polar\":{\"bgcolor\":\"#E5ECF6\",\"angularaxis\":{\"gridcolor\":\"white\",\"linecolor\":\"white\",\"ticks\":\"\"},\"radialaxis\":{\"gridcolor\":\"white\",\"linecolor\":\"white\",\"ticks\":\"\"}},\"ternary\":{\"bgcolor\":\"#E5ECF6\",\"aaxis\":{\"gridcolor\":\"white\",\"linecolor\":\"white\",\"ticks\":\"\"},\"baxis\":{\"gridcolor\":\"white\",\"linecolor\":\"white\",\"ticks\":\"\"},\"caxis\":{\"gridcolor\":\"white\",\"linecolor\":\"white\",\"ticks\":\"\"}},\"coloraxis\":{\"colorbar\":{\"outlinewidth\":0,\"ticks\":\"\"}},\"colorscale\":{\"sequential\":[[0.0,\"#0d0887\"],[0.1111111111111111,\"#46039f\"],[0.2222222222222222,\"#7201a8\"],[0.3333333333333333,\"#9c179e\"],[0.4444444444444444,\"#bd3786\"],[0.5555555555555556,\"#d8576b\"],[0.6666666666666666,\"#ed7953\"],[0.7777777777777778,\"#fb9f3a\"],[0.8888888888888888,\"#fdca26\"],[1.0,\"#f0f921\"]],\"sequentialminus\":[[0.0,\"#0d0887\"],[0.1111111111111111,\"#46039f\"],[0.2222222222222222,\"#7201a8\"],[0.3333333333333333,\"#9c179e\"],[0.4444444444444444,\"#bd3786\"],[0.5555555555555556,\"#d8576b\"],[0.6666666666666666,\"#ed7953\"],[0.7777777777777778,\"#fb9f3a\"],[0.8888888888888888,\"#fdca26\"],[1.0,\"#f0f921\"]],\"diverging\":[[0,\"#8e0152\"],[0.1,\"#c51b7d\"],[0.2,\"#de77ae\"],[0.3,\"#f1b6da\"],[0.4,\"#fde0ef\"],[0.5,\"#f7f7f7\"],[0.6,\"#e6f5d0\"],[0.7,\"#b8e186\"],[0.8,\"#7fbc41\"],[0.9,\"#4d9221\"],[1,\"#276419\"]]},\"xaxis\":{\"gridcolor\":\"white\",\"linecolor\":\"white\",\"ticks\":\"\",\"title\":{\"standoff\":15},\"zerolinecolor\":\"white\",\"automargin\":true,\"zerolinewidth\":2},\"yaxis\":{\"gridcolor\":\"white\",\"linecolor\":\"white\",\"ticks\":\"\",\"title\":{\"standoff\":15},\"zerolinecolor\":\"white\",\"automargin\":true,\"zerolinewidth\":2},\"scene\":{\"xaxis\":{\"backgroundcolor\":\"#E5ECF6\",\"gridcolor\":\"white\",\"linecolor\":\"white\",\"showbackground\":true,\"ticks\":\"\",\"zerolinecolor\":\"white\",\"gridwidth\":2},\"yaxis\":{\"backgroundcolor\":\"#E5ECF6\",\"gridcolor\":\"white\",\"linecolor\":\"white\",\"showbackground\":true,\"ticks\":\"\",\"zerolinecolor\":\"white\",\"gridwidth\":2},\"zaxis\":{\"backgroundcolor\":\"#E5ECF6\",\"gridcolor\":\"white\",\"linecolor\":\"white\",\"showbackground\":true,\"ticks\":\"\",\"zerolinecolor\":\"white\",\"gridwidth\":2}},\"shapedefaults\":{\"line\":{\"color\":\"#2a3f5f\"}},\"annotationdefaults\":{\"arrowcolor\":\"#2a3f5f\",\"arrowhead\":0,\"arrowwidth\":1},\"geo\":{\"bgcolor\":\"white\",\"landcolor\":\"#E5ECF6\",\"subunitcolor\":\"white\",\"showland\":true,\"showlakes\":true,\"lakecolor\":\"white\"},\"title\":{\"x\":0.05},\"mapbox\":{\"style\":\"light\"}}},\"xaxis\":{\"anchor\":\"y\",\"domain\":[0.0,1.0],\"title\":{\"text\":\"date\"}},\"yaxis\":{\"anchor\":\"x\",\"domain\":[0.0,1.0],\"title\":{\"text\":\"sumPayment\"}},\"legend\":{\"tracegroupgap\":0},\"margin\":{\"t\":60}},                        {\"responsive\": true}                    ).then(function(){\n",
       "                            \n",
       "var gd = document.getElementById('2dccdc1a-16c7-464f-90c7-4ab70babbd0c');\n",
       "var x = new MutationObserver(function (mutations, observer) {{\n",
       "        var display = window.getComputedStyle(gd).display;\n",
       "        if (!display || display === 'none') {{\n",
       "            console.log([gd, 'removed!']);\n",
       "            Plotly.purge(gd);\n",
       "            observer.disconnect();\n",
       "        }}\n",
       "}});\n",
       "\n",
       "// Listen for the removal of the full notebook cells\n",
       "var notebookContainer = gd.closest('#notebook-container');\n",
       "if (notebookContainer) {{\n",
       "    x.observe(notebookContainer, {childList: true});\n",
       "}}\n",
       "\n",
       "// Listen for the clearing of the current output cell\n",
       "var outputEl = gd.closest('.output');\n",
       "if (outputEl) {{\n",
       "    x.observe(outputEl, {childList: true});\n",
       "}}\n",
       "\n",
       "                        })                };                });            </script>        </div>"
      ]
     },
     "metadata": {},
     "output_type": "display_data"
    }
   ],
   "source": [
    "food_df = pd.DataFrame(data=foodGraphDaily)\n",
    "#fig = px.line(food_df, x='date', y='21-22 (payment)', color='21-22 (payment)', symbol='21-22 (payment)', markers=True, text='21-22 (payment)')\n",
    "fig = px.line(food_df, x='date', y='21-22 (payment)',  markers=True, text='21-22 (payment)')\n",
    "fig.show()\n",
    "fig2 = px.line(food_df, x='date', y='sumPayment', markers=True, text='sumPayment')\n",
    "fig2.show()\n",
    "    #\n",
    "    #if item['food_id'] in food_ids:\n",
    "    #    foodGraph[int(item['food_id'])] = 1\n",
    "    #a=1\n",
    "    #hourly\n",
    "    #if checkConditionOfFactor(factors[item['factor_id']], day=0, week=0, month=0):\n",
    "    #daily\n",
    "\n",
    "def checkConditionOfFactor(condition):\n",
    "    if condition == 's':\n",
    "        return true\n",
    "#    return true\n"
   ]
  },
  {
   "cell_type": "code",
   "execution_count": 8,
   "id": "eb6579ba",
   "metadata": {},
   "outputs": [
    {
     "data": {
      "text/html": [
       "<div>\n",
       "<style scoped>\n",
       "    .dataframe tbody tr th:only-of-type {\n",
       "        vertical-align: middle;\n",
       "    }\n",
       "\n",
       "    .dataframe tbody tr th {\n",
       "        vertical-align: top;\n",
       "    }\n",
       "\n",
       "    .dataframe thead th {\n",
       "        text-align: right;\n",
       "    }\n",
       "</style>\n",
       "<table border=\"1\" class=\"dataframe\">\n",
       "  <thead>\n",
       "    <tr style=\"text-align: right;\">\n",
       "      <th></th>\n",
       "      <th>date</th>\n",
       "      <th>sumPayment</th>\n",
       "      <th>factorNumber</th>\n",
       "      <th>dayName</th>\n",
       "      <th>08-18 (count)</th>\n",
       "      <th>18-20 (count)</th>\n",
       "      <th>20-21 (count)</th>\n",
       "      <th>21-22 (count)</th>\n",
       "      <th>22-23 (count)</th>\n",
       "      <th>23-24 (count)</th>\n",
       "      <th>24-08 (count)</th>\n",
       "      <th>08-18 (payment)</th>\n",
       "      <th>18-20 (payment)</th>\n",
       "      <th>20-21 (payment)</th>\n",
       "      <th>21-22 (payment)</th>\n",
       "      <th>22-23 (payment)</th>\n",
       "      <th>23-24 (payment)</th>\n",
       "      <th>24-08 (payment)</th>\n",
       "    </tr>\n",
       "  </thead>\n",
       "  <tbody>\n",
       "    <tr>\n",
       "      <th>0</th>\n",
       "      <td>1400-08-02</td>\n",
       "      <td>33415.0</td>\n",
       "      <td>69</td>\n",
       "      <td>1400-08-02</td>\n",
       "      <td>4</td>\n",
       "      <td>16</td>\n",
       "      <td>10</td>\n",
       "      <td>16</td>\n",
       "      <td>9</td>\n",
       "      <td>14</td>\n",
       "      <td>0</td>\n",
       "      <td>1250.0</td>\n",
       "      <td>5885.0</td>\n",
       "      <td>6075.0</td>\n",
       "      <td>7980.0</td>\n",
       "      <td>4105.0</td>\n",
       "      <td>8120.0</td>\n",
       "      <td>0.0</td>\n",
       "    </tr>\n",
       "    <tr>\n",
       "      <th>1</th>\n",
       "      <td>1400-08-04</td>\n",
       "      <td>36590.0</td>\n",
       "      <td>61</td>\n",
       "      <td>1400-08-04</td>\n",
       "      <td>0</td>\n",
       "      <td>16</td>\n",
       "      <td>13</td>\n",
       "      <td>17</td>\n",
       "      <td>14</td>\n",
       "      <td>1</td>\n",
       "      <td>0</td>\n",
       "      <td>0.0</td>\n",
       "      <td>7420.0</td>\n",
       "      <td>8465.0</td>\n",
       "      <td>12285.0</td>\n",
       "      <td>6950.0</td>\n",
       "      <td>1470.0</td>\n",
       "      <td>0.0</td>\n",
       "    </tr>\n",
       "    <tr>\n",
       "      <th>2</th>\n",
       "      <td>1400-08-03</td>\n",
       "      <td>18935.0</td>\n",
       "      <td>38</td>\n",
       "      <td>1400-08-03</td>\n",
       "      <td>0</td>\n",
       "      <td>2</td>\n",
       "      <td>11</td>\n",
       "      <td>11</td>\n",
       "      <td>9</td>\n",
       "      <td>5</td>\n",
       "      <td>0</td>\n",
       "      <td>0.0</td>\n",
       "      <td>1760.0</td>\n",
       "      <td>3895.0</td>\n",
       "      <td>5380.0</td>\n",
       "      <td>5230.0</td>\n",
       "      <td>2670.0</td>\n",
       "      <td>0.0</td>\n",
       "    </tr>\n",
       "    <tr>\n",
       "      <th>3</th>\n",
       "      <td>1400-08-05</td>\n",
       "      <td>22230.0</td>\n",
       "      <td>42</td>\n",
       "      <td>1400-08-05</td>\n",
       "      <td>0</td>\n",
       "      <td>0</td>\n",
       "      <td>19</td>\n",
       "      <td>12</td>\n",
       "      <td>5</td>\n",
       "      <td>6</td>\n",
       "      <td>0</td>\n",
       "      <td>0.0</td>\n",
       "      <td>0.0</td>\n",
       "      <td>9960.0</td>\n",
       "      <td>5750.0</td>\n",
       "      <td>2320.0</td>\n",
       "      <td>4200.0</td>\n",
       "      <td>0.0</td>\n",
       "    </tr>\n",
       "    <tr>\n",
       "      <th>4</th>\n",
       "      <td>1400-08-06</td>\n",
       "      <td>39345.0</td>\n",
       "      <td>68</td>\n",
       "      <td>1400-08-06</td>\n",
       "      <td>2</td>\n",
       "      <td>7</td>\n",
       "      <td>20</td>\n",
       "      <td>15</td>\n",
       "      <td>16</td>\n",
       "      <td>8</td>\n",
       "      <td>0</td>\n",
       "      <td>480.0</td>\n",
       "      <td>2730.0</td>\n",
       "      <td>11240.0</td>\n",
       "      <td>11080.0</td>\n",
       "      <td>7205.0</td>\n",
       "      <td>6610.0</td>\n",
       "      <td>0.0</td>\n",
       "    </tr>\n",
       "  </tbody>\n",
       "</table>\n",
       "</div>"
      ],
      "text/plain": [
       "         date  sumPayment  factorNumber     dayName  08-18 (count)  \\\n",
       "0  1400-08-02     33415.0            69  1400-08-02              4   \n",
       "1  1400-08-04     36590.0            61  1400-08-04              0   \n",
       "2  1400-08-03     18935.0            38  1400-08-03              0   \n",
       "3  1400-08-05     22230.0            42  1400-08-05              0   \n",
       "4  1400-08-06     39345.0            68  1400-08-06              2   \n",
       "\n",
       "   18-20 (count)  20-21 (count)  21-22 (count)  22-23 (count)  23-24 (count)  \\\n",
       "0             16             10             16              9             14   \n",
       "1             16             13             17             14              1   \n",
       "2              2             11             11              9              5   \n",
       "3              0             19             12              5              6   \n",
       "4              7             20             15             16              8   \n",
       "\n",
       "   24-08 (count)  08-18 (payment)  18-20 (payment)  20-21 (payment)  \\\n",
       "0              0           1250.0           5885.0           6075.0   \n",
       "1              0              0.0           7420.0           8465.0   \n",
       "2              0              0.0           1760.0           3895.0   \n",
       "3              0              0.0              0.0           9960.0   \n",
       "4              0            480.0           2730.0          11240.0   \n",
       "\n",
       "   21-22 (payment)  22-23 (payment)  23-24 (payment)  24-08 (payment)  \n",
       "0           7980.0           4105.0           8120.0              0.0  \n",
       "1          12285.0           6950.0           1470.0              0.0  \n",
       "2           5380.0           5230.0           2670.0              0.0  \n",
       "3           5750.0           2320.0           4200.0              0.0  \n",
       "4          11080.0           7205.0           6610.0              0.0  "
      ]
     },
     "execution_count": 8,
     "metadata": {},
     "output_type": "execute_result"
    }
   ],
   "source": [
    "food_df.head()"
   ]
  },
  {
   "cell_type": "code",
   "execution_count": 11,
   "id": "3bce6fb1",
   "metadata": {},
   "outputs": [
    {
     "data": {
      "application/vnd.plotly.v1+json": {
       "config": {
        "plotlyServerURL": "https://plot.ly"
       },
       "data": [
        {
         "hovertemplate": "date=%{x}<br>18-20 (count)=%{y}<br>21-22 (payment)=%{text}<extra></extra>",
         "legendgroup": "",
         "line": {
          "color": "#636efa",
          "dash": "solid"
         },
         "marker": {
          "symbol": "circle"
         },
         "mode": "lines+markers+text",
         "name": "",
         "orientation": "v",
         "showlegend": false,
         "text": [
          7980,
          12285,
          5380,
          5750,
          11080,
          9500,
          7885,
          0,
          7710,
          9020,
          11895,
          10870,
          5135,
          5415,
          4650,
          9700,
          12690,
          2980,
          2540,
          5615,
          4350,
          5690,
          12190,
          4080,
          16720,
          2300,
          17220,
          5360,
          10710,
          14680,
          2750,
          7270,
          15060,
          10170,
          3820,
          6810,
          5310,
          5700,
          6960,
          1910,
          5340,
          7970,
          5390,
          7470,
          900,
          3770,
          6390,
          9280,
          9730,
          320,
          2430,
          8215,
          5905,
          4380,
          0,
          1020,
          3410,
          2670,
          4470,
          630,
          1880,
          14090,
          0,
          10935,
          7345,
          8515,
          7865,
          18140,
          7285,
          16025,
          6690,
          4610,
          5670,
          7995,
          4670,
          3635,
          10240,
          13915,
          1735,
          3975,
          1640,
          5370,
          7560,
          16880,
          1950,
          10240,
          1225,
          4310,
          5660,
          5970,
          8380,
          5010,
          8630,
          8770,
          5370,
          7230,
          3980,
          16130,
          19640,
          5280,
          7220,
          2760,
          10980,
          7280,
          4640,
          14930,
          5430,
          7630,
          9560,
          11600,
          12550,
          5250,
          2710,
          16280,
          9610,
          14320,
          6320,
          2220,
          5470,
          8320,
          17770,
          13320,
          1750,
          4150,
          16660,
          15026,
          18960,
          3080,
          2900,
          8590,
          13570,
          760,
          10190,
          5790,
          14830,
          3100,
          2370,
          8240,
          6200,
          1430,
          19990,
          3790,
          6480,
          6570,
          8920,
          12670,
          11720,
          7610,
          10930,
          3690,
          15290,
          4110,
          8640,
          8380,
          23140,
          2260,
          4670,
          5170,
          19870,
          2300,
          4840,
          13530,
          6540,
          6480,
          0,
          6720,
          9110,
          4030,
          5360,
          8470,
          0,
          2670,
          6430,
          6810,
          8350,
          2090,
          21610,
          9020,
          7850,
          9670,
          29370,
          25270,
          17770,
          16850,
          2800,
          6960,
          5530,
          6830,
          15430,
          6710,
          20610,
          18230,
          7960,
          14780,
          15930,
          15460,
          15890,
          7600,
          4890,
          13110,
          13310,
          11770,
          6390,
          1020,
          21130
         ],
         "type": "scatter",
         "x": [
          "1400-08-02",
          "1400-08-04",
          "1400-08-03",
          "1400-08-05",
          "1400-08-06",
          "1400-08-07",
          "1400-08-08",
          "1400-08-05",
          "1400-08-09",
          "1400-08-10",
          "1400-08-11",
          "1400-08-12",
          "1400-08-13",
          "1400-08-14",
          "1400-08-15",
          "1400-08-16",
          "1400-08-17",
          "1400-08-18",
          "1400-08-19",
          "1400-08-20",
          "1400-08-21",
          "1400-08-24",
          "1400-08-22",
          "1400-08-23",
          "1400-08-25",
          "1400-08-26",
          "1400-08-27",
          "1400-08-28",
          "1400-08-29",
          "1400-08-30",
          "1400-09-01",
          "1400-09-02",
          "1400-09-03",
          "1400-09-04",
          "1400-09-05",
          "1400-09-06",
          "1400-09-07",
          "1400-09-08",
          "1400-09-09",
          "1400-09-10",
          "1400-09-11",
          "1400-09-12",
          "1400-09-13",
          "1400-09-14",
          "1400-09-15",
          "1400-09-16",
          "1400-09-17",
          "1400-09-18",
          "1400-09-19",
          "1400-09-20",
          "1400-09-21",
          "1400-09-22",
          "1400-09-23",
          "1400-09-24",
          "1400-09-25",
          "1400-09-26",
          "1400-09-27",
          "1400-09-28",
          "1400-09-29",
          "1400-09-30",
          "1400-10-01",
          "1400-10-02",
          "1400-10-04",
          "1400-10-03",
          "1400-10-04",
          "1400-10-05",
          "1400-10-06",
          "1400-10-07",
          "1400-10-08",
          "1400-10-10",
          "1400-10-09",
          "1400-10-11",
          "1400-10-12",
          "1400-10-13",
          "1400-10-14",
          "1400-10-16",
          "1400-10-15",
          "1400-10-17",
          "1400-10-19",
          "1400-10-18",
          "1400-10-20",
          "1400-10-21",
          "1400-10-22",
          "1400-10-23",
          "1400-10-24",
          "1400-10-25",
          "1400-11-02",
          "1400-11-03",
          "1400-11-04",
          "1400-11-05",
          "1400-11-06",
          "1400-11-07",
          "1400-11-08",
          "1400-11-10",
          "1400-11-09",
          "1400-11-11",
          "1400-11-12",
          "1400-11-13",
          "1400-11-14",
          "1400-11-15",
          "1400-11-16",
          "1400-11-17",
          "1400-11-18",
          "1400-11-21",
          "1400-11-19",
          "1400-11-20",
          "1400-11-22",
          "1400-11-23",
          "1400-11-24",
          "1400-11-25",
          "1400-11-26",
          "1400-11-27",
          "1400-12-01",
          "1400-11-28",
          "1400-11-29",
          "1400-11-30",
          "1400-12-02",
          "1400-12-03",
          "1400-12-04",
          "1400-12-05",
          "1400-12-06",
          "1400-12-07",
          "1400-12-09",
          "1400-12-08",
          "1400-12-10",
          "1400-12-11",
          "1400-12-12",
          "1400-12-13",
          "1400-12-15",
          "1400-12-14",
          "1400-12-16",
          "1400-12-17",
          "1400-12-18",
          "1400-12-19",
          "1400-12-20",
          "1400-12-21",
          "1400-12-22",
          "1400-12-23",
          "1400-12-24",
          "1400-12-25",
          "1400-12-26",
          "1400-12-27",
          "1400-12-28",
          "1401-01-02",
          "1401-01-03",
          "1401-01-04",
          "1401-01-05",
          "1401-01-06",
          "1401-01-07",
          "1401-01-08",
          "1401-01-09",
          "1401-01-10",
          "1401-01-11",
          "1401-01-12",
          "1401-01-13",
          "1401-01-14",
          "1401-01-15",
          "1401-01-16",
          "1401-01-17",
          "1401-01-18",
          "1401-01-19",
          "1401-01-20",
          "1401-01-21",
          "1401-01-22",
          "1401-01-21",
          "1401-01-23",
          "1401-01-24",
          "1401-01-25",
          "1401-01-26",
          "1401-01-27",
          "1401-01-28",
          "1401-01-29",
          "1401-01-30",
          "1401-02-06",
          "1401-02-07",
          "1401-02-08",
          "1401-02-09",
          "1401-02-10",
          "1401-02-11",
          "1401-02-12",
          "1401-02-13",
          "1401-02-14",
          "1401-02-15",
          "1401-02-16",
          "1401-02-17",
          "1401-02-18",
          "1401-02-19",
          "1401-02-20",
          "1401-02-21",
          "1401-02-22",
          "1401-02-23",
          "1401-02-24",
          "1401-02-25",
          "1401-02-26",
          "1401-02-27",
          "1401-02-28",
          "1401-02-29",
          "1401-02-30",
          "1401-02-31",
          "1401-03-01",
          "1401-03-02",
          "1401-03-03",
          "1401-03-04",
          "1401-03-05",
          "1401-03-06"
         ],
         "xaxis": "x",
         "y": [
          16,
          16,
          2,
          0,
          7,
          5,
          18,
          0,
          4,
          9,
          15,
          11,
          12,
          6,
          22,
          8,
          8,
          11,
          6,
          12,
          14,
          29,
          17,
          13,
          9,
          9,
          10,
          18,
          13,
          14,
          5,
          8,
          2,
          11,
          26,
          9,
          4,
          5,
          19,
          2,
          15,
          21,
          6,
          5,
          2,
          17,
          1,
          6,
          4,
          8,
          3,
          10,
          0,
          8,
          15,
          2,
          2,
          0,
          7,
          6,
          7,
          17,
          0,
          13,
          6,
          8,
          5,
          8,
          8,
          23,
          13,
          9,
          8,
          6,
          10,
          10,
          2,
          8,
          7,
          9,
          7,
          6,
          7,
          5,
          8,
          2,
          0,
          7,
          3,
          4,
          11,
          11,
          10,
          6,
          8,
          24,
          5,
          12,
          11,
          17,
          8,
          11,
          13,
          4,
          5,
          0,
          13,
          0,
          3,
          4,
          15,
          0,
          5,
          13,
          10,
          17,
          7,
          8,
          4,
          9,
          6,
          5,
          4,
          2,
          16,
          7,
          11,
          10,
          2,
          13,
          2,
          14,
          3,
          0,
          4,
          22,
          7,
          0,
          8,
          8,
          3,
          2,
          8,
          12,
          17,
          3,
          4,
          10,
          24,
          27,
          11,
          17,
          17,
          8,
          6,
          0,
          0,
          0,
          0,
          0,
          0,
          0,
          0,
          0,
          0,
          0,
          0,
          0,
          0,
          0,
          0,
          0,
          0,
          0,
          0,
          0,
          0,
          0,
          0,
          0,
          17,
          24,
          16,
          13,
          4,
          8,
          2,
          1,
          2,
          2,
          5,
          0,
          7,
          2,
          16,
          0,
          1,
          8,
          3,
          1,
          5,
          3,
          1,
          0,
          0
         ],
         "yaxis": "y"
        }
       ],
       "layout": {
        "legend": {
         "tracegroupgap": 0
        },
        "margin": {
         "t": 60
        },
        "template": {
         "data": {
          "bar": [
           {
            "error_x": {
             "color": "#2a3f5f"
            },
            "error_y": {
             "color": "#2a3f5f"
            },
            "marker": {
             "line": {
              "color": "#E5ECF6",
              "width": 0.5
             },
             "pattern": {
              "fillmode": "overlay",
              "size": 10,
              "solidity": 0.2
             }
            },
            "type": "bar"
           }
          ],
          "barpolar": [
           {
            "marker": {
             "line": {
              "color": "#E5ECF6",
              "width": 0.5
             },
             "pattern": {
              "fillmode": "overlay",
              "size": 10,
              "solidity": 0.2
             }
            },
            "type": "barpolar"
           }
          ],
          "carpet": [
           {
            "aaxis": {
             "endlinecolor": "#2a3f5f",
             "gridcolor": "white",
             "linecolor": "white",
             "minorgridcolor": "white",
             "startlinecolor": "#2a3f5f"
            },
            "baxis": {
             "endlinecolor": "#2a3f5f",
             "gridcolor": "white",
             "linecolor": "white",
             "minorgridcolor": "white",
             "startlinecolor": "#2a3f5f"
            },
            "type": "carpet"
           }
          ],
          "choropleth": [
           {
            "colorbar": {
             "outlinewidth": 0,
             "ticks": ""
            },
            "type": "choropleth"
           }
          ],
          "contour": [
           {
            "colorbar": {
             "outlinewidth": 0,
             "ticks": ""
            },
            "colorscale": [
             [
              0,
              "#0d0887"
             ],
             [
              0.1111111111111111,
              "#46039f"
             ],
             [
              0.2222222222222222,
              "#7201a8"
             ],
             [
              0.3333333333333333,
              "#9c179e"
             ],
             [
              0.4444444444444444,
              "#bd3786"
             ],
             [
              0.5555555555555556,
              "#d8576b"
             ],
             [
              0.6666666666666666,
              "#ed7953"
             ],
             [
              0.7777777777777778,
              "#fb9f3a"
             ],
             [
              0.8888888888888888,
              "#fdca26"
             ],
             [
              1,
              "#f0f921"
             ]
            ],
            "type": "contour"
           }
          ],
          "contourcarpet": [
           {
            "colorbar": {
             "outlinewidth": 0,
             "ticks": ""
            },
            "type": "contourcarpet"
           }
          ],
          "heatmap": [
           {
            "colorbar": {
             "outlinewidth": 0,
             "ticks": ""
            },
            "colorscale": [
             [
              0,
              "#0d0887"
             ],
             [
              0.1111111111111111,
              "#46039f"
             ],
             [
              0.2222222222222222,
              "#7201a8"
             ],
             [
              0.3333333333333333,
              "#9c179e"
             ],
             [
              0.4444444444444444,
              "#bd3786"
             ],
             [
              0.5555555555555556,
              "#d8576b"
             ],
             [
              0.6666666666666666,
              "#ed7953"
             ],
             [
              0.7777777777777778,
              "#fb9f3a"
             ],
             [
              0.8888888888888888,
              "#fdca26"
             ],
             [
              1,
              "#f0f921"
             ]
            ],
            "type": "heatmap"
           }
          ],
          "heatmapgl": [
           {
            "colorbar": {
             "outlinewidth": 0,
             "ticks": ""
            },
            "colorscale": [
             [
              0,
              "#0d0887"
             ],
             [
              0.1111111111111111,
              "#46039f"
             ],
             [
              0.2222222222222222,
              "#7201a8"
             ],
             [
              0.3333333333333333,
              "#9c179e"
             ],
             [
              0.4444444444444444,
              "#bd3786"
             ],
             [
              0.5555555555555556,
              "#d8576b"
             ],
             [
              0.6666666666666666,
              "#ed7953"
             ],
             [
              0.7777777777777778,
              "#fb9f3a"
             ],
             [
              0.8888888888888888,
              "#fdca26"
             ],
             [
              1,
              "#f0f921"
             ]
            ],
            "type": "heatmapgl"
           }
          ],
          "histogram": [
           {
            "marker": {
             "pattern": {
              "fillmode": "overlay",
              "size": 10,
              "solidity": 0.2
             }
            },
            "type": "histogram"
           }
          ],
          "histogram2d": [
           {
            "colorbar": {
             "outlinewidth": 0,
             "ticks": ""
            },
            "colorscale": [
             [
              0,
              "#0d0887"
             ],
             [
              0.1111111111111111,
              "#46039f"
             ],
             [
              0.2222222222222222,
              "#7201a8"
             ],
             [
              0.3333333333333333,
              "#9c179e"
             ],
             [
              0.4444444444444444,
              "#bd3786"
             ],
             [
              0.5555555555555556,
              "#d8576b"
             ],
             [
              0.6666666666666666,
              "#ed7953"
             ],
             [
              0.7777777777777778,
              "#fb9f3a"
             ],
             [
              0.8888888888888888,
              "#fdca26"
             ],
             [
              1,
              "#f0f921"
             ]
            ],
            "type": "histogram2d"
           }
          ],
          "histogram2dcontour": [
           {
            "colorbar": {
             "outlinewidth": 0,
             "ticks": ""
            },
            "colorscale": [
             [
              0,
              "#0d0887"
             ],
             [
              0.1111111111111111,
              "#46039f"
             ],
             [
              0.2222222222222222,
              "#7201a8"
             ],
             [
              0.3333333333333333,
              "#9c179e"
             ],
             [
              0.4444444444444444,
              "#bd3786"
             ],
             [
              0.5555555555555556,
              "#d8576b"
             ],
             [
              0.6666666666666666,
              "#ed7953"
             ],
             [
              0.7777777777777778,
              "#fb9f3a"
             ],
             [
              0.8888888888888888,
              "#fdca26"
             ],
             [
              1,
              "#f0f921"
             ]
            ],
            "type": "histogram2dcontour"
           }
          ],
          "mesh3d": [
           {
            "colorbar": {
             "outlinewidth": 0,
             "ticks": ""
            },
            "type": "mesh3d"
           }
          ],
          "parcoords": [
           {
            "line": {
             "colorbar": {
              "outlinewidth": 0,
              "ticks": ""
             }
            },
            "type": "parcoords"
           }
          ],
          "pie": [
           {
            "automargin": true,
            "type": "pie"
           }
          ],
          "scatter": [
           {
            "fillpattern": {
             "fillmode": "overlay",
             "size": 10,
             "solidity": 0.2
            },
            "type": "scatter"
           }
          ],
          "scatter3d": [
           {
            "line": {
             "colorbar": {
              "outlinewidth": 0,
              "ticks": ""
             }
            },
            "marker": {
             "colorbar": {
              "outlinewidth": 0,
              "ticks": ""
             }
            },
            "type": "scatter3d"
           }
          ],
          "scattercarpet": [
           {
            "marker": {
             "colorbar": {
              "outlinewidth": 0,
              "ticks": ""
             }
            },
            "type": "scattercarpet"
           }
          ],
          "scattergeo": [
           {
            "marker": {
             "colorbar": {
              "outlinewidth": 0,
              "ticks": ""
             }
            },
            "type": "scattergeo"
           }
          ],
          "scattergl": [
           {
            "marker": {
             "colorbar": {
              "outlinewidth": 0,
              "ticks": ""
             }
            },
            "type": "scattergl"
           }
          ],
          "scattermapbox": [
           {
            "marker": {
             "colorbar": {
              "outlinewidth": 0,
              "ticks": ""
             }
            },
            "type": "scattermapbox"
           }
          ],
          "scatterpolar": [
           {
            "marker": {
             "colorbar": {
              "outlinewidth": 0,
              "ticks": ""
             }
            },
            "type": "scatterpolar"
           }
          ],
          "scatterpolargl": [
           {
            "marker": {
             "colorbar": {
              "outlinewidth": 0,
              "ticks": ""
             }
            },
            "type": "scatterpolargl"
           }
          ],
          "scatterternary": [
           {
            "marker": {
             "colorbar": {
              "outlinewidth": 0,
              "ticks": ""
             }
            },
            "type": "scatterternary"
           }
          ],
          "surface": [
           {
            "colorbar": {
             "outlinewidth": 0,
             "ticks": ""
            },
            "colorscale": [
             [
              0,
              "#0d0887"
             ],
             [
              0.1111111111111111,
              "#46039f"
             ],
             [
              0.2222222222222222,
              "#7201a8"
             ],
             [
              0.3333333333333333,
              "#9c179e"
             ],
             [
              0.4444444444444444,
              "#bd3786"
             ],
             [
              0.5555555555555556,
              "#d8576b"
             ],
             [
              0.6666666666666666,
              "#ed7953"
             ],
             [
              0.7777777777777778,
              "#fb9f3a"
             ],
             [
              0.8888888888888888,
              "#fdca26"
             ],
             [
              1,
              "#f0f921"
             ]
            ],
            "type": "surface"
           }
          ],
          "table": [
           {
            "cells": {
             "fill": {
              "color": "#EBF0F8"
             },
             "line": {
              "color": "white"
             }
            },
            "header": {
             "fill": {
              "color": "#C8D4E3"
             },
             "line": {
              "color": "white"
             }
            },
            "type": "table"
           }
          ]
         },
         "layout": {
          "annotationdefaults": {
           "arrowcolor": "#2a3f5f",
           "arrowhead": 0,
           "arrowwidth": 1
          },
          "autotypenumbers": "strict",
          "coloraxis": {
           "colorbar": {
            "outlinewidth": 0,
            "ticks": ""
           }
          },
          "colorscale": {
           "diverging": [
            [
             0,
             "#8e0152"
            ],
            [
             0.1,
             "#c51b7d"
            ],
            [
             0.2,
             "#de77ae"
            ],
            [
             0.3,
             "#f1b6da"
            ],
            [
             0.4,
             "#fde0ef"
            ],
            [
             0.5,
             "#f7f7f7"
            ],
            [
             0.6,
             "#e6f5d0"
            ],
            [
             0.7,
             "#b8e186"
            ],
            [
             0.8,
             "#7fbc41"
            ],
            [
             0.9,
             "#4d9221"
            ],
            [
             1,
             "#276419"
            ]
           ],
           "sequential": [
            [
             0,
             "#0d0887"
            ],
            [
             0.1111111111111111,
             "#46039f"
            ],
            [
             0.2222222222222222,
             "#7201a8"
            ],
            [
             0.3333333333333333,
             "#9c179e"
            ],
            [
             0.4444444444444444,
             "#bd3786"
            ],
            [
             0.5555555555555556,
             "#d8576b"
            ],
            [
             0.6666666666666666,
             "#ed7953"
            ],
            [
             0.7777777777777778,
             "#fb9f3a"
            ],
            [
             0.8888888888888888,
             "#fdca26"
            ],
            [
             1,
             "#f0f921"
            ]
           ],
           "sequentialminus": [
            [
             0,
             "#0d0887"
            ],
            [
             0.1111111111111111,
             "#46039f"
            ],
            [
             0.2222222222222222,
             "#7201a8"
            ],
            [
             0.3333333333333333,
             "#9c179e"
            ],
            [
             0.4444444444444444,
             "#bd3786"
            ],
            [
             0.5555555555555556,
             "#d8576b"
            ],
            [
             0.6666666666666666,
             "#ed7953"
            ],
            [
             0.7777777777777778,
             "#fb9f3a"
            ],
            [
             0.8888888888888888,
             "#fdca26"
            ],
            [
             1,
             "#f0f921"
            ]
           ]
          },
          "colorway": [
           "#636efa",
           "#EF553B",
           "#00cc96",
           "#ab63fa",
           "#FFA15A",
           "#19d3f3",
           "#FF6692",
           "#B6E880",
           "#FF97FF",
           "#FECB52"
          ],
          "font": {
           "color": "#2a3f5f"
          },
          "geo": {
           "bgcolor": "white",
           "lakecolor": "white",
           "landcolor": "#E5ECF6",
           "showlakes": true,
           "showland": true,
           "subunitcolor": "white"
          },
          "hoverlabel": {
           "align": "left"
          },
          "hovermode": "closest",
          "mapbox": {
           "style": "light"
          },
          "paper_bgcolor": "white",
          "plot_bgcolor": "#E5ECF6",
          "polar": {
           "angularaxis": {
            "gridcolor": "white",
            "linecolor": "white",
            "ticks": ""
           },
           "bgcolor": "#E5ECF6",
           "radialaxis": {
            "gridcolor": "white",
            "linecolor": "white",
            "ticks": ""
           }
          },
          "scene": {
           "xaxis": {
            "backgroundcolor": "#E5ECF6",
            "gridcolor": "white",
            "gridwidth": 2,
            "linecolor": "white",
            "showbackground": true,
            "ticks": "",
            "zerolinecolor": "white"
           },
           "yaxis": {
            "backgroundcolor": "#E5ECF6",
            "gridcolor": "white",
            "gridwidth": 2,
            "linecolor": "white",
            "showbackground": true,
            "ticks": "",
            "zerolinecolor": "white"
           },
           "zaxis": {
            "backgroundcolor": "#E5ECF6",
            "gridcolor": "white",
            "gridwidth": 2,
            "linecolor": "white",
            "showbackground": true,
            "ticks": "",
            "zerolinecolor": "white"
           }
          },
          "shapedefaults": {
           "line": {
            "color": "#2a3f5f"
           }
          },
          "ternary": {
           "aaxis": {
            "gridcolor": "white",
            "linecolor": "white",
            "ticks": ""
           },
           "baxis": {
            "gridcolor": "white",
            "linecolor": "white",
            "ticks": ""
           },
           "bgcolor": "#E5ECF6",
           "caxis": {
            "gridcolor": "white",
            "linecolor": "white",
            "ticks": ""
           }
          },
          "title": {
           "x": 0.05
          },
          "xaxis": {
           "automargin": true,
           "gridcolor": "white",
           "linecolor": "white",
           "ticks": "",
           "title": {
            "standoff": 15
           },
           "zerolinecolor": "white",
           "zerolinewidth": 2
          },
          "yaxis": {
           "automargin": true,
           "gridcolor": "white",
           "linecolor": "white",
           "ticks": "",
           "title": {
            "standoff": 15
           },
           "zerolinecolor": "white",
           "zerolinewidth": 2
          }
         }
        },
        "xaxis": {
         "anchor": "y",
         "domain": [
          0,
          1
         ],
         "title": {
          "text": "date"
         }
        },
        "yaxis": {
         "anchor": "x",
         "domain": [
          0,
          1
         ],
         "title": {
          "text": "18-20 (count)"
         }
        }
       }
      },
      "text/html": [
       "<div>                            <div id=\"13aee62c-496c-492b-934d-95cf1b6ffcd0\" class=\"plotly-graph-div\" style=\"height:525px; width:100%;\"></div>            <script type=\"text/javascript\">                require([\"plotly\"], function(Plotly) {                    window.PLOTLYENV=window.PLOTLYENV || {};                                    if (document.getElementById(\"13aee62c-496c-492b-934d-95cf1b6ffcd0\")) {                    Plotly.newPlot(                        \"13aee62c-496c-492b-934d-95cf1b6ffcd0\",                        [{\"hovertemplate\":\"date=%{x}<br>18-20 (count)=%{y}<br>21-22 (payment)=%{text}<extra></extra>\",\"legendgroup\":\"\",\"line\":{\"color\":\"#636efa\",\"dash\":\"solid\"},\"marker\":{\"symbol\":\"circle\"},\"mode\":\"lines+markers+text\",\"name\":\"\",\"orientation\":\"v\",\"showlegend\":false,\"text\":[7980.0,12285.0,5380.0,5750.0,11080.0,9500.0,7885.0,0.0,7710.0,9020.0,11895.0,10870.0,5135.0,5415.0,4650.0,9700.0,12690.0,2980.0,2540.0,5615.0,4350.0,5690.0,12190.0,4080.0,16720.0,2300.0,17220.0,5360.0,10710.0,14680.0,2750.0,7270.0,15060.0,10170.0,3820.0,6810.0,5310.0,5700.0,6960.0,1910.0,5340.0,7970.0,5390.0,7470.0,900.0,3770.0,6390.0,9280.0,9730.0,320.0,2430.0,8215.0,5905.0,4380.0,0.0,1020.0,3410.0,2670.0,4470.0,630.0,1880.0,14090.0,0.0,10935.0,7345.0,8515.0,7865.0,18140.0,7285.0,16025.0,6690.0,4610.0,5670.0,7995.0,4670.0,3635.0,10240.0,13915.0,1735.0,3975.0,1640.0,5370.0,7560.0,16880.0,1950.0,10240.0,1225.0,4310.0,5660.0,5970.0,8380.0,5010.0,8630.0,8770.0,5370.0,7230.0,3980.0,16130.0,19640.0,5280.0,7220.0,2760.0,10980.0,7280.0,4640.0,14930.0,5430.0,7630.0,9560.0,11600.0,12550.0,5250.0,2710.0,16280.0,9610.0,14320.0,6320.0,2220.0,5470.0,8320.0,17770.0,13320.0,1750.0,4150.0,16660.0,15026.0,18960.0,3080.0,2900.0,8590.0,13570.0,760.0,10190.0,5790.0,14830.0,3100.0,2370.0,8240.0,6200.0,1430.0,19990.0,3790.0,6480.0,6570.0,8920.0,12670.0,11720.0,7610.0,10930.0,3690.0,15290.0,4110.0,8640.0,8380.0,23140.0,2260.0,4670.0,5170.0,19870.0,2300.0,4840.0,13530.0,6540.0,6480.0,0.0,6720.0,9110.0,4030.0,5360.0,8470.0,0.0,2670.0,6430.0,6810.0,8350.0,2090.0,21610.0,9020.0,7850.0,9670.0,29370.0,25270.0,17770.0,16850.0,2800.0,6960.0,5530.0,6830.0,15430.0,6710.0,20610.0,18230.0,7960.0,14780.0,15930.0,15460.0,15890.0,7600.0,4890.0,13110.0,13310.0,11770.0,6390.0,1020.0,21130.0],\"x\":[\"1400-08-02\",\"1400-08-04\",\"1400-08-03\",\"1400-08-05\",\"1400-08-06\",\"1400-08-07\",\"1400-08-08\",\"1400-08-05\",\"1400-08-09\",\"1400-08-10\",\"1400-08-11\",\"1400-08-12\",\"1400-08-13\",\"1400-08-14\",\"1400-08-15\",\"1400-08-16\",\"1400-08-17\",\"1400-08-18\",\"1400-08-19\",\"1400-08-20\",\"1400-08-21\",\"1400-08-24\",\"1400-08-22\",\"1400-08-23\",\"1400-08-25\",\"1400-08-26\",\"1400-08-27\",\"1400-08-28\",\"1400-08-29\",\"1400-08-30\",\"1400-09-01\",\"1400-09-02\",\"1400-09-03\",\"1400-09-04\",\"1400-09-05\",\"1400-09-06\",\"1400-09-07\",\"1400-09-08\",\"1400-09-09\",\"1400-09-10\",\"1400-09-11\",\"1400-09-12\",\"1400-09-13\",\"1400-09-14\",\"1400-09-15\",\"1400-09-16\",\"1400-09-17\",\"1400-09-18\",\"1400-09-19\",\"1400-09-20\",\"1400-09-21\",\"1400-09-22\",\"1400-09-23\",\"1400-09-24\",\"1400-09-25\",\"1400-09-26\",\"1400-09-27\",\"1400-09-28\",\"1400-09-29\",\"1400-09-30\",\"1400-10-01\",\"1400-10-02\",\"1400-10-04\",\"1400-10-03\",\"1400-10-04\",\"1400-10-05\",\"1400-10-06\",\"1400-10-07\",\"1400-10-08\",\"1400-10-10\",\"1400-10-09\",\"1400-10-11\",\"1400-10-12\",\"1400-10-13\",\"1400-10-14\",\"1400-10-16\",\"1400-10-15\",\"1400-10-17\",\"1400-10-19\",\"1400-10-18\",\"1400-10-20\",\"1400-10-21\",\"1400-10-22\",\"1400-10-23\",\"1400-10-24\",\"1400-10-25\",\"1400-11-02\",\"1400-11-03\",\"1400-11-04\",\"1400-11-05\",\"1400-11-06\",\"1400-11-07\",\"1400-11-08\",\"1400-11-10\",\"1400-11-09\",\"1400-11-11\",\"1400-11-12\",\"1400-11-13\",\"1400-11-14\",\"1400-11-15\",\"1400-11-16\",\"1400-11-17\",\"1400-11-18\",\"1400-11-21\",\"1400-11-19\",\"1400-11-20\",\"1400-11-22\",\"1400-11-23\",\"1400-11-24\",\"1400-11-25\",\"1400-11-26\",\"1400-11-27\",\"1400-12-01\",\"1400-11-28\",\"1400-11-29\",\"1400-11-30\",\"1400-12-02\",\"1400-12-03\",\"1400-12-04\",\"1400-12-05\",\"1400-12-06\",\"1400-12-07\",\"1400-12-09\",\"1400-12-08\",\"1400-12-10\",\"1400-12-11\",\"1400-12-12\",\"1400-12-13\",\"1400-12-15\",\"1400-12-14\",\"1400-12-16\",\"1400-12-17\",\"1400-12-18\",\"1400-12-19\",\"1400-12-20\",\"1400-12-21\",\"1400-12-22\",\"1400-12-23\",\"1400-12-24\",\"1400-12-25\",\"1400-12-26\",\"1400-12-27\",\"1400-12-28\",\"1401-01-02\",\"1401-01-03\",\"1401-01-04\",\"1401-01-05\",\"1401-01-06\",\"1401-01-07\",\"1401-01-08\",\"1401-01-09\",\"1401-01-10\",\"1401-01-11\",\"1401-01-12\",\"1401-01-13\",\"1401-01-14\",\"1401-01-15\",\"1401-01-16\",\"1401-01-17\",\"1401-01-18\",\"1401-01-19\",\"1401-01-20\",\"1401-01-21\",\"1401-01-22\",\"1401-01-21\",\"1401-01-23\",\"1401-01-24\",\"1401-01-25\",\"1401-01-26\",\"1401-01-27\",\"1401-01-28\",\"1401-01-29\",\"1401-01-30\",\"1401-02-06\",\"1401-02-07\",\"1401-02-08\",\"1401-02-09\",\"1401-02-10\",\"1401-02-11\",\"1401-02-12\",\"1401-02-13\",\"1401-02-14\",\"1401-02-15\",\"1401-02-16\",\"1401-02-17\",\"1401-02-18\",\"1401-02-19\",\"1401-02-20\",\"1401-02-21\",\"1401-02-22\",\"1401-02-23\",\"1401-02-24\",\"1401-02-25\",\"1401-02-26\",\"1401-02-27\",\"1401-02-28\",\"1401-02-29\",\"1401-02-30\",\"1401-02-31\",\"1401-03-01\",\"1401-03-02\",\"1401-03-03\",\"1401-03-04\",\"1401-03-05\",\"1401-03-06\"],\"xaxis\":\"x\",\"y\":[16,16,2,0,7,5,18,0,4,9,15,11,12,6,22,8,8,11,6,12,14,29,17,13,9,9,10,18,13,14,5,8,2,11,26,9,4,5,19,2,15,21,6,5,2,17,1,6,4,8,3,10,0,8,15,2,2,0,7,6,7,17,0,13,6,8,5,8,8,23,13,9,8,6,10,10,2,8,7,9,7,6,7,5,8,2,0,7,3,4,11,11,10,6,8,24,5,12,11,17,8,11,13,4,5,0,13,0,3,4,15,0,5,13,10,17,7,8,4,9,6,5,4,2,16,7,11,10,2,13,2,14,3,0,4,22,7,0,8,8,3,2,8,12,17,3,4,10,24,27,11,17,17,8,6,0,0,0,0,0,0,0,0,0,0,0,0,0,0,0,0,0,0,0,0,0,0,0,0,0,17,24,16,13,4,8,2,1,2,2,5,0,7,2,16,0,1,8,3,1,5,3,1,0,0],\"yaxis\":\"y\",\"type\":\"scatter\"}],                        {\"template\":{\"data\":{\"histogram2dcontour\":[{\"type\":\"histogram2dcontour\",\"colorbar\":{\"outlinewidth\":0,\"ticks\":\"\"},\"colorscale\":[[0.0,\"#0d0887\"],[0.1111111111111111,\"#46039f\"],[0.2222222222222222,\"#7201a8\"],[0.3333333333333333,\"#9c179e\"],[0.4444444444444444,\"#bd3786\"],[0.5555555555555556,\"#d8576b\"],[0.6666666666666666,\"#ed7953\"],[0.7777777777777778,\"#fb9f3a\"],[0.8888888888888888,\"#fdca26\"],[1.0,\"#f0f921\"]]}],\"choropleth\":[{\"type\":\"choropleth\",\"colorbar\":{\"outlinewidth\":0,\"ticks\":\"\"}}],\"histogram2d\":[{\"type\":\"histogram2d\",\"colorbar\":{\"outlinewidth\":0,\"ticks\":\"\"},\"colorscale\":[[0.0,\"#0d0887\"],[0.1111111111111111,\"#46039f\"],[0.2222222222222222,\"#7201a8\"],[0.3333333333333333,\"#9c179e\"],[0.4444444444444444,\"#bd3786\"],[0.5555555555555556,\"#d8576b\"],[0.6666666666666666,\"#ed7953\"],[0.7777777777777778,\"#fb9f3a\"],[0.8888888888888888,\"#fdca26\"],[1.0,\"#f0f921\"]]}],\"heatmap\":[{\"type\":\"heatmap\",\"colorbar\":{\"outlinewidth\":0,\"ticks\":\"\"},\"colorscale\":[[0.0,\"#0d0887\"],[0.1111111111111111,\"#46039f\"],[0.2222222222222222,\"#7201a8\"],[0.3333333333333333,\"#9c179e\"],[0.4444444444444444,\"#bd3786\"],[0.5555555555555556,\"#d8576b\"],[0.6666666666666666,\"#ed7953\"],[0.7777777777777778,\"#fb9f3a\"],[0.8888888888888888,\"#fdca26\"],[1.0,\"#f0f921\"]]}],\"heatmapgl\":[{\"type\":\"heatmapgl\",\"colorbar\":{\"outlinewidth\":0,\"ticks\":\"\"},\"colorscale\":[[0.0,\"#0d0887\"],[0.1111111111111111,\"#46039f\"],[0.2222222222222222,\"#7201a8\"],[0.3333333333333333,\"#9c179e\"],[0.4444444444444444,\"#bd3786\"],[0.5555555555555556,\"#d8576b\"],[0.6666666666666666,\"#ed7953\"],[0.7777777777777778,\"#fb9f3a\"],[0.8888888888888888,\"#fdca26\"],[1.0,\"#f0f921\"]]}],\"contourcarpet\":[{\"type\":\"contourcarpet\",\"colorbar\":{\"outlinewidth\":0,\"ticks\":\"\"}}],\"contour\":[{\"type\":\"contour\",\"colorbar\":{\"outlinewidth\":0,\"ticks\":\"\"},\"colorscale\":[[0.0,\"#0d0887\"],[0.1111111111111111,\"#46039f\"],[0.2222222222222222,\"#7201a8\"],[0.3333333333333333,\"#9c179e\"],[0.4444444444444444,\"#bd3786\"],[0.5555555555555556,\"#d8576b\"],[0.6666666666666666,\"#ed7953\"],[0.7777777777777778,\"#fb9f3a\"],[0.8888888888888888,\"#fdca26\"],[1.0,\"#f0f921\"]]}],\"surface\":[{\"type\":\"surface\",\"colorbar\":{\"outlinewidth\":0,\"ticks\":\"\"},\"colorscale\":[[0.0,\"#0d0887\"],[0.1111111111111111,\"#46039f\"],[0.2222222222222222,\"#7201a8\"],[0.3333333333333333,\"#9c179e\"],[0.4444444444444444,\"#bd3786\"],[0.5555555555555556,\"#d8576b\"],[0.6666666666666666,\"#ed7953\"],[0.7777777777777778,\"#fb9f3a\"],[0.8888888888888888,\"#fdca26\"],[1.0,\"#f0f921\"]]}],\"mesh3d\":[{\"type\":\"mesh3d\",\"colorbar\":{\"outlinewidth\":0,\"ticks\":\"\"}}],\"scatter\":[{\"fillpattern\":{\"fillmode\":\"overlay\",\"size\":10,\"solidity\":0.2},\"type\":\"scatter\"}],\"parcoords\":[{\"type\":\"parcoords\",\"line\":{\"colorbar\":{\"outlinewidth\":0,\"ticks\":\"\"}}}],\"scatterpolargl\":[{\"type\":\"scatterpolargl\",\"marker\":{\"colorbar\":{\"outlinewidth\":0,\"ticks\":\"\"}}}],\"bar\":[{\"error_x\":{\"color\":\"#2a3f5f\"},\"error_y\":{\"color\":\"#2a3f5f\"},\"marker\":{\"line\":{\"color\":\"#E5ECF6\",\"width\":0.5},\"pattern\":{\"fillmode\":\"overlay\",\"size\":10,\"solidity\":0.2}},\"type\":\"bar\"}],\"scattergeo\":[{\"type\":\"scattergeo\",\"marker\":{\"colorbar\":{\"outlinewidth\":0,\"ticks\":\"\"}}}],\"scatterpolar\":[{\"type\":\"scatterpolar\",\"marker\":{\"colorbar\":{\"outlinewidth\":0,\"ticks\":\"\"}}}],\"histogram\":[{\"marker\":{\"pattern\":{\"fillmode\":\"overlay\",\"size\":10,\"solidity\":0.2}},\"type\":\"histogram\"}],\"scattergl\":[{\"type\":\"scattergl\",\"marker\":{\"colorbar\":{\"outlinewidth\":0,\"ticks\":\"\"}}}],\"scatter3d\":[{\"type\":\"scatter3d\",\"line\":{\"colorbar\":{\"outlinewidth\":0,\"ticks\":\"\"}},\"marker\":{\"colorbar\":{\"outlinewidth\":0,\"ticks\":\"\"}}}],\"scattermapbox\":[{\"type\":\"scattermapbox\",\"marker\":{\"colorbar\":{\"outlinewidth\":0,\"ticks\":\"\"}}}],\"scatterternary\":[{\"type\":\"scatterternary\",\"marker\":{\"colorbar\":{\"outlinewidth\":0,\"ticks\":\"\"}}}],\"scattercarpet\":[{\"type\":\"scattercarpet\",\"marker\":{\"colorbar\":{\"outlinewidth\":0,\"ticks\":\"\"}}}],\"carpet\":[{\"aaxis\":{\"endlinecolor\":\"#2a3f5f\",\"gridcolor\":\"white\",\"linecolor\":\"white\",\"minorgridcolor\":\"white\",\"startlinecolor\":\"#2a3f5f\"},\"baxis\":{\"endlinecolor\":\"#2a3f5f\",\"gridcolor\":\"white\",\"linecolor\":\"white\",\"minorgridcolor\":\"white\",\"startlinecolor\":\"#2a3f5f\"},\"type\":\"carpet\"}],\"table\":[{\"cells\":{\"fill\":{\"color\":\"#EBF0F8\"},\"line\":{\"color\":\"white\"}},\"header\":{\"fill\":{\"color\":\"#C8D4E3\"},\"line\":{\"color\":\"white\"}},\"type\":\"table\"}],\"barpolar\":[{\"marker\":{\"line\":{\"color\":\"#E5ECF6\",\"width\":0.5},\"pattern\":{\"fillmode\":\"overlay\",\"size\":10,\"solidity\":0.2}},\"type\":\"barpolar\"}],\"pie\":[{\"automargin\":true,\"type\":\"pie\"}]},\"layout\":{\"autotypenumbers\":\"strict\",\"colorway\":[\"#636efa\",\"#EF553B\",\"#00cc96\",\"#ab63fa\",\"#FFA15A\",\"#19d3f3\",\"#FF6692\",\"#B6E880\",\"#FF97FF\",\"#FECB52\"],\"font\":{\"color\":\"#2a3f5f\"},\"hovermode\":\"closest\",\"hoverlabel\":{\"align\":\"left\"},\"paper_bgcolor\":\"white\",\"plot_bgcolor\":\"#E5ECF6\",\"polar\":{\"bgcolor\":\"#E5ECF6\",\"angularaxis\":{\"gridcolor\":\"white\",\"linecolor\":\"white\",\"ticks\":\"\"},\"radialaxis\":{\"gridcolor\":\"white\",\"linecolor\":\"white\",\"ticks\":\"\"}},\"ternary\":{\"bgcolor\":\"#E5ECF6\",\"aaxis\":{\"gridcolor\":\"white\",\"linecolor\":\"white\",\"ticks\":\"\"},\"baxis\":{\"gridcolor\":\"white\",\"linecolor\":\"white\",\"ticks\":\"\"},\"caxis\":{\"gridcolor\":\"white\",\"linecolor\":\"white\",\"ticks\":\"\"}},\"coloraxis\":{\"colorbar\":{\"outlinewidth\":0,\"ticks\":\"\"}},\"colorscale\":{\"sequential\":[[0.0,\"#0d0887\"],[0.1111111111111111,\"#46039f\"],[0.2222222222222222,\"#7201a8\"],[0.3333333333333333,\"#9c179e\"],[0.4444444444444444,\"#bd3786\"],[0.5555555555555556,\"#d8576b\"],[0.6666666666666666,\"#ed7953\"],[0.7777777777777778,\"#fb9f3a\"],[0.8888888888888888,\"#fdca26\"],[1.0,\"#f0f921\"]],\"sequentialminus\":[[0.0,\"#0d0887\"],[0.1111111111111111,\"#46039f\"],[0.2222222222222222,\"#7201a8\"],[0.3333333333333333,\"#9c179e\"],[0.4444444444444444,\"#bd3786\"],[0.5555555555555556,\"#d8576b\"],[0.6666666666666666,\"#ed7953\"],[0.7777777777777778,\"#fb9f3a\"],[0.8888888888888888,\"#fdca26\"],[1.0,\"#f0f921\"]],\"diverging\":[[0,\"#8e0152\"],[0.1,\"#c51b7d\"],[0.2,\"#de77ae\"],[0.3,\"#f1b6da\"],[0.4,\"#fde0ef\"],[0.5,\"#f7f7f7\"],[0.6,\"#e6f5d0\"],[0.7,\"#b8e186\"],[0.8,\"#7fbc41\"],[0.9,\"#4d9221\"],[1,\"#276419\"]]},\"xaxis\":{\"gridcolor\":\"white\",\"linecolor\":\"white\",\"ticks\":\"\",\"title\":{\"standoff\":15},\"zerolinecolor\":\"white\",\"automargin\":true,\"zerolinewidth\":2},\"yaxis\":{\"gridcolor\":\"white\",\"linecolor\":\"white\",\"ticks\":\"\",\"title\":{\"standoff\":15},\"zerolinecolor\":\"white\",\"automargin\":true,\"zerolinewidth\":2},\"scene\":{\"xaxis\":{\"backgroundcolor\":\"#E5ECF6\",\"gridcolor\":\"white\",\"linecolor\":\"white\",\"showbackground\":true,\"ticks\":\"\",\"zerolinecolor\":\"white\",\"gridwidth\":2},\"yaxis\":{\"backgroundcolor\":\"#E5ECF6\",\"gridcolor\":\"white\",\"linecolor\":\"white\",\"showbackground\":true,\"ticks\":\"\",\"zerolinecolor\":\"white\",\"gridwidth\":2},\"zaxis\":{\"backgroundcolor\":\"#E5ECF6\",\"gridcolor\":\"white\",\"linecolor\":\"white\",\"showbackground\":true,\"ticks\":\"\",\"zerolinecolor\":\"white\",\"gridwidth\":2}},\"shapedefaults\":{\"line\":{\"color\":\"#2a3f5f\"}},\"annotationdefaults\":{\"arrowcolor\":\"#2a3f5f\",\"arrowhead\":0,\"arrowwidth\":1},\"geo\":{\"bgcolor\":\"white\",\"landcolor\":\"#E5ECF6\",\"subunitcolor\":\"white\",\"showland\":true,\"showlakes\":true,\"lakecolor\":\"white\"},\"title\":{\"x\":0.05},\"mapbox\":{\"style\":\"light\"}}},\"xaxis\":{\"anchor\":\"y\",\"domain\":[0.0,1.0],\"title\":{\"text\":\"date\"}},\"yaxis\":{\"anchor\":\"x\",\"domain\":[0.0,1.0],\"title\":{\"text\":\"18-20 (count)\"}},\"legend\":{\"tracegroupgap\":0},\"margin\":{\"t\":60}},                        {\"responsive\": true}                    ).then(function(){\n",
       "                            \n",
       "var gd = document.getElementById('13aee62c-496c-492b-934d-95cf1b6ffcd0');\n",
       "var x = new MutationObserver(function (mutations, observer) {{\n",
       "        var display = window.getComputedStyle(gd).display;\n",
       "        if (!display || display === 'none') {{\n",
       "            console.log([gd, 'removed!']);\n",
       "            Plotly.purge(gd);\n",
       "            observer.disconnect();\n",
       "        }}\n",
       "}});\n",
       "\n",
       "// Listen for the removal of the full notebook cells\n",
       "var notebookContainer = gd.closest('#notebook-container');\n",
       "if (notebookContainer) {{\n",
       "    x.observe(notebookContainer, {childList: true});\n",
       "}}\n",
       "\n",
       "// Listen for the clearing of the current output cell\n",
       "var outputEl = gd.closest('.output');\n",
       "if (outputEl) {{\n",
       "    x.observe(outputEl, {childList: true});\n",
       "}}\n",
       "\n",
       "                        })                };                });            </script>        </div>"
      ]
     },
     "metadata": {},
     "output_type": "display_data"
    },
    {
     "data": {
      "application/vnd.plotly.v1+json": {
       "config": {
        "plotlyServerURL": "https://plot.ly"
       },
       "data": [
        {
         "hovertemplate": "date=%{x}<br>factorNumber=%{y}<br>sumPayment=%{text}<extra></extra>",
         "legendgroup": "",
         "line": {
          "color": "#636efa",
          "dash": "solid"
         },
         "marker": {
          "symbol": "circle"
         },
         "mode": "lines+markers+text",
         "name": "",
         "orientation": "v",
         "showlegend": false,
         "text": [
          33415,
          36590,
          18935,
          22230,
          39345,
          30725,
          24235,
          4710,
          29140,
          21525,
          38875,
          28350,
          29195,
          33490,
          18925,
          26675,
          37410,
          21840,
          20995,
          38880,
          29180,
          32510,
          29300,
          39655,
          35950,
          25955,
          55115,
          40350,
          27910,
          36030,
          22530,
          17400,
          30240,
          31450,
          52560,
          25820,
          27160,
          25790,
          23080,
          26740,
          38340,
          37950,
          19290,
          20150,
          8960,
          20160,
          25690,
          34600,
          25330,
          17270,
          8810,
          26940,
          21530,
          25975,
          35985,
          11370,
          15970,
          13960,
          17695,
          6540,
          14175,
          37705,
          840,
          26695,
          45615,
          25520,
          21645,
          28985,
          25320,
          41100,
          35965,
          25845,
          17755,
          23665,
          34600,
          42055,
          23015,
          31565,
          17680,
          23055,
          14020,
          20580,
          29170,
          36270,
          35500,
          26500,
          19780,
          22630,
          17080,
          19800,
          26510,
          38830,
          27040,
          22580,
          16530,
          29600,
          24970,
          40770,
          50610,
          34960,
          30510,
          20290,
          24040,
          38050,
          30370,
          38580,
          31250,
          23980,
          28470,
          47700,
          46360,
          20600,
          17510,
          56090,
          35340,
          54230,
          23860,
          18270,
          38850,
          51490,
          45690,
          42200,
          20910,
          29320,
          52800,
          51466,
          49810,
          40970,
          15850,
          28740,
          27000,
          34230,
          28470,
          32990,
          44940,
          41600,
          40930,
          41460,
          19890,
          23500,
          37580,
          33150,
          34440,
          53120,
          34820,
          52810,
          44060,
          49930,
          55900,
          54930,
          54730,
          53480,
          59640,
          65230,
          49270,
          22250,
          18410,
          23660,
          37640,
          27150,
          39670,
          43600,
          30760,
          21370,
          1540,
          25150,
          32740,
          34880,
          25150,
          31040,
          15870,
          42930,
          30150,
          33420,
          30920,
          38140,
          42720,
          32030,
          51920,
          62650,
          85770,
          75400,
          92550,
          67100,
          45010,
          49650,
          46290,
          46520,
          43930,
          75300,
          62140,
          48810,
          38180,
          45960,
          58460,
          58230,
          79520,
          53680,
          58980,
          34270,
          51210,
          68720,
          50380,
          81210,
          58340
         ],
         "type": "scatter",
         "x": [
          "1400-08-02",
          "1400-08-04",
          "1400-08-03",
          "1400-08-05",
          "1400-08-06",
          "1400-08-07",
          "1400-08-08",
          "1400-08-05",
          "1400-08-09",
          "1400-08-10",
          "1400-08-11",
          "1400-08-12",
          "1400-08-13",
          "1400-08-14",
          "1400-08-15",
          "1400-08-16",
          "1400-08-17",
          "1400-08-18",
          "1400-08-19",
          "1400-08-20",
          "1400-08-21",
          "1400-08-24",
          "1400-08-22",
          "1400-08-23",
          "1400-08-25",
          "1400-08-26",
          "1400-08-27",
          "1400-08-28",
          "1400-08-29",
          "1400-08-30",
          "1400-09-01",
          "1400-09-02",
          "1400-09-03",
          "1400-09-04",
          "1400-09-05",
          "1400-09-06",
          "1400-09-07",
          "1400-09-08",
          "1400-09-09",
          "1400-09-10",
          "1400-09-11",
          "1400-09-12",
          "1400-09-13",
          "1400-09-14",
          "1400-09-15",
          "1400-09-16",
          "1400-09-17",
          "1400-09-18",
          "1400-09-19",
          "1400-09-20",
          "1400-09-21",
          "1400-09-22",
          "1400-09-23",
          "1400-09-24",
          "1400-09-25",
          "1400-09-26",
          "1400-09-27",
          "1400-09-28",
          "1400-09-29",
          "1400-09-30",
          "1400-10-01",
          "1400-10-02",
          "1400-10-04",
          "1400-10-03",
          "1400-10-04",
          "1400-10-05",
          "1400-10-06",
          "1400-10-07",
          "1400-10-08",
          "1400-10-10",
          "1400-10-09",
          "1400-10-11",
          "1400-10-12",
          "1400-10-13",
          "1400-10-14",
          "1400-10-16",
          "1400-10-15",
          "1400-10-17",
          "1400-10-19",
          "1400-10-18",
          "1400-10-20",
          "1400-10-21",
          "1400-10-22",
          "1400-10-23",
          "1400-10-24",
          "1400-10-25",
          "1400-11-02",
          "1400-11-03",
          "1400-11-04",
          "1400-11-05",
          "1400-11-06",
          "1400-11-07",
          "1400-11-08",
          "1400-11-10",
          "1400-11-09",
          "1400-11-11",
          "1400-11-12",
          "1400-11-13",
          "1400-11-14",
          "1400-11-15",
          "1400-11-16",
          "1400-11-17",
          "1400-11-18",
          "1400-11-21",
          "1400-11-19",
          "1400-11-20",
          "1400-11-22",
          "1400-11-23",
          "1400-11-24",
          "1400-11-25",
          "1400-11-26",
          "1400-11-27",
          "1400-12-01",
          "1400-11-28",
          "1400-11-29",
          "1400-11-30",
          "1400-12-02",
          "1400-12-03",
          "1400-12-04",
          "1400-12-05",
          "1400-12-06",
          "1400-12-07",
          "1400-12-09",
          "1400-12-08",
          "1400-12-10",
          "1400-12-11",
          "1400-12-12",
          "1400-12-13",
          "1400-12-15",
          "1400-12-14",
          "1400-12-16",
          "1400-12-17",
          "1400-12-18",
          "1400-12-19",
          "1400-12-20",
          "1400-12-21",
          "1400-12-22",
          "1400-12-23",
          "1400-12-24",
          "1400-12-25",
          "1400-12-26",
          "1400-12-27",
          "1400-12-28",
          "1401-01-02",
          "1401-01-03",
          "1401-01-04",
          "1401-01-05",
          "1401-01-06",
          "1401-01-07",
          "1401-01-08",
          "1401-01-09",
          "1401-01-10",
          "1401-01-11",
          "1401-01-12",
          "1401-01-13",
          "1401-01-14",
          "1401-01-15",
          "1401-01-16",
          "1401-01-17",
          "1401-01-18",
          "1401-01-19",
          "1401-01-20",
          "1401-01-21",
          "1401-01-22",
          "1401-01-21",
          "1401-01-23",
          "1401-01-24",
          "1401-01-25",
          "1401-01-26",
          "1401-01-27",
          "1401-01-28",
          "1401-01-29",
          "1401-01-30",
          "1401-02-06",
          "1401-02-07",
          "1401-02-08",
          "1401-02-09",
          "1401-02-10",
          "1401-02-11",
          "1401-02-12",
          "1401-02-13",
          "1401-02-14",
          "1401-02-15",
          "1401-02-16",
          "1401-02-17",
          "1401-02-18",
          "1401-02-19",
          "1401-02-20",
          "1401-02-21",
          "1401-02-22",
          "1401-02-23",
          "1401-02-24",
          "1401-02-25",
          "1401-02-26",
          "1401-02-27",
          "1401-02-28",
          "1401-02-29",
          "1401-02-30",
          "1401-02-31",
          "1401-03-01",
          "1401-03-02",
          "1401-03-03",
          "1401-03-04",
          "1401-03-05",
          "1401-03-06"
         ],
         "xaxis": "x",
         "y": [
          69,
          61,
          38,
          42,
          68,
          54,
          51,
          9,
          50,
          45,
          67,
          60,
          55,
          54,
          44,
          47,
          61,
          37,
          38,
          66,
          57,
          61,
          51,
          61,
          49,
          40,
          76,
          82,
          41,
          53,
          39,
          31,
          38,
          54,
          67,
          51,
          43,
          41,
          43,
          36,
          63,
          68,
          35,
          38,
          18,
          44,
          37,
          49,
          47,
          34,
          14,
          43,
          35,
          40,
          63,
          25,
          33,
          23,
          33,
          13,
          27,
          65,
          3,
          42,
          68,
          35,
          39,
          50,
          46,
          70,
          67,
          42,
          29,
          38,
          62,
          76,
          34,
          46,
          29,
          42,
          23,
          27,
          49,
          59,
          59,
          46,
          25,
          45,
          26,
          24,
          44,
          65,
          44,
          41,
          27,
          61,
          32,
          71,
          88,
          63,
          54,
          31,
          37,
          63,
          46,
          49,
          53,
          38,
          50,
          69,
          79,
          31,
          30,
          77,
          60,
          74,
          37,
          40,
          51,
          82,
          66,
          55,
          30,
          44,
          84,
          60,
          67,
          52,
          28,
          47,
          45,
          49,
          44,
          60,
          77,
          77,
          66,
          48,
          39,
          48,
          48,
          41,
          50,
          94,
          64,
          92,
          63,
          78,
          97,
          90,
          100,
          98,
          86,
          114,
          82,
          47,
          36,
          55,
          70,
          49,
          62,
          79,
          48,
          38,
          3,
          48,
          71,
          65,
          61,
          53,
          31,
          78,
          51,
          60,
          64,
          62,
          79,
          44,
          82,
          94,
          107,
          102,
          148,
          88,
          75,
          79,
          62,
          70,
          69,
          135,
          99,
          72,
          62,
          60,
          86,
          96,
          121,
          85,
          77,
          50,
          64,
          83,
          74,
          95,
          84
         ],
         "yaxis": "y"
        }
       ],
       "layout": {
        "legend": {
         "tracegroupgap": 0
        },
        "margin": {
         "t": 60
        },
        "template": {
         "data": {
          "bar": [
           {
            "error_x": {
             "color": "#2a3f5f"
            },
            "error_y": {
             "color": "#2a3f5f"
            },
            "marker": {
             "line": {
              "color": "#E5ECF6",
              "width": 0.5
             },
             "pattern": {
              "fillmode": "overlay",
              "size": 10,
              "solidity": 0.2
             }
            },
            "type": "bar"
           }
          ],
          "barpolar": [
           {
            "marker": {
             "line": {
              "color": "#E5ECF6",
              "width": 0.5
             },
             "pattern": {
              "fillmode": "overlay",
              "size": 10,
              "solidity": 0.2
             }
            },
            "type": "barpolar"
           }
          ],
          "carpet": [
           {
            "aaxis": {
             "endlinecolor": "#2a3f5f",
             "gridcolor": "white",
             "linecolor": "white",
             "minorgridcolor": "white",
             "startlinecolor": "#2a3f5f"
            },
            "baxis": {
             "endlinecolor": "#2a3f5f",
             "gridcolor": "white",
             "linecolor": "white",
             "minorgridcolor": "white",
             "startlinecolor": "#2a3f5f"
            },
            "type": "carpet"
           }
          ],
          "choropleth": [
           {
            "colorbar": {
             "outlinewidth": 0,
             "ticks": ""
            },
            "type": "choropleth"
           }
          ],
          "contour": [
           {
            "colorbar": {
             "outlinewidth": 0,
             "ticks": ""
            },
            "colorscale": [
             [
              0,
              "#0d0887"
             ],
             [
              0.1111111111111111,
              "#46039f"
             ],
             [
              0.2222222222222222,
              "#7201a8"
             ],
             [
              0.3333333333333333,
              "#9c179e"
             ],
             [
              0.4444444444444444,
              "#bd3786"
             ],
             [
              0.5555555555555556,
              "#d8576b"
             ],
             [
              0.6666666666666666,
              "#ed7953"
             ],
             [
              0.7777777777777778,
              "#fb9f3a"
             ],
             [
              0.8888888888888888,
              "#fdca26"
             ],
             [
              1,
              "#f0f921"
             ]
            ],
            "type": "contour"
           }
          ],
          "contourcarpet": [
           {
            "colorbar": {
             "outlinewidth": 0,
             "ticks": ""
            },
            "type": "contourcarpet"
           }
          ],
          "heatmap": [
           {
            "colorbar": {
             "outlinewidth": 0,
             "ticks": ""
            },
            "colorscale": [
             [
              0,
              "#0d0887"
             ],
             [
              0.1111111111111111,
              "#46039f"
             ],
             [
              0.2222222222222222,
              "#7201a8"
             ],
             [
              0.3333333333333333,
              "#9c179e"
             ],
             [
              0.4444444444444444,
              "#bd3786"
             ],
             [
              0.5555555555555556,
              "#d8576b"
             ],
             [
              0.6666666666666666,
              "#ed7953"
             ],
             [
              0.7777777777777778,
              "#fb9f3a"
             ],
             [
              0.8888888888888888,
              "#fdca26"
             ],
             [
              1,
              "#f0f921"
             ]
            ],
            "type": "heatmap"
           }
          ],
          "heatmapgl": [
           {
            "colorbar": {
             "outlinewidth": 0,
             "ticks": ""
            },
            "colorscale": [
             [
              0,
              "#0d0887"
             ],
             [
              0.1111111111111111,
              "#46039f"
             ],
             [
              0.2222222222222222,
              "#7201a8"
             ],
             [
              0.3333333333333333,
              "#9c179e"
             ],
             [
              0.4444444444444444,
              "#bd3786"
             ],
             [
              0.5555555555555556,
              "#d8576b"
             ],
             [
              0.6666666666666666,
              "#ed7953"
             ],
             [
              0.7777777777777778,
              "#fb9f3a"
             ],
             [
              0.8888888888888888,
              "#fdca26"
             ],
             [
              1,
              "#f0f921"
             ]
            ],
            "type": "heatmapgl"
           }
          ],
          "histogram": [
           {
            "marker": {
             "pattern": {
              "fillmode": "overlay",
              "size": 10,
              "solidity": 0.2
             }
            },
            "type": "histogram"
           }
          ],
          "histogram2d": [
           {
            "colorbar": {
             "outlinewidth": 0,
             "ticks": ""
            },
            "colorscale": [
             [
              0,
              "#0d0887"
             ],
             [
              0.1111111111111111,
              "#46039f"
             ],
             [
              0.2222222222222222,
              "#7201a8"
             ],
             [
              0.3333333333333333,
              "#9c179e"
             ],
             [
              0.4444444444444444,
              "#bd3786"
             ],
             [
              0.5555555555555556,
              "#d8576b"
             ],
             [
              0.6666666666666666,
              "#ed7953"
             ],
             [
              0.7777777777777778,
              "#fb9f3a"
             ],
             [
              0.8888888888888888,
              "#fdca26"
             ],
             [
              1,
              "#f0f921"
             ]
            ],
            "type": "histogram2d"
           }
          ],
          "histogram2dcontour": [
           {
            "colorbar": {
             "outlinewidth": 0,
             "ticks": ""
            },
            "colorscale": [
             [
              0,
              "#0d0887"
             ],
             [
              0.1111111111111111,
              "#46039f"
             ],
             [
              0.2222222222222222,
              "#7201a8"
             ],
             [
              0.3333333333333333,
              "#9c179e"
             ],
             [
              0.4444444444444444,
              "#bd3786"
             ],
             [
              0.5555555555555556,
              "#d8576b"
             ],
             [
              0.6666666666666666,
              "#ed7953"
             ],
             [
              0.7777777777777778,
              "#fb9f3a"
             ],
             [
              0.8888888888888888,
              "#fdca26"
             ],
             [
              1,
              "#f0f921"
             ]
            ],
            "type": "histogram2dcontour"
           }
          ],
          "mesh3d": [
           {
            "colorbar": {
             "outlinewidth": 0,
             "ticks": ""
            },
            "type": "mesh3d"
           }
          ],
          "parcoords": [
           {
            "line": {
             "colorbar": {
              "outlinewidth": 0,
              "ticks": ""
             }
            },
            "type": "parcoords"
           }
          ],
          "pie": [
           {
            "automargin": true,
            "type": "pie"
           }
          ],
          "scatter": [
           {
            "fillpattern": {
             "fillmode": "overlay",
             "size": 10,
             "solidity": 0.2
            },
            "type": "scatter"
           }
          ],
          "scatter3d": [
           {
            "line": {
             "colorbar": {
              "outlinewidth": 0,
              "ticks": ""
             }
            },
            "marker": {
             "colorbar": {
              "outlinewidth": 0,
              "ticks": ""
             }
            },
            "type": "scatter3d"
           }
          ],
          "scattercarpet": [
           {
            "marker": {
             "colorbar": {
              "outlinewidth": 0,
              "ticks": ""
             }
            },
            "type": "scattercarpet"
           }
          ],
          "scattergeo": [
           {
            "marker": {
             "colorbar": {
              "outlinewidth": 0,
              "ticks": ""
             }
            },
            "type": "scattergeo"
           }
          ],
          "scattergl": [
           {
            "marker": {
             "colorbar": {
              "outlinewidth": 0,
              "ticks": ""
             }
            },
            "type": "scattergl"
           }
          ],
          "scattermapbox": [
           {
            "marker": {
             "colorbar": {
              "outlinewidth": 0,
              "ticks": ""
             }
            },
            "type": "scattermapbox"
           }
          ],
          "scatterpolar": [
           {
            "marker": {
             "colorbar": {
              "outlinewidth": 0,
              "ticks": ""
             }
            },
            "type": "scatterpolar"
           }
          ],
          "scatterpolargl": [
           {
            "marker": {
             "colorbar": {
              "outlinewidth": 0,
              "ticks": ""
             }
            },
            "type": "scatterpolargl"
           }
          ],
          "scatterternary": [
           {
            "marker": {
             "colorbar": {
              "outlinewidth": 0,
              "ticks": ""
             }
            },
            "type": "scatterternary"
           }
          ],
          "surface": [
           {
            "colorbar": {
             "outlinewidth": 0,
             "ticks": ""
            },
            "colorscale": [
             [
              0,
              "#0d0887"
             ],
             [
              0.1111111111111111,
              "#46039f"
             ],
             [
              0.2222222222222222,
              "#7201a8"
             ],
             [
              0.3333333333333333,
              "#9c179e"
             ],
             [
              0.4444444444444444,
              "#bd3786"
             ],
             [
              0.5555555555555556,
              "#d8576b"
             ],
             [
              0.6666666666666666,
              "#ed7953"
             ],
             [
              0.7777777777777778,
              "#fb9f3a"
             ],
             [
              0.8888888888888888,
              "#fdca26"
             ],
             [
              1,
              "#f0f921"
             ]
            ],
            "type": "surface"
           }
          ],
          "table": [
           {
            "cells": {
             "fill": {
              "color": "#EBF0F8"
             },
             "line": {
              "color": "white"
             }
            },
            "header": {
             "fill": {
              "color": "#C8D4E3"
             },
             "line": {
              "color": "white"
             }
            },
            "type": "table"
           }
          ]
         },
         "layout": {
          "annotationdefaults": {
           "arrowcolor": "#2a3f5f",
           "arrowhead": 0,
           "arrowwidth": 1
          },
          "autotypenumbers": "strict",
          "coloraxis": {
           "colorbar": {
            "outlinewidth": 0,
            "ticks": ""
           }
          },
          "colorscale": {
           "diverging": [
            [
             0,
             "#8e0152"
            ],
            [
             0.1,
             "#c51b7d"
            ],
            [
             0.2,
             "#de77ae"
            ],
            [
             0.3,
             "#f1b6da"
            ],
            [
             0.4,
             "#fde0ef"
            ],
            [
             0.5,
             "#f7f7f7"
            ],
            [
             0.6,
             "#e6f5d0"
            ],
            [
             0.7,
             "#b8e186"
            ],
            [
             0.8,
             "#7fbc41"
            ],
            [
             0.9,
             "#4d9221"
            ],
            [
             1,
             "#276419"
            ]
           ],
           "sequential": [
            [
             0,
             "#0d0887"
            ],
            [
             0.1111111111111111,
             "#46039f"
            ],
            [
             0.2222222222222222,
             "#7201a8"
            ],
            [
             0.3333333333333333,
             "#9c179e"
            ],
            [
             0.4444444444444444,
             "#bd3786"
            ],
            [
             0.5555555555555556,
             "#d8576b"
            ],
            [
             0.6666666666666666,
             "#ed7953"
            ],
            [
             0.7777777777777778,
             "#fb9f3a"
            ],
            [
             0.8888888888888888,
             "#fdca26"
            ],
            [
             1,
             "#f0f921"
            ]
           ],
           "sequentialminus": [
            [
             0,
             "#0d0887"
            ],
            [
             0.1111111111111111,
             "#46039f"
            ],
            [
             0.2222222222222222,
             "#7201a8"
            ],
            [
             0.3333333333333333,
             "#9c179e"
            ],
            [
             0.4444444444444444,
             "#bd3786"
            ],
            [
             0.5555555555555556,
             "#d8576b"
            ],
            [
             0.6666666666666666,
             "#ed7953"
            ],
            [
             0.7777777777777778,
             "#fb9f3a"
            ],
            [
             0.8888888888888888,
             "#fdca26"
            ],
            [
             1,
             "#f0f921"
            ]
           ]
          },
          "colorway": [
           "#636efa",
           "#EF553B",
           "#00cc96",
           "#ab63fa",
           "#FFA15A",
           "#19d3f3",
           "#FF6692",
           "#B6E880",
           "#FF97FF",
           "#FECB52"
          ],
          "font": {
           "color": "#2a3f5f"
          },
          "geo": {
           "bgcolor": "white",
           "lakecolor": "white",
           "landcolor": "#E5ECF6",
           "showlakes": true,
           "showland": true,
           "subunitcolor": "white"
          },
          "hoverlabel": {
           "align": "left"
          },
          "hovermode": "closest",
          "mapbox": {
           "style": "light"
          },
          "paper_bgcolor": "white",
          "plot_bgcolor": "#E5ECF6",
          "polar": {
           "angularaxis": {
            "gridcolor": "white",
            "linecolor": "white",
            "ticks": ""
           },
           "bgcolor": "#E5ECF6",
           "radialaxis": {
            "gridcolor": "white",
            "linecolor": "white",
            "ticks": ""
           }
          },
          "scene": {
           "xaxis": {
            "backgroundcolor": "#E5ECF6",
            "gridcolor": "white",
            "gridwidth": 2,
            "linecolor": "white",
            "showbackground": true,
            "ticks": "",
            "zerolinecolor": "white"
           },
           "yaxis": {
            "backgroundcolor": "#E5ECF6",
            "gridcolor": "white",
            "gridwidth": 2,
            "linecolor": "white",
            "showbackground": true,
            "ticks": "",
            "zerolinecolor": "white"
           },
           "zaxis": {
            "backgroundcolor": "#E5ECF6",
            "gridcolor": "white",
            "gridwidth": 2,
            "linecolor": "white",
            "showbackground": true,
            "ticks": "",
            "zerolinecolor": "white"
           }
          },
          "shapedefaults": {
           "line": {
            "color": "#2a3f5f"
           }
          },
          "ternary": {
           "aaxis": {
            "gridcolor": "white",
            "linecolor": "white",
            "ticks": ""
           },
           "baxis": {
            "gridcolor": "white",
            "linecolor": "white",
            "ticks": ""
           },
           "bgcolor": "#E5ECF6",
           "caxis": {
            "gridcolor": "white",
            "linecolor": "white",
            "ticks": ""
           }
          },
          "title": {
           "x": 0.05
          },
          "xaxis": {
           "automargin": true,
           "gridcolor": "white",
           "linecolor": "white",
           "ticks": "",
           "title": {
            "standoff": 15
           },
           "zerolinecolor": "white",
           "zerolinewidth": 2
          },
          "yaxis": {
           "automargin": true,
           "gridcolor": "white",
           "linecolor": "white",
           "ticks": "",
           "title": {
            "standoff": 15
           },
           "zerolinecolor": "white",
           "zerolinewidth": 2
          }
         }
        },
        "xaxis": {
         "anchor": "y",
         "domain": [
          0,
          1
         ],
         "title": {
          "text": "date"
         }
        },
        "yaxis": {
         "anchor": "x",
         "domain": [
          0,
          1
         ],
         "title": {
          "text": "factorNumber"
         }
        }
       }
      },
      "text/html": [
       "<div>                            <div id=\"24e3b0d7-de9a-477a-a505-904e215d929b\" class=\"plotly-graph-div\" style=\"height:525px; width:100%;\"></div>            <script type=\"text/javascript\">                require([\"plotly\"], function(Plotly) {                    window.PLOTLYENV=window.PLOTLYENV || {};                                    if (document.getElementById(\"24e3b0d7-de9a-477a-a505-904e215d929b\")) {                    Plotly.newPlot(                        \"24e3b0d7-de9a-477a-a505-904e215d929b\",                        [{\"hovertemplate\":\"date=%{x}<br>factorNumber=%{y}<br>sumPayment=%{text}<extra></extra>\",\"legendgroup\":\"\",\"line\":{\"color\":\"#636efa\",\"dash\":\"solid\"},\"marker\":{\"symbol\":\"circle\"},\"mode\":\"lines+markers+text\",\"name\":\"\",\"orientation\":\"v\",\"showlegend\":false,\"text\":[33415.0,36590.0,18935.0,22230.0,39345.0,30725.0,24235.0,4710.0,29140.0,21525.0,38875.0,28350.0,29195.0,33490.0,18925.0,26675.0,37410.0,21840.0,20995.0,38880.0,29180.0,32510.0,29300.0,39655.0,35950.0,25955.0,55115.0,40350.0,27910.0,36030.0,22530.0,17400.0,30240.0,31450.0,52560.0,25820.0,27160.0,25790.0,23080.0,26740.0,38340.0,37950.0,19290.0,20150.0,8960.0,20160.0,25690.0,34600.0,25330.0,17270.0,8810.0,26940.0,21530.0,25975.0,35985.0,11370.0,15970.0,13960.0,17695.0,6540.0,14175.0,37705.0,840.0,26695.0,45615.0,25520.0,21645.0,28985.0,25320.0,41100.0,35965.0,25845.0,17755.0,23665.0,34600.0,42055.0,23015.0,31565.0,17680.0,23055.0,14020.0,20580.0,29170.0,36270.0,35500.0,26500.0,19780.0,22630.0,17080.0,19800.0,26510.0,38830.0,27040.0,22580.0,16530.0,29600.0,24970.0,40770.0,50610.0,34960.0,30510.0,20290.0,24040.0,38050.0,30370.0,38580.0,31250.0,23980.0,28470.0,47700.0,46360.0,20600.0,17510.0,56090.0,35340.0,54230.0,23860.0,18270.0,38850.0,51490.0,45690.0,42200.0,20910.0,29320.0,52800.0,51466.0,49810.0,40970.0,15850.0,28740.0,27000.0,34230.0,28470.0,32990.0,44940.0,41600.0,40930.0,41460.0,19890.0,23500.0,37580.0,33150.0,34440.0,53120.0,34820.0,52810.0,44060.0,49930.0,55900.0,54930.0,54730.0,53480.0,59640.0,65230.0,49270.0,22250.0,18410.0,23660.0,37640.0,27150.0,39670.0,43600.0,30760.0,21370.0,1540.0,25150.0,32740.0,34880.0,25150.0,31040.0,15870.0,42930.0,30150.0,33420.0,30920.0,38140.0,42720.0,32030.0,51920.0,62650.0,85770.0,75400.0,92550.0,67100.0,45010.0,49650.0,46290.0,46520.0,43930.0,75300.0,62140.0,48810.0,38180.0,45960.0,58460.0,58230.0,79520.0,53680.0,58980.0,34270.0,51210.0,68720.0,50380.0,81210.0,58340.0],\"x\":[\"1400-08-02\",\"1400-08-04\",\"1400-08-03\",\"1400-08-05\",\"1400-08-06\",\"1400-08-07\",\"1400-08-08\",\"1400-08-05\",\"1400-08-09\",\"1400-08-10\",\"1400-08-11\",\"1400-08-12\",\"1400-08-13\",\"1400-08-14\",\"1400-08-15\",\"1400-08-16\",\"1400-08-17\",\"1400-08-18\",\"1400-08-19\",\"1400-08-20\",\"1400-08-21\",\"1400-08-24\",\"1400-08-22\",\"1400-08-23\",\"1400-08-25\",\"1400-08-26\",\"1400-08-27\",\"1400-08-28\",\"1400-08-29\",\"1400-08-30\",\"1400-09-01\",\"1400-09-02\",\"1400-09-03\",\"1400-09-04\",\"1400-09-05\",\"1400-09-06\",\"1400-09-07\",\"1400-09-08\",\"1400-09-09\",\"1400-09-10\",\"1400-09-11\",\"1400-09-12\",\"1400-09-13\",\"1400-09-14\",\"1400-09-15\",\"1400-09-16\",\"1400-09-17\",\"1400-09-18\",\"1400-09-19\",\"1400-09-20\",\"1400-09-21\",\"1400-09-22\",\"1400-09-23\",\"1400-09-24\",\"1400-09-25\",\"1400-09-26\",\"1400-09-27\",\"1400-09-28\",\"1400-09-29\",\"1400-09-30\",\"1400-10-01\",\"1400-10-02\",\"1400-10-04\",\"1400-10-03\",\"1400-10-04\",\"1400-10-05\",\"1400-10-06\",\"1400-10-07\",\"1400-10-08\",\"1400-10-10\",\"1400-10-09\",\"1400-10-11\",\"1400-10-12\",\"1400-10-13\",\"1400-10-14\",\"1400-10-16\",\"1400-10-15\",\"1400-10-17\",\"1400-10-19\",\"1400-10-18\",\"1400-10-20\",\"1400-10-21\",\"1400-10-22\",\"1400-10-23\",\"1400-10-24\",\"1400-10-25\",\"1400-11-02\",\"1400-11-03\",\"1400-11-04\",\"1400-11-05\",\"1400-11-06\",\"1400-11-07\",\"1400-11-08\",\"1400-11-10\",\"1400-11-09\",\"1400-11-11\",\"1400-11-12\",\"1400-11-13\",\"1400-11-14\",\"1400-11-15\",\"1400-11-16\",\"1400-11-17\",\"1400-11-18\",\"1400-11-21\",\"1400-11-19\",\"1400-11-20\",\"1400-11-22\",\"1400-11-23\",\"1400-11-24\",\"1400-11-25\",\"1400-11-26\",\"1400-11-27\",\"1400-12-01\",\"1400-11-28\",\"1400-11-29\",\"1400-11-30\",\"1400-12-02\",\"1400-12-03\",\"1400-12-04\",\"1400-12-05\",\"1400-12-06\",\"1400-12-07\",\"1400-12-09\",\"1400-12-08\",\"1400-12-10\",\"1400-12-11\",\"1400-12-12\",\"1400-12-13\",\"1400-12-15\",\"1400-12-14\",\"1400-12-16\",\"1400-12-17\",\"1400-12-18\",\"1400-12-19\",\"1400-12-20\",\"1400-12-21\",\"1400-12-22\",\"1400-12-23\",\"1400-12-24\",\"1400-12-25\",\"1400-12-26\",\"1400-12-27\",\"1400-12-28\",\"1401-01-02\",\"1401-01-03\",\"1401-01-04\",\"1401-01-05\",\"1401-01-06\",\"1401-01-07\",\"1401-01-08\",\"1401-01-09\",\"1401-01-10\",\"1401-01-11\",\"1401-01-12\",\"1401-01-13\",\"1401-01-14\",\"1401-01-15\",\"1401-01-16\",\"1401-01-17\",\"1401-01-18\",\"1401-01-19\",\"1401-01-20\",\"1401-01-21\",\"1401-01-22\",\"1401-01-21\",\"1401-01-23\",\"1401-01-24\",\"1401-01-25\",\"1401-01-26\",\"1401-01-27\",\"1401-01-28\",\"1401-01-29\",\"1401-01-30\",\"1401-02-06\",\"1401-02-07\",\"1401-02-08\",\"1401-02-09\",\"1401-02-10\",\"1401-02-11\",\"1401-02-12\",\"1401-02-13\",\"1401-02-14\",\"1401-02-15\",\"1401-02-16\",\"1401-02-17\",\"1401-02-18\",\"1401-02-19\",\"1401-02-20\",\"1401-02-21\",\"1401-02-22\",\"1401-02-23\",\"1401-02-24\",\"1401-02-25\",\"1401-02-26\",\"1401-02-27\",\"1401-02-28\",\"1401-02-29\",\"1401-02-30\",\"1401-02-31\",\"1401-03-01\",\"1401-03-02\",\"1401-03-03\",\"1401-03-04\",\"1401-03-05\",\"1401-03-06\"],\"xaxis\":\"x\",\"y\":[69,61,38,42,68,54,51,9,50,45,67,60,55,54,44,47,61,37,38,66,57,61,51,61,49,40,76,82,41,53,39,31,38,54,67,51,43,41,43,36,63,68,35,38,18,44,37,49,47,34,14,43,35,40,63,25,33,23,33,13,27,65,3,42,68,35,39,50,46,70,67,42,29,38,62,76,34,46,29,42,23,27,49,59,59,46,25,45,26,24,44,65,44,41,27,61,32,71,88,63,54,31,37,63,46,49,53,38,50,69,79,31,30,77,60,74,37,40,51,82,66,55,30,44,84,60,67,52,28,47,45,49,44,60,77,77,66,48,39,48,48,41,50,94,64,92,63,78,97,90,100,98,86,114,82,47,36,55,70,49,62,79,48,38,3,48,71,65,61,53,31,78,51,60,64,62,79,44,82,94,107,102,148,88,75,79,62,70,69,135,99,72,62,60,86,96,121,85,77,50,64,83,74,95,84],\"yaxis\":\"y\",\"type\":\"scatter\"}],                        {\"template\":{\"data\":{\"histogram2dcontour\":[{\"type\":\"histogram2dcontour\",\"colorbar\":{\"outlinewidth\":0,\"ticks\":\"\"},\"colorscale\":[[0.0,\"#0d0887\"],[0.1111111111111111,\"#46039f\"],[0.2222222222222222,\"#7201a8\"],[0.3333333333333333,\"#9c179e\"],[0.4444444444444444,\"#bd3786\"],[0.5555555555555556,\"#d8576b\"],[0.6666666666666666,\"#ed7953\"],[0.7777777777777778,\"#fb9f3a\"],[0.8888888888888888,\"#fdca26\"],[1.0,\"#f0f921\"]]}],\"choropleth\":[{\"type\":\"choropleth\",\"colorbar\":{\"outlinewidth\":0,\"ticks\":\"\"}}],\"histogram2d\":[{\"type\":\"histogram2d\",\"colorbar\":{\"outlinewidth\":0,\"ticks\":\"\"},\"colorscale\":[[0.0,\"#0d0887\"],[0.1111111111111111,\"#46039f\"],[0.2222222222222222,\"#7201a8\"],[0.3333333333333333,\"#9c179e\"],[0.4444444444444444,\"#bd3786\"],[0.5555555555555556,\"#d8576b\"],[0.6666666666666666,\"#ed7953\"],[0.7777777777777778,\"#fb9f3a\"],[0.8888888888888888,\"#fdca26\"],[1.0,\"#f0f921\"]]}],\"heatmap\":[{\"type\":\"heatmap\",\"colorbar\":{\"outlinewidth\":0,\"ticks\":\"\"},\"colorscale\":[[0.0,\"#0d0887\"],[0.1111111111111111,\"#46039f\"],[0.2222222222222222,\"#7201a8\"],[0.3333333333333333,\"#9c179e\"],[0.4444444444444444,\"#bd3786\"],[0.5555555555555556,\"#d8576b\"],[0.6666666666666666,\"#ed7953\"],[0.7777777777777778,\"#fb9f3a\"],[0.8888888888888888,\"#fdca26\"],[1.0,\"#f0f921\"]]}],\"heatmapgl\":[{\"type\":\"heatmapgl\",\"colorbar\":{\"outlinewidth\":0,\"ticks\":\"\"},\"colorscale\":[[0.0,\"#0d0887\"],[0.1111111111111111,\"#46039f\"],[0.2222222222222222,\"#7201a8\"],[0.3333333333333333,\"#9c179e\"],[0.4444444444444444,\"#bd3786\"],[0.5555555555555556,\"#d8576b\"],[0.6666666666666666,\"#ed7953\"],[0.7777777777777778,\"#fb9f3a\"],[0.8888888888888888,\"#fdca26\"],[1.0,\"#f0f921\"]]}],\"contourcarpet\":[{\"type\":\"contourcarpet\",\"colorbar\":{\"outlinewidth\":0,\"ticks\":\"\"}}],\"contour\":[{\"type\":\"contour\",\"colorbar\":{\"outlinewidth\":0,\"ticks\":\"\"},\"colorscale\":[[0.0,\"#0d0887\"],[0.1111111111111111,\"#46039f\"],[0.2222222222222222,\"#7201a8\"],[0.3333333333333333,\"#9c179e\"],[0.4444444444444444,\"#bd3786\"],[0.5555555555555556,\"#d8576b\"],[0.6666666666666666,\"#ed7953\"],[0.7777777777777778,\"#fb9f3a\"],[0.8888888888888888,\"#fdca26\"],[1.0,\"#f0f921\"]]}],\"surface\":[{\"type\":\"surface\",\"colorbar\":{\"outlinewidth\":0,\"ticks\":\"\"},\"colorscale\":[[0.0,\"#0d0887\"],[0.1111111111111111,\"#46039f\"],[0.2222222222222222,\"#7201a8\"],[0.3333333333333333,\"#9c179e\"],[0.4444444444444444,\"#bd3786\"],[0.5555555555555556,\"#d8576b\"],[0.6666666666666666,\"#ed7953\"],[0.7777777777777778,\"#fb9f3a\"],[0.8888888888888888,\"#fdca26\"],[1.0,\"#f0f921\"]]}],\"mesh3d\":[{\"type\":\"mesh3d\",\"colorbar\":{\"outlinewidth\":0,\"ticks\":\"\"}}],\"scatter\":[{\"fillpattern\":{\"fillmode\":\"overlay\",\"size\":10,\"solidity\":0.2},\"type\":\"scatter\"}],\"parcoords\":[{\"type\":\"parcoords\",\"line\":{\"colorbar\":{\"outlinewidth\":0,\"ticks\":\"\"}}}],\"scatterpolargl\":[{\"type\":\"scatterpolargl\",\"marker\":{\"colorbar\":{\"outlinewidth\":0,\"ticks\":\"\"}}}],\"bar\":[{\"error_x\":{\"color\":\"#2a3f5f\"},\"error_y\":{\"color\":\"#2a3f5f\"},\"marker\":{\"line\":{\"color\":\"#E5ECF6\",\"width\":0.5},\"pattern\":{\"fillmode\":\"overlay\",\"size\":10,\"solidity\":0.2}},\"type\":\"bar\"}],\"scattergeo\":[{\"type\":\"scattergeo\",\"marker\":{\"colorbar\":{\"outlinewidth\":0,\"ticks\":\"\"}}}],\"scatterpolar\":[{\"type\":\"scatterpolar\",\"marker\":{\"colorbar\":{\"outlinewidth\":0,\"ticks\":\"\"}}}],\"histogram\":[{\"marker\":{\"pattern\":{\"fillmode\":\"overlay\",\"size\":10,\"solidity\":0.2}},\"type\":\"histogram\"}],\"scattergl\":[{\"type\":\"scattergl\",\"marker\":{\"colorbar\":{\"outlinewidth\":0,\"ticks\":\"\"}}}],\"scatter3d\":[{\"type\":\"scatter3d\",\"line\":{\"colorbar\":{\"outlinewidth\":0,\"ticks\":\"\"}},\"marker\":{\"colorbar\":{\"outlinewidth\":0,\"ticks\":\"\"}}}],\"scattermapbox\":[{\"type\":\"scattermapbox\",\"marker\":{\"colorbar\":{\"outlinewidth\":0,\"ticks\":\"\"}}}],\"scatterternary\":[{\"type\":\"scatterternary\",\"marker\":{\"colorbar\":{\"outlinewidth\":0,\"ticks\":\"\"}}}],\"scattercarpet\":[{\"type\":\"scattercarpet\",\"marker\":{\"colorbar\":{\"outlinewidth\":0,\"ticks\":\"\"}}}],\"carpet\":[{\"aaxis\":{\"endlinecolor\":\"#2a3f5f\",\"gridcolor\":\"white\",\"linecolor\":\"white\",\"minorgridcolor\":\"white\",\"startlinecolor\":\"#2a3f5f\"},\"baxis\":{\"endlinecolor\":\"#2a3f5f\",\"gridcolor\":\"white\",\"linecolor\":\"white\",\"minorgridcolor\":\"white\",\"startlinecolor\":\"#2a3f5f\"},\"type\":\"carpet\"}],\"table\":[{\"cells\":{\"fill\":{\"color\":\"#EBF0F8\"},\"line\":{\"color\":\"white\"}},\"header\":{\"fill\":{\"color\":\"#C8D4E3\"},\"line\":{\"color\":\"white\"}},\"type\":\"table\"}],\"barpolar\":[{\"marker\":{\"line\":{\"color\":\"#E5ECF6\",\"width\":0.5},\"pattern\":{\"fillmode\":\"overlay\",\"size\":10,\"solidity\":0.2}},\"type\":\"barpolar\"}],\"pie\":[{\"automargin\":true,\"type\":\"pie\"}]},\"layout\":{\"autotypenumbers\":\"strict\",\"colorway\":[\"#636efa\",\"#EF553B\",\"#00cc96\",\"#ab63fa\",\"#FFA15A\",\"#19d3f3\",\"#FF6692\",\"#B6E880\",\"#FF97FF\",\"#FECB52\"],\"font\":{\"color\":\"#2a3f5f\"},\"hovermode\":\"closest\",\"hoverlabel\":{\"align\":\"left\"},\"paper_bgcolor\":\"white\",\"plot_bgcolor\":\"#E5ECF6\",\"polar\":{\"bgcolor\":\"#E5ECF6\",\"angularaxis\":{\"gridcolor\":\"white\",\"linecolor\":\"white\",\"ticks\":\"\"},\"radialaxis\":{\"gridcolor\":\"white\",\"linecolor\":\"white\",\"ticks\":\"\"}},\"ternary\":{\"bgcolor\":\"#E5ECF6\",\"aaxis\":{\"gridcolor\":\"white\",\"linecolor\":\"white\",\"ticks\":\"\"},\"baxis\":{\"gridcolor\":\"white\",\"linecolor\":\"white\",\"ticks\":\"\"},\"caxis\":{\"gridcolor\":\"white\",\"linecolor\":\"white\",\"ticks\":\"\"}},\"coloraxis\":{\"colorbar\":{\"outlinewidth\":0,\"ticks\":\"\"}},\"colorscale\":{\"sequential\":[[0.0,\"#0d0887\"],[0.1111111111111111,\"#46039f\"],[0.2222222222222222,\"#7201a8\"],[0.3333333333333333,\"#9c179e\"],[0.4444444444444444,\"#bd3786\"],[0.5555555555555556,\"#d8576b\"],[0.6666666666666666,\"#ed7953\"],[0.7777777777777778,\"#fb9f3a\"],[0.8888888888888888,\"#fdca26\"],[1.0,\"#f0f921\"]],\"sequentialminus\":[[0.0,\"#0d0887\"],[0.1111111111111111,\"#46039f\"],[0.2222222222222222,\"#7201a8\"],[0.3333333333333333,\"#9c179e\"],[0.4444444444444444,\"#bd3786\"],[0.5555555555555556,\"#d8576b\"],[0.6666666666666666,\"#ed7953\"],[0.7777777777777778,\"#fb9f3a\"],[0.8888888888888888,\"#fdca26\"],[1.0,\"#f0f921\"]],\"diverging\":[[0,\"#8e0152\"],[0.1,\"#c51b7d\"],[0.2,\"#de77ae\"],[0.3,\"#f1b6da\"],[0.4,\"#fde0ef\"],[0.5,\"#f7f7f7\"],[0.6,\"#e6f5d0\"],[0.7,\"#b8e186\"],[0.8,\"#7fbc41\"],[0.9,\"#4d9221\"],[1,\"#276419\"]]},\"xaxis\":{\"gridcolor\":\"white\",\"linecolor\":\"white\",\"ticks\":\"\",\"title\":{\"standoff\":15},\"zerolinecolor\":\"white\",\"automargin\":true,\"zerolinewidth\":2},\"yaxis\":{\"gridcolor\":\"white\",\"linecolor\":\"white\",\"ticks\":\"\",\"title\":{\"standoff\":15},\"zerolinecolor\":\"white\",\"automargin\":true,\"zerolinewidth\":2},\"scene\":{\"xaxis\":{\"backgroundcolor\":\"#E5ECF6\",\"gridcolor\":\"white\",\"linecolor\":\"white\",\"showbackground\":true,\"ticks\":\"\",\"zerolinecolor\":\"white\",\"gridwidth\":2},\"yaxis\":{\"backgroundcolor\":\"#E5ECF6\",\"gridcolor\":\"white\",\"linecolor\":\"white\",\"showbackground\":true,\"ticks\":\"\",\"zerolinecolor\":\"white\",\"gridwidth\":2},\"zaxis\":{\"backgroundcolor\":\"#E5ECF6\",\"gridcolor\":\"white\",\"linecolor\":\"white\",\"showbackground\":true,\"ticks\":\"\",\"zerolinecolor\":\"white\",\"gridwidth\":2}},\"shapedefaults\":{\"line\":{\"color\":\"#2a3f5f\"}},\"annotationdefaults\":{\"arrowcolor\":\"#2a3f5f\",\"arrowhead\":0,\"arrowwidth\":1},\"geo\":{\"bgcolor\":\"white\",\"landcolor\":\"#E5ECF6\",\"subunitcolor\":\"white\",\"showland\":true,\"showlakes\":true,\"lakecolor\":\"white\"},\"title\":{\"x\":0.05},\"mapbox\":{\"style\":\"light\"}}},\"xaxis\":{\"anchor\":\"y\",\"domain\":[0.0,1.0],\"title\":{\"text\":\"date\"}},\"yaxis\":{\"anchor\":\"x\",\"domain\":[0.0,1.0],\"title\":{\"text\":\"factorNumber\"}},\"legend\":{\"tracegroupgap\":0},\"margin\":{\"t\":60}},                        {\"responsive\": true}                    ).then(function(){\n",
       "                            \n",
       "var gd = document.getElementById('24e3b0d7-de9a-477a-a505-904e215d929b');\n",
       "var x = new MutationObserver(function (mutations, observer) {{\n",
       "        var display = window.getComputedStyle(gd).display;\n",
       "        if (!display || display === 'none') {{\n",
       "            console.log([gd, 'removed!']);\n",
       "            Plotly.purge(gd);\n",
       "            observer.disconnect();\n",
       "        }}\n",
       "}});\n",
       "\n",
       "// Listen for the removal of the full notebook cells\n",
       "var notebookContainer = gd.closest('#notebook-container');\n",
       "if (notebookContainer) {{\n",
       "    x.observe(notebookContainer, {childList: true});\n",
       "}}\n",
       "\n",
       "// Listen for the clearing of the current output cell\n",
       "var outputEl = gd.closest('.output');\n",
       "if (outputEl) {{\n",
       "    x.observe(outputEl, {childList: true});\n",
       "}}\n",
       "\n",
       "                        })                };                });            </script>        </div>"
      ]
     },
     "metadata": {},
     "output_type": "display_data"
    }
   ],
   "source": [
    "\n",
    "fig = px.line(food_df, x='date', y='18-20 (count)',  markers=True, text='21-22 (payment)')\n",
    "fig.show()\n",
    "fig2 = px.line(food_df, x='date', y='factorNumber', markers=True, text='sumPayment')\n",
    "fig2.show()\n",
    "\n"
   ]
  },
  {
   "cell_type": "code",
   "execution_count": 23,
   "id": "9cb2f2db",
   "metadata": {},
   "outputs": [
    {
     "data": {
      "application/vnd.plotly.v1+json": {
       "config": {
        "plotlyServerURL": "https://plot.ly"
       },
       "data": [
        {
         "alignmentgroup": "True",
         "hovertemplate": "date=%{x}<br>21-22 (payment)=%{text}<extra></extra>",
         "legendgroup": "",
         "marker": {
          "color": "#636efa",
          "pattern": {
           "shape": ""
          }
         },
         "name": "",
         "offsetgroup": "",
         "orientation": "v",
         "showlegend": false,
         "text": [
          7980,
          12285,
          5380,
          5750,
          11080,
          9500,
          7885,
          0,
          7710,
          9020,
          11895,
          10870,
          5135,
          5415,
          4650,
          9700,
          12690,
          2980,
          2540,
          5615,
          4350,
          5690,
          12190,
          4080,
          16720,
          2300,
          17220,
          5360,
          10710,
          14680,
          2750,
          7270,
          15060,
          10170,
          3820,
          6810,
          5310,
          5700,
          6960,
          1910,
          5340,
          7970,
          5390,
          7470,
          900,
          3770,
          6390,
          9280,
          9730,
          320,
          2430,
          8215,
          5905,
          4380,
          0,
          1020,
          3410,
          2670,
          4470,
          630,
          1880,
          14090,
          0,
          10935,
          7345,
          8515,
          7865,
          18140,
          7285,
          16025,
          6690,
          4610,
          5670,
          7995,
          4670,
          3635,
          10240,
          13915,
          1735,
          3975,
          1640,
          5370,
          7560,
          16880,
          1950,
          10240,
          1225,
          4310,
          5660,
          5970,
          8380,
          5010,
          8630,
          8770,
          5370,
          7230,
          3980,
          16130,
          19640,
          5280,
          7220,
          2760,
          10980,
          7280,
          4640,
          14930,
          5430,
          7630,
          9560,
          11600,
          12550,
          5250,
          2710,
          16280,
          9610,
          14320,
          6320,
          2220,
          5470,
          8320,
          17770,
          13320,
          1750,
          4150,
          16660,
          15026,
          18960,
          3080,
          2900,
          8590,
          13570,
          760,
          10190,
          5790,
          14830,
          3100,
          2370,
          8240,
          6200,
          1430,
          19990,
          3790,
          6480,
          6570,
          8920,
          12670,
          11720,
          7610,
          10930,
          3690,
          15290,
          4110,
          8640,
          8380,
          23140,
          2260,
          4670,
          5170,
          19870,
          2300,
          4840,
          13530,
          6540,
          6480,
          0,
          6720,
          9110,
          4030,
          5360,
          8470,
          0,
          2670,
          6430,
          6810,
          8350,
          2090,
          21610,
          9020,
          7850,
          9670,
          29370,
          25270,
          17770,
          16850,
          2800,
          6960,
          5530,
          6830,
          15430,
          6710,
          20610,
          18230,
          7960,
          14780,
          15930,
          15460,
          15890,
          7600,
          4890,
          13110,
          13310,
          11770,
          6390,
          1020,
          21130
         ],
         "textposition": "auto",
         "type": "bar",
         "x": [
          "1400-08-02",
          "1400-08-04",
          "1400-08-03",
          "1400-08-05",
          "1400-08-06",
          "1400-08-07",
          "1400-08-08",
          "1400-08-05",
          "1400-08-09",
          "1400-08-10",
          "1400-08-11",
          "1400-08-12",
          "1400-08-13",
          "1400-08-14",
          "1400-08-15",
          "1400-08-16",
          "1400-08-17",
          "1400-08-18",
          "1400-08-19",
          "1400-08-20",
          "1400-08-21",
          "1400-08-24",
          "1400-08-22",
          "1400-08-23",
          "1400-08-25",
          "1400-08-26",
          "1400-08-27",
          "1400-08-28",
          "1400-08-29",
          "1400-08-30",
          "1400-09-01",
          "1400-09-02",
          "1400-09-03",
          "1400-09-04",
          "1400-09-05",
          "1400-09-06",
          "1400-09-07",
          "1400-09-08",
          "1400-09-09",
          "1400-09-10",
          "1400-09-11",
          "1400-09-12",
          "1400-09-13",
          "1400-09-14",
          "1400-09-15",
          "1400-09-16",
          "1400-09-17",
          "1400-09-18",
          "1400-09-19",
          "1400-09-20",
          "1400-09-21",
          "1400-09-22",
          "1400-09-23",
          "1400-09-24",
          "1400-09-25",
          "1400-09-26",
          "1400-09-27",
          "1400-09-28",
          "1400-09-29",
          "1400-09-30",
          "1400-10-01",
          "1400-10-02",
          "1400-10-04",
          "1400-10-03",
          "1400-10-04",
          "1400-10-05",
          "1400-10-06",
          "1400-10-07",
          "1400-10-08",
          "1400-10-10",
          "1400-10-09",
          "1400-10-11",
          "1400-10-12",
          "1400-10-13",
          "1400-10-14",
          "1400-10-16",
          "1400-10-15",
          "1400-10-17",
          "1400-10-19",
          "1400-10-18",
          "1400-10-20",
          "1400-10-21",
          "1400-10-22",
          "1400-10-23",
          "1400-10-24",
          "1400-10-25",
          "1400-11-02",
          "1400-11-03",
          "1400-11-04",
          "1400-11-05",
          "1400-11-06",
          "1400-11-07",
          "1400-11-08",
          "1400-11-10",
          "1400-11-09",
          "1400-11-11",
          "1400-11-12",
          "1400-11-13",
          "1400-11-14",
          "1400-11-15",
          "1400-11-16",
          "1400-11-17",
          "1400-11-18",
          "1400-11-21",
          "1400-11-19",
          "1400-11-20",
          "1400-11-22",
          "1400-11-23",
          "1400-11-24",
          "1400-11-25",
          "1400-11-26",
          "1400-11-27",
          "1400-12-01",
          "1400-11-28",
          "1400-11-29",
          "1400-11-30",
          "1400-12-02",
          "1400-12-03",
          "1400-12-04",
          "1400-12-05",
          "1400-12-06",
          "1400-12-07",
          "1400-12-09",
          "1400-12-08",
          "1400-12-10",
          "1400-12-11",
          "1400-12-12",
          "1400-12-13",
          "1400-12-15",
          "1400-12-14",
          "1400-12-16",
          "1400-12-17",
          "1400-12-18",
          "1400-12-19",
          "1400-12-20",
          "1400-12-21",
          "1400-12-22",
          "1400-12-23",
          "1400-12-24",
          "1400-12-25",
          "1400-12-26",
          "1400-12-27",
          "1400-12-28",
          "1401-01-02",
          "1401-01-03",
          "1401-01-04",
          "1401-01-05",
          "1401-01-06",
          "1401-01-07",
          "1401-01-08",
          "1401-01-09",
          "1401-01-10",
          "1401-01-11",
          "1401-01-12",
          "1401-01-13",
          "1401-01-14",
          "1401-01-15",
          "1401-01-16",
          "1401-01-17",
          "1401-01-18",
          "1401-01-19",
          "1401-01-20",
          "1401-01-21",
          "1401-01-22",
          "1401-01-21",
          "1401-01-23",
          "1401-01-24",
          "1401-01-25",
          "1401-01-26",
          "1401-01-27",
          "1401-01-28",
          "1401-01-29",
          "1401-01-30",
          "1401-02-06",
          "1401-02-07",
          "1401-02-08",
          "1401-02-09",
          "1401-02-10",
          "1401-02-11",
          "1401-02-12",
          "1401-02-13",
          "1401-02-14",
          "1401-02-15",
          "1401-02-16",
          "1401-02-17",
          "1401-02-18",
          "1401-02-19",
          "1401-02-20",
          "1401-02-21",
          "1401-02-22",
          "1401-02-23",
          "1401-02-24",
          "1401-02-25",
          "1401-02-26",
          "1401-02-27",
          "1401-02-28",
          "1401-02-29",
          "1401-02-30",
          "1401-02-31",
          "1401-03-01",
          "1401-03-02",
          "1401-03-03",
          "1401-03-04",
          "1401-03-05",
          "1401-03-06"
         ],
         "xaxis": "x",
         "y": [
          7980,
          12285,
          5380,
          5750,
          11080,
          9500,
          7885,
          0,
          7710,
          9020,
          11895,
          10870,
          5135,
          5415,
          4650,
          9700,
          12690,
          2980,
          2540,
          5615,
          4350,
          5690,
          12190,
          4080,
          16720,
          2300,
          17220,
          5360,
          10710,
          14680,
          2750,
          7270,
          15060,
          10170,
          3820,
          6810,
          5310,
          5700,
          6960,
          1910,
          5340,
          7970,
          5390,
          7470,
          900,
          3770,
          6390,
          9280,
          9730,
          320,
          2430,
          8215,
          5905,
          4380,
          0,
          1020,
          3410,
          2670,
          4470,
          630,
          1880,
          14090,
          0,
          10935,
          7345,
          8515,
          7865,
          18140,
          7285,
          16025,
          6690,
          4610,
          5670,
          7995,
          4670,
          3635,
          10240,
          13915,
          1735,
          3975,
          1640,
          5370,
          7560,
          16880,
          1950,
          10240,
          1225,
          4310,
          5660,
          5970,
          8380,
          5010,
          8630,
          8770,
          5370,
          7230,
          3980,
          16130,
          19640,
          5280,
          7220,
          2760,
          10980,
          7280,
          4640,
          14930,
          5430,
          7630,
          9560,
          11600,
          12550,
          5250,
          2710,
          16280,
          9610,
          14320,
          6320,
          2220,
          5470,
          8320,
          17770,
          13320,
          1750,
          4150,
          16660,
          15026,
          18960,
          3080,
          2900,
          8590,
          13570,
          760,
          10190,
          5790,
          14830,
          3100,
          2370,
          8240,
          6200,
          1430,
          19990,
          3790,
          6480,
          6570,
          8920,
          12670,
          11720,
          7610,
          10930,
          3690,
          15290,
          4110,
          8640,
          8380,
          23140,
          2260,
          4670,
          5170,
          19870,
          2300,
          4840,
          13530,
          6540,
          6480,
          0,
          6720,
          9110,
          4030,
          5360,
          8470,
          0,
          2670,
          6430,
          6810,
          8350,
          2090,
          21610,
          9020,
          7850,
          9670,
          29370,
          25270,
          17770,
          16850,
          2800,
          6960,
          5530,
          6830,
          15430,
          6710,
          20610,
          18230,
          7960,
          14780,
          15930,
          15460,
          15890,
          7600,
          4890,
          13110,
          13310,
          11770,
          6390,
          1020,
          21130
         ],
         "yaxis": "y"
        }
       ],
       "layout": {
        "barmode": "relative",
        "legend": {
         "tracegroupgap": 0
        },
        "margin": {
         "t": 60
        },
        "template": {
         "data": {
          "bar": [
           {
            "error_x": {
             "color": "#2a3f5f"
            },
            "error_y": {
             "color": "#2a3f5f"
            },
            "marker": {
             "line": {
              "color": "#E5ECF6",
              "width": 0.5
             },
             "pattern": {
              "fillmode": "overlay",
              "size": 10,
              "solidity": 0.2
             }
            },
            "type": "bar"
           }
          ],
          "barpolar": [
           {
            "marker": {
             "line": {
              "color": "#E5ECF6",
              "width": 0.5
             },
             "pattern": {
              "fillmode": "overlay",
              "size": 10,
              "solidity": 0.2
             }
            },
            "type": "barpolar"
           }
          ],
          "carpet": [
           {
            "aaxis": {
             "endlinecolor": "#2a3f5f",
             "gridcolor": "white",
             "linecolor": "white",
             "minorgridcolor": "white",
             "startlinecolor": "#2a3f5f"
            },
            "baxis": {
             "endlinecolor": "#2a3f5f",
             "gridcolor": "white",
             "linecolor": "white",
             "minorgridcolor": "white",
             "startlinecolor": "#2a3f5f"
            },
            "type": "carpet"
           }
          ],
          "choropleth": [
           {
            "colorbar": {
             "outlinewidth": 0,
             "ticks": ""
            },
            "type": "choropleth"
           }
          ],
          "contour": [
           {
            "colorbar": {
             "outlinewidth": 0,
             "ticks": ""
            },
            "colorscale": [
             [
              0,
              "#0d0887"
             ],
             [
              0.1111111111111111,
              "#46039f"
             ],
             [
              0.2222222222222222,
              "#7201a8"
             ],
             [
              0.3333333333333333,
              "#9c179e"
             ],
             [
              0.4444444444444444,
              "#bd3786"
             ],
             [
              0.5555555555555556,
              "#d8576b"
             ],
             [
              0.6666666666666666,
              "#ed7953"
             ],
             [
              0.7777777777777778,
              "#fb9f3a"
             ],
             [
              0.8888888888888888,
              "#fdca26"
             ],
             [
              1,
              "#f0f921"
             ]
            ],
            "type": "contour"
           }
          ],
          "contourcarpet": [
           {
            "colorbar": {
             "outlinewidth": 0,
             "ticks": ""
            },
            "type": "contourcarpet"
           }
          ],
          "heatmap": [
           {
            "colorbar": {
             "outlinewidth": 0,
             "ticks": ""
            },
            "colorscale": [
             [
              0,
              "#0d0887"
             ],
             [
              0.1111111111111111,
              "#46039f"
             ],
             [
              0.2222222222222222,
              "#7201a8"
             ],
             [
              0.3333333333333333,
              "#9c179e"
             ],
             [
              0.4444444444444444,
              "#bd3786"
             ],
             [
              0.5555555555555556,
              "#d8576b"
             ],
             [
              0.6666666666666666,
              "#ed7953"
             ],
             [
              0.7777777777777778,
              "#fb9f3a"
             ],
             [
              0.8888888888888888,
              "#fdca26"
             ],
             [
              1,
              "#f0f921"
             ]
            ],
            "type": "heatmap"
           }
          ],
          "heatmapgl": [
           {
            "colorbar": {
             "outlinewidth": 0,
             "ticks": ""
            },
            "colorscale": [
             [
              0,
              "#0d0887"
             ],
             [
              0.1111111111111111,
              "#46039f"
             ],
             [
              0.2222222222222222,
              "#7201a8"
             ],
             [
              0.3333333333333333,
              "#9c179e"
             ],
             [
              0.4444444444444444,
              "#bd3786"
             ],
             [
              0.5555555555555556,
              "#d8576b"
             ],
             [
              0.6666666666666666,
              "#ed7953"
             ],
             [
              0.7777777777777778,
              "#fb9f3a"
             ],
             [
              0.8888888888888888,
              "#fdca26"
             ],
             [
              1,
              "#f0f921"
             ]
            ],
            "type": "heatmapgl"
           }
          ],
          "histogram": [
           {
            "marker": {
             "pattern": {
              "fillmode": "overlay",
              "size": 10,
              "solidity": 0.2
             }
            },
            "type": "histogram"
           }
          ],
          "histogram2d": [
           {
            "colorbar": {
             "outlinewidth": 0,
             "ticks": ""
            },
            "colorscale": [
             [
              0,
              "#0d0887"
             ],
             [
              0.1111111111111111,
              "#46039f"
             ],
             [
              0.2222222222222222,
              "#7201a8"
             ],
             [
              0.3333333333333333,
              "#9c179e"
             ],
             [
              0.4444444444444444,
              "#bd3786"
             ],
             [
              0.5555555555555556,
              "#d8576b"
             ],
             [
              0.6666666666666666,
              "#ed7953"
             ],
             [
              0.7777777777777778,
              "#fb9f3a"
             ],
             [
              0.8888888888888888,
              "#fdca26"
             ],
             [
              1,
              "#f0f921"
             ]
            ],
            "type": "histogram2d"
           }
          ],
          "histogram2dcontour": [
           {
            "colorbar": {
             "outlinewidth": 0,
             "ticks": ""
            },
            "colorscale": [
             [
              0,
              "#0d0887"
             ],
             [
              0.1111111111111111,
              "#46039f"
             ],
             [
              0.2222222222222222,
              "#7201a8"
             ],
             [
              0.3333333333333333,
              "#9c179e"
             ],
             [
              0.4444444444444444,
              "#bd3786"
             ],
             [
              0.5555555555555556,
              "#d8576b"
             ],
             [
              0.6666666666666666,
              "#ed7953"
             ],
             [
              0.7777777777777778,
              "#fb9f3a"
             ],
             [
              0.8888888888888888,
              "#fdca26"
             ],
             [
              1,
              "#f0f921"
             ]
            ],
            "type": "histogram2dcontour"
           }
          ],
          "mesh3d": [
           {
            "colorbar": {
             "outlinewidth": 0,
             "ticks": ""
            },
            "type": "mesh3d"
           }
          ],
          "parcoords": [
           {
            "line": {
             "colorbar": {
              "outlinewidth": 0,
              "ticks": ""
             }
            },
            "type": "parcoords"
           }
          ],
          "pie": [
           {
            "automargin": true,
            "type": "pie"
           }
          ],
          "scatter": [
           {
            "fillpattern": {
             "fillmode": "overlay",
             "size": 10,
             "solidity": 0.2
            },
            "type": "scatter"
           }
          ],
          "scatter3d": [
           {
            "line": {
             "colorbar": {
              "outlinewidth": 0,
              "ticks": ""
             }
            },
            "marker": {
             "colorbar": {
              "outlinewidth": 0,
              "ticks": ""
             }
            },
            "type": "scatter3d"
           }
          ],
          "scattercarpet": [
           {
            "marker": {
             "colorbar": {
              "outlinewidth": 0,
              "ticks": ""
             }
            },
            "type": "scattercarpet"
           }
          ],
          "scattergeo": [
           {
            "marker": {
             "colorbar": {
              "outlinewidth": 0,
              "ticks": ""
             }
            },
            "type": "scattergeo"
           }
          ],
          "scattergl": [
           {
            "marker": {
             "colorbar": {
              "outlinewidth": 0,
              "ticks": ""
             }
            },
            "type": "scattergl"
           }
          ],
          "scattermapbox": [
           {
            "marker": {
             "colorbar": {
              "outlinewidth": 0,
              "ticks": ""
             }
            },
            "type": "scattermapbox"
           }
          ],
          "scatterpolar": [
           {
            "marker": {
             "colorbar": {
              "outlinewidth": 0,
              "ticks": ""
             }
            },
            "type": "scatterpolar"
           }
          ],
          "scatterpolargl": [
           {
            "marker": {
             "colorbar": {
              "outlinewidth": 0,
              "ticks": ""
             }
            },
            "type": "scatterpolargl"
           }
          ],
          "scatterternary": [
           {
            "marker": {
             "colorbar": {
              "outlinewidth": 0,
              "ticks": ""
             }
            },
            "type": "scatterternary"
           }
          ],
          "surface": [
           {
            "colorbar": {
             "outlinewidth": 0,
             "ticks": ""
            },
            "colorscale": [
             [
              0,
              "#0d0887"
             ],
             [
              0.1111111111111111,
              "#46039f"
             ],
             [
              0.2222222222222222,
              "#7201a8"
             ],
             [
              0.3333333333333333,
              "#9c179e"
             ],
             [
              0.4444444444444444,
              "#bd3786"
             ],
             [
              0.5555555555555556,
              "#d8576b"
             ],
             [
              0.6666666666666666,
              "#ed7953"
             ],
             [
              0.7777777777777778,
              "#fb9f3a"
             ],
             [
              0.8888888888888888,
              "#fdca26"
             ],
             [
              1,
              "#f0f921"
             ]
            ],
            "type": "surface"
           }
          ],
          "table": [
           {
            "cells": {
             "fill": {
              "color": "#EBF0F8"
             },
             "line": {
              "color": "white"
             }
            },
            "header": {
             "fill": {
              "color": "#C8D4E3"
             },
             "line": {
              "color": "white"
             }
            },
            "type": "table"
           }
          ]
         },
         "layout": {
          "annotationdefaults": {
           "arrowcolor": "#2a3f5f",
           "arrowhead": 0,
           "arrowwidth": 1
          },
          "autotypenumbers": "strict",
          "coloraxis": {
           "colorbar": {
            "outlinewidth": 0,
            "ticks": ""
           }
          },
          "colorscale": {
           "diverging": [
            [
             0,
             "#8e0152"
            ],
            [
             0.1,
             "#c51b7d"
            ],
            [
             0.2,
             "#de77ae"
            ],
            [
             0.3,
             "#f1b6da"
            ],
            [
             0.4,
             "#fde0ef"
            ],
            [
             0.5,
             "#f7f7f7"
            ],
            [
             0.6,
             "#e6f5d0"
            ],
            [
             0.7,
             "#b8e186"
            ],
            [
             0.8,
             "#7fbc41"
            ],
            [
             0.9,
             "#4d9221"
            ],
            [
             1,
             "#276419"
            ]
           ],
           "sequential": [
            [
             0,
             "#0d0887"
            ],
            [
             0.1111111111111111,
             "#46039f"
            ],
            [
             0.2222222222222222,
             "#7201a8"
            ],
            [
             0.3333333333333333,
             "#9c179e"
            ],
            [
             0.4444444444444444,
             "#bd3786"
            ],
            [
             0.5555555555555556,
             "#d8576b"
            ],
            [
             0.6666666666666666,
             "#ed7953"
            ],
            [
             0.7777777777777778,
             "#fb9f3a"
            ],
            [
             0.8888888888888888,
             "#fdca26"
            ],
            [
             1,
             "#f0f921"
            ]
           ],
           "sequentialminus": [
            [
             0,
             "#0d0887"
            ],
            [
             0.1111111111111111,
             "#46039f"
            ],
            [
             0.2222222222222222,
             "#7201a8"
            ],
            [
             0.3333333333333333,
             "#9c179e"
            ],
            [
             0.4444444444444444,
             "#bd3786"
            ],
            [
             0.5555555555555556,
             "#d8576b"
            ],
            [
             0.6666666666666666,
             "#ed7953"
            ],
            [
             0.7777777777777778,
             "#fb9f3a"
            ],
            [
             0.8888888888888888,
             "#fdca26"
            ],
            [
             1,
             "#f0f921"
            ]
           ]
          },
          "colorway": [
           "#636efa",
           "#EF553B",
           "#00cc96",
           "#ab63fa",
           "#FFA15A",
           "#19d3f3",
           "#FF6692",
           "#B6E880",
           "#FF97FF",
           "#FECB52"
          ],
          "font": {
           "color": "#2a3f5f"
          },
          "geo": {
           "bgcolor": "white",
           "lakecolor": "white",
           "landcolor": "#E5ECF6",
           "showlakes": true,
           "showland": true,
           "subunitcolor": "white"
          },
          "hoverlabel": {
           "align": "left"
          },
          "hovermode": "closest",
          "mapbox": {
           "style": "light"
          },
          "paper_bgcolor": "white",
          "plot_bgcolor": "#E5ECF6",
          "polar": {
           "angularaxis": {
            "gridcolor": "white",
            "linecolor": "white",
            "ticks": ""
           },
           "bgcolor": "#E5ECF6",
           "radialaxis": {
            "gridcolor": "white",
            "linecolor": "white",
            "ticks": ""
           }
          },
          "scene": {
           "xaxis": {
            "backgroundcolor": "#E5ECF6",
            "gridcolor": "white",
            "gridwidth": 2,
            "linecolor": "white",
            "showbackground": true,
            "ticks": "",
            "zerolinecolor": "white"
           },
           "yaxis": {
            "backgroundcolor": "#E5ECF6",
            "gridcolor": "white",
            "gridwidth": 2,
            "linecolor": "white",
            "showbackground": true,
            "ticks": "",
            "zerolinecolor": "white"
           },
           "zaxis": {
            "backgroundcolor": "#E5ECF6",
            "gridcolor": "white",
            "gridwidth": 2,
            "linecolor": "white",
            "showbackground": true,
            "ticks": "",
            "zerolinecolor": "white"
           }
          },
          "shapedefaults": {
           "line": {
            "color": "#2a3f5f"
           }
          },
          "ternary": {
           "aaxis": {
            "gridcolor": "white",
            "linecolor": "white",
            "ticks": ""
           },
           "baxis": {
            "gridcolor": "white",
            "linecolor": "white",
            "ticks": ""
           },
           "bgcolor": "#E5ECF6",
           "caxis": {
            "gridcolor": "white",
            "linecolor": "white",
            "ticks": ""
           }
          },
          "title": {
           "x": 0.05
          },
          "xaxis": {
           "automargin": true,
           "gridcolor": "white",
           "linecolor": "white",
           "ticks": "",
           "title": {
            "standoff": 15
           },
           "zerolinecolor": "white",
           "zerolinewidth": 2
          },
          "yaxis": {
           "automargin": true,
           "gridcolor": "white",
           "linecolor": "white",
           "ticks": "",
           "title": {
            "standoff": 15
           },
           "zerolinecolor": "white",
           "zerolinewidth": 2
          }
         }
        },
        "xaxis": {
         "anchor": "y",
         "domain": [
          0,
          1
         ],
         "title": {
          "text": "date"
         }
        },
        "yaxis": {
         "anchor": "x",
         "domain": [
          0,
          1
         ],
         "title": {
          "text": "21-22 (payment)"
         }
        }
       }
      },
      "text/html": [
       "<div>                            <div id=\"4d025d68-3884-40e1-932d-4d7adac4e9a1\" class=\"plotly-graph-div\" style=\"height:525px; width:100%;\"></div>            <script type=\"text/javascript\">                require([\"plotly\"], function(Plotly) {                    window.PLOTLYENV=window.PLOTLYENV || {};                                    if (document.getElementById(\"4d025d68-3884-40e1-932d-4d7adac4e9a1\")) {                    Plotly.newPlot(                        \"4d025d68-3884-40e1-932d-4d7adac4e9a1\",                        [{\"alignmentgroup\":\"True\",\"hovertemplate\":\"date=%{x}<br>21-22 (payment)=%{text}<extra></extra>\",\"legendgroup\":\"\",\"marker\":{\"color\":\"#636efa\",\"pattern\":{\"shape\":\"\"}},\"name\":\"\",\"offsetgroup\":\"\",\"orientation\":\"v\",\"showlegend\":false,\"text\":[7980.0,12285.0,5380.0,5750.0,11080.0,9500.0,7885.0,0.0,7710.0,9020.0,11895.0,10870.0,5135.0,5415.0,4650.0,9700.0,12690.0,2980.0,2540.0,5615.0,4350.0,5690.0,12190.0,4080.0,16720.0,2300.0,17220.0,5360.0,10710.0,14680.0,2750.0,7270.0,15060.0,10170.0,3820.0,6810.0,5310.0,5700.0,6960.0,1910.0,5340.0,7970.0,5390.0,7470.0,900.0,3770.0,6390.0,9280.0,9730.0,320.0,2430.0,8215.0,5905.0,4380.0,0.0,1020.0,3410.0,2670.0,4470.0,630.0,1880.0,14090.0,0.0,10935.0,7345.0,8515.0,7865.0,18140.0,7285.0,16025.0,6690.0,4610.0,5670.0,7995.0,4670.0,3635.0,10240.0,13915.0,1735.0,3975.0,1640.0,5370.0,7560.0,16880.0,1950.0,10240.0,1225.0,4310.0,5660.0,5970.0,8380.0,5010.0,8630.0,8770.0,5370.0,7230.0,3980.0,16130.0,19640.0,5280.0,7220.0,2760.0,10980.0,7280.0,4640.0,14930.0,5430.0,7630.0,9560.0,11600.0,12550.0,5250.0,2710.0,16280.0,9610.0,14320.0,6320.0,2220.0,5470.0,8320.0,17770.0,13320.0,1750.0,4150.0,16660.0,15026.0,18960.0,3080.0,2900.0,8590.0,13570.0,760.0,10190.0,5790.0,14830.0,3100.0,2370.0,8240.0,6200.0,1430.0,19990.0,3790.0,6480.0,6570.0,8920.0,12670.0,11720.0,7610.0,10930.0,3690.0,15290.0,4110.0,8640.0,8380.0,23140.0,2260.0,4670.0,5170.0,19870.0,2300.0,4840.0,13530.0,6540.0,6480.0,0.0,6720.0,9110.0,4030.0,5360.0,8470.0,0.0,2670.0,6430.0,6810.0,8350.0,2090.0,21610.0,9020.0,7850.0,9670.0,29370.0,25270.0,17770.0,16850.0,2800.0,6960.0,5530.0,6830.0,15430.0,6710.0,20610.0,18230.0,7960.0,14780.0,15930.0,15460.0,15890.0,7600.0,4890.0,13110.0,13310.0,11770.0,6390.0,1020.0,21130.0],\"textposition\":\"auto\",\"x\":[\"1400-08-02\",\"1400-08-04\",\"1400-08-03\",\"1400-08-05\",\"1400-08-06\",\"1400-08-07\",\"1400-08-08\",\"1400-08-05\",\"1400-08-09\",\"1400-08-10\",\"1400-08-11\",\"1400-08-12\",\"1400-08-13\",\"1400-08-14\",\"1400-08-15\",\"1400-08-16\",\"1400-08-17\",\"1400-08-18\",\"1400-08-19\",\"1400-08-20\",\"1400-08-21\",\"1400-08-24\",\"1400-08-22\",\"1400-08-23\",\"1400-08-25\",\"1400-08-26\",\"1400-08-27\",\"1400-08-28\",\"1400-08-29\",\"1400-08-30\",\"1400-09-01\",\"1400-09-02\",\"1400-09-03\",\"1400-09-04\",\"1400-09-05\",\"1400-09-06\",\"1400-09-07\",\"1400-09-08\",\"1400-09-09\",\"1400-09-10\",\"1400-09-11\",\"1400-09-12\",\"1400-09-13\",\"1400-09-14\",\"1400-09-15\",\"1400-09-16\",\"1400-09-17\",\"1400-09-18\",\"1400-09-19\",\"1400-09-20\",\"1400-09-21\",\"1400-09-22\",\"1400-09-23\",\"1400-09-24\",\"1400-09-25\",\"1400-09-26\",\"1400-09-27\",\"1400-09-28\",\"1400-09-29\",\"1400-09-30\",\"1400-10-01\",\"1400-10-02\",\"1400-10-04\",\"1400-10-03\",\"1400-10-04\",\"1400-10-05\",\"1400-10-06\",\"1400-10-07\",\"1400-10-08\",\"1400-10-10\",\"1400-10-09\",\"1400-10-11\",\"1400-10-12\",\"1400-10-13\",\"1400-10-14\",\"1400-10-16\",\"1400-10-15\",\"1400-10-17\",\"1400-10-19\",\"1400-10-18\",\"1400-10-20\",\"1400-10-21\",\"1400-10-22\",\"1400-10-23\",\"1400-10-24\",\"1400-10-25\",\"1400-11-02\",\"1400-11-03\",\"1400-11-04\",\"1400-11-05\",\"1400-11-06\",\"1400-11-07\",\"1400-11-08\",\"1400-11-10\",\"1400-11-09\",\"1400-11-11\",\"1400-11-12\",\"1400-11-13\",\"1400-11-14\",\"1400-11-15\",\"1400-11-16\",\"1400-11-17\",\"1400-11-18\",\"1400-11-21\",\"1400-11-19\",\"1400-11-20\",\"1400-11-22\",\"1400-11-23\",\"1400-11-24\",\"1400-11-25\",\"1400-11-26\",\"1400-11-27\",\"1400-12-01\",\"1400-11-28\",\"1400-11-29\",\"1400-11-30\",\"1400-12-02\",\"1400-12-03\",\"1400-12-04\",\"1400-12-05\",\"1400-12-06\",\"1400-12-07\",\"1400-12-09\",\"1400-12-08\",\"1400-12-10\",\"1400-12-11\",\"1400-12-12\",\"1400-12-13\",\"1400-12-15\",\"1400-12-14\",\"1400-12-16\",\"1400-12-17\",\"1400-12-18\",\"1400-12-19\",\"1400-12-20\",\"1400-12-21\",\"1400-12-22\",\"1400-12-23\",\"1400-12-24\",\"1400-12-25\",\"1400-12-26\",\"1400-12-27\",\"1400-12-28\",\"1401-01-02\",\"1401-01-03\",\"1401-01-04\",\"1401-01-05\",\"1401-01-06\",\"1401-01-07\",\"1401-01-08\",\"1401-01-09\",\"1401-01-10\",\"1401-01-11\",\"1401-01-12\",\"1401-01-13\",\"1401-01-14\",\"1401-01-15\",\"1401-01-16\",\"1401-01-17\",\"1401-01-18\",\"1401-01-19\",\"1401-01-20\",\"1401-01-21\",\"1401-01-22\",\"1401-01-21\",\"1401-01-23\",\"1401-01-24\",\"1401-01-25\",\"1401-01-26\",\"1401-01-27\",\"1401-01-28\",\"1401-01-29\",\"1401-01-30\",\"1401-02-06\",\"1401-02-07\",\"1401-02-08\",\"1401-02-09\",\"1401-02-10\",\"1401-02-11\",\"1401-02-12\",\"1401-02-13\",\"1401-02-14\",\"1401-02-15\",\"1401-02-16\",\"1401-02-17\",\"1401-02-18\",\"1401-02-19\",\"1401-02-20\",\"1401-02-21\",\"1401-02-22\",\"1401-02-23\",\"1401-02-24\",\"1401-02-25\",\"1401-02-26\",\"1401-02-27\",\"1401-02-28\",\"1401-02-29\",\"1401-02-30\",\"1401-02-31\",\"1401-03-01\",\"1401-03-02\",\"1401-03-03\",\"1401-03-04\",\"1401-03-05\",\"1401-03-06\"],\"xaxis\":\"x\",\"y\":[7980.0,12285.0,5380.0,5750.0,11080.0,9500.0,7885.0,0.0,7710.0,9020.0,11895.0,10870.0,5135.0,5415.0,4650.0,9700.0,12690.0,2980.0,2540.0,5615.0,4350.0,5690.0,12190.0,4080.0,16720.0,2300.0,17220.0,5360.0,10710.0,14680.0,2750.0,7270.0,15060.0,10170.0,3820.0,6810.0,5310.0,5700.0,6960.0,1910.0,5340.0,7970.0,5390.0,7470.0,900.0,3770.0,6390.0,9280.0,9730.0,320.0,2430.0,8215.0,5905.0,4380.0,0.0,1020.0,3410.0,2670.0,4470.0,630.0,1880.0,14090.0,0.0,10935.0,7345.0,8515.0,7865.0,18140.0,7285.0,16025.0,6690.0,4610.0,5670.0,7995.0,4670.0,3635.0,10240.0,13915.0,1735.0,3975.0,1640.0,5370.0,7560.0,16880.0,1950.0,10240.0,1225.0,4310.0,5660.0,5970.0,8380.0,5010.0,8630.0,8770.0,5370.0,7230.0,3980.0,16130.0,19640.0,5280.0,7220.0,2760.0,10980.0,7280.0,4640.0,14930.0,5430.0,7630.0,9560.0,11600.0,12550.0,5250.0,2710.0,16280.0,9610.0,14320.0,6320.0,2220.0,5470.0,8320.0,17770.0,13320.0,1750.0,4150.0,16660.0,15026.0,18960.0,3080.0,2900.0,8590.0,13570.0,760.0,10190.0,5790.0,14830.0,3100.0,2370.0,8240.0,6200.0,1430.0,19990.0,3790.0,6480.0,6570.0,8920.0,12670.0,11720.0,7610.0,10930.0,3690.0,15290.0,4110.0,8640.0,8380.0,23140.0,2260.0,4670.0,5170.0,19870.0,2300.0,4840.0,13530.0,6540.0,6480.0,0.0,6720.0,9110.0,4030.0,5360.0,8470.0,0.0,2670.0,6430.0,6810.0,8350.0,2090.0,21610.0,9020.0,7850.0,9670.0,29370.0,25270.0,17770.0,16850.0,2800.0,6960.0,5530.0,6830.0,15430.0,6710.0,20610.0,18230.0,7960.0,14780.0,15930.0,15460.0,15890.0,7600.0,4890.0,13110.0,13310.0,11770.0,6390.0,1020.0,21130.0],\"yaxis\":\"y\",\"type\":\"bar\"}],                        {\"template\":{\"data\":{\"histogram2dcontour\":[{\"type\":\"histogram2dcontour\",\"colorbar\":{\"outlinewidth\":0,\"ticks\":\"\"},\"colorscale\":[[0.0,\"#0d0887\"],[0.1111111111111111,\"#46039f\"],[0.2222222222222222,\"#7201a8\"],[0.3333333333333333,\"#9c179e\"],[0.4444444444444444,\"#bd3786\"],[0.5555555555555556,\"#d8576b\"],[0.6666666666666666,\"#ed7953\"],[0.7777777777777778,\"#fb9f3a\"],[0.8888888888888888,\"#fdca26\"],[1.0,\"#f0f921\"]]}],\"choropleth\":[{\"type\":\"choropleth\",\"colorbar\":{\"outlinewidth\":0,\"ticks\":\"\"}}],\"histogram2d\":[{\"type\":\"histogram2d\",\"colorbar\":{\"outlinewidth\":0,\"ticks\":\"\"},\"colorscale\":[[0.0,\"#0d0887\"],[0.1111111111111111,\"#46039f\"],[0.2222222222222222,\"#7201a8\"],[0.3333333333333333,\"#9c179e\"],[0.4444444444444444,\"#bd3786\"],[0.5555555555555556,\"#d8576b\"],[0.6666666666666666,\"#ed7953\"],[0.7777777777777778,\"#fb9f3a\"],[0.8888888888888888,\"#fdca26\"],[1.0,\"#f0f921\"]]}],\"heatmap\":[{\"type\":\"heatmap\",\"colorbar\":{\"outlinewidth\":0,\"ticks\":\"\"},\"colorscale\":[[0.0,\"#0d0887\"],[0.1111111111111111,\"#46039f\"],[0.2222222222222222,\"#7201a8\"],[0.3333333333333333,\"#9c179e\"],[0.4444444444444444,\"#bd3786\"],[0.5555555555555556,\"#d8576b\"],[0.6666666666666666,\"#ed7953\"],[0.7777777777777778,\"#fb9f3a\"],[0.8888888888888888,\"#fdca26\"],[1.0,\"#f0f921\"]]}],\"heatmapgl\":[{\"type\":\"heatmapgl\",\"colorbar\":{\"outlinewidth\":0,\"ticks\":\"\"},\"colorscale\":[[0.0,\"#0d0887\"],[0.1111111111111111,\"#46039f\"],[0.2222222222222222,\"#7201a8\"],[0.3333333333333333,\"#9c179e\"],[0.4444444444444444,\"#bd3786\"],[0.5555555555555556,\"#d8576b\"],[0.6666666666666666,\"#ed7953\"],[0.7777777777777778,\"#fb9f3a\"],[0.8888888888888888,\"#fdca26\"],[1.0,\"#f0f921\"]]}],\"contourcarpet\":[{\"type\":\"contourcarpet\",\"colorbar\":{\"outlinewidth\":0,\"ticks\":\"\"}}],\"contour\":[{\"type\":\"contour\",\"colorbar\":{\"outlinewidth\":0,\"ticks\":\"\"},\"colorscale\":[[0.0,\"#0d0887\"],[0.1111111111111111,\"#46039f\"],[0.2222222222222222,\"#7201a8\"],[0.3333333333333333,\"#9c179e\"],[0.4444444444444444,\"#bd3786\"],[0.5555555555555556,\"#d8576b\"],[0.6666666666666666,\"#ed7953\"],[0.7777777777777778,\"#fb9f3a\"],[0.8888888888888888,\"#fdca26\"],[1.0,\"#f0f921\"]]}],\"surface\":[{\"type\":\"surface\",\"colorbar\":{\"outlinewidth\":0,\"ticks\":\"\"},\"colorscale\":[[0.0,\"#0d0887\"],[0.1111111111111111,\"#46039f\"],[0.2222222222222222,\"#7201a8\"],[0.3333333333333333,\"#9c179e\"],[0.4444444444444444,\"#bd3786\"],[0.5555555555555556,\"#d8576b\"],[0.6666666666666666,\"#ed7953\"],[0.7777777777777778,\"#fb9f3a\"],[0.8888888888888888,\"#fdca26\"],[1.0,\"#f0f921\"]]}],\"mesh3d\":[{\"type\":\"mesh3d\",\"colorbar\":{\"outlinewidth\":0,\"ticks\":\"\"}}],\"scatter\":[{\"fillpattern\":{\"fillmode\":\"overlay\",\"size\":10,\"solidity\":0.2},\"type\":\"scatter\"}],\"parcoords\":[{\"type\":\"parcoords\",\"line\":{\"colorbar\":{\"outlinewidth\":0,\"ticks\":\"\"}}}],\"scatterpolargl\":[{\"type\":\"scatterpolargl\",\"marker\":{\"colorbar\":{\"outlinewidth\":0,\"ticks\":\"\"}}}],\"bar\":[{\"error_x\":{\"color\":\"#2a3f5f\"},\"error_y\":{\"color\":\"#2a3f5f\"},\"marker\":{\"line\":{\"color\":\"#E5ECF6\",\"width\":0.5},\"pattern\":{\"fillmode\":\"overlay\",\"size\":10,\"solidity\":0.2}},\"type\":\"bar\"}],\"scattergeo\":[{\"type\":\"scattergeo\",\"marker\":{\"colorbar\":{\"outlinewidth\":0,\"ticks\":\"\"}}}],\"scatterpolar\":[{\"type\":\"scatterpolar\",\"marker\":{\"colorbar\":{\"outlinewidth\":0,\"ticks\":\"\"}}}],\"histogram\":[{\"marker\":{\"pattern\":{\"fillmode\":\"overlay\",\"size\":10,\"solidity\":0.2}},\"type\":\"histogram\"}],\"scattergl\":[{\"type\":\"scattergl\",\"marker\":{\"colorbar\":{\"outlinewidth\":0,\"ticks\":\"\"}}}],\"scatter3d\":[{\"type\":\"scatter3d\",\"line\":{\"colorbar\":{\"outlinewidth\":0,\"ticks\":\"\"}},\"marker\":{\"colorbar\":{\"outlinewidth\":0,\"ticks\":\"\"}}}],\"scattermapbox\":[{\"type\":\"scattermapbox\",\"marker\":{\"colorbar\":{\"outlinewidth\":0,\"ticks\":\"\"}}}],\"scatterternary\":[{\"type\":\"scatterternary\",\"marker\":{\"colorbar\":{\"outlinewidth\":0,\"ticks\":\"\"}}}],\"scattercarpet\":[{\"type\":\"scattercarpet\",\"marker\":{\"colorbar\":{\"outlinewidth\":0,\"ticks\":\"\"}}}],\"carpet\":[{\"aaxis\":{\"endlinecolor\":\"#2a3f5f\",\"gridcolor\":\"white\",\"linecolor\":\"white\",\"minorgridcolor\":\"white\",\"startlinecolor\":\"#2a3f5f\"},\"baxis\":{\"endlinecolor\":\"#2a3f5f\",\"gridcolor\":\"white\",\"linecolor\":\"white\",\"minorgridcolor\":\"white\",\"startlinecolor\":\"#2a3f5f\"},\"type\":\"carpet\"}],\"table\":[{\"cells\":{\"fill\":{\"color\":\"#EBF0F8\"},\"line\":{\"color\":\"white\"}},\"header\":{\"fill\":{\"color\":\"#C8D4E3\"},\"line\":{\"color\":\"white\"}},\"type\":\"table\"}],\"barpolar\":[{\"marker\":{\"line\":{\"color\":\"#E5ECF6\",\"width\":0.5},\"pattern\":{\"fillmode\":\"overlay\",\"size\":10,\"solidity\":0.2}},\"type\":\"barpolar\"}],\"pie\":[{\"automargin\":true,\"type\":\"pie\"}]},\"layout\":{\"autotypenumbers\":\"strict\",\"colorway\":[\"#636efa\",\"#EF553B\",\"#00cc96\",\"#ab63fa\",\"#FFA15A\",\"#19d3f3\",\"#FF6692\",\"#B6E880\",\"#FF97FF\",\"#FECB52\"],\"font\":{\"color\":\"#2a3f5f\"},\"hovermode\":\"closest\",\"hoverlabel\":{\"align\":\"left\"},\"paper_bgcolor\":\"white\",\"plot_bgcolor\":\"#E5ECF6\",\"polar\":{\"bgcolor\":\"#E5ECF6\",\"angularaxis\":{\"gridcolor\":\"white\",\"linecolor\":\"white\",\"ticks\":\"\"},\"radialaxis\":{\"gridcolor\":\"white\",\"linecolor\":\"white\",\"ticks\":\"\"}},\"ternary\":{\"bgcolor\":\"#E5ECF6\",\"aaxis\":{\"gridcolor\":\"white\",\"linecolor\":\"white\",\"ticks\":\"\"},\"baxis\":{\"gridcolor\":\"white\",\"linecolor\":\"white\",\"ticks\":\"\"},\"caxis\":{\"gridcolor\":\"white\",\"linecolor\":\"white\",\"ticks\":\"\"}},\"coloraxis\":{\"colorbar\":{\"outlinewidth\":0,\"ticks\":\"\"}},\"colorscale\":{\"sequential\":[[0.0,\"#0d0887\"],[0.1111111111111111,\"#46039f\"],[0.2222222222222222,\"#7201a8\"],[0.3333333333333333,\"#9c179e\"],[0.4444444444444444,\"#bd3786\"],[0.5555555555555556,\"#d8576b\"],[0.6666666666666666,\"#ed7953\"],[0.7777777777777778,\"#fb9f3a\"],[0.8888888888888888,\"#fdca26\"],[1.0,\"#f0f921\"]],\"sequentialminus\":[[0.0,\"#0d0887\"],[0.1111111111111111,\"#46039f\"],[0.2222222222222222,\"#7201a8\"],[0.3333333333333333,\"#9c179e\"],[0.4444444444444444,\"#bd3786\"],[0.5555555555555556,\"#d8576b\"],[0.6666666666666666,\"#ed7953\"],[0.7777777777777778,\"#fb9f3a\"],[0.8888888888888888,\"#fdca26\"],[1.0,\"#f0f921\"]],\"diverging\":[[0,\"#8e0152\"],[0.1,\"#c51b7d\"],[0.2,\"#de77ae\"],[0.3,\"#f1b6da\"],[0.4,\"#fde0ef\"],[0.5,\"#f7f7f7\"],[0.6,\"#e6f5d0\"],[0.7,\"#b8e186\"],[0.8,\"#7fbc41\"],[0.9,\"#4d9221\"],[1,\"#276419\"]]},\"xaxis\":{\"gridcolor\":\"white\",\"linecolor\":\"white\",\"ticks\":\"\",\"title\":{\"standoff\":15},\"zerolinecolor\":\"white\",\"automargin\":true,\"zerolinewidth\":2},\"yaxis\":{\"gridcolor\":\"white\",\"linecolor\":\"white\",\"ticks\":\"\",\"title\":{\"standoff\":15},\"zerolinecolor\":\"white\",\"automargin\":true,\"zerolinewidth\":2},\"scene\":{\"xaxis\":{\"backgroundcolor\":\"#E5ECF6\",\"gridcolor\":\"white\",\"linecolor\":\"white\",\"showbackground\":true,\"ticks\":\"\",\"zerolinecolor\":\"white\",\"gridwidth\":2},\"yaxis\":{\"backgroundcolor\":\"#E5ECF6\",\"gridcolor\":\"white\",\"linecolor\":\"white\",\"showbackground\":true,\"ticks\":\"\",\"zerolinecolor\":\"white\",\"gridwidth\":2},\"zaxis\":{\"backgroundcolor\":\"#E5ECF6\",\"gridcolor\":\"white\",\"linecolor\":\"white\",\"showbackground\":true,\"ticks\":\"\",\"zerolinecolor\":\"white\",\"gridwidth\":2}},\"shapedefaults\":{\"line\":{\"color\":\"#2a3f5f\"}},\"annotationdefaults\":{\"arrowcolor\":\"#2a3f5f\",\"arrowhead\":0,\"arrowwidth\":1},\"geo\":{\"bgcolor\":\"white\",\"landcolor\":\"#E5ECF6\",\"subunitcolor\":\"white\",\"showland\":true,\"showlakes\":true,\"lakecolor\":\"white\"},\"title\":{\"x\":0.05},\"mapbox\":{\"style\":\"light\"}}},\"xaxis\":{\"anchor\":\"y\",\"domain\":[0.0,1.0],\"title\":{\"text\":\"date\"}},\"yaxis\":{\"anchor\":\"x\",\"domain\":[0.0,1.0],\"title\":{\"text\":\"21-22 (payment)\"}},\"legend\":{\"tracegroupgap\":0},\"margin\":{\"t\":60},\"barmode\":\"relative\"},                        {\"responsive\": true}                    ).then(function(){\n",
       "                            \n",
       "var gd = document.getElementById('4d025d68-3884-40e1-932d-4d7adac4e9a1');\n",
       "var x = new MutationObserver(function (mutations, observer) {{\n",
       "        var display = window.getComputedStyle(gd).display;\n",
       "        if (!display || display === 'none') {{\n",
       "            console.log([gd, 'removed!']);\n",
       "            Plotly.purge(gd);\n",
       "            observer.disconnect();\n",
       "        }}\n",
       "}});\n",
       "\n",
       "// Listen for the removal of the full notebook cells\n",
       "var notebookContainer = gd.closest('#notebook-container');\n",
       "if (notebookContainer) {{\n",
       "    x.observe(notebookContainer, {childList: true});\n",
       "}}\n",
       "\n",
       "// Listen for the clearing of the current output cell\n",
       "var outputEl = gd.closest('.output');\n",
       "if (outputEl) {{\n",
       "    x.observe(outputEl, {childList: true});\n",
       "}}\n",
       "\n",
       "                        })                };                });            </script>        </div>"
      ]
     },
     "metadata": {},
     "output_type": "display_data"
    },
    {
     "data": {
      "application/vnd.plotly.v1+json": {
       "config": {
        "plotlyServerURL": "https://plot.ly"
       },
       "data": [
        {
         "alignmentgroup": "True",
         "hovertemplate": "08-18 (count)=%{x}<br>factorNumber=%{text}<extra></extra>",
         "legendgroup": "",
         "marker": {
          "color": "#636efa",
          "pattern": {
           "shape": ""
          }
         },
         "name": "",
         "offsetgroup": "",
         "orientation": "v",
         "showlegend": false,
         "text": [
          69,
          61,
          38,
          42,
          68,
          54,
          51,
          9,
          50,
          45,
          67,
          60,
          55,
          54,
          44,
          47,
          61,
          37,
          38,
          66,
          57,
          61,
          51,
          61,
          49,
          40,
          76,
          82,
          41,
          53,
          39,
          31,
          38,
          54,
          67,
          51,
          43,
          41,
          43,
          36,
          63,
          68,
          35,
          38,
          18,
          44,
          37,
          49,
          47,
          34,
          14,
          43,
          35,
          40,
          63,
          25,
          33,
          23,
          33,
          13,
          27,
          65,
          3,
          42,
          68,
          35,
          39,
          50,
          46,
          70,
          67,
          42,
          29,
          38,
          62,
          76,
          34,
          46,
          29,
          42,
          23,
          27,
          49,
          59,
          59,
          46,
          25,
          45,
          26,
          24,
          44,
          65,
          44,
          41,
          27,
          61,
          32,
          71,
          88,
          63,
          54,
          31,
          37,
          63,
          46,
          49,
          53,
          38,
          50,
          69,
          79,
          31,
          30,
          77,
          60,
          74,
          37,
          40,
          51,
          82,
          66,
          55,
          30,
          44,
          84,
          60,
          67,
          52,
          28,
          47,
          45,
          49,
          44,
          60,
          77,
          77,
          66,
          48,
          39,
          48,
          48,
          41,
          50,
          94,
          64,
          92,
          63,
          78,
          97,
          90,
          100,
          98,
          86,
          114,
          82,
          47,
          36,
          55,
          70,
          49,
          62,
          79,
          48,
          38,
          3,
          48,
          71,
          65,
          61,
          53,
          31,
          78,
          51,
          60,
          64,
          62,
          79,
          44,
          82,
          94,
          107,
          102,
          148,
          88,
          75,
          79,
          62,
          70,
          69,
          135,
          99,
          72,
          62,
          60,
          86,
          96,
          121,
          85,
          77,
          50,
          64,
          83,
          74,
          95,
          84
         ],
         "textposition": "auto",
         "type": "bar",
         "x": [
          4,
          0,
          0,
          0,
          2,
          0,
          0,
          0,
          0,
          0,
          0,
          0,
          1,
          13,
          0,
          0,
          0,
          0,
          0,
          4,
          13,
          0,
          0,
          6,
          0,
          0,
          7,
          0,
          0,
          0,
          0,
          0,
          0,
          0,
          7,
          0,
          0,
          0,
          0,
          0,
          0,
          5,
          0,
          0,
          0,
          0,
          0,
          0,
          5,
          0,
          0,
          0,
          0,
          0,
          0,
          6,
          0,
          0,
          0,
          0,
          0,
          0,
          3,
          1,
          0,
          3,
          0,
          0,
          0,
          0,
          0,
          0,
          0,
          3,
          0,
          0,
          0,
          0,
          0,
          0,
          0,
          0,
          0,
          0,
          0,
          0,
          0,
          0,
          0,
          0,
          0,
          0,
          0,
          0,
          0,
          0,
          0,
          0,
          0,
          0,
          0,
          0,
          0,
          0,
          0,
          0,
          7,
          0,
          0,
          0,
          0,
          0,
          0,
          0,
          0,
          0,
          0,
          0,
          0,
          0,
          0,
          0,
          0,
          0,
          0,
          0,
          0,
          0,
          0,
          0,
          0,
          0,
          0,
          0,
          7,
          0,
          0,
          0,
          1,
          0,
          0,
          0,
          0,
          0,
          0,
          3,
          5,
          0,
          0,
          0,
          0,
          0,
          0,
          0,
          0,
          0,
          0,
          0,
          0,
          0,
          0,
          0,
          0,
          0,
          0,
          0,
          0,
          0,
          0,
          0,
          0,
          0,
          0,
          0,
          0,
          0,
          0,
          0,
          0,
          0,
          4,
          0,
          0,
          0,
          0,
          0,
          0,
          0,
          0,
          0,
          0,
          0,
          0,
          0,
          0,
          0,
          0,
          0,
          0,
          0,
          0,
          0,
          0,
          0,
          0
         ],
         "xaxis": "x",
         "y": [
          69,
          61,
          38,
          42,
          68,
          54,
          51,
          9,
          50,
          45,
          67,
          60,
          55,
          54,
          44,
          47,
          61,
          37,
          38,
          66,
          57,
          61,
          51,
          61,
          49,
          40,
          76,
          82,
          41,
          53,
          39,
          31,
          38,
          54,
          67,
          51,
          43,
          41,
          43,
          36,
          63,
          68,
          35,
          38,
          18,
          44,
          37,
          49,
          47,
          34,
          14,
          43,
          35,
          40,
          63,
          25,
          33,
          23,
          33,
          13,
          27,
          65,
          3,
          42,
          68,
          35,
          39,
          50,
          46,
          70,
          67,
          42,
          29,
          38,
          62,
          76,
          34,
          46,
          29,
          42,
          23,
          27,
          49,
          59,
          59,
          46,
          25,
          45,
          26,
          24,
          44,
          65,
          44,
          41,
          27,
          61,
          32,
          71,
          88,
          63,
          54,
          31,
          37,
          63,
          46,
          49,
          53,
          38,
          50,
          69,
          79,
          31,
          30,
          77,
          60,
          74,
          37,
          40,
          51,
          82,
          66,
          55,
          30,
          44,
          84,
          60,
          67,
          52,
          28,
          47,
          45,
          49,
          44,
          60,
          77,
          77,
          66,
          48,
          39,
          48,
          48,
          41,
          50,
          94,
          64,
          92,
          63,
          78,
          97,
          90,
          100,
          98,
          86,
          114,
          82,
          47,
          36,
          55,
          70,
          49,
          62,
          79,
          48,
          38,
          3,
          48,
          71,
          65,
          61,
          53,
          31,
          78,
          51,
          60,
          64,
          62,
          79,
          44,
          82,
          94,
          107,
          102,
          148,
          88,
          75,
          79,
          62,
          70,
          69,
          135,
          99,
          72,
          62,
          60,
          86,
          96,
          121,
          85,
          77,
          50,
          64,
          83,
          74,
          95,
          84
         ],
         "yaxis": "y"
        }
       ],
       "layout": {
        "barmode": "relative",
        "legend": {
         "tracegroupgap": 0
        },
        "margin": {
         "t": 60
        },
        "template": {
         "data": {
          "bar": [
           {
            "error_x": {
             "color": "#2a3f5f"
            },
            "error_y": {
             "color": "#2a3f5f"
            },
            "marker": {
             "line": {
              "color": "#E5ECF6",
              "width": 0.5
             },
             "pattern": {
              "fillmode": "overlay",
              "size": 10,
              "solidity": 0.2
             }
            },
            "type": "bar"
           }
          ],
          "barpolar": [
           {
            "marker": {
             "line": {
              "color": "#E5ECF6",
              "width": 0.5
             },
             "pattern": {
              "fillmode": "overlay",
              "size": 10,
              "solidity": 0.2
             }
            },
            "type": "barpolar"
           }
          ],
          "carpet": [
           {
            "aaxis": {
             "endlinecolor": "#2a3f5f",
             "gridcolor": "white",
             "linecolor": "white",
             "minorgridcolor": "white",
             "startlinecolor": "#2a3f5f"
            },
            "baxis": {
             "endlinecolor": "#2a3f5f",
             "gridcolor": "white",
             "linecolor": "white",
             "minorgridcolor": "white",
             "startlinecolor": "#2a3f5f"
            },
            "type": "carpet"
           }
          ],
          "choropleth": [
           {
            "colorbar": {
             "outlinewidth": 0,
             "ticks": ""
            },
            "type": "choropleth"
           }
          ],
          "contour": [
           {
            "colorbar": {
             "outlinewidth": 0,
             "ticks": ""
            },
            "colorscale": [
             [
              0,
              "#0d0887"
             ],
             [
              0.1111111111111111,
              "#46039f"
             ],
             [
              0.2222222222222222,
              "#7201a8"
             ],
             [
              0.3333333333333333,
              "#9c179e"
             ],
             [
              0.4444444444444444,
              "#bd3786"
             ],
             [
              0.5555555555555556,
              "#d8576b"
             ],
             [
              0.6666666666666666,
              "#ed7953"
             ],
             [
              0.7777777777777778,
              "#fb9f3a"
             ],
             [
              0.8888888888888888,
              "#fdca26"
             ],
             [
              1,
              "#f0f921"
             ]
            ],
            "type": "contour"
           }
          ],
          "contourcarpet": [
           {
            "colorbar": {
             "outlinewidth": 0,
             "ticks": ""
            },
            "type": "contourcarpet"
           }
          ],
          "heatmap": [
           {
            "colorbar": {
             "outlinewidth": 0,
             "ticks": ""
            },
            "colorscale": [
             [
              0,
              "#0d0887"
             ],
             [
              0.1111111111111111,
              "#46039f"
             ],
             [
              0.2222222222222222,
              "#7201a8"
             ],
             [
              0.3333333333333333,
              "#9c179e"
             ],
             [
              0.4444444444444444,
              "#bd3786"
             ],
             [
              0.5555555555555556,
              "#d8576b"
             ],
             [
              0.6666666666666666,
              "#ed7953"
             ],
             [
              0.7777777777777778,
              "#fb9f3a"
             ],
             [
              0.8888888888888888,
              "#fdca26"
             ],
             [
              1,
              "#f0f921"
             ]
            ],
            "type": "heatmap"
           }
          ],
          "heatmapgl": [
           {
            "colorbar": {
             "outlinewidth": 0,
             "ticks": ""
            },
            "colorscale": [
             [
              0,
              "#0d0887"
             ],
             [
              0.1111111111111111,
              "#46039f"
             ],
             [
              0.2222222222222222,
              "#7201a8"
             ],
             [
              0.3333333333333333,
              "#9c179e"
             ],
             [
              0.4444444444444444,
              "#bd3786"
             ],
             [
              0.5555555555555556,
              "#d8576b"
             ],
             [
              0.6666666666666666,
              "#ed7953"
             ],
             [
              0.7777777777777778,
              "#fb9f3a"
             ],
             [
              0.8888888888888888,
              "#fdca26"
             ],
             [
              1,
              "#f0f921"
             ]
            ],
            "type": "heatmapgl"
           }
          ],
          "histogram": [
           {
            "marker": {
             "pattern": {
              "fillmode": "overlay",
              "size": 10,
              "solidity": 0.2
             }
            },
            "type": "histogram"
           }
          ],
          "histogram2d": [
           {
            "colorbar": {
             "outlinewidth": 0,
             "ticks": ""
            },
            "colorscale": [
             [
              0,
              "#0d0887"
             ],
             [
              0.1111111111111111,
              "#46039f"
             ],
             [
              0.2222222222222222,
              "#7201a8"
             ],
             [
              0.3333333333333333,
              "#9c179e"
             ],
             [
              0.4444444444444444,
              "#bd3786"
             ],
             [
              0.5555555555555556,
              "#d8576b"
             ],
             [
              0.6666666666666666,
              "#ed7953"
             ],
             [
              0.7777777777777778,
              "#fb9f3a"
             ],
             [
              0.8888888888888888,
              "#fdca26"
             ],
             [
              1,
              "#f0f921"
             ]
            ],
            "type": "histogram2d"
           }
          ],
          "histogram2dcontour": [
           {
            "colorbar": {
             "outlinewidth": 0,
             "ticks": ""
            },
            "colorscale": [
             [
              0,
              "#0d0887"
             ],
             [
              0.1111111111111111,
              "#46039f"
             ],
             [
              0.2222222222222222,
              "#7201a8"
             ],
             [
              0.3333333333333333,
              "#9c179e"
             ],
             [
              0.4444444444444444,
              "#bd3786"
             ],
             [
              0.5555555555555556,
              "#d8576b"
             ],
             [
              0.6666666666666666,
              "#ed7953"
             ],
             [
              0.7777777777777778,
              "#fb9f3a"
             ],
             [
              0.8888888888888888,
              "#fdca26"
             ],
             [
              1,
              "#f0f921"
             ]
            ],
            "type": "histogram2dcontour"
           }
          ],
          "mesh3d": [
           {
            "colorbar": {
             "outlinewidth": 0,
             "ticks": ""
            },
            "type": "mesh3d"
           }
          ],
          "parcoords": [
           {
            "line": {
             "colorbar": {
              "outlinewidth": 0,
              "ticks": ""
             }
            },
            "type": "parcoords"
           }
          ],
          "pie": [
           {
            "automargin": true,
            "type": "pie"
           }
          ],
          "scatter": [
           {
            "fillpattern": {
             "fillmode": "overlay",
             "size": 10,
             "solidity": 0.2
            },
            "type": "scatter"
           }
          ],
          "scatter3d": [
           {
            "line": {
             "colorbar": {
              "outlinewidth": 0,
              "ticks": ""
             }
            },
            "marker": {
             "colorbar": {
              "outlinewidth": 0,
              "ticks": ""
             }
            },
            "type": "scatter3d"
           }
          ],
          "scattercarpet": [
           {
            "marker": {
             "colorbar": {
              "outlinewidth": 0,
              "ticks": ""
             }
            },
            "type": "scattercarpet"
           }
          ],
          "scattergeo": [
           {
            "marker": {
             "colorbar": {
              "outlinewidth": 0,
              "ticks": ""
             }
            },
            "type": "scattergeo"
           }
          ],
          "scattergl": [
           {
            "marker": {
             "colorbar": {
              "outlinewidth": 0,
              "ticks": ""
             }
            },
            "type": "scattergl"
           }
          ],
          "scattermapbox": [
           {
            "marker": {
             "colorbar": {
              "outlinewidth": 0,
              "ticks": ""
             }
            },
            "type": "scattermapbox"
           }
          ],
          "scatterpolar": [
           {
            "marker": {
             "colorbar": {
              "outlinewidth": 0,
              "ticks": ""
             }
            },
            "type": "scatterpolar"
           }
          ],
          "scatterpolargl": [
           {
            "marker": {
             "colorbar": {
              "outlinewidth": 0,
              "ticks": ""
             }
            },
            "type": "scatterpolargl"
           }
          ],
          "scatterternary": [
           {
            "marker": {
             "colorbar": {
              "outlinewidth": 0,
              "ticks": ""
             }
            },
            "type": "scatterternary"
           }
          ],
          "surface": [
           {
            "colorbar": {
             "outlinewidth": 0,
             "ticks": ""
            },
            "colorscale": [
             [
              0,
              "#0d0887"
             ],
             [
              0.1111111111111111,
              "#46039f"
             ],
             [
              0.2222222222222222,
              "#7201a8"
             ],
             [
              0.3333333333333333,
              "#9c179e"
             ],
             [
              0.4444444444444444,
              "#bd3786"
             ],
             [
              0.5555555555555556,
              "#d8576b"
             ],
             [
              0.6666666666666666,
              "#ed7953"
             ],
             [
              0.7777777777777778,
              "#fb9f3a"
             ],
             [
              0.8888888888888888,
              "#fdca26"
             ],
             [
              1,
              "#f0f921"
             ]
            ],
            "type": "surface"
           }
          ],
          "table": [
           {
            "cells": {
             "fill": {
              "color": "#EBF0F8"
             },
             "line": {
              "color": "white"
             }
            },
            "header": {
             "fill": {
              "color": "#C8D4E3"
             },
             "line": {
              "color": "white"
             }
            },
            "type": "table"
           }
          ]
         },
         "layout": {
          "annotationdefaults": {
           "arrowcolor": "#2a3f5f",
           "arrowhead": 0,
           "arrowwidth": 1
          },
          "autotypenumbers": "strict",
          "coloraxis": {
           "colorbar": {
            "outlinewidth": 0,
            "ticks": ""
           }
          },
          "colorscale": {
           "diverging": [
            [
             0,
             "#8e0152"
            ],
            [
             0.1,
             "#c51b7d"
            ],
            [
             0.2,
             "#de77ae"
            ],
            [
             0.3,
             "#f1b6da"
            ],
            [
             0.4,
             "#fde0ef"
            ],
            [
             0.5,
             "#f7f7f7"
            ],
            [
             0.6,
             "#e6f5d0"
            ],
            [
             0.7,
             "#b8e186"
            ],
            [
             0.8,
             "#7fbc41"
            ],
            [
             0.9,
             "#4d9221"
            ],
            [
             1,
             "#276419"
            ]
           ],
           "sequential": [
            [
             0,
             "#0d0887"
            ],
            [
             0.1111111111111111,
             "#46039f"
            ],
            [
             0.2222222222222222,
             "#7201a8"
            ],
            [
             0.3333333333333333,
             "#9c179e"
            ],
            [
             0.4444444444444444,
             "#bd3786"
            ],
            [
             0.5555555555555556,
             "#d8576b"
            ],
            [
             0.6666666666666666,
             "#ed7953"
            ],
            [
             0.7777777777777778,
             "#fb9f3a"
            ],
            [
             0.8888888888888888,
             "#fdca26"
            ],
            [
             1,
             "#f0f921"
            ]
           ],
           "sequentialminus": [
            [
             0,
             "#0d0887"
            ],
            [
             0.1111111111111111,
             "#46039f"
            ],
            [
             0.2222222222222222,
             "#7201a8"
            ],
            [
             0.3333333333333333,
             "#9c179e"
            ],
            [
             0.4444444444444444,
             "#bd3786"
            ],
            [
             0.5555555555555556,
             "#d8576b"
            ],
            [
             0.6666666666666666,
             "#ed7953"
            ],
            [
             0.7777777777777778,
             "#fb9f3a"
            ],
            [
             0.8888888888888888,
             "#fdca26"
            ],
            [
             1,
             "#f0f921"
            ]
           ]
          },
          "colorway": [
           "#636efa",
           "#EF553B",
           "#00cc96",
           "#ab63fa",
           "#FFA15A",
           "#19d3f3",
           "#FF6692",
           "#B6E880",
           "#FF97FF",
           "#FECB52"
          ],
          "font": {
           "color": "#2a3f5f"
          },
          "geo": {
           "bgcolor": "white",
           "lakecolor": "white",
           "landcolor": "#E5ECF6",
           "showlakes": true,
           "showland": true,
           "subunitcolor": "white"
          },
          "hoverlabel": {
           "align": "left"
          },
          "hovermode": "closest",
          "mapbox": {
           "style": "light"
          },
          "paper_bgcolor": "white",
          "plot_bgcolor": "#E5ECF6",
          "polar": {
           "angularaxis": {
            "gridcolor": "white",
            "linecolor": "white",
            "ticks": ""
           },
           "bgcolor": "#E5ECF6",
           "radialaxis": {
            "gridcolor": "white",
            "linecolor": "white",
            "ticks": ""
           }
          },
          "scene": {
           "xaxis": {
            "backgroundcolor": "#E5ECF6",
            "gridcolor": "white",
            "gridwidth": 2,
            "linecolor": "white",
            "showbackground": true,
            "ticks": "",
            "zerolinecolor": "white"
           },
           "yaxis": {
            "backgroundcolor": "#E5ECF6",
            "gridcolor": "white",
            "gridwidth": 2,
            "linecolor": "white",
            "showbackground": true,
            "ticks": "",
            "zerolinecolor": "white"
           },
           "zaxis": {
            "backgroundcolor": "#E5ECF6",
            "gridcolor": "white",
            "gridwidth": 2,
            "linecolor": "white",
            "showbackground": true,
            "ticks": "",
            "zerolinecolor": "white"
           }
          },
          "shapedefaults": {
           "line": {
            "color": "#2a3f5f"
           }
          },
          "ternary": {
           "aaxis": {
            "gridcolor": "white",
            "linecolor": "white",
            "ticks": ""
           },
           "baxis": {
            "gridcolor": "white",
            "linecolor": "white",
            "ticks": ""
           },
           "bgcolor": "#E5ECF6",
           "caxis": {
            "gridcolor": "white",
            "linecolor": "white",
            "ticks": ""
           }
          },
          "title": {
           "x": 0.05
          },
          "xaxis": {
           "automargin": true,
           "gridcolor": "white",
           "linecolor": "white",
           "ticks": "",
           "title": {
            "standoff": 15
           },
           "zerolinecolor": "white",
           "zerolinewidth": 2
          },
          "yaxis": {
           "automargin": true,
           "gridcolor": "white",
           "linecolor": "white",
           "ticks": "",
           "title": {
            "standoff": 15
           },
           "zerolinecolor": "white",
           "zerolinewidth": 2
          }
         }
        },
        "xaxis": {
         "anchor": "y",
         "domain": [
          0,
          1
         ],
         "title": {
          "text": "08-18 (count)"
         }
        },
        "yaxis": {
         "anchor": "x",
         "domain": [
          0,
          1
         ],
         "title": {
          "text": "factorNumber"
         }
        }
       }
      },
      "text/html": [
       "<div>                            <div id=\"50168af5-429d-4fdc-8501-cd4c28ce8921\" class=\"plotly-graph-div\" style=\"height:525px; width:100%;\"></div>            <script type=\"text/javascript\">                require([\"plotly\"], function(Plotly) {                    window.PLOTLYENV=window.PLOTLYENV || {};                                    if (document.getElementById(\"50168af5-429d-4fdc-8501-cd4c28ce8921\")) {                    Plotly.newPlot(                        \"50168af5-429d-4fdc-8501-cd4c28ce8921\",                        [{\"alignmentgroup\":\"True\",\"hovertemplate\":\"08-18 (count)=%{x}<br>factorNumber=%{text}<extra></extra>\",\"legendgroup\":\"\",\"marker\":{\"color\":\"#636efa\",\"pattern\":{\"shape\":\"\"}},\"name\":\"\",\"offsetgroup\":\"\",\"orientation\":\"v\",\"showlegend\":false,\"text\":[69.0,61.0,38.0,42.0,68.0,54.0,51.0,9.0,50.0,45.0,67.0,60.0,55.0,54.0,44.0,47.0,61.0,37.0,38.0,66.0,57.0,61.0,51.0,61.0,49.0,40.0,76.0,82.0,41.0,53.0,39.0,31.0,38.0,54.0,67.0,51.0,43.0,41.0,43.0,36.0,63.0,68.0,35.0,38.0,18.0,44.0,37.0,49.0,47.0,34.0,14.0,43.0,35.0,40.0,63.0,25.0,33.0,23.0,33.0,13.0,27.0,65.0,3.0,42.0,68.0,35.0,39.0,50.0,46.0,70.0,67.0,42.0,29.0,38.0,62.0,76.0,34.0,46.0,29.0,42.0,23.0,27.0,49.0,59.0,59.0,46.0,25.0,45.0,26.0,24.0,44.0,65.0,44.0,41.0,27.0,61.0,32.0,71.0,88.0,63.0,54.0,31.0,37.0,63.0,46.0,49.0,53.0,38.0,50.0,69.0,79.0,31.0,30.0,77.0,60.0,74.0,37.0,40.0,51.0,82.0,66.0,55.0,30.0,44.0,84.0,60.0,67.0,52.0,28.0,47.0,45.0,49.0,44.0,60.0,77.0,77.0,66.0,48.0,39.0,48.0,48.0,41.0,50.0,94.0,64.0,92.0,63.0,78.0,97.0,90.0,100.0,98.0,86.0,114.0,82.0,47.0,36.0,55.0,70.0,49.0,62.0,79.0,48.0,38.0,3.0,48.0,71.0,65.0,61.0,53.0,31.0,78.0,51.0,60.0,64.0,62.0,79.0,44.0,82.0,94.0,107.0,102.0,148.0,88.0,75.0,79.0,62.0,70.0,69.0,135.0,99.0,72.0,62.0,60.0,86.0,96.0,121.0,85.0,77.0,50.0,64.0,83.0,74.0,95.0,84.0],\"textposition\":\"auto\",\"x\":[4,0,0,0,2,0,0,0,0,0,0,0,1,13,0,0,0,0,0,4,13,0,0,6,0,0,7,0,0,0,0,0,0,0,7,0,0,0,0,0,0,5,0,0,0,0,0,0,5,0,0,0,0,0,0,6,0,0,0,0,0,0,3,1,0,3,0,0,0,0,0,0,0,3,0,0,0,0,0,0,0,0,0,0,0,0,0,0,0,0,0,0,0,0,0,0,0,0,0,0,0,0,0,0,0,0,7,0,0,0,0,0,0,0,0,0,0,0,0,0,0,0,0,0,0,0,0,0,0,0,0,0,0,0,7,0,0,0,1,0,0,0,0,0,0,3,5,0,0,0,0,0,0,0,0,0,0,0,0,0,0,0,0,0,0,0,0,0,0,0,0,0,0,0,0,0,0,0,0,0,4,0,0,0,0,0,0,0,0,0,0,0,0,0,0,0,0,0,0,0,0,0,0,0,0],\"xaxis\":\"x\",\"y\":[69,61,38,42,68,54,51,9,50,45,67,60,55,54,44,47,61,37,38,66,57,61,51,61,49,40,76,82,41,53,39,31,38,54,67,51,43,41,43,36,63,68,35,38,18,44,37,49,47,34,14,43,35,40,63,25,33,23,33,13,27,65,3,42,68,35,39,50,46,70,67,42,29,38,62,76,34,46,29,42,23,27,49,59,59,46,25,45,26,24,44,65,44,41,27,61,32,71,88,63,54,31,37,63,46,49,53,38,50,69,79,31,30,77,60,74,37,40,51,82,66,55,30,44,84,60,67,52,28,47,45,49,44,60,77,77,66,48,39,48,48,41,50,94,64,92,63,78,97,90,100,98,86,114,82,47,36,55,70,49,62,79,48,38,3,48,71,65,61,53,31,78,51,60,64,62,79,44,82,94,107,102,148,88,75,79,62,70,69,135,99,72,62,60,86,96,121,85,77,50,64,83,74,95,84],\"yaxis\":\"y\",\"type\":\"bar\"}],                        {\"template\":{\"data\":{\"histogram2dcontour\":[{\"type\":\"histogram2dcontour\",\"colorbar\":{\"outlinewidth\":0,\"ticks\":\"\"},\"colorscale\":[[0.0,\"#0d0887\"],[0.1111111111111111,\"#46039f\"],[0.2222222222222222,\"#7201a8\"],[0.3333333333333333,\"#9c179e\"],[0.4444444444444444,\"#bd3786\"],[0.5555555555555556,\"#d8576b\"],[0.6666666666666666,\"#ed7953\"],[0.7777777777777778,\"#fb9f3a\"],[0.8888888888888888,\"#fdca26\"],[1.0,\"#f0f921\"]]}],\"choropleth\":[{\"type\":\"choropleth\",\"colorbar\":{\"outlinewidth\":0,\"ticks\":\"\"}}],\"histogram2d\":[{\"type\":\"histogram2d\",\"colorbar\":{\"outlinewidth\":0,\"ticks\":\"\"},\"colorscale\":[[0.0,\"#0d0887\"],[0.1111111111111111,\"#46039f\"],[0.2222222222222222,\"#7201a8\"],[0.3333333333333333,\"#9c179e\"],[0.4444444444444444,\"#bd3786\"],[0.5555555555555556,\"#d8576b\"],[0.6666666666666666,\"#ed7953\"],[0.7777777777777778,\"#fb9f3a\"],[0.8888888888888888,\"#fdca26\"],[1.0,\"#f0f921\"]]}],\"heatmap\":[{\"type\":\"heatmap\",\"colorbar\":{\"outlinewidth\":0,\"ticks\":\"\"},\"colorscale\":[[0.0,\"#0d0887\"],[0.1111111111111111,\"#46039f\"],[0.2222222222222222,\"#7201a8\"],[0.3333333333333333,\"#9c179e\"],[0.4444444444444444,\"#bd3786\"],[0.5555555555555556,\"#d8576b\"],[0.6666666666666666,\"#ed7953\"],[0.7777777777777778,\"#fb9f3a\"],[0.8888888888888888,\"#fdca26\"],[1.0,\"#f0f921\"]]}],\"heatmapgl\":[{\"type\":\"heatmapgl\",\"colorbar\":{\"outlinewidth\":0,\"ticks\":\"\"},\"colorscale\":[[0.0,\"#0d0887\"],[0.1111111111111111,\"#46039f\"],[0.2222222222222222,\"#7201a8\"],[0.3333333333333333,\"#9c179e\"],[0.4444444444444444,\"#bd3786\"],[0.5555555555555556,\"#d8576b\"],[0.6666666666666666,\"#ed7953\"],[0.7777777777777778,\"#fb9f3a\"],[0.8888888888888888,\"#fdca26\"],[1.0,\"#f0f921\"]]}],\"contourcarpet\":[{\"type\":\"contourcarpet\",\"colorbar\":{\"outlinewidth\":0,\"ticks\":\"\"}}],\"contour\":[{\"type\":\"contour\",\"colorbar\":{\"outlinewidth\":0,\"ticks\":\"\"},\"colorscale\":[[0.0,\"#0d0887\"],[0.1111111111111111,\"#46039f\"],[0.2222222222222222,\"#7201a8\"],[0.3333333333333333,\"#9c179e\"],[0.4444444444444444,\"#bd3786\"],[0.5555555555555556,\"#d8576b\"],[0.6666666666666666,\"#ed7953\"],[0.7777777777777778,\"#fb9f3a\"],[0.8888888888888888,\"#fdca26\"],[1.0,\"#f0f921\"]]}],\"surface\":[{\"type\":\"surface\",\"colorbar\":{\"outlinewidth\":0,\"ticks\":\"\"},\"colorscale\":[[0.0,\"#0d0887\"],[0.1111111111111111,\"#46039f\"],[0.2222222222222222,\"#7201a8\"],[0.3333333333333333,\"#9c179e\"],[0.4444444444444444,\"#bd3786\"],[0.5555555555555556,\"#d8576b\"],[0.6666666666666666,\"#ed7953\"],[0.7777777777777778,\"#fb9f3a\"],[0.8888888888888888,\"#fdca26\"],[1.0,\"#f0f921\"]]}],\"mesh3d\":[{\"type\":\"mesh3d\",\"colorbar\":{\"outlinewidth\":0,\"ticks\":\"\"}}],\"scatter\":[{\"fillpattern\":{\"fillmode\":\"overlay\",\"size\":10,\"solidity\":0.2},\"type\":\"scatter\"}],\"parcoords\":[{\"type\":\"parcoords\",\"line\":{\"colorbar\":{\"outlinewidth\":0,\"ticks\":\"\"}}}],\"scatterpolargl\":[{\"type\":\"scatterpolargl\",\"marker\":{\"colorbar\":{\"outlinewidth\":0,\"ticks\":\"\"}}}],\"bar\":[{\"error_x\":{\"color\":\"#2a3f5f\"},\"error_y\":{\"color\":\"#2a3f5f\"},\"marker\":{\"line\":{\"color\":\"#E5ECF6\",\"width\":0.5},\"pattern\":{\"fillmode\":\"overlay\",\"size\":10,\"solidity\":0.2}},\"type\":\"bar\"}],\"scattergeo\":[{\"type\":\"scattergeo\",\"marker\":{\"colorbar\":{\"outlinewidth\":0,\"ticks\":\"\"}}}],\"scatterpolar\":[{\"type\":\"scatterpolar\",\"marker\":{\"colorbar\":{\"outlinewidth\":0,\"ticks\":\"\"}}}],\"histogram\":[{\"marker\":{\"pattern\":{\"fillmode\":\"overlay\",\"size\":10,\"solidity\":0.2}},\"type\":\"histogram\"}],\"scattergl\":[{\"type\":\"scattergl\",\"marker\":{\"colorbar\":{\"outlinewidth\":0,\"ticks\":\"\"}}}],\"scatter3d\":[{\"type\":\"scatter3d\",\"line\":{\"colorbar\":{\"outlinewidth\":0,\"ticks\":\"\"}},\"marker\":{\"colorbar\":{\"outlinewidth\":0,\"ticks\":\"\"}}}],\"scattermapbox\":[{\"type\":\"scattermapbox\",\"marker\":{\"colorbar\":{\"outlinewidth\":0,\"ticks\":\"\"}}}],\"scatterternary\":[{\"type\":\"scatterternary\",\"marker\":{\"colorbar\":{\"outlinewidth\":0,\"ticks\":\"\"}}}],\"scattercarpet\":[{\"type\":\"scattercarpet\",\"marker\":{\"colorbar\":{\"outlinewidth\":0,\"ticks\":\"\"}}}],\"carpet\":[{\"aaxis\":{\"endlinecolor\":\"#2a3f5f\",\"gridcolor\":\"white\",\"linecolor\":\"white\",\"minorgridcolor\":\"white\",\"startlinecolor\":\"#2a3f5f\"},\"baxis\":{\"endlinecolor\":\"#2a3f5f\",\"gridcolor\":\"white\",\"linecolor\":\"white\",\"minorgridcolor\":\"white\",\"startlinecolor\":\"#2a3f5f\"},\"type\":\"carpet\"}],\"table\":[{\"cells\":{\"fill\":{\"color\":\"#EBF0F8\"},\"line\":{\"color\":\"white\"}},\"header\":{\"fill\":{\"color\":\"#C8D4E3\"},\"line\":{\"color\":\"white\"}},\"type\":\"table\"}],\"barpolar\":[{\"marker\":{\"line\":{\"color\":\"#E5ECF6\",\"width\":0.5},\"pattern\":{\"fillmode\":\"overlay\",\"size\":10,\"solidity\":0.2}},\"type\":\"barpolar\"}],\"pie\":[{\"automargin\":true,\"type\":\"pie\"}]},\"layout\":{\"autotypenumbers\":\"strict\",\"colorway\":[\"#636efa\",\"#EF553B\",\"#00cc96\",\"#ab63fa\",\"#FFA15A\",\"#19d3f3\",\"#FF6692\",\"#B6E880\",\"#FF97FF\",\"#FECB52\"],\"font\":{\"color\":\"#2a3f5f\"},\"hovermode\":\"closest\",\"hoverlabel\":{\"align\":\"left\"},\"paper_bgcolor\":\"white\",\"plot_bgcolor\":\"#E5ECF6\",\"polar\":{\"bgcolor\":\"#E5ECF6\",\"angularaxis\":{\"gridcolor\":\"white\",\"linecolor\":\"white\",\"ticks\":\"\"},\"radialaxis\":{\"gridcolor\":\"white\",\"linecolor\":\"white\",\"ticks\":\"\"}},\"ternary\":{\"bgcolor\":\"#E5ECF6\",\"aaxis\":{\"gridcolor\":\"white\",\"linecolor\":\"white\",\"ticks\":\"\"},\"baxis\":{\"gridcolor\":\"white\",\"linecolor\":\"white\",\"ticks\":\"\"},\"caxis\":{\"gridcolor\":\"white\",\"linecolor\":\"white\",\"ticks\":\"\"}},\"coloraxis\":{\"colorbar\":{\"outlinewidth\":0,\"ticks\":\"\"}},\"colorscale\":{\"sequential\":[[0.0,\"#0d0887\"],[0.1111111111111111,\"#46039f\"],[0.2222222222222222,\"#7201a8\"],[0.3333333333333333,\"#9c179e\"],[0.4444444444444444,\"#bd3786\"],[0.5555555555555556,\"#d8576b\"],[0.6666666666666666,\"#ed7953\"],[0.7777777777777778,\"#fb9f3a\"],[0.8888888888888888,\"#fdca26\"],[1.0,\"#f0f921\"]],\"sequentialminus\":[[0.0,\"#0d0887\"],[0.1111111111111111,\"#46039f\"],[0.2222222222222222,\"#7201a8\"],[0.3333333333333333,\"#9c179e\"],[0.4444444444444444,\"#bd3786\"],[0.5555555555555556,\"#d8576b\"],[0.6666666666666666,\"#ed7953\"],[0.7777777777777778,\"#fb9f3a\"],[0.8888888888888888,\"#fdca26\"],[1.0,\"#f0f921\"]],\"diverging\":[[0,\"#8e0152\"],[0.1,\"#c51b7d\"],[0.2,\"#de77ae\"],[0.3,\"#f1b6da\"],[0.4,\"#fde0ef\"],[0.5,\"#f7f7f7\"],[0.6,\"#e6f5d0\"],[0.7,\"#b8e186\"],[0.8,\"#7fbc41\"],[0.9,\"#4d9221\"],[1,\"#276419\"]]},\"xaxis\":{\"gridcolor\":\"white\",\"linecolor\":\"white\",\"ticks\":\"\",\"title\":{\"standoff\":15},\"zerolinecolor\":\"white\",\"automargin\":true,\"zerolinewidth\":2},\"yaxis\":{\"gridcolor\":\"white\",\"linecolor\":\"white\",\"ticks\":\"\",\"title\":{\"standoff\":15},\"zerolinecolor\":\"white\",\"automargin\":true,\"zerolinewidth\":2},\"scene\":{\"xaxis\":{\"backgroundcolor\":\"#E5ECF6\",\"gridcolor\":\"white\",\"linecolor\":\"white\",\"showbackground\":true,\"ticks\":\"\",\"zerolinecolor\":\"white\",\"gridwidth\":2},\"yaxis\":{\"backgroundcolor\":\"#E5ECF6\",\"gridcolor\":\"white\",\"linecolor\":\"white\",\"showbackground\":true,\"ticks\":\"\",\"zerolinecolor\":\"white\",\"gridwidth\":2},\"zaxis\":{\"backgroundcolor\":\"#E5ECF6\",\"gridcolor\":\"white\",\"linecolor\":\"white\",\"showbackground\":true,\"ticks\":\"\",\"zerolinecolor\":\"white\",\"gridwidth\":2}},\"shapedefaults\":{\"line\":{\"color\":\"#2a3f5f\"}},\"annotationdefaults\":{\"arrowcolor\":\"#2a3f5f\",\"arrowhead\":0,\"arrowwidth\":1},\"geo\":{\"bgcolor\":\"white\",\"landcolor\":\"#E5ECF6\",\"subunitcolor\":\"white\",\"showland\":true,\"showlakes\":true,\"lakecolor\":\"white\"},\"title\":{\"x\":0.05},\"mapbox\":{\"style\":\"light\"}}},\"xaxis\":{\"anchor\":\"y\",\"domain\":[0.0,1.0],\"title\":{\"text\":\"08-18 (count)\"}},\"yaxis\":{\"anchor\":\"x\",\"domain\":[0.0,1.0],\"title\":{\"text\":\"factorNumber\"}},\"legend\":{\"tracegroupgap\":0},\"margin\":{\"t\":60},\"barmode\":\"relative\"},                        {\"responsive\": true}                    ).then(function(){\n",
       "                            \n",
       "var gd = document.getElementById('50168af5-429d-4fdc-8501-cd4c28ce8921');\n",
       "var x = new MutationObserver(function (mutations, observer) {{\n",
       "        var display = window.getComputedStyle(gd).display;\n",
       "        if (!display || display === 'none') {{\n",
       "            console.log([gd, 'removed!']);\n",
       "            Plotly.purge(gd);\n",
       "            observer.disconnect();\n",
       "        }}\n",
       "}});\n",
       "\n",
       "// Listen for the removal of the full notebook cells\n",
       "var notebookContainer = gd.closest('#notebook-container');\n",
       "if (notebookContainer) {{\n",
       "    x.observe(notebookContainer, {childList: true});\n",
       "}}\n",
       "\n",
       "// Listen for the clearing of the current output cell\n",
       "var outputEl = gd.closest('.output');\n",
       "if (outputEl) {{\n",
       "    x.observe(outputEl, {childList: true});\n",
       "}}\n",
       "\n",
       "                        })                };                });            </script>        </div>"
      ]
     },
     "metadata": {},
     "output_type": "display_data"
    }
   ],
   "source": [
    "fig = px.bar(food_df, x='date', y='21-22 (payment)',  text='21-22 (payment)')\n",
    "fig.show()\n",
    "fig2 = px.bar(food_df, x='08-18 (count)', y='factorNumber', text='factorNumber')\n",
    "fig2.show()\n"
   ]
  },
  {
   "cell_type": "code",
   "execution_count": 22,
   "id": "ab65c103",
   "metadata": {},
   "outputs": [
    {
     "data": {
      "application/vnd.plotly.v1+json": {
       "config": {
        "plotlyServerURL": "https://plot.ly"
       },
       "data": [
        {
         "domain": {
          "x": [
           0,
           1
          ],
          "y": [
           0,
           1
          ]
         },
         "hovertemplate": "08-18 (count)=%{label}<br>factorNumber=%{value}<extra></extra>",
         "labels": [
          4,
          0,
          0,
          0,
          2,
          0,
          0,
          0,
          0,
          0,
          0,
          0,
          1,
          13,
          0,
          0,
          0,
          0,
          0,
          4,
          13,
          0,
          0,
          6,
          0,
          0,
          7,
          0,
          0,
          0,
          0,
          0,
          0,
          0,
          7,
          0,
          0,
          0,
          0,
          0,
          0,
          5,
          0,
          0,
          0,
          0,
          0,
          0,
          5,
          0,
          0,
          0,
          0,
          0,
          0,
          6,
          0,
          0,
          0,
          0,
          0,
          0,
          3,
          1,
          0,
          3,
          0,
          0,
          0,
          0,
          0,
          0,
          0,
          3,
          0,
          0,
          0,
          0,
          0,
          0,
          0,
          0,
          0,
          0,
          0,
          0,
          0,
          0,
          0,
          0,
          0,
          0,
          0,
          0,
          0,
          0,
          0,
          0,
          0,
          0,
          0,
          0,
          0,
          0,
          0,
          0,
          7,
          0,
          0,
          0,
          0,
          0,
          0,
          0,
          0,
          0,
          0,
          0,
          0,
          0,
          0,
          0,
          0,
          0,
          0,
          0,
          0,
          0,
          0,
          0,
          0,
          0,
          0,
          0,
          7,
          0,
          0,
          0,
          1,
          0,
          0,
          0,
          0,
          0,
          0,
          3,
          5,
          0,
          0,
          0,
          0,
          0,
          0,
          0,
          0,
          0,
          0,
          0,
          0,
          0,
          0,
          0,
          0,
          0,
          0,
          0,
          0,
          0,
          0,
          0,
          0,
          0,
          0,
          0,
          0,
          0,
          0,
          0,
          0,
          0,
          4,
          0,
          0,
          0,
          0,
          0,
          0,
          0,
          0,
          0,
          0,
          0,
          0,
          0,
          0,
          0,
          0,
          0,
          0,
          0,
          0,
          0,
          0,
          0,
          0
         ],
         "legendgroup": "",
         "name": "",
         "showlegend": true,
         "type": "pie",
         "values": [
          69,
          61,
          38,
          42,
          68,
          54,
          51,
          9,
          50,
          45,
          67,
          60,
          55,
          54,
          44,
          47,
          61,
          37,
          38,
          66,
          57,
          61,
          51,
          61,
          49,
          40,
          76,
          82,
          41,
          53,
          39,
          31,
          38,
          54,
          67,
          51,
          43,
          41,
          43,
          36,
          63,
          68,
          35,
          38,
          18,
          44,
          37,
          49,
          47,
          34,
          14,
          43,
          35,
          40,
          63,
          25,
          33,
          23,
          33,
          13,
          27,
          65,
          3,
          42,
          68,
          35,
          39,
          50,
          46,
          70,
          67,
          42,
          29,
          38,
          62,
          76,
          34,
          46,
          29,
          42,
          23,
          27,
          49,
          59,
          59,
          46,
          25,
          45,
          26,
          24,
          44,
          65,
          44,
          41,
          27,
          61,
          32,
          71,
          88,
          63,
          54,
          31,
          37,
          63,
          46,
          49,
          53,
          38,
          50,
          69,
          79,
          31,
          30,
          77,
          60,
          74,
          37,
          40,
          51,
          82,
          66,
          55,
          30,
          44,
          84,
          60,
          67,
          52,
          28,
          47,
          45,
          49,
          44,
          60,
          77,
          77,
          66,
          48,
          39,
          48,
          48,
          41,
          50,
          94,
          64,
          92,
          63,
          78,
          97,
          90,
          100,
          98,
          86,
          114,
          82,
          47,
          36,
          55,
          70,
          49,
          62,
          79,
          48,
          38,
          3,
          48,
          71,
          65,
          61,
          53,
          31,
          78,
          51,
          60,
          64,
          62,
          79,
          44,
          82,
          94,
          107,
          102,
          148,
          88,
          75,
          79,
          62,
          70,
          69,
          135,
          99,
          72,
          62,
          60,
          86,
          96,
          121,
          85,
          77,
          50,
          64,
          83,
          74,
          95,
          84
         ]
        }
       ],
       "layout": {
        "legend": {
         "tracegroupgap": 0
        },
        "template": {
         "data": {
          "bar": [
           {
            "error_x": {
             "color": "#2a3f5f"
            },
            "error_y": {
             "color": "#2a3f5f"
            },
            "marker": {
             "line": {
              "color": "#E5ECF6",
              "width": 0.5
             },
             "pattern": {
              "fillmode": "overlay",
              "size": 10,
              "solidity": 0.2
             }
            },
            "type": "bar"
           }
          ],
          "barpolar": [
           {
            "marker": {
             "line": {
              "color": "#E5ECF6",
              "width": 0.5
             },
             "pattern": {
              "fillmode": "overlay",
              "size": 10,
              "solidity": 0.2
             }
            },
            "type": "barpolar"
           }
          ],
          "carpet": [
           {
            "aaxis": {
             "endlinecolor": "#2a3f5f",
             "gridcolor": "white",
             "linecolor": "white",
             "minorgridcolor": "white",
             "startlinecolor": "#2a3f5f"
            },
            "baxis": {
             "endlinecolor": "#2a3f5f",
             "gridcolor": "white",
             "linecolor": "white",
             "minorgridcolor": "white",
             "startlinecolor": "#2a3f5f"
            },
            "type": "carpet"
           }
          ],
          "choropleth": [
           {
            "colorbar": {
             "outlinewidth": 0,
             "ticks": ""
            },
            "type": "choropleth"
           }
          ],
          "contour": [
           {
            "colorbar": {
             "outlinewidth": 0,
             "ticks": ""
            },
            "colorscale": [
             [
              0,
              "#0d0887"
             ],
             [
              0.1111111111111111,
              "#46039f"
             ],
             [
              0.2222222222222222,
              "#7201a8"
             ],
             [
              0.3333333333333333,
              "#9c179e"
             ],
             [
              0.4444444444444444,
              "#bd3786"
             ],
             [
              0.5555555555555556,
              "#d8576b"
             ],
             [
              0.6666666666666666,
              "#ed7953"
             ],
             [
              0.7777777777777778,
              "#fb9f3a"
             ],
             [
              0.8888888888888888,
              "#fdca26"
             ],
             [
              1,
              "#f0f921"
             ]
            ],
            "type": "contour"
           }
          ],
          "contourcarpet": [
           {
            "colorbar": {
             "outlinewidth": 0,
             "ticks": ""
            },
            "type": "contourcarpet"
           }
          ],
          "heatmap": [
           {
            "colorbar": {
             "outlinewidth": 0,
             "ticks": ""
            },
            "colorscale": [
             [
              0,
              "#0d0887"
             ],
             [
              0.1111111111111111,
              "#46039f"
             ],
             [
              0.2222222222222222,
              "#7201a8"
             ],
             [
              0.3333333333333333,
              "#9c179e"
             ],
             [
              0.4444444444444444,
              "#bd3786"
             ],
             [
              0.5555555555555556,
              "#d8576b"
             ],
             [
              0.6666666666666666,
              "#ed7953"
             ],
             [
              0.7777777777777778,
              "#fb9f3a"
             ],
             [
              0.8888888888888888,
              "#fdca26"
             ],
             [
              1,
              "#f0f921"
             ]
            ],
            "type": "heatmap"
           }
          ],
          "heatmapgl": [
           {
            "colorbar": {
             "outlinewidth": 0,
             "ticks": ""
            },
            "colorscale": [
             [
              0,
              "#0d0887"
             ],
             [
              0.1111111111111111,
              "#46039f"
             ],
             [
              0.2222222222222222,
              "#7201a8"
             ],
             [
              0.3333333333333333,
              "#9c179e"
             ],
             [
              0.4444444444444444,
              "#bd3786"
             ],
             [
              0.5555555555555556,
              "#d8576b"
             ],
             [
              0.6666666666666666,
              "#ed7953"
             ],
             [
              0.7777777777777778,
              "#fb9f3a"
             ],
             [
              0.8888888888888888,
              "#fdca26"
             ],
             [
              1,
              "#f0f921"
             ]
            ],
            "type": "heatmapgl"
           }
          ],
          "histogram": [
           {
            "marker": {
             "pattern": {
              "fillmode": "overlay",
              "size": 10,
              "solidity": 0.2
             }
            },
            "type": "histogram"
           }
          ],
          "histogram2d": [
           {
            "colorbar": {
             "outlinewidth": 0,
             "ticks": ""
            },
            "colorscale": [
             [
              0,
              "#0d0887"
             ],
             [
              0.1111111111111111,
              "#46039f"
             ],
             [
              0.2222222222222222,
              "#7201a8"
             ],
             [
              0.3333333333333333,
              "#9c179e"
             ],
             [
              0.4444444444444444,
              "#bd3786"
             ],
             [
              0.5555555555555556,
              "#d8576b"
             ],
             [
              0.6666666666666666,
              "#ed7953"
             ],
             [
              0.7777777777777778,
              "#fb9f3a"
             ],
             [
              0.8888888888888888,
              "#fdca26"
             ],
             [
              1,
              "#f0f921"
             ]
            ],
            "type": "histogram2d"
           }
          ],
          "histogram2dcontour": [
           {
            "colorbar": {
             "outlinewidth": 0,
             "ticks": ""
            },
            "colorscale": [
             [
              0,
              "#0d0887"
             ],
             [
              0.1111111111111111,
              "#46039f"
             ],
             [
              0.2222222222222222,
              "#7201a8"
             ],
             [
              0.3333333333333333,
              "#9c179e"
             ],
             [
              0.4444444444444444,
              "#bd3786"
             ],
             [
              0.5555555555555556,
              "#d8576b"
             ],
             [
              0.6666666666666666,
              "#ed7953"
             ],
             [
              0.7777777777777778,
              "#fb9f3a"
             ],
             [
              0.8888888888888888,
              "#fdca26"
             ],
             [
              1,
              "#f0f921"
             ]
            ],
            "type": "histogram2dcontour"
           }
          ],
          "mesh3d": [
           {
            "colorbar": {
             "outlinewidth": 0,
             "ticks": ""
            },
            "type": "mesh3d"
           }
          ],
          "parcoords": [
           {
            "line": {
             "colorbar": {
              "outlinewidth": 0,
              "ticks": ""
             }
            },
            "type": "parcoords"
           }
          ],
          "pie": [
           {
            "automargin": true,
            "type": "pie"
           }
          ],
          "scatter": [
           {
            "fillpattern": {
             "fillmode": "overlay",
             "size": 10,
             "solidity": 0.2
            },
            "type": "scatter"
           }
          ],
          "scatter3d": [
           {
            "line": {
             "colorbar": {
              "outlinewidth": 0,
              "ticks": ""
             }
            },
            "marker": {
             "colorbar": {
              "outlinewidth": 0,
              "ticks": ""
             }
            },
            "type": "scatter3d"
           }
          ],
          "scattercarpet": [
           {
            "marker": {
             "colorbar": {
              "outlinewidth": 0,
              "ticks": ""
             }
            },
            "type": "scattercarpet"
           }
          ],
          "scattergeo": [
           {
            "marker": {
             "colorbar": {
              "outlinewidth": 0,
              "ticks": ""
             }
            },
            "type": "scattergeo"
           }
          ],
          "scattergl": [
           {
            "marker": {
             "colorbar": {
              "outlinewidth": 0,
              "ticks": ""
             }
            },
            "type": "scattergl"
           }
          ],
          "scattermapbox": [
           {
            "marker": {
             "colorbar": {
              "outlinewidth": 0,
              "ticks": ""
             }
            },
            "type": "scattermapbox"
           }
          ],
          "scatterpolar": [
           {
            "marker": {
             "colorbar": {
              "outlinewidth": 0,
              "ticks": ""
             }
            },
            "type": "scatterpolar"
           }
          ],
          "scatterpolargl": [
           {
            "marker": {
             "colorbar": {
              "outlinewidth": 0,
              "ticks": ""
             }
            },
            "type": "scatterpolargl"
           }
          ],
          "scatterternary": [
           {
            "marker": {
             "colorbar": {
              "outlinewidth": 0,
              "ticks": ""
             }
            },
            "type": "scatterternary"
           }
          ],
          "surface": [
           {
            "colorbar": {
             "outlinewidth": 0,
             "ticks": ""
            },
            "colorscale": [
             [
              0,
              "#0d0887"
             ],
             [
              0.1111111111111111,
              "#46039f"
             ],
             [
              0.2222222222222222,
              "#7201a8"
             ],
             [
              0.3333333333333333,
              "#9c179e"
             ],
             [
              0.4444444444444444,
              "#bd3786"
             ],
             [
              0.5555555555555556,
              "#d8576b"
             ],
             [
              0.6666666666666666,
              "#ed7953"
             ],
             [
              0.7777777777777778,
              "#fb9f3a"
             ],
             [
              0.8888888888888888,
              "#fdca26"
             ],
             [
              1,
              "#f0f921"
             ]
            ],
            "type": "surface"
           }
          ],
          "table": [
           {
            "cells": {
             "fill": {
              "color": "#EBF0F8"
             },
             "line": {
              "color": "white"
             }
            },
            "header": {
             "fill": {
              "color": "#C8D4E3"
             },
             "line": {
              "color": "white"
             }
            },
            "type": "table"
           }
          ]
         },
         "layout": {
          "annotationdefaults": {
           "arrowcolor": "#2a3f5f",
           "arrowhead": 0,
           "arrowwidth": 1
          },
          "autotypenumbers": "strict",
          "coloraxis": {
           "colorbar": {
            "outlinewidth": 0,
            "ticks": ""
           }
          },
          "colorscale": {
           "diverging": [
            [
             0,
             "#8e0152"
            ],
            [
             0.1,
             "#c51b7d"
            ],
            [
             0.2,
             "#de77ae"
            ],
            [
             0.3,
             "#f1b6da"
            ],
            [
             0.4,
             "#fde0ef"
            ],
            [
             0.5,
             "#f7f7f7"
            ],
            [
             0.6,
             "#e6f5d0"
            ],
            [
             0.7,
             "#b8e186"
            ],
            [
             0.8,
             "#7fbc41"
            ],
            [
             0.9,
             "#4d9221"
            ],
            [
             1,
             "#276419"
            ]
           ],
           "sequential": [
            [
             0,
             "#0d0887"
            ],
            [
             0.1111111111111111,
             "#46039f"
            ],
            [
             0.2222222222222222,
             "#7201a8"
            ],
            [
             0.3333333333333333,
             "#9c179e"
            ],
            [
             0.4444444444444444,
             "#bd3786"
            ],
            [
             0.5555555555555556,
             "#d8576b"
            ],
            [
             0.6666666666666666,
             "#ed7953"
            ],
            [
             0.7777777777777778,
             "#fb9f3a"
            ],
            [
             0.8888888888888888,
             "#fdca26"
            ],
            [
             1,
             "#f0f921"
            ]
           ],
           "sequentialminus": [
            [
             0,
             "#0d0887"
            ],
            [
             0.1111111111111111,
             "#46039f"
            ],
            [
             0.2222222222222222,
             "#7201a8"
            ],
            [
             0.3333333333333333,
             "#9c179e"
            ],
            [
             0.4444444444444444,
             "#bd3786"
            ],
            [
             0.5555555555555556,
             "#d8576b"
            ],
            [
             0.6666666666666666,
             "#ed7953"
            ],
            [
             0.7777777777777778,
             "#fb9f3a"
            ],
            [
             0.8888888888888888,
             "#fdca26"
            ],
            [
             1,
             "#f0f921"
            ]
           ]
          },
          "colorway": [
           "#636efa",
           "#EF553B",
           "#00cc96",
           "#ab63fa",
           "#FFA15A",
           "#19d3f3",
           "#FF6692",
           "#B6E880",
           "#FF97FF",
           "#FECB52"
          ],
          "font": {
           "color": "#2a3f5f"
          },
          "geo": {
           "bgcolor": "white",
           "lakecolor": "white",
           "landcolor": "#E5ECF6",
           "showlakes": true,
           "showland": true,
           "subunitcolor": "white"
          },
          "hoverlabel": {
           "align": "left"
          },
          "hovermode": "closest",
          "mapbox": {
           "style": "light"
          },
          "paper_bgcolor": "white",
          "plot_bgcolor": "#E5ECF6",
          "polar": {
           "angularaxis": {
            "gridcolor": "white",
            "linecolor": "white",
            "ticks": ""
           },
           "bgcolor": "#E5ECF6",
           "radialaxis": {
            "gridcolor": "white",
            "linecolor": "white",
            "ticks": ""
           }
          },
          "scene": {
           "xaxis": {
            "backgroundcolor": "#E5ECF6",
            "gridcolor": "white",
            "gridwidth": 2,
            "linecolor": "white",
            "showbackground": true,
            "ticks": "",
            "zerolinecolor": "white"
           },
           "yaxis": {
            "backgroundcolor": "#E5ECF6",
            "gridcolor": "white",
            "gridwidth": 2,
            "linecolor": "white",
            "showbackground": true,
            "ticks": "",
            "zerolinecolor": "white"
           },
           "zaxis": {
            "backgroundcolor": "#E5ECF6",
            "gridcolor": "white",
            "gridwidth": 2,
            "linecolor": "white",
            "showbackground": true,
            "ticks": "",
            "zerolinecolor": "white"
           }
          },
          "shapedefaults": {
           "line": {
            "color": "#2a3f5f"
           }
          },
          "ternary": {
           "aaxis": {
            "gridcolor": "white",
            "linecolor": "white",
            "ticks": ""
           },
           "baxis": {
            "gridcolor": "white",
            "linecolor": "white",
            "ticks": ""
           },
           "bgcolor": "#E5ECF6",
           "caxis": {
            "gridcolor": "white",
            "linecolor": "white",
            "ticks": ""
           }
          },
          "title": {
           "x": 0.05
          },
          "xaxis": {
           "automargin": true,
           "gridcolor": "white",
           "linecolor": "white",
           "ticks": "",
           "title": {
            "standoff": 15
           },
           "zerolinecolor": "white",
           "zerolinewidth": 2
          },
          "yaxis": {
           "automargin": true,
           "gridcolor": "white",
           "linecolor": "white",
           "ticks": "",
           "title": {
            "standoff": 15
           },
           "zerolinecolor": "white",
           "zerolinewidth": 2
          }
         }
        },
        "title": {
         "text": "sumPayment"
        }
       }
      },
      "text/html": [
       "<div>                            <div id=\"a549491a-b54a-499d-8457-22ed55b079f9\" class=\"plotly-graph-div\" style=\"height:525px; width:100%;\"></div>            <script type=\"text/javascript\">                require([\"plotly\"], function(Plotly) {                    window.PLOTLYENV=window.PLOTLYENV || {};                                    if (document.getElementById(\"a549491a-b54a-499d-8457-22ed55b079f9\")) {                    Plotly.newPlot(                        \"a549491a-b54a-499d-8457-22ed55b079f9\",                        [{\"domain\":{\"x\":[0.0,1.0],\"y\":[0.0,1.0]},\"hovertemplate\":\"08-18 (count)=%{label}<br>factorNumber=%{value}<extra></extra>\",\"labels\":[4,0,0,0,2,0,0,0,0,0,0,0,1,13,0,0,0,0,0,4,13,0,0,6,0,0,7,0,0,0,0,0,0,0,7,0,0,0,0,0,0,5,0,0,0,0,0,0,5,0,0,0,0,0,0,6,0,0,0,0,0,0,3,1,0,3,0,0,0,0,0,0,0,3,0,0,0,0,0,0,0,0,0,0,0,0,0,0,0,0,0,0,0,0,0,0,0,0,0,0,0,0,0,0,0,0,7,0,0,0,0,0,0,0,0,0,0,0,0,0,0,0,0,0,0,0,0,0,0,0,0,0,0,0,7,0,0,0,1,0,0,0,0,0,0,3,5,0,0,0,0,0,0,0,0,0,0,0,0,0,0,0,0,0,0,0,0,0,0,0,0,0,0,0,0,0,0,0,0,0,4,0,0,0,0,0,0,0,0,0,0,0,0,0,0,0,0,0,0,0,0,0,0,0,0],\"legendgroup\":\"\",\"name\":\"\",\"showlegend\":true,\"values\":[69,61,38,42,68,54,51,9,50,45,67,60,55,54,44,47,61,37,38,66,57,61,51,61,49,40,76,82,41,53,39,31,38,54,67,51,43,41,43,36,63,68,35,38,18,44,37,49,47,34,14,43,35,40,63,25,33,23,33,13,27,65,3,42,68,35,39,50,46,70,67,42,29,38,62,76,34,46,29,42,23,27,49,59,59,46,25,45,26,24,44,65,44,41,27,61,32,71,88,63,54,31,37,63,46,49,53,38,50,69,79,31,30,77,60,74,37,40,51,82,66,55,30,44,84,60,67,52,28,47,45,49,44,60,77,77,66,48,39,48,48,41,50,94,64,92,63,78,97,90,100,98,86,114,82,47,36,55,70,49,62,79,48,38,3,48,71,65,61,53,31,78,51,60,64,62,79,44,82,94,107,102,148,88,75,79,62,70,69,135,99,72,62,60,86,96,121,85,77,50,64,83,74,95,84],\"type\":\"pie\"}],                        {\"template\":{\"data\":{\"histogram2dcontour\":[{\"type\":\"histogram2dcontour\",\"colorbar\":{\"outlinewidth\":0,\"ticks\":\"\"},\"colorscale\":[[0.0,\"#0d0887\"],[0.1111111111111111,\"#46039f\"],[0.2222222222222222,\"#7201a8\"],[0.3333333333333333,\"#9c179e\"],[0.4444444444444444,\"#bd3786\"],[0.5555555555555556,\"#d8576b\"],[0.6666666666666666,\"#ed7953\"],[0.7777777777777778,\"#fb9f3a\"],[0.8888888888888888,\"#fdca26\"],[1.0,\"#f0f921\"]]}],\"choropleth\":[{\"type\":\"choropleth\",\"colorbar\":{\"outlinewidth\":0,\"ticks\":\"\"}}],\"histogram2d\":[{\"type\":\"histogram2d\",\"colorbar\":{\"outlinewidth\":0,\"ticks\":\"\"},\"colorscale\":[[0.0,\"#0d0887\"],[0.1111111111111111,\"#46039f\"],[0.2222222222222222,\"#7201a8\"],[0.3333333333333333,\"#9c179e\"],[0.4444444444444444,\"#bd3786\"],[0.5555555555555556,\"#d8576b\"],[0.6666666666666666,\"#ed7953\"],[0.7777777777777778,\"#fb9f3a\"],[0.8888888888888888,\"#fdca26\"],[1.0,\"#f0f921\"]]}],\"heatmap\":[{\"type\":\"heatmap\",\"colorbar\":{\"outlinewidth\":0,\"ticks\":\"\"},\"colorscale\":[[0.0,\"#0d0887\"],[0.1111111111111111,\"#46039f\"],[0.2222222222222222,\"#7201a8\"],[0.3333333333333333,\"#9c179e\"],[0.4444444444444444,\"#bd3786\"],[0.5555555555555556,\"#d8576b\"],[0.6666666666666666,\"#ed7953\"],[0.7777777777777778,\"#fb9f3a\"],[0.8888888888888888,\"#fdca26\"],[1.0,\"#f0f921\"]]}],\"heatmapgl\":[{\"type\":\"heatmapgl\",\"colorbar\":{\"outlinewidth\":0,\"ticks\":\"\"},\"colorscale\":[[0.0,\"#0d0887\"],[0.1111111111111111,\"#46039f\"],[0.2222222222222222,\"#7201a8\"],[0.3333333333333333,\"#9c179e\"],[0.4444444444444444,\"#bd3786\"],[0.5555555555555556,\"#d8576b\"],[0.6666666666666666,\"#ed7953\"],[0.7777777777777778,\"#fb9f3a\"],[0.8888888888888888,\"#fdca26\"],[1.0,\"#f0f921\"]]}],\"contourcarpet\":[{\"type\":\"contourcarpet\",\"colorbar\":{\"outlinewidth\":0,\"ticks\":\"\"}}],\"contour\":[{\"type\":\"contour\",\"colorbar\":{\"outlinewidth\":0,\"ticks\":\"\"},\"colorscale\":[[0.0,\"#0d0887\"],[0.1111111111111111,\"#46039f\"],[0.2222222222222222,\"#7201a8\"],[0.3333333333333333,\"#9c179e\"],[0.4444444444444444,\"#bd3786\"],[0.5555555555555556,\"#d8576b\"],[0.6666666666666666,\"#ed7953\"],[0.7777777777777778,\"#fb9f3a\"],[0.8888888888888888,\"#fdca26\"],[1.0,\"#f0f921\"]]}],\"surface\":[{\"type\":\"surface\",\"colorbar\":{\"outlinewidth\":0,\"ticks\":\"\"},\"colorscale\":[[0.0,\"#0d0887\"],[0.1111111111111111,\"#46039f\"],[0.2222222222222222,\"#7201a8\"],[0.3333333333333333,\"#9c179e\"],[0.4444444444444444,\"#bd3786\"],[0.5555555555555556,\"#d8576b\"],[0.6666666666666666,\"#ed7953\"],[0.7777777777777778,\"#fb9f3a\"],[0.8888888888888888,\"#fdca26\"],[1.0,\"#f0f921\"]]}],\"mesh3d\":[{\"type\":\"mesh3d\",\"colorbar\":{\"outlinewidth\":0,\"ticks\":\"\"}}],\"scatter\":[{\"fillpattern\":{\"fillmode\":\"overlay\",\"size\":10,\"solidity\":0.2},\"type\":\"scatter\"}],\"parcoords\":[{\"type\":\"parcoords\",\"line\":{\"colorbar\":{\"outlinewidth\":0,\"ticks\":\"\"}}}],\"scatterpolargl\":[{\"type\":\"scatterpolargl\",\"marker\":{\"colorbar\":{\"outlinewidth\":0,\"ticks\":\"\"}}}],\"bar\":[{\"error_x\":{\"color\":\"#2a3f5f\"},\"error_y\":{\"color\":\"#2a3f5f\"},\"marker\":{\"line\":{\"color\":\"#E5ECF6\",\"width\":0.5},\"pattern\":{\"fillmode\":\"overlay\",\"size\":10,\"solidity\":0.2}},\"type\":\"bar\"}],\"scattergeo\":[{\"type\":\"scattergeo\",\"marker\":{\"colorbar\":{\"outlinewidth\":0,\"ticks\":\"\"}}}],\"scatterpolar\":[{\"type\":\"scatterpolar\",\"marker\":{\"colorbar\":{\"outlinewidth\":0,\"ticks\":\"\"}}}],\"histogram\":[{\"marker\":{\"pattern\":{\"fillmode\":\"overlay\",\"size\":10,\"solidity\":0.2}},\"type\":\"histogram\"}],\"scattergl\":[{\"type\":\"scattergl\",\"marker\":{\"colorbar\":{\"outlinewidth\":0,\"ticks\":\"\"}}}],\"scatter3d\":[{\"type\":\"scatter3d\",\"line\":{\"colorbar\":{\"outlinewidth\":0,\"ticks\":\"\"}},\"marker\":{\"colorbar\":{\"outlinewidth\":0,\"ticks\":\"\"}}}],\"scattermapbox\":[{\"type\":\"scattermapbox\",\"marker\":{\"colorbar\":{\"outlinewidth\":0,\"ticks\":\"\"}}}],\"scatterternary\":[{\"type\":\"scatterternary\",\"marker\":{\"colorbar\":{\"outlinewidth\":0,\"ticks\":\"\"}}}],\"scattercarpet\":[{\"type\":\"scattercarpet\",\"marker\":{\"colorbar\":{\"outlinewidth\":0,\"ticks\":\"\"}}}],\"carpet\":[{\"aaxis\":{\"endlinecolor\":\"#2a3f5f\",\"gridcolor\":\"white\",\"linecolor\":\"white\",\"minorgridcolor\":\"white\",\"startlinecolor\":\"#2a3f5f\"},\"baxis\":{\"endlinecolor\":\"#2a3f5f\",\"gridcolor\":\"white\",\"linecolor\":\"white\",\"minorgridcolor\":\"white\",\"startlinecolor\":\"#2a3f5f\"},\"type\":\"carpet\"}],\"table\":[{\"cells\":{\"fill\":{\"color\":\"#EBF0F8\"},\"line\":{\"color\":\"white\"}},\"header\":{\"fill\":{\"color\":\"#C8D4E3\"},\"line\":{\"color\":\"white\"}},\"type\":\"table\"}],\"barpolar\":[{\"marker\":{\"line\":{\"color\":\"#E5ECF6\",\"width\":0.5},\"pattern\":{\"fillmode\":\"overlay\",\"size\":10,\"solidity\":0.2}},\"type\":\"barpolar\"}],\"pie\":[{\"automargin\":true,\"type\":\"pie\"}]},\"layout\":{\"autotypenumbers\":\"strict\",\"colorway\":[\"#636efa\",\"#EF553B\",\"#00cc96\",\"#ab63fa\",\"#FFA15A\",\"#19d3f3\",\"#FF6692\",\"#B6E880\",\"#FF97FF\",\"#FECB52\"],\"font\":{\"color\":\"#2a3f5f\"},\"hovermode\":\"closest\",\"hoverlabel\":{\"align\":\"left\"},\"paper_bgcolor\":\"white\",\"plot_bgcolor\":\"#E5ECF6\",\"polar\":{\"bgcolor\":\"#E5ECF6\",\"angularaxis\":{\"gridcolor\":\"white\",\"linecolor\":\"white\",\"ticks\":\"\"},\"radialaxis\":{\"gridcolor\":\"white\",\"linecolor\":\"white\",\"ticks\":\"\"}},\"ternary\":{\"bgcolor\":\"#E5ECF6\",\"aaxis\":{\"gridcolor\":\"white\",\"linecolor\":\"white\",\"ticks\":\"\"},\"baxis\":{\"gridcolor\":\"white\",\"linecolor\":\"white\",\"ticks\":\"\"},\"caxis\":{\"gridcolor\":\"white\",\"linecolor\":\"white\",\"ticks\":\"\"}},\"coloraxis\":{\"colorbar\":{\"outlinewidth\":0,\"ticks\":\"\"}},\"colorscale\":{\"sequential\":[[0.0,\"#0d0887\"],[0.1111111111111111,\"#46039f\"],[0.2222222222222222,\"#7201a8\"],[0.3333333333333333,\"#9c179e\"],[0.4444444444444444,\"#bd3786\"],[0.5555555555555556,\"#d8576b\"],[0.6666666666666666,\"#ed7953\"],[0.7777777777777778,\"#fb9f3a\"],[0.8888888888888888,\"#fdca26\"],[1.0,\"#f0f921\"]],\"sequentialminus\":[[0.0,\"#0d0887\"],[0.1111111111111111,\"#46039f\"],[0.2222222222222222,\"#7201a8\"],[0.3333333333333333,\"#9c179e\"],[0.4444444444444444,\"#bd3786\"],[0.5555555555555556,\"#d8576b\"],[0.6666666666666666,\"#ed7953\"],[0.7777777777777778,\"#fb9f3a\"],[0.8888888888888888,\"#fdca26\"],[1.0,\"#f0f921\"]],\"diverging\":[[0,\"#8e0152\"],[0.1,\"#c51b7d\"],[0.2,\"#de77ae\"],[0.3,\"#f1b6da\"],[0.4,\"#fde0ef\"],[0.5,\"#f7f7f7\"],[0.6,\"#e6f5d0\"],[0.7,\"#b8e186\"],[0.8,\"#7fbc41\"],[0.9,\"#4d9221\"],[1,\"#276419\"]]},\"xaxis\":{\"gridcolor\":\"white\",\"linecolor\":\"white\",\"ticks\":\"\",\"title\":{\"standoff\":15},\"zerolinecolor\":\"white\",\"automargin\":true,\"zerolinewidth\":2},\"yaxis\":{\"gridcolor\":\"white\",\"linecolor\":\"white\",\"ticks\":\"\",\"title\":{\"standoff\":15},\"zerolinecolor\":\"white\",\"automargin\":true,\"zerolinewidth\":2},\"scene\":{\"xaxis\":{\"backgroundcolor\":\"#E5ECF6\",\"gridcolor\":\"white\",\"linecolor\":\"white\",\"showbackground\":true,\"ticks\":\"\",\"zerolinecolor\":\"white\",\"gridwidth\":2},\"yaxis\":{\"backgroundcolor\":\"#E5ECF6\",\"gridcolor\":\"white\",\"linecolor\":\"white\",\"showbackground\":true,\"ticks\":\"\",\"zerolinecolor\":\"white\",\"gridwidth\":2},\"zaxis\":{\"backgroundcolor\":\"#E5ECF6\",\"gridcolor\":\"white\",\"linecolor\":\"white\",\"showbackground\":true,\"ticks\":\"\",\"zerolinecolor\":\"white\",\"gridwidth\":2}},\"shapedefaults\":{\"line\":{\"color\":\"#2a3f5f\"}},\"annotationdefaults\":{\"arrowcolor\":\"#2a3f5f\",\"arrowhead\":0,\"arrowwidth\":1},\"geo\":{\"bgcolor\":\"white\",\"landcolor\":\"#E5ECF6\",\"subunitcolor\":\"white\",\"showland\":true,\"showlakes\":true,\"lakecolor\":\"white\"},\"title\":{\"x\":0.05},\"mapbox\":{\"style\":\"light\"}}},\"legend\":{\"tracegroupgap\":0},\"title\":{\"text\":\"sumPayment\"}},                        {\"responsive\": true}                    ).then(function(){\n",
       "                            \n",
       "var gd = document.getElementById('a549491a-b54a-499d-8457-22ed55b079f9');\n",
       "var x = new MutationObserver(function (mutations, observer) {{\n",
       "        var display = window.getComputedStyle(gd).display;\n",
       "        if (!display || display === 'none') {{\n",
       "            console.log([gd, 'removed!']);\n",
       "            Plotly.purge(gd);\n",
       "            observer.disconnect();\n",
       "        }}\n",
       "}});\n",
       "\n",
       "// Listen for the removal of the full notebook cells\n",
       "var notebookContainer = gd.closest('#notebook-container');\n",
       "if (notebookContainer) {{\n",
       "    x.observe(notebookContainer, {childList: true});\n",
       "}}\n",
       "\n",
       "// Listen for the clearing of the current output cell\n",
       "var outputEl = gd.closest('.output');\n",
       "if (outputEl) {{\n",
       "    x.observe(outputEl, {childList: true});\n",
       "}}\n",
       "\n",
       "                        })                };                });            </script>        </div>"
      ]
     },
     "metadata": {},
     "output_type": "display_data"
    },
    {
     "data": {
      "application/vnd.plotly.v1+json": {
       "config": {
        "plotlyServerURL": "https://plot.ly"
       },
       "data": [
        {
         "domain": {
          "x": [
           0,
           1
          ],
          "y": [
           0,
           1
          ]
         },
         "hovertemplate": "18-20 (count)=%{label}<br>factorNumber=%{value}<extra></extra>",
         "labels": [
          16,
          16,
          2,
          0,
          7,
          5,
          18,
          0,
          4,
          9,
          15,
          11,
          12,
          6,
          22,
          8,
          8,
          11,
          6,
          12,
          14,
          29,
          17,
          13,
          9,
          9,
          10,
          18,
          13,
          14,
          5,
          8,
          2,
          11,
          26,
          9,
          4,
          5,
          19,
          2,
          15,
          21,
          6,
          5,
          2,
          17,
          1,
          6,
          4,
          8,
          3,
          10,
          0,
          8,
          15,
          2,
          2,
          0,
          7,
          6,
          7,
          17,
          0,
          13,
          6,
          8,
          5,
          8,
          8,
          23,
          13,
          9,
          8,
          6,
          10,
          10,
          2,
          8,
          7,
          9,
          7,
          6,
          7,
          5,
          8,
          2,
          0,
          7,
          3,
          4,
          11,
          11,
          10,
          6,
          8,
          24,
          5,
          12,
          11,
          17,
          8,
          11,
          13,
          4,
          5,
          0,
          13,
          0,
          3,
          4,
          15,
          0,
          5,
          13,
          10,
          17,
          7,
          8,
          4,
          9,
          6,
          5,
          4,
          2,
          16,
          7,
          11,
          10,
          2,
          13,
          2,
          14,
          3,
          0,
          4,
          22,
          7,
          0,
          8,
          8,
          3,
          2,
          8,
          12,
          17,
          3,
          4,
          10,
          24,
          27,
          11,
          17,
          17,
          8,
          6,
          0,
          0,
          0,
          0,
          0,
          0,
          0,
          0,
          0,
          0,
          0,
          0,
          0,
          0,
          0,
          0,
          0,
          0,
          0,
          0,
          0,
          0,
          0,
          0,
          0,
          17,
          24,
          16,
          13,
          4,
          8,
          2,
          1,
          2,
          2,
          5,
          0,
          7,
          2,
          16,
          0,
          1,
          8,
          3,
          1,
          5,
          3,
          1,
          0,
          0
         ],
         "legendgroup": "",
         "name": "",
         "showlegend": true,
         "type": "pie",
         "values": [
          69,
          61,
          38,
          42,
          68,
          54,
          51,
          9,
          50,
          45,
          67,
          60,
          55,
          54,
          44,
          47,
          61,
          37,
          38,
          66,
          57,
          61,
          51,
          61,
          49,
          40,
          76,
          82,
          41,
          53,
          39,
          31,
          38,
          54,
          67,
          51,
          43,
          41,
          43,
          36,
          63,
          68,
          35,
          38,
          18,
          44,
          37,
          49,
          47,
          34,
          14,
          43,
          35,
          40,
          63,
          25,
          33,
          23,
          33,
          13,
          27,
          65,
          3,
          42,
          68,
          35,
          39,
          50,
          46,
          70,
          67,
          42,
          29,
          38,
          62,
          76,
          34,
          46,
          29,
          42,
          23,
          27,
          49,
          59,
          59,
          46,
          25,
          45,
          26,
          24,
          44,
          65,
          44,
          41,
          27,
          61,
          32,
          71,
          88,
          63,
          54,
          31,
          37,
          63,
          46,
          49,
          53,
          38,
          50,
          69,
          79,
          31,
          30,
          77,
          60,
          74,
          37,
          40,
          51,
          82,
          66,
          55,
          30,
          44,
          84,
          60,
          67,
          52,
          28,
          47,
          45,
          49,
          44,
          60,
          77,
          77,
          66,
          48,
          39,
          48,
          48,
          41,
          50,
          94,
          64,
          92,
          63,
          78,
          97,
          90,
          100,
          98,
          86,
          114,
          82,
          47,
          36,
          55,
          70,
          49,
          62,
          79,
          48,
          38,
          3,
          48,
          71,
          65,
          61,
          53,
          31,
          78,
          51,
          60,
          64,
          62,
          79,
          44,
          82,
          94,
          107,
          102,
          148,
          88,
          75,
          79,
          62,
          70,
          69,
          135,
          99,
          72,
          62,
          60,
          86,
          96,
          121,
          85,
          77,
          50,
          64,
          83,
          74,
          95,
          84
         ]
        }
       ],
       "layout": {
        "legend": {
         "tracegroupgap": 0
        },
        "template": {
         "data": {
          "bar": [
           {
            "error_x": {
             "color": "#2a3f5f"
            },
            "error_y": {
             "color": "#2a3f5f"
            },
            "marker": {
             "line": {
              "color": "#E5ECF6",
              "width": 0.5
             },
             "pattern": {
              "fillmode": "overlay",
              "size": 10,
              "solidity": 0.2
             }
            },
            "type": "bar"
           }
          ],
          "barpolar": [
           {
            "marker": {
             "line": {
              "color": "#E5ECF6",
              "width": 0.5
             },
             "pattern": {
              "fillmode": "overlay",
              "size": 10,
              "solidity": 0.2
             }
            },
            "type": "barpolar"
           }
          ],
          "carpet": [
           {
            "aaxis": {
             "endlinecolor": "#2a3f5f",
             "gridcolor": "white",
             "linecolor": "white",
             "minorgridcolor": "white",
             "startlinecolor": "#2a3f5f"
            },
            "baxis": {
             "endlinecolor": "#2a3f5f",
             "gridcolor": "white",
             "linecolor": "white",
             "minorgridcolor": "white",
             "startlinecolor": "#2a3f5f"
            },
            "type": "carpet"
           }
          ],
          "choropleth": [
           {
            "colorbar": {
             "outlinewidth": 0,
             "ticks": ""
            },
            "type": "choropleth"
           }
          ],
          "contour": [
           {
            "colorbar": {
             "outlinewidth": 0,
             "ticks": ""
            },
            "colorscale": [
             [
              0,
              "#0d0887"
             ],
             [
              0.1111111111111111,
              "#46039f"
             ],
             [
              0.2222222222222222,
              "#7201a8"
             ],
             [
              0.3333333333333333,
              "#9c179e"
             ],
             [
              0.4444444444444444,
              "#bd3786"
             ],
             [
              0.5555555555555556,
              "#d8576b"
             ],
             [
              0.6666666666666666,
              "#ed7953"
             ],
             [
              0.7777777777777778,
              "#fb9f3a"
             ],
             [
              0.8888888888888888,
              "#fdca26"
             ],
             [
              1,
              "#f0f921"
             ]
            ],
            "type": "contour"
           }
          ],
          "contourcarpet": [
           {
            "colorbar": {
             "outlinewidth": 0,
             "ticks": ""
            },
            "type": "contourcarpet"
           }
          ],
          "heatmap": [
           {
            "colorbar": {
             "outlinewidth": 0,
             "ticks": ""
            },
            "colorscale": [
             [
              0,
              "#0d0887"
             ],
             [
              0.1111111111111111,
              "#46039f"
             ],
             [
              0.2222222222222222,
              "#7201a8"
             ],
             [
              0.3333333333333333,
              "#9c179e"
             ],
             [
              0.4444444444444444,
              "#bd3786"
             ],
             [
              0.5555555555555556,
              "#d8576b"
             ],
             [
              0.6666666666666666,
              "#ed7953"
             ],
             [
              0.7777777777777778,
              "#fb9f3a"
             ],
             [
              0.8888888888888888,
              "#fdca26"
             ],
             [
              1,
              "#f0f921"
             ]
            ],
            "type": "heatmap"
           }
          ],
          "heatmapgl": [
           {
            "colorbar": {
             "outlinewidth": 0,
             "ticks": ""
            },
            "colorscale": [
             [
              0,
              "#0d0887"
             ],
             [
              0.1111111111111111,
              "#46039f"
             ],
             [
              0.2222222222222222,
              "#7201a8"
             ],
             [
              0.3333333333333333,
              "#9c179e"
             ],
             [
              0.4444444444444444,
              "#bd3786"
             ],
             [
              0.5555555555555556,
              "#d8576b"
             ],
             [
              0.6666666666666666,
              "#ed7953"
             ],
             [
              0.7777777777777778,
              "#fb9f3a"
             ],
             [
              0.8888888888888888,
              "#fdca26"
             ],
             [
              1,
              "#f0f921"
             ]
            ],
            "type": "heatmapgl"
           }
          ],
          "histogram": [
           {
            "marker": {
             "pattern": {
              "fillmode": "overlay",
              "size": 10,
              "solidity": 0.2
             }
            },
            "type": "histogram"
           }
          ],
          "histogram2d": [
           {
            "colorbar": {
             "outlinewidth": 0,
             "ticks": ""
            },
            "colorscale": [
             [
              0,
              "#0d0887"
             ],
             [
              0.1111111111111111,
              "#46039f"
             ],
             [
              0.2222222222222222,
              "#7201a8"
             ],
             [
              0.3333333333333333,
              "#9c179e"
             ],
             [
              0.4444444444444444,
              "#bd3786"
             ],
             [
              0.5555555555555556,
              "#d8576b"
             ],
             [
              0.6666666666666666,
              "#ed7953"
             ],
             [
              0.7777777777777778,
              "#fb9f3a"
             ],
             [
              0.8888888888888888,
              "#fdca26"
             ],
             [
              1,
              "#f0f921"
             ]
            ],
            "type": "histogram2d"
           }
          ],
          "histogram2dcontour": [
           {
            "colorbar": {
             "outlinewidth": 0,
             "ticks": ""
            },
            "colorscale": [
             [
              0,
              "#0d0887"
             ],
             [
              0.1111111111111111,
              "#46039f"
             ],
             [
              0.2222222222222222,
              "#7201a8"
             ],
             [
              0.3333333333333333,
              "#9c179e"
             ],
             [
              0.4444444444444444,
              "#bd3786"
             ],
             [
              0.5555555555555556,
              "#d8576b"
             ],
             [
              0.6666666666666666,
              "#ed7953"
             ],
             [
              0.7777777777777778,
              "#fb9f3a"
             ],
             [
              0.8888888888888888,
              "#fdca26"
             ],
             [
              1,
              "#f0f921"
             ]
            ],
            "type": "histogram2dcontour"
           }
          ],
          "mesh3d": [
           {
            "colorbar": {
             "outlinewidth": 0,
             "ticks": ""
            },
            "type": "mesh3d"
           }
          ],
          "parcoords": [
           {
            "line": {
             "colorbar": {
              "outlinewidth": 0,
              "ticks": ""
             }
            },
            "type": "parcoords"
           }
          ],
          "pie": [
           {
            "automargin": true,
            "type": "pie"
           }
          ],
          "scatter": [
           {
            "fillpattern": {
             "fillmode": "overlay",
             "size": 10,
             "solidity": 0.2
            },
            "type": "scatter"
           }
          ],
          "scatter3d": [
           {
            "line": {
             "colorbar": {
              "outlinewidth": 0,
              "ticks": ""
             }
            },
            "marker": {
             "colorbar": {
              "outlinewidth": 0,
              "ticks": ""
             }
            },
            "type": "scatter3d"
           }
          ],
          "scattercarpet": [
           {
            "marker": {
             "colorbar": {
              "outlinewidth": 0,
              "ticks": ""
             }
            },
            "type": "scattercarpet"
           }
          ],
          "scattergeo": [
           {
            "marker": {
             "colorbar": {
              "outlinewidth": 0,
              "ticks": ""
             }
            },
            "type": "scattergeo"
           }
          ],
          "scattergl": [
           {
            "marker": {
             "colorbar": {
              "outlinewidth": 0,
              "ticks": ""
             }
            },
            "type": "scattergl"
           }
          ],
          "scattermapbox": [
           {
            "marker": {
             "colorbar": {
              "outlinewidth": 0,
              "ticks": ""
             }
            },
            "type": "scattermapbox"
           }
          ],
          "scatterpolar": [
           {
            "marker": {
             "colorbar": {
              "outlinewidth": 0,
              "ticks": ""
             }
            },
            "type": "scatterpolar"
           }
          ],
          "scatterpolargl": [
           {
            "marker": {
             "colorbar": {
              "outlinewidth": 0,
              "ticks": ""
             }
            },
            "type": "scatterpolargl"
           }
          ],
          "scatterternary": [
           {
            "marker": {
             "colorbar": {
              "outlinewidth": 0,
              "ticks": ""
             }
            },
            "type": "scatterternary"
           }
          ],
          "surface": [
           {
            "colorbar": {
             "outlinewidth": 0,
             "ticks": ""
            },
            "colorscale": [
             [
              0,
              "#0d0887"
             ],
             [
              0.1111111111111111,
              "#46039f"
             ],
             [
              0.2222222222222222,
              "#7201a8"
             ],
             [
              0.3333333333333333,
              "#9c179e"
             ],
             [
              0.4444444444444444,
              "#bd3786"
             ],
             [
              0.5555555555555556,
              "#d8576b"
             ],
             [
              0.6666666666666666,
              "#ed7953"
             ],
             [
              0.7777777777777778,
              "#fb9f3a"
             ],
             [
              0.8888888888888888,
              "#fdca26"
             ],
             [
              1,
              "#f0f921"
             ]
            ],
            "type": "surface"
           }
          ],
          "table": [
           {
            "cells": {
             "fill": {
              "color": "#EBF0F8"
             },
             "line": {
              "color": "white"
             }
            },
            "header": {
             "fill": {
              "color": "#C8D4E3"
             },
             "line": {
              "color": "white"
             }
            },
            "type": "table"
           }
          ]
         },
         "layout": {
          "annotationdefaults": {
           "arrowcolor": "#2a3f5f",
           "arrowhead": 0,
           "arrowwidth": 1
          },
          "autotypenumbers": "strict",
          "coloraxis": {
           "colorbar": {
            "outlinewidth": 0,
            "ticks": ""
           }
          },
          "colorscale": {
           "diverging": [
            [
             0,
             "#8e0152"
            ],
            [
             0.1,
             "#c51b7d"
            ],
            [
             0.2,
             "#de77ae"
            ],
            [
             0.3,
             "#f1b6da"
            ],
            [
             0.4,
             "#fde0ef"
            ],
            [
             0.5,
             "#f7f7f7"
            ],
            [
             0.6,
             "#e6f5d0"
            ],
            [
             0.7,
             "#b8e186"
            ],
            [
             0.8,
             "#7fbc41"
            ],
            [
             0.9,
             "#4d9221"
            ],
            [
             1,
             "#276419"
            ]
           ],
           "sequential": [
            [
             0,
             "#0d0887"
            ],
            [
             0.1111111111111111,
             "#46039f"
            ],
            [
             0.2222222222222222,
             "#7201a8"
            ],
            [
             0.3333333333333333,
             "#9c179e"
            ],
            [
             0.4444444444444444,
             "#bd3786"
            ],
            [
             0.5555555555555556,
             "#d8576b"
            ],
            [
             0.6666666666666666,
             "#ed7953"
            ],
            [
             0.7777777777777778,
             "#fb9f3a"
            ],
            [
             0.8888888888888888,
             "#fdca26"
            ],
            [
             1,
             "#f0f921"
            ]
           ],
           "sequentialminus": [
            [
             0,
             "#0d0887"
            ],
            [
             0.1111111111111111,
             "#46039f"
            ],
            [
             0.2222222222222222,
             "#7201a8"
            ],
            [
             0.3333333333333333,
             "#9c179e"
            ],
            [
             0.4444444444444444,
             "#bd3786"
            ],
            [
             0.5555555555555556,
             "#d8576b"
            ],
            [
             0.6666666666666666,
             "#ed7953"
            ],
            [
             0.7777777777777778,
             "#fb9f3a"
            ],
            [
             0.8888888888888888,
             "#fdca26"
            ],
            [
             1,
             "#f0f921"
            ]
           ]
          },
          "colorway": [
           "#636efa",
           "#EF553B",
           "#00cc96",
           "#ab63fa",
           "#FFA15A",
           "#19d3f3",
           "#FF6692",
           "#B6E880",
           "#FF97FF",
           "#FECB52"
          ],
          "font": {
           "color": "#2a3f5f"
          },
          "geo": {
           "bgcolor": "white",
           "lakecolor": "white",
           "landcolor": "#E5ECF6",
           "showlakes": true,
           "showland": true,
           "subunitcolor": "white"
          },
          "hoverlabel": {
           "align": "left"
          },
          "hovermode": "closest",
          "mapbox": {
           "style": "light"
          },
          "paper_bgcolor": "white",
          "plot_bgcolor": "#E5ECF6",
          "polar": {
           "angularaxis": {
            "gridcolor": "white",
            "linecolor": "white",
            "ticks": ""
           },
           "bgcolor": "#E5ECF6",
           "radialaxis": {
            "gridcolor": "white",
            "linecolor": "white",
            "ticks": ""
           }
          },
          "scene": {
           "xaxis": {
            "backgroundcolor": "#E5ECF6",
            "gridcolor": "white",
            "gridwidth": 2,
            "linecolor": "white",
            "showbackground": true,
            "ticks": "",
            "zerolinecolor": "white"
           },
           "yaxis": {
            "backgroundcolor": "#E5ECF6",
            "gridcolor": "white",
            "gridwidth": 2,
            "linecolor": "white",
            "showbackground": true,
            "ticks": "",
            "zerolinecolor": "white"
           },
           "zaxis": {
            "backgroundcolor": "#E5ECF6",
            "gridcolor": "white",
            "gridwidth": 2,
            "linecolor": "white",
            "showbackground": true,
            "ticks": "",
            "zerolinecolor": "white"
           }
          },
          "shapedefaults": {
           "line": {
            "color": "#2a3f5f"
           }
          },
          "ternary": {
           "aaxis": {
            "gridcolor": "white",
            "linecolor": "white",
            "ticks": ""
           },
           "baxis": {
            "gridcolor": "white",
            "linecolor": "white",
            "ticks": ""
           },
           "bgcolor": "#E5ECF6",
           "caxis": {
            "gridcolor": "white",
            "linecolor": "white",
            "ticks": ""
           }
          },
          "title": {
           "x": 0.05
          },
          "xaxis": {
           "automargin": true,
           "gridcolor": "white",
           "linecolor": "white",
           "ticks": "",
           "title": {
            "standoff": 15
           },
           "zerolinecolor": "white",
           "zerolinewidth": 2
          },
          "yaxis": {
           "automargin": true,
           "gridcolor": "white",
           "linecolor": "white",
           "ticks": "",
           "title": {
            "standoff": 15
           },
           "zerolinecolor": "white",
           "zerolinewidth": 2
          }
         }
        },
        "title": {
         "text": "sumPayment"
        }
       }
      },
      "text/html": [
       "<div>                            <div id=\"b316d112-c338-43f3-ba63-0b9091efd438\" class=\"plotly-graph-div\" style=\"height:525px; width:100%;\"></div>            <script type=\"text/javascript\">                require([\"plotly\"], function(Plotly) {                    window.PLOTLYENV=window.PLOTLYENV || {};                                    if (document.getElementById(\"b316d112-c338-43f3-ba63-0b9091efd438\")) {                    Plotly.newPlot(                        \"b316d112-c338-43f3-ba63-0b9091efd438\",                        [{\"domain\":{\"x\":[0.0,1.0],\"y\":[0.0,1.0]},\"hovertemplate\":\"18-20 (count)=%{label}<br>factorNumber=%{value}<extra></extra>\",\"labels\":[16,16,2,0,7,5,18,0,4,9,15,11,12,6,22,8,8,11,6,12,14,29,17,13,9,9,10,18,13,14,5,8,2,11,26,9,4,5,19,2,15,21,6,5,2,17,1,6,4,8,3,10,0,8,15,2,2,0,7,6,7,17,0,13,6,8,5,8,8,23,13,9,8,6,10,10,2,8,7,9,7,6,7,5,8,2,0,7,3,4,11,11,10,6,8,24,5,12,11,17,8,11,13,4,5,0,13,0,3,4,15,0,5,13,10,17,7,8,4,9,6,5,4,2,16,7,11,10,2,13,2,14,3,0,4,22,7,0,8,8,3,2,8,12,17,3,4,10,24,27,11,17,17,8,6,0,0,0,0,0,0,0,0,0,0,0,0,0,0,0,0,0,0,0,0,0,0,0,0,0,17,24,16,13,4,8,2,1,2,2,5,0,7,2,16,0,1,8,3,1,5,3,1,0,0],\"legendgroup\":\"\",\"name\":\"\",\"showlegend\":true,\"values\":[69,61,38,42,68,54,51,9,50,45,67,60,55,54,44,47,61,37,38,66,57,61,51,61,49,40,76,82,41,53,39,31,38,54,67,51,43,41,43,36,63,68,35,38,18,44,37,49,47,34,14,43,35,40,63,25,33,23,33,13,27,65,3,42,68,35,39,50,46,70,67,42,29,38,62,76,34,46,29,42,23,27,49,59,59,46,25,45,26,24,44,65,44,41,27,61,32,71,88,63,54,31,37,63,46,49,53,38,50,69,79,31,30,77,60,74,37,40,51,82,66,55,30,44,84,60,67,52,28,47,45,49,44,60,77,77,66,48,39,48,48,41,50,94,64,92,63,78,97,90,100,98,86,114,82,47,36,55,70,49,62,79,48,38,3,48,71,65,61,53,31,78,51,60,64,62,79,44,82,94,107,102,148,88,75,79,62,70,69,135,99,72,62,60,86,96,121,85,77,50,64,83,74,95,84],\"type\":\"pie\"}],                        {\"template\":{\"data\":{\"histogram2dcontour\":[{\"type\":\"histogram2dcontour\",\"colorbar\":{\"outlinewidth\":0,\"ticks\":\"\"},\"colorscale\":[[0.0,\"#0d0887\"],[0.1111111111111111,\"#46039f\"],[0.2222222222222222,\"#7201a8\"],[0.3333333333333333,\"#9c179e\"],[0.4444444444444444,\"#bd3786\"],[0.5555555555555556,\"#d8576b\"],[0.6666666666666666,\"#ed7953\"],[0.7777777777777778,\"#fb9f3a\"],[0.8888888888888888,\"#fdca26\"],[1.0,\"#f0f921\"]]}],\"choropleth\":[{\"type\":\"choropleth\",\"colorbar\":{\"outlinewidth\":0,\"ticks\":\"\"}}],\"histogram2d\":[{\"type\":\"histogram2d\",\"colorbar\":{\"outlinewidth\":0,\"ticks\":\"\"},\"colorscale\":[[0.0,\"#0d0887\"],[0.1111111111111111,\"#46039f\"],[0.2222222222222222,\"#7201a8\"],[0.3333333333333333,\"#9c179e\"],[0.4444444444444444,\"#bd3786\"],[0.5555555555555556,\"#d8576b\"],[0.6666666666666666,\"#ed7953\"],[0.7777777777777778,\"#fb9f3a\"],[0.8888888888888888,\"#fdca26\"],[1.0,\"#f0f921\"]]}],\"heatmap\":[{\"type\":\"heatmap\",\"colorbar\":{\"outlinewidth\":0,\"ticks\":\"\"},\"colorscale\":[[0.0,\"#0d0887\"],[0.1111111111111111,\"#46039f\"],[0.2222222222222222,\"#7201a8\"],[0.3333333333333333,\"#9c179e\"],[0.4444444444444444,\"#bd3786\"],[0.5555555555555556,\"#d8576b\"],[0.6666666666666666,\"#ed7953\"],[0.7777777777777778,\"#fb9f3a\"],[0.8888888888888888,\"#fdca26\"],[1.0,\"#f0f921\"]]}],\"heatmapgl\":[{\"type\":\"heatmapgl\",\"colorbar\":{\"outlinewidth\":0,\"ticks\":\"\"},\"colorscale\":[[0.0,\"#0d0887\"],[0.1111111111111111,\"#46039f\"],[0.2222222222222222,\"#7201a8\"],[0.3333333333333333,\"#9c179e\"],[0.4444444444444444,\"#bd3786\"],[0.5555555555555556,\"#d8576b\"],[0.6666666666666666,\"#ed7953\"],[0.7777777777777778,\"#fb9f3a\"],[0.8888888888888888,\"#fdca26\"],[1.0,\"#f0f921\"]]}],\"contourcarpet\":[{\"type\":\"contourcarpet\",\"colorbar\":{\"outlinewidth\":0,\"ticks\":\"\"}}],\"contour\":[{\"type\":\"contour\",\"colorbar\":{\"outlinewidth\":0,\"ticks\":\"\"},\"colorscale\":[[0.0,\"#0d0887\"],[0.1111111111111111,\"#46039f\"],[0.2222222222222222,\"#7201a8\"],[0.3333333333333333,\"#9c179e\"],[0.4444444444444444,\"#bd3786\"],[0.5555555555555556,\"#d8576b\"],[0.6666666666666666,\"#ed7953\"],[0.7777777777777778,\"#fb9f3a\"],[0.8888888888888888,\"#fdca26\"],[1.0,\"#f0f921\"]]}],\"surface\":[{\"type\":\"surface\",\"colorbar\":{\"outlinewidth\":0,\"ticks\":\"\"},\"colorscale\":[[0.0,\"#0d0887\"],[0.1111111111111111,\"#46039f\"],[0.2222222222222222,\"#7201a8\"],[0.3333333333333333,\"#9c179e\"],[0.4444444444444444,\"#bd3786\"],[0.5555555555555556,\"#d8576b\"],[0.6666666666666666,\"#ed7953\"],[0.7777777777777778,\"#fb9f3a\"],[0.8888888888888888,\"#fdca26\"],[1.0,\"#f0f921\"]]}],\"mesh3d\":[{\"type\":\"mesh3d\",\"colorbar\":{\"outlinewidth\":0,\"ticks\":\"\"}}],\"scatter\":[{\"fillpattern\":{\"fillmode\":\"overlay\",\"size\":10,\"solidity\":0.2},\"type\":\"scatter\"}],\"parcoords\":[{\"type\":\"parcoords\",\"line\":{\"colorbar\":{\"outlinewidth\":0,\"ticks\":\"\"}}}],\"scatterpolargl\":[{\"type\":\"scatterpolargl\",\"marker\":{\"colorbar\":{\"outlinewidth\":0,\"ticks\":\"\"}}}],\"bar\":[{\"error_x\":{\"color\":\"#2a3f5f\"},\"error_y\":{\"color\":\"#2a3f5f\"},\"marker\":{\"line\":{\"color\":\"#E5ECF6\",\"width\":0.5},\"pattern\":{\"fillmode\":\"overlay\",\"size\":10,\"solidity\":0.2}},\"type\":\"bar\"}],\"scattergeo\":[{\"type\":\"scattergeo\",\"marker\":{\"colorbar\":{\"outlinewidth\":0,\"ticks\":\"\"}}}],\"scatterpolar\":[{\"type\":\"scatterpolar\",\"marker\":{\"colorbar\":{\"outlinewidth\":0,\"ticks\":\"\"}}}],\"histogram\":[{\"marker\":{\"pattern\":{\"fillmode\":\"overlay\",\"size\":10,\"solidity\":0.2}},\"type\":\"histogram\"}],\"scattergl\":[{\"type\":\"scattergl\",\"marker\":{\"colorbar\":{\"outlinewidth\":0,\"ticks\":\"\"}}}],\"scatter3d\":[{\"type\":\"scatter3d\",\"line\":{\"colorbar\":{\"outlinewidth\":0,\"ticks\":\"\"}},\"marker\":{\"colorbar\":{\"outlinewidth\":0,\"ticks\":\"\"}}}],\"scattermapbox\":[{\"type\":\"scattermapbox\",\"marker\":{\"colorbar\":{\"outlinewidth\":0,\"ticks\":\"\"}}}],\"scatterternary\":[{\"type\":\"scatterternary\",\"marker\":{\"colorbar\":{\"outlinewidth\":0,\"ticks\":\"\"}}}],\"scattercarpet\":[{\"type\":\"scattercarpet\",\"marker\":{\"colorbar\":{\"outlinewidth\":0,\"ticks\":\"\"}}}],\"carpet\":[{\"aaxis\":{\"endlinecolor\":\"#2a3f5f\",\"gridcolor\":\"white\",\"linecolor\":\"white\",\"minorgridcolor\":\"white\",\"startlinecolor\":\"#2a3f5f\"},\"baxis\":{\"endlinecolor\":\"#2a3f5f\",\"gridcolor\":\"white\",\"linecolor\":\"white\",\"minorgridcolor\":\"white\",\"startlinecolor\":\"#2a3f5f\"},\"type\":\"carpet\"}],\"table\":[{\"cells\":{\"fill\":{\"color\":\"#EBF0F8\"},\"line\":{\"color\":\"white\"}},\"header\":{\"fill\":{\"color\":\"#C8D4E3\"},\"line\":{\"color\":\"white\"}},\"type\":\"table\"}],\"barpolar\":[{\"marker\":{\"line\":{\"color\":\"#E5ECF6\",\"width\":0.5},\"pattern\":{\"fillmode\":\"overlay\",\"size\":10,\"solidity\":0.2}},\"type\":\"barpolar\"}],\"pie\":[{\"automargin\":true,\"type\":\"pie\"}]},\"layout\":{\"autotypenumbers\":\"strict\",\"colorway\":[\"#636efa\",\"#EF553B\",\"#00cc96\",\"#ab63fa\",\"#FFA15A\",\"#19d3f3\",\"#FF6692\",\"#B6E880\",\"#FF97FF\",\"#FECB52\"],\"font\":{\"color\":\"#2a3f5f\"},\"hovermode\":\"closest\",\"hoverlabel\":{\"align\":\"left\"},\"paper_bgcolor\":\"white\",\"plot_bgcolor\":\"#E5ECF6\",\"polar\":{\"bgcolor\":\"#E5ECF6\",\"angularaxis\":{\"gridcolor\":\"white\",\"linecolor\":\"white\",\"ticks\":\"\"},\"radialaxis\":{\"gridcolor\":\"white\",\"linecolor\":\"white\",\"ticks\":\"\"}},\"ternary\":{\"bgcolor\":\"#E5ECF6\",\"aaxis\":{\"gridcolor\":\"white\",\"linecolor\":\"white\",\"ticks\":\"\"},\"baxis\":{\"gridcolor\":\"white\",\"linecolor\":\"white\",\"ticks\":\"\"},\"caxis\":{\"gridcolor\":\"white\",\"linecolor\":\"white\",\"ticks\":\"\"}},\"coloraxis\":{\"colorbar\":{\"outlinewidth\":0,\"ticks\":\"\"}},\"colorscale\":{\"sequential\":[[0.0,\"#0d0887\"],[0.1111111111111111,\"#46039f\"],[0.2222222222222222,\"#7201a8\"],[0.3333333333333333,\"#9c179e\"],[0.4444444444444444,\"#bd3786\"],[0.5555555555555556,\"#d8576b\"],[0.6666666666666666,\"#ed7953\"],[0.7777777777777778,\"#fb9f3a\"],[0.8888888888888888,\"#fdca26\"],[1.0,\"#f0f921\"]],\"sequentialminus\":[[0.0,\"#0d0887\"],[0.1111111111111111,\"#46039f\"],[0.2222222222222222,\"#7201a8\"],[0.3333333333333333,\"#9c179e\"],[0.4444444444444444,\"#bd3786\"],[0.5555555555555556,\"#d8576b\"],[0.6666666666666666,\"#ed7953\"],[0.7777777777777778,\"#fb9f3a\"],[0.8888888888888888,\"#fdca26\"],[1.0,\"#f0f921\"]],\"diverging\":[[0,\"#8e0152\"],[0.1,\"#c51b7d\"],[0.2,\"#de77ae\"],[0.3,\"#f1b6da\"],[0.4,\"#fde0ef\"],[0.5,\"#f7f7f7\"],[0.6,\"#e6f5d0\"],[0.7,\"#b8e186\"],[0.8,\"#7fbc41\"],[0.9,\"#4d9221\"],[1,\"#276419\"]]},\"xaxis\":{\"gridcolor\":\"white\",\"linecolor\":\"white\",\"ticks\":\"\",\"title\":{\"standoff\":15},\"zerolinecolor\":\"white\",\"automargin\":true,\"zerolinewidth\":2},\"yaxis\":{\"gridcolor\":\"white\",\"linecolor\":\"white\",\"ticks\":\"\",\"title\":{\"standoff\":15},\"zerolinecolor\":\"white\",\"automargin\":true,\"zerolinewidth\":2},\"scene\":{\"xaxis\":{\"backgroundcolor\":\"#E5ECF6\",\"gridcolor\":\"white\",\"linecolor\":\"white\",\"showbackground\":true,\"ticks\":\"\",\"zerolinecolor\":\"white\",\"gridwidth\":2},\"yaxis\":{\"backgroundcolor\":\"#E5ECF6\",\"gridcolor\":\"white\",\"linecolor\":\"white\",\"showbackground\":true,\"ticks\":\"\",\"zerolinecolor\":\"white\",\"gridwidth\":2},\"zaxis\":{\"backgroundcolor\":\"#E5ECF6\",\"gridcolor\":\"white\",\"linecolor\":\"white\",\"showbackground\":true,\"ticks\":\"\",\"zerolinecolor\":\"white\",\"gridwidth\":2}},\"shapedefaults\":{\"line\":{\"color\":\"#2a3f5f\"}},\"annotationdefaults\":{\"arrowcolor\":\"#2a3f5f\",\"arrowhead\":0,\"arrowwidth\":1},\"geo\":{\"bgcolor\":\"white\",\"landcolor\":\"#E5ECF6\",\"subunitcolor\":\"white\",\"showland\":true,\"showlakes\":true,\"lakecolor\":\"white\"},\"title\":{\"x\":0.05},\"mapbox\":{\"style\":\"light\"}}},\"legend\":{\"tracegroupgap\":0},\"title\":{\"text\":\"sumPayment\"}},                        {\"responsive\": true}                    ).then(function(){\n",
       "                            \n",
       "var gd = document.getElementById('b316d112-c338-43f3-ba63-0b9091efd438');\n",
       "var x = new MutationObserver(function (mutations, observer) {{\n",
       "        var display = window.getComputedStyle(gd).display;\n",
       "        if (!display || display === 'none') {{\n",
       "            console.log([gd, 'removed!']);\n",
       "            Plotly.purge(gd);\n",
       "            observer.disconnect();\n",
       "        }}\n",
       "}});\n",
       "\n",
       "// Listen for the removal of the full notebook cells\n",
       "var notebookContainer = gd.closest('#notebook-container');\n",
       "if (notebookContainer) {{\n",
       "    x.observe(notebookContainer, {childList: true});\n",
       "}}\n",
       "\n",
       "// Listen for the clearing of the current output cell\n",
       "var outputEl = gd.closest('.output');\n",
       "if (outputEl) {{\n",
       "    x.observe(outputEl, {childList: true});\n",
       "}}\n",
       "\n",
       "                        })                };                });            </script>        </div>"
      ]
     },
     "metadata": {},
     "output_type": "display_data"
    }
   ],
   "source": [
    "fig = px.pie(food_df, names='08-18 (count)', values='factorNumber', title='sumPayment')\n",
    "fig.show()\n",
    "\n",
    "\n",
    "fig = px.pie(food_df, names='18-20 (count)', values='factorNumber', title='sumPayment')\n",
    "fig.show()"
   ]
  },
  {
   "cell_type": "code",
   "execution_count": 26,
   "id": "6264f7b0",
   "metadata": {},
   "outputs": [
    {
     "data": {
      "application/vnd.plotly.v1+json": {
       "config": {
        "plotlyServerURL": "https://plot.ly"
       },
       "data": [
        {
         "domain": {
          "x": [
           0,
           1
          ],
          "y": [
           0,
           1
          ]
         },
         "hole": 0.6,
         "hovertemplate": "08-18 (count)=%{label}<br>factorNumber=%{value}<extra></extra>",
         "labels": [
          4,
          0,
          0,
          0,
          2,
          0,
          0,
          0,
          0,
          0,
          0,
          0,
          1,
          13,
          0,
          0,
          0,
          0,
          0,
          4,
          13,
          0,
          0,
          6,
          0,
          0,
          7,
          0,
          0,
          0,
          0,
          0,
          0,
          0,
          7,
          0,
          0,
          0,
          0,
          0,
          0,
          5,
          0,
          0,
          0,
          0,
          0,
          0,
          5,
          0,
          0,
          0,
          0,
          0,
          0,
          6,
          0,
          0,
          0,
          0,
          0,
          0,
          3,
          1,
          0,
          3,
          0,
          0,
          0,
          0,
          0,
          0,
          0,
          3,
          0,
          0,
          0,
          0,
          0,
          0,
          0,
          0,
          0,
          0,
          0,
          0,
          0,
          0,
          0,
          0,
          0,
          0,
          0,
          0,
          0,
          0,
          0,
          0,
          0,
          0,
          0,
          0,
          0,
          0,
          0,
          0,
          7,
          0,
          0,
          0,
          0,
          0,
          0,
          0,
          0,
          0,
          0,
          0,
          0,
          0,
          0,
          0,
          0,
          0,
          0,
          0,
          0,
          0,
          0,
          0,
          0,
          0,
          0,
          0,
          7,
          0,
          0,
          0,
          1,
          0,
          0,
          0,
          0,
          0,
          0,
          3,
          5,
          0,
          0,
          0,
          0,
          0,
          0,
          0,
          0,
          0,
          0,
          0,
          0,
          0,
          0,
          0,
          0,
          0,
          0,
          0,
          0,
          0,
          0,
          0,
          0,
          0,
          0,
          0,
          0,
          0,
          0,
          0,
          0,
          0,
          4,
          0,
          0,
          0,
          0,
          0,
          0,
          0,
          0,
          0,
          0,
          0,
          0,
          0,
          0,
          0,
          0,
          0,
          0,
          0,
          0,
          0,
          0,
          0,
          0
         ],
         "legendgroup": "",
         "name": "",
         "showlegend": true,
         "type": "pie",
         "values": [
          69,
          61,
          38,
          42,
          68,
          54,
          51,
          9,
          50,
          45,
          67,
          60,
          55,
          54,
          44,
          47,
          61,
          37,
          38,
          66,
          57,
          61,
          51,
          61,
          49,
          40,
          76,
          82,
          41,
          53,
          39,
          31,
          38,
          54,
          67,
          51,
          43,
          41,
          43,
          36,
          63,
          68,
          35,
          38,
          18,
          44,
          37,
          49,
          47,
          34,
          14,
          43,
          35,
          40,
          63,
          25,
          33,
          23,
          33,
          13,
          27,
          65,
          3,
          42,
          68,
          35,
          39,
          50,
          46,
          70,
          67,
          42,
          29,
          38,
          62,
          76,
          34,
          46,
          29,
          42,
          23,
          27,
          49,
          59,
          59,
          46,
          25,
          45,
          26,
          24,
          44,
          65,
          44,
          41,
          27,
          61,
          32,
          71,
          88,
          63,
          54,
          31,
          37,
          63,
          46,
          49,
          53,
          38,
          50,
          69,
          79,
          31,
          30,
          77,
          60,
          74,
          37,
          40,
          51,
          82,
          66,
          55,
          30,
          44,
          84,
          60,
          67,
          52,
          28,
          47,
          45,
          49,
          44,
          60,
          77,
          77,
          66,
          48,
          39,
          48,
          48,
          41,
          50,
          94,
          64,
          92,
          63,
          78,
          97,
          90,
          100,
          98,
          86,
          114,
          82,
          47,
          36,
          55,
          70,
          49,
          62,
          79,
          48,
          38,
          3,
          48,
          71,
          65,
          61,
          53,
          31,
          78,
          51,
          60,
          64,
          62,
          79,
          44,
          82,
          94,
          107,
          102,
          148,
          88,
          75,
          79,
          62,
          70,
          69,
          135,
          99,
          72,
          62,
          60,
          86,
          96,
          121,
          85,
          77,
          50,
          64,
          83,
          74,
          95,
          84
         ]
        }
       ],
       "layout": {
        "legend": {
         "tracegroupgap": 0
        },
        "margin": {
         "t": 60
        },
        "template": {
         "data": {
          "bar": [
           {
            "error_x": {
             "color": "#2a3f5f"
            },
            "error_y": {
             "color": "#2a3f5f"
            },
            "marker": {
             "line": {
              "color": "#E5ECF6",
              "width": 0.5
             },
             "pattern": {
              "fillmode": "overlay",
              "size": 10,
              "solidity": 0.2
             }
            },
            "type": "bar"
           }
          ],
          "barpolar": [
           {
            "marker": {
             "line": {
              "color": "#E5ECF6",
              "width": 0.5
             },
             "pattern": {
              "fillmode": "overlay",
              "size": 10,
              "solidity": 0.2
             }
            },
            "type": "barpolar"
           }
          ],
          "carpet": [
           {
            "aaxis": {
             "endlinecolor": "#2a3f5f",
             "gridcolor": "white",
             "linecolor": "white",
             "minorgridcolor": "white",
             "startlinecolor": "#2a3f5f"
            },
            "baxis": {
             "endlinecolor": "#2a3f5f",
             "gridcolor": "white",
             "linecolor": "white",
             "minorgridcolor": "white",
             "startlinecolor": "#2a3f5f"
            },
            "type": "carpet"
           }
          ],
          "choropleth": [
           {
            "colorbar": {
             "outlinewidth": 0,
             "ticks": ""
            },
            "type": "choropleth"
           }
          ],
          "contour": [
           {
            "colorbar": {
             "outlinewidth": 0,
             "ticks": ""
            },
            "colorscale": [
             [
              0,
              "#0d0887"
             ],
             [
              0.1111111111111111,
              "#46039f"
             ],
             [
              0.2222222222222222,
              "#7201a8"
             ],
             [
              0.3333333333333333,
              "#9c179e"
             ],
             [
              0.4444444444444444,
              "#bd3786"
             ],
             [
              0.5555555555555556,
              "#d8576b"
             ],
             [
              0.6666666666666666,
              "#ed7953"
             ],
             [
              0.7777777777777778,
              "#fb9f3a"
             ],
             [
              0.8888888888888888,
              "#fdca26"
             ],
             [
              1,
              "#f0f921"
             ]
            ],
            "type": "contour"
           }
          ],
          "contourcarpet": [
           {
            "colorbar": {
             "outlinewidth": 0,
             "ticks": ""
            },
            "type": "contourcarpet"
           }
          ],
          "heatmap": [
           {
            "colorbar": {
             "outlinewidth": 0,
             "ticks": ""
            },
            "colorscale": [
             [
              0,
              "#0d0887"
             ],
             [
              0.1111111111111111,
              "#46039f"
             ],
             [
              0.2222222222222222,
              "#7201a8"
             ],
             [
              0.3333333333333333,
              "#9c179e"
             ],
             [
              0.4444444444444444,
              "#bd3786"
             ],
             [
              0.5555555555555556,
              "#d8576b"
             ],
             [
              0.6666666666666666,
              "#ed7953"
             ],
             [
              0.7777777777777778,
              "#fb9f3a"
             ],
             [
              0.8888888888888888,
              "#fdca26"
             ],
             [
              1,
              "#f0f921"
             ]
            ],
            "type": "heatmap"
           }
          ],
          "heatmapgl": [
           {
            "colorbar": {
             "outlinewidth": 0,
             "ticks": ""
            },
            "colorscale": [
             [
              0,
              "#0d0887"
             ],
             [
              0.1111111111111111,
              "#46039f"
             ],
             [
              0.2222222222222222,
              "#7201a8"
             ],
             [
              0.3333333333333333,
              "#9c179e"
             ],
             [
              0.4444444444444444,
              "#bd3786"
             ],
             [
              0.5555555555555556,
              "#d8576b"
             ],
             [
              0.6666666666666666,
              "#ed7953"
             ],
             [
              0.7777777777777778,
              "#fb9f3a"
             ],
             [
              0.8888888888888888,
              "#fdca26"
             ],
             [
              1,
              "#f0f921"
             ]
            ],
            "type": "heatmapgl"
           }
          ],
          "histogram": [
           {
            "marker": {
             "pattern": {
              "fillmode": "overlay",
              "size": 10,
              "solidity": 0.2
             }
            },
            "type": "histogram"
           }
          ],
          "histogram2d": [
           {
            "colorbar": {
             "outlinewidth": 0,
             "ticks": ""
            },
            "colorscale": [
             [
              0,
              "#0d0887"
             ],
             [
              0.1111111111111111,
              "#46039f"
             ],
             [
              0.2222222222222222,
              "#7201a8"
             ],
             [
              0.3333333333333333,
              "#9c179e"
             ],
             [
              0.4444444444444444,
              "#bd3786"
             ],
             [
              0.5555555555555556,
              "#d8576b"
             ],
             [
              0.6666666666666666,
              "#ed7953"
             ],
             [
              0.7777777777777778,
              "#fb9f3a"
             ],
             [
              0.8888888888888888,
              "#fdca26"
             ],
             [
              1,
              "#f0f921"
             ]
            ],
            "type": "histogram2d"
           }
          ],
          "histogram2dcontour": [
           {
            "colorbar": {
             "outlinewidth": 0,
             "ticks": ""
            },
            "colorscale": [
             [
              0,
              "#0d0887"
             ],
             [
              0.1111111111111111,
              "#46039f"
             ],
             [
              0.2222222222222222,
              "#7201a8"
             ],
             [
              0.3333333333333333,
              "#9c179e"
             ],
             [
              0.4444444444444444,
              "#bd3786"
             ],
             [
              0.5555555555555556,
              "#d8576b"
             ],
             [
              0.6666666666666666,
              "#ed7953"
             ],
             [
              0.7777777777777778,
              "#fb9f3a"
             ],
             [
              0.8888888888888888,
              "#fdca26"
             ],
             [
              1,
              "#f0f921"
             ]
            ],
            "type": "histogram2dcontour"
           }
          ],
          "mesh3d": [
           {
            "colorbar": {
             "outlinewidth": 0,
             "ticks": ""
            },
            "type": "mesh3d"
           }
          ],
          "parcoords": [
           {
            "line": {
             "colorbar": {
              "outlinewidth": 0,
              "ticks": ""
             }
            },
            "type": "parcoords"
           }
          ],
          "pie": [
           {
            "automargin": true,
            "type": "pie"
           }
          ],
          "scatter": [
           {
            "fillpattern": {
             "fillmode": "overlay",
             "size": 10,
             "solidity": 0.2
            },
            "type": "scatter"
           }
          ],
          "scatter3d": [
           {
            "line": {
             "colorbar": {
              "outlinewidth": 0,
              "ticks": ""
             }
            },
            "marker": {
             "colorbar": {
              "outlinewidth": 0,
              "ticks": ""
             }
            },
            "type": "scatter3d"
           }
          ],
          "scattercarpet": [
           {
            "marker": {
             "colorbar": {
              "outlinewidth": 0,
              "ticks": ""
             }
            },
            "type": "scattercarpet"
           }
          ],
          "scattergeo": [
           {
            "marker": {
             "colorbar": {
              "outlinewidth": 0,
              "ticks": ""
             }
            },
            "type": "scattergeo"
           }
          ],
          "scattergl": [
           {
            "marker": {
             "colorbar": {
              "outlinewidth": 0,
              "ticks": ""
             }
            },
            "type": "scattergl"
           }
          ],
          "scattermapbox": [
           {
            "marker": {
             "colorbar": {
              "outlinewidth": 0,
              "ticks": ""
             }
            },
            "type": "scattermapbox"
           }
          ],
          "scatterpolar": [
           {
            "marker": {
             "colorbar": {
              "outlinewidth": 0,
              "ticks": ""
             }
            },
            "type": "scatterpolar"
           }
          ],
          "scatterpolargl": [
           {
            "marker": {
             "colorbar": {
              "outlinewidth": 0,
              "ticks": ""
             }
            },
            "type": "scatterpolargl"
           }
          ],
          "scatterternary": [
           {
            "marker": {
             "colorbar": {
              "outlinewidth": 0,
              "ticks": ""
             }
            },
            "type": "scatterternary"
           }
          ],
          "surface": [
           {
            "colorbar": {
             "outlinewidth": 0,
             "ticks": ""
            },
            "colorscale": [
             [
              0,
              "#0d0887"
             ],
             [
              0.1111111111111111,
              "#46039f"
             ],
             [
              0.2222222222222222,
              "#7201a8"
             ],
             [
              0.3333333333333333,
              "#9c179e"
             ],
             [
              0.4444444444444444,
              "#bd3786"
             ],
             [
              0.5555555555555556,
              "#d8576b"
             ],
             [
              0.6666666666666666,
              "#ed7953"
             ],
             [
              0.7777777777777778,
              "#fb9f3a"
             ],
             [
              0.8888888888888888,
              "#fdca26"
             ],
             [
              1,
              "#f0f921"
             ]
            ],
            "type": "surface"
           }
          ],
          "table": [
           {
            "cells": {
             "fill": {
              "color": "#EBF0F8"
             },
             "line": {
              "color": "white"
             }
            },
            "header": {
             "fill": {
              "color": "#C8D4E3"
             },
             "line": {
              "color": "white"
             }
            },
            "type": "table"
           }
          ]
         },
         "layout": {
          "annotationdefaults": {
           "arrowcolor": "#2a3f5f",
           "arrowhead": 0,
           "arrowwidth": 1
          },
          "autotypenumbers": "strict",
          "coloraxis": {
           "colorbar": {
            "outlinewidth": 0,
            "ticks": ""
           }
          },
          "colorscale": {
           "diverging": [
            [
             0,
             "#8e0152"
            ],
            [
             0.1,
             "#c51b7d"
            ],
            [
             0.2,
             "#de77ae"
            ],
            [
             0.3,
             "#f1b6da"
            ],
            [
             0.4,
             "#fde0ef"
            ],
            [
             0.5,
             "#f7f7f7"
            ],
            [
             0.6,
             "#e6f5d0"
            ],
            [
             0.7,
             "#b8e186"
            ],
            [
             0.8,
             "#7fbc41"
            ],
            [
             0.9,
             "#4d9221"
            ],
            [
             1,
             "#276419"
            ]
           ],
           "sequential": [
            [
             0,
             "#0d0887"
            ],
            [
             0.1111111111111111,
             "#46039f"
            ],
            [
             0.2222222222222222,
             "#7201a8"
            ],
            [
             0.3333333333333333,
             "#9c179e"
            ],
            [
             0.4444444444444444,
             "#bd3786"
            ],
            [
             0.5555555555555556,
             "#d8576b"
            ],
            [
             0.6666666666666666,
             "#ed7953"
            ],
            [
             0.7777777777777778,
             "#fb9f3a"
            ],
            [
             0.8888888888888888,
             "#fdca26"
            ],
            [
             1,
             "#f0f921"
            ]
           ],
           "sequentialminus": [
            [
             0,
             "#0d0887"
            ],
            [
             0.1111111111111111,
             "#46039f"
            ],
            [
             0.2222222222222222,
             "#7201a8"
            ],
            [
             0.3333333333333333,
             "#9c179e"
            ],
            [
             0.4444444444444444,
             "#bd3786"
            ],
            [
             0.5555555555555556,
             "#d8576b"
            ],
            [
             0.6666666666666666,
             "#ed7953"
            ],
            [
             0.7777777777777778,
             "#fb9f3a"
            ],
            [
             0.8888888888888888,
             "#fdca26"
            ],
            [
             1,
             "#f0f921"
            ]
           ]
          },
          "colorway": [
           "#636efa",
           "#EF553B",
           "#00cc96",
           "#ab63fa",
           "#FFA15A",
           "#19d3f3",
           "#FF6692",
           "#B6E880",
           "#FF97FF",
           "#FECB52"
          ],
          "font": {
           "color": "#2a3f5f"
          },
          "geo": {
           "bgcolor": "white",
           "lakecolor": "white",
           "landcolor": "#E5ECF6",
           "showlakes": true,
           "showland": true,
           "subunitcolor": "white"
          },
          "hoverlabel": {
           "align": "left"
          },
          "hovermode": "closest",
          "mapbox": {
           "style": "light"
          },
          "paper_bgcolor": "white",
          "plot_bgcolor": "#E5ECF6",
          "polar": {
           "angularaxis": {
            "gridcolor": "white",
            "linecolor": "white",
            "ticks": ""
           },
           "bgcolor": "#E5ECF6",
           "radialaxis": {
            "gridcolor": "white",
            "linecolor": "white",
            "ticks": ""
           }
          },
          "scene": {
           "xaxis": {
            "backgroundcolor": "#E5ECF6",
            "gridcolor": "white",
            "gridwidth": 2,
            "linecolor": "white",
            "showbackground": true,
            "ticks": "",
            "zerolinecolor": "white"
           },
           "yaxis": {
            "backgroundcolor": "#E5ECF6",
            "gridcolor": "white",
            "gridwidth": 2,
            "linecolor": "white",
            "showbackground": true,
            "ticks": "",
            "zerolinecolor": "white"
           },
           "zaxis": {
            "backgroundcolor": "#E5ECF6",
            "gridcolor": "white",
            "gridwidth": 2,
            "linecolor": "white",
            "showbackground": true,
            "ticks": "",
            "zerolinecolor": "white"
           }
          },
          "shapedefaults": {
           "line": {
            "color": "#2a3f5f"
           }
          },
          "ternary": {
           "aaxis": {
            "gridcolor": "white",
            "linecolor": "white",
            "ticks": ""
           },
           "baxis": {
            "gridcolor": "white",
            "linecolor": "white",
            "ticks": ""
           },
           "bgcolor": "#E5ECF6",
           "caxis": {
            "gridcolor": "white",
            "linecolor": "white",
            "ticks": ""
           }
          },
          "title": {
           "x": 0.05
          },
          "xaxis": {
           "automargin": true,
           "gridcolor": "white",
           "linecolor": "white",
           "ticks": "",
           "title": {
            "standoff": 15
           },
           "zerolinecolor": "white",
           "zerolinewidth": 2
          },
          "yaxis": {
           "automargin": true,
           "gridcolor": "white",
           "linecolor": "white",
           "ticks": "",
           "title": {
            "standoff": 15
           },
           "zerolinecolor": "white",
           "zerolinewidth": 2
          }
         }
        }
       }
      },
      "text/html": [
       "<div>                            <div id=\"c1b3b8c1-d4bd-482d-93ee-a82fed8ed1f2\" class=\"plotly-graph-div\" style=\"height:525px; width:100%;\"></div>            <script type=\"text/javascript\">                require([\"plotly\"], function(Plotly) {                    window.PLOTLYENV=window.PLOTLYENV || {};                                    if (document.getElementById(\"c1b3b8c1-d4bd-482d-93ee-a82fed8ed1f2\")) {                    Plotly.newPlot(                        \"c1b3b8c1-d4bd-482d-93ee-a82fed8ed1f2\",                        [{\"domain\":{\"x\":[0.0,1.0],\"y\":[0.0,1.0]},\"hole\":0.6,\"hovertemplate\":\"08-18 (count)=%{label}<br>factorNumber=%{value}<extra></extra>\",\"labels\":[4,0,0,0,2,0,0,0,0,0,0,0,1,13,0,0,0,0,0,4,13,0,0,6,0,0,7,0,0,0,0,0,0,0,7,0,0,0,0,0,0,5,0,0,0,0,0,0,5,0,0,0,0,0,0,6,0,0,0,0,0,0,3,1,0,3,0,0,0,0,0,0,0,3,0,0,0,0,0,0,0,0,0,0,0,0,0,0,0,0,0,0,0,0,0,0,0,0,0,0,0,0,0,0,0,0,7,0,0,0,0,0,0,0,0,0,0,0,0,0,0,0,0,0,0,0,0,0,0,0,0,0,0,0,7,0,0,0,1,0,0,0,0,0,0,3,5,0,0,0,0,0,0,0,0,0,0,0,0,0,0,0,0,0,0,0,0,0,0,0,0,0,0,0,0,0,0,0,0,0,4,0,0,0,0,0,0,0,0,0,0,0,0,0,0,0,0,0,0,0,0,0,0,0,0],\"legendgroup\":\"\",\"name\":\"\",\"showlegend\":true,\"values\":[69,61,38,42,68,54,51,9,50,45,67,60,55,54,44,47,61,37,38,66,57,61,51,61,49,40,76,82,41,53,39,31,38,54,67,51,43,41,43,36,63,68,35,38,18,44,37,49,47,34,14,43,35,40,63,25,33,23,33,13,27,65,3,42,68,35,39,50,46,70,67,42,29,38,62,76,34,46,29,42,23,27,49,59,59,46,25,45,26,24,44,65,44,41,27,61,32,71,88,63,54,31,37,63,46,49,53,38,50,69,79,31,30,77,60,74,37,40,51,82,66,55,30,44,84,60,67,52,28,47,45,49,44,60,77,77,66,48,39,48,48,41,50,94,64,92,63,78,97,90,100,98,86,114,82,47,36,55,70,49,62,79,48,38,3,48,71,65,61,53,31,78,51,60,64,62,79,44,82,94,107,102,148,88,75,79,62,70,69,135,99,72,62,60,86,96,121,85,77,50,64,83,74,95,84],\"type\":\"pie\"}],                        {\"template\":{\"data\":{\"histogram2dcontour\":[{\"type\":\"histogram2dcontour\",\"colorbar\":{\"outlinewidth\":0,\"ticks\":\"\"},\"colorscale\":[[0.0,\"#0d0887\"],[0.1111111111111111,\"#46039f\"],[0.2222222222222222,\"#7201a8\"],[0.3333333333333333,\"#9c179e\"],[0.4444444444444444,\"#bd3786\"],[0.5555555555555556,\"#d8576b\"],[0.6666666666666666,\"#ed7953\"],[0.7777777777777778,\"#fb9f3a\"],[0.8888888888888888,\"#fdca26\"],[1.0,\"#f0f921\"]]}],\"choropleth\":[{\"type\":\"choropleth\",\"colorbar\":{\"outlinewidth\":0,\"ticks\":\"\"}}],\"histogram2d\":[{\"type\":\"histogram2d\",\"colorbar\":{\"outlinewidth\":0,\"ticks\":\"\"},\"colorscale\":[[0.0,\"#0d0887\"],[0.1111111111111111,\"#46039f\"],[0.2222222222222222,\"#7201a8\"],[0.3333333333333333,\"#9c179e\"],[0.4444444444444444,\"#bd3786\"],[0.5555555555555556,\"#d8576b\"],[0.6666666666666666,\"#ed7953\"],[0.7777777777777778,\"#fb9f3a\"],[0.8888888888888888,\"#fdca26\"],[1.0,\"#f0f921\"]]}],\"heatmap\":[{\"type\":\"heatmap\",\"colorbar\":{\"outlinewidth\":0,\"ticks\":\"\"},\"colorscale\":[[0.0,\"#0d0887\"],[0.1111111111111111,\"#46039f\"],[0.2222222222222222,\"#7201a8\"],[0.3333333333333333,\"#9c179e\"],[0.4444444444444444,\"#bd3786\"],[0.5555555555555556,\"#d8576b\"],[0.6666666666666666,\"#ed7953\"],[0.7777777777777778,\"#fb9f3a\"],[0.8888888888888888,\"#fdca26\"],[1.0,\"#f0f921\"]]}],\"heatmapgl\":[{\"type\":\"heatmapgl\",\"colorbar\":{\"outlinewidth\":0,\"ticks\":\"\"},\"colorscale\":[[0.0,\"#0d0887\"],[0.1111111111111111,\"#46039f\"],[0.2222222222222222,\"#7201a8\"],[0.3333333333333333,\"#9c179e\"],[0.4444444444444444,\"#bd3786\"],[0.5555555555555556,\"#d8576b\"],[0.6666666666666666,\"#ed7953\"],[0.7777777777777778,\"#fb9f3a\"],[0.8888888888888888,\"#fdca26\"],[1.0,\"#f0f921\"]]}],\"contourcarpet\":[{\"type\":\"contourcarpet\",\"colorbar\":{\"outlinewidth\":0,\"ticks\":\"\"}}],\"contour\":[{\"type\":\"contour\",\"colorbar\":{\"outlinewidth\":0,\"ticks\":\"\"},\"colorscale\":[[0.0,\"#0d0887\"],[0.1111111111111111,\"#46039f\"],[0.2222222222222222,\"#7201a8\"],[0.3333333333333333,\"#9c179e\"],[0.4444444444444444,\"#bd3786\"],[0.5555555555555556,\"#d8576b\"],[0.6666666666666666,\"#ed7953\"],[0.7777777777777778,\"#fb9f3a\"],[0.8888888888888888,\"#fdca26\"],[1.0,\"#f0f921\"]]}],\"surface\":[{\"type\":\"surface\",\"colorbar\":{\"outlinewidth\":0,\"ticks\":\"\"},\"colorscale\":[[0.0,\"#0d0887\"],[0.1111111111111111,\"#46039f\"],[0.2222222222222222,\"#7201a8\"],[0.3333333333333333,\"#9c179e\"],[0.4444444444444444,\"#bd3786\"],[0.5555555555555556,\"#d8576b\"],[0.6666666666666666,\"#ed7953\"],[0.7777777777777778,\"#fb9f3a\"],[0.8888888888888888,\"#fdca26\"],[1.0,\"#f0f921\"]]}],\"mesh3d\":[{\"type\":\"mesh3d\",\"colorbar\":{\"outlinewidth\":0,\"ticks\":\"\"}}],\"scatter\":[{\"fillpattern\":{\"fillmode\":\"overlay\",\"size\":10,\"solidity\":0.2},\"type\":\"scatter\"}],\"parcoords\":[{\"type\":\"parcoords\",\"line\":{\"colorbar\":{\"outlinewidth\":0,\"ticks\":\"\"}}}],\"scatterpolargl\":[{\"type\":\"scatterpolargl\",\"marker\":{\"colorbar\":{\"outlinewidth\":0,\"ticks\":\"\"}}}],\"bar\":[{\"error_x\":{\"color\":\"#2a3f5f\"},\"error_y\":{\"color\":\"#2a3f5f\"},\"marker\":{\"line\":{\"color\":\"#E5ECF6\",\"width\":0.5},\"pattern\":{\"fillmode\":\"overlay\",\"size\":10,\"solidity\":0.2}},\"type\":\"bar\"}],\"scattergeo\":[{\"type\":\"scattergeo\",\"marker\":{\"colorbar\":{\"outlinewidth\":0,\"ticks\":\"\"}}}],\"scatterpolar\":[{\"type\":\"scatterpolar\",\"marker\":{\"colorbar\":{\"outlinewidth\":0,\"ticks\":\"\"}}}],\"histogram\":[{\"marker\":{\"pattern\":{\"fillmode\":\"overlay\",\"size\":10,\"solidity\":0.2}},\"type\":\"histogram\"}],\"scattergl\":[{\"type\":\"scattergl\",\"marker\":{\"colorbar\":{\"outlinewidth\":0,\"ticks\":\"\"}}}],\"scatter3d\":[{\"type\":\"scatter3d\",\"line\":{\"colorbar\":{\"outlinewidth\":0,\"ticks\":\"\"}},\"marker\":{\"colorbar\":{\"outlinewidth\":0,\"ticks\":\"\"}}}],\"scattermapbox\":[{\"type\":\"scattermapbox\",\"marker\":{\"colorbar\":{\"outlinewidth\":0,\"ticks\":\"\"}}}],\"scatterternary\":[{\"type\":\"scatterternary\",\"marker\":{\"colorbar\":{\"outlinewidth\":0,\"ticks\":\"\"}}}],\"scattercarpet\":[{\"type\":\"scattercarpet\",\"marker\":{\"colorbar\":{\"outlinewidth\":0,\"ticks\":\"\"}}}],\"carpet\":[{\"aaxis\":{\"endlinecolor\":\"#2a3f5f\",\"gridcolor\":\"white\",\"linecolor\":\"white\",\"minorgridcolor\":\"white\",\"startlinecolor\":\"#2a3f5f\"},\"baxis\":{\"endlinecolor\":\"#2a3f5f\",\"gridcolor\":\"white\",\"linecolor\":\"white\",\"minorgridcolor\":\"white\",\"startlinecolor\":\"#2a3f5f\"},\"type\":\"carpet\"}],\"table\":[{\"cells\":{\"fill\":{\"color\":\"#EBF0F8\"},\"line\":{\"color\":\"white\"}},\"header\":{\"fill\":{\"color\":\"#C8D4E3\"},\"line\":{\"color\":\"white\"}},\"type\":\"table\"}],\"barpolar\":[{\"marker\":{\"line\":{\"color\":\"#E5ECF6\",\"width\":0.5},\"pattern\":{\"fillmode\":\"overlay\",\"size\":10,\"solidity\":0.2}},\"type\":\"barpolar\"}],\"pie\":[{\"automargin\":true,\"type\":\"pie\"}]},\"layout\":{\"autotypenumbers\":\"strict\",\"colorway\":[\"#636efa\",\"#EF553B\",\"#00cc96\",\"#ab63fa\",\"#FFA15A\",\"#19d3f3\",\"#FF6692\",\"#B6E880\",\"#FF97FF\",\"#FECB52\"],\"font\":{\"color\":\"#2a3f5f\"},\"hovermode\":\"closest\",\"hoverlabel\":{\"align\":\"left\"},\"paper_bgcolor\":\"white\",\"plot_bgcolor\":\"#E5ECF6\",\"polar\":{\"bgcolor\":\"#E5ECF6\",\"angularaxis\":{\"gridcolor\":\"white\",\"linecolor\":\"white\",\"ticks\":\"\"},\"radialaxis\":{\"gridcolor\":\"white\",\"linecolor\":\"white\",\"ticks\":\"\"}},\"ternary\":{\"bgcolor\":\"#E5ECF6\",\"aaxis\":{\"gridcolor\":\"white\",\"linecolor\":\"white\",\"ticks\":\"\"},\"baxis\":{\"gridcolor\":\"white\",\"linecolor\":\"white\",\"ticks\":\"\"},\"caxis\":{\"gridcolor\":\"white\",\"linecolor\":\"white\",\"ticks\":\"\"}},\"coloraxis\":{\"colorbar\":{\"outlinewidth\":0,\"ticks\":\"\"}},\"colorscale\":{\"sequential\":[[0.0,\"#0d0887\"],[0.1111111111111111,\"#46039f\"],[0.2222222222222222,\"#7201a8\"],[0.3333333333333333,\"#9c179e\"],[0.4444444444444444,\"#bd3786\"],[0.5555555555555556,\"#d8576b\"],[0.6666666666666666,\"#ed7953\"],[0.7777777777777778,\"#fb9f3a\"],[0.8888888888888888,\"#fdca26\"],[1.0,\"#f0f921\"]],\"sequentialminus\":[[0.0,\"#0d0887\"],[0.1111111111111111,\"#46039f\"],[0.2222222222222222,\"#7201a8\"],[0.3333333333333333,\"#9c179e\"],[0.4444444444444444,\"#bd3786\"],[0.5555555555555556,\"#d8576b\"],[0.6666666666666666,\"#ed7953\"],[0.7777777777777778,\"#fb9f3a\"],[0.8888888888888888,\"#fdca26\"],[1.0,\"#f0f921\"]],\"diverging\":[[0,\"#8e0152\"],[0.1,\"#c51b7d\"],[0.2,\"#de77ae\"],[0.3,\"#f1b6da\"],[0.4,\"#fde0ef\"],[0.5,\"#f7f7f7\"],[0.6,\"#e6f5d0\"],[0.7,\"#b8e186\"],[0.8,\"#7fbc41\"],[0.9,\"#4d9221\"],[1,\"#276419\"]]},\"xaxis\":{\"gridcolor\":\"white\",\"linecolor\":\"white\",\"ticks\":\"\",\"title\":{\"standoff\":15},\"zerolinecolor\":\"white\",\"automargin\":true,\"zerolinewidth\":2},\"yaxis\":{\"gridcolor\":\"white\",\"linecolor\":\"white\",\"ticks\":\"\",\"title\":{\"standoff\":15},\"zerolinecolor\":\"white\",\"automargin\":true,\"zerolinewidth\":2},\"scene\":{\"xaxis\":{\"backgroundcolor\":\"#E5ECF6\",\"gridcolor\":\"white\",\"linecolor\":\"white\",\"showbackground\":true,\"ticks\":\"\",\"zerolinecolor\":\"white\",\"gridwidth\":2},\"yaxis\":{\"backgroundcolor\":\"#E5ECF6\",\"gridcolor\":\"white\",\"linecolor\":\"white\",\"showbackground\":true,\"ticks\":\"\",\"zerolinecolor\":\"white\",\"gridwidth\":2},\"zaxis\":{\"backgroundcolor\":\"#E5ECF6\",\"gridcolor\":\"white\",\"linecolor\":\"white\",\"showbackground\":true,\"ticks\":\"\",\"zerolinecolor\":\"white\",\"gridwidth\":2}},\"shapedefaults\":{\"line\":{\"color\":\"#2a3f5f\"}},\"annotationdefaults\":{\"arrowcolor\":\"#2a3f5f\",\"arrowhead\":0,\"arrowwidth\":1},\"geo\":{\"bgcolor\":\"white\",\"landcolor\":\"#E5ECF6\",\"subunitcolor\":\"white\",\"showland\":true,\"showlakes\":true,\"lakecolor\":\"white\"},\"title\":{\"x\":0.05},\"mapbox\":{\"style\":\"light\"}}},\"legend\":{\"tracegroupgap\":0},\"margin\":{\"t\":60}},                        {\"responsive\": true}                    ).then(function(){\n",
       "                            \n",
       "var gd = document.getElementById('c1b3b8c1-d4bd-482d-93ee-a82fed8ed1f2');\n",
       "var x = new MutationObserver(function (mutations, observer) {{\n",
       "        var display = window.getComputedStyle(gd).display;\n",
       "        if (!display || display === 'none') {{\n",
       "            console.log([gd, 'removed!']);\n",
       "            Plotly.purge(gd);\n",
       "            observer.disconnect();\n",
       "        }}\n",
       "}});\n",
       "\n",
       "// Listen for the removal of the full notebook cells\n",
       "var notebookContainer = gd.closest('#notebook-container');\n",
       "if (notebookContainer) {{\n",
       "    x.observe(notebookContainer, {childList: true});\n",
       "}}\n",
       "\n",
       "// Listen for the clearing of the current output cell\n",
       "var outputEl = gd.closest('.output');\n",
       "if (outputEl) {{\n",
       "    x.observe(outputEl, {childList: true});\n",
       "}}\n",
       "\n",
       "                        })                };                });            </script>        </div>"
      ]
     },
     "metadata": {},
     "output_type": "display_data"
    },
    {
     "data": {
      "application/vnd.plotly.v1+json": {
       "config": {
        "plotlyServerURL": "https://plot.ly"
       },
       "data": [
        {
         "domain": {
          "x": [
           0,
           1
          ],
          "y": [
           0,
           1
          ]
         },
         "hole": 0.6,
         "hovertemplate": "18-20 (count)=%{label}<br>factorNumber=%{value}<extra></extra>",
         "labels": [
          16,
          16,
          2,
          0,
          7,
          5,
          18,
          0,
          4,
          9,
          15,
          11,
          12,
          6,
          22,
          8,
          8,
          11,
          6,
          12,
          14,
          29,
          17,
          13,
          9,
          9,
          10,
          18,
          13,
          14,
          5,
          8,
          2,
          11,
          26,
          9,
          4,
          5,
          19,
          2,
          15,
          21,
          6,
          5,
          2,
          17,
          1,
          6,
          4,
          8,
          3,
          10,
          0,
          8,
          15,
          2,
          2,
          0,
          7,
          6,
          7,
          17,
          0,
          13,
          6,
          8,
          5,
          8,
          8,
          23,
          13,
          9,
          8,
          6,
          10,
          10,
          2,
          8,
          7,
          9,
          7,
          6,
          7,
          5,
          8,
          2,
          0,
          7,
          3,
          4,
          11,
          11,
          10,
          6,
          8,
          24,
          5,
          12,
          11,
          17,
          8,
          11,
          13,
          4,
          5,
          0,
          13,
          0,
          3,
          4,
          15,
          0,
          5,
          13,
          10,
          17,
          7,
          8,
          4,
          9,
          6,
          5,
          4,
          2,
          16,
          7,
          11,
          10,
          2,
          13,
          2,
          14,
          3,
          0,
          4,
          22,
          7,
          0,
          8,
          8,
          3,
          2,
          8,
          12,
          17,
          3,
          4,
          10,
          24,
          27,
          11,
          17,
          17,
          8,
          6,
          0,
          0,
          0,
          0,
          0,
          0,
          0,
          0,
          0,
          0,
          0,
          0,
          0,
          0,
          0,
          0,
          0,
          0,
          0,
          0,
          0,
          0,
          0,
          0,
          0,
          17,
          24,
          16,
          13,
          4,
          8,
          2,
          1,
          2,
          2,
          5,
          0,
          7,
          2,
          16,
          0,
          1,
          8,
          3,
          1,
          5,
          3,
          1,
          0,
          0
         ],
         "legendgroup": "",
         "name": "",
         "showlegend": true,
         "type": "pie",
         "values": [
          69,
          61,
          38,
          42,
          68,
          54,
          51,
          9,
          50,
          45,
          67,
          60,
          55,
          54,
          44,
          47,
          61,
          37,
          38,
          66,
          57,
          61,
          51,
          61,
          49,
          40,
          76,
          82,
          41,
          53,
          39,
          31,
          38,
          54,
          67,
          51,
          43,
          41,
          43,
          36,
          63,
          68,
          35,
          38,
          18,
          44,
          37,
          49,
          47,
          34,
          14,
          43,
          35,
          40,
          63,
          25,
          33,
          23,
          33,
          13,
          27,
          65,
          3,
          42,
          68,
          35,
          39,
          50,
          46,
          70,
          67,
          42,
          29,
          38,
          62,
          76,
          34,
          46,
          29,
          42,
          23,
          27,
          49,
          59,
          59,
          46,
          25,
          45,
          26,
          24,
          44,
          65,
          44,
          41,
          27,
          61,
          32,
          71,
          88,
          63,
          54,
          31,
          37,
          63,
          46,
          49,
          53,
          38,
          50,
          69,
          79,
          31,
          30,
          77,
          60,
          74,
          37,
          40,
          51,
          82,
          66,
          55,
          30,
          44,
          84,
          60,
          67,
          52,
          28,
          47,
          45,
          49,
          44,
          60,
          77,
          77,
          66,
          48,
          39,
          48,
          48,
          41,
          50,
          94,
          64,
          92,
          63,
          78,
          97,
          90,
          100,
          98,
          86,
          114,
          82,
          47,
          36,
          55,
          70,
          49,
          62,
          79,
          48,
          38,
          3,
          48,
          71,
          65,
          61,
          53,
          31,
          78,
          51,
          60,
          64,
          62,
          79,
          44,
          82,
          94,
          107,
          102,
          148,
          88,
          75,
          79,
          62,
          70,
          69,
          135,
          99,
          72,
          62,
          60,
          86,
          96,
          121,
          85,
          77,
          50,
          64,
          83,
          74,
          95,
          84
         ]
        }
       ],
       "layout": {
        "legend": {
         "tracegroupgap": 0
        },
        "margin": {
         "t": 60
        },
        "template": {
         "data": {
          "bar": [
           {
            "error_x": {
             "color": "#2a3f5f"
            },
            "error_y": {
             "color": "#2a3f5f"
            },
            "marker": {
             "line": {
              "color": "#E5ECF6",
              "width": 0.5
             },
             "pattern": {
              "fillmode": "overlay",
              "size": 10,
              "solidity": 0.2
             }
            },
            "type": "bar"
           }
          ],
          "barpolar": [
           {
            "marker": {
             "line": {
              "color": "#E5ECF6",
              "width": 0.5
             },
             "pattern": {
              "fillmode": "overlay",
              "size": 10,
              "solidity": 0.2
             }
            },
            "type": "barpolar"
           }
          ],
          "carpet": [
           {
            "aaxis": {
             "endlinecolor": "#2a3f5f",
             "gridcolor": "white",
             "linecolor": "white",
             "minorgridcolor": "white",
             "startlinecolor": "#2a3f5f"
            },
            "baxis": {
             "endlinecolor": "#2a3f5f",
             "gridcolor": "white",
             "linecolor": "white",
             "minorgridcolor": "white",
             "startlinecolor": "#2a3f5f"
            },
            "type": "carpet"
           }
          ],
          "choropleth": [
           {
            "colorbar": {
             "outlinewidth": 0,
             "ticks": ""
            },
            "type": "choropleth"
           }
          ],
          "contour": [
           {
            "colorbar": {
             "outlinewidth": 0,
             "ticks": ""
            },
            "colorscale": [
             [
              0,
              "#0d0887"
             ],
             [
              0.1111111111111111,
              "#46039f"
             ],
             [
              0.2222222222222222,
              "#7201a8"
             ],
             [
              0.3333333333333333,
              "#9c179e"
             ],
             [
              0.4444444444444444,
              "#bd3786"
             ],
             [
              0.5555555555555556,
              "#d8576b"
             ],
             [
              0.6666666666666666,
              "#ed7953"
             ],
             [
              0.7777777777777778,
              "#fb9f3a"
             ],
             [
              0.8888888888888888,
              "#fdca26"
             ],
             [
              1,
              "#f0f921"
             ]
            ],
            "type": "contour"
           }
          ],
          "contourcarpet": [
           {
            "colorbar": {
             "outlinewidth": 0,
             "ticks": ""
            },
            "type": "contourcarpet"
           }
          ],
          "heatmap": [
           {
            "colorbar": {
             "outlinewidth": 0,
             "ticks": ""
            },
            "colorscale": [
             [
              0,
              "#0d0887"
             ],
             [
              0.1111111111111111,
              "#46039f"
             ],
             [
              0.2222222222222222,
              "#7201a8"
             ],
             [
              0.3333333333333333,
              "#9c179e"
             ],
             [
              0.4444444444444444,
              "#bd3786"
             ],
             [
              0.5555555555555556,
              "#d8576b"
             ],
             [
              0.6666666666666666,
              "#ed7953"
             ],
             [
              0.7777777777777778,
              "#fb9f3a"
             ],
             [
              0.8888888888888888,
              "#fdca26"
             ],
             [
              1,
              "#f0f921"
             ]
            ],
            "type": "heatmap"
           }
          ],
          "heatmapgl": [
           {
            "colorbar": {
             "outlinewidth": 0,
             "ticks": ""
            },
            "colorscale": [
             [
              0,
              "#0d0887"
             ],
             [
              0.1111111111111111,
              "#46039f"
             ],
             [
              0.2222222222222222,
              "#7201a8"
             ],
             [
              0.3333333333333333,
              "#9c179e"
             ],
             [
              0.4444444444444444,
              "#bd3786"
             ],
             [
              0.5555555555555556,
              "#d8576b"
             ],
             [
              0.6666666666666666,
              "#ed7953"
             ],
             [
              0.7777777777777778,
              "#fb9f3a"
             ],
             [
              0.8888888888888888,
              "#fdca26"
             ],
             [
              1,
              "#f0f921"
             ]
            ],
            "type": "heatmapgl"
           }
          ],
          "histogram": [
           {
            "marker": {
             "pattern": {
              "fillmode": "overlay",
              "size": 10,
              "solidity": 0.2
             }
            },
            "type": "histogram"
           }
          ],
          "histogram2d": [
           {
            "colorbar": {
             "outlinewidth": 0,
             "ticks": ""
            },
            "colorscale": [
             [
              0,
              "#0d0887"
             ],
             [
              0.1111111111111111,
              "#46039f"
             ],
             [
              0.2222222222222222,
              "#7201a8"
             ],
             [
              0.3333333333333333,
              "#9c179e"
             ],
             [
              0.4444444444444444,
              "#bd3786"
             ],
             [
              0.5555555555555556,
              "#d8576b"
             ],
             [
              0.6666666666666666,
              "#ed7953"
             ],
             [
              0.7777777777777778,
              "#fb9f3a"
             ],
             [
              0.8888888888888888,
              "#fdca26"
             ],
             [
              1,
              "#f0f921"
             ]
            ],
            "type": "histogram2d"
           }
          ],
          "histogram2dcontour": [
           {
            "colorbar": {
             "outlinewidth": 0,
             "ticks": ""
            },
            "colorscale": [
             [
              0,
              "#0d0887"
             ],
             [
              0.1111111111111111,
              "#46039f"
             ],
             [
              0.2222222222222222,
              "#7201a8"
             ],
             [
              0.3333333333333333,
              "#9c179e"
             ],
             [
              0.4444444444444444,
              "#bd3786"
             ],
             [
              0.5555555555555556,
              "#d8576b"
             ],
             [
              0.6666666666666666,
              "#ed7953"
             ],
             [
              0.7777777777777778,
              "#fb9f3a"
             ],
             [
              0.8888888888888888,
              "#fdca26"
             ],
             [
              1,
              "#f0f921"
             ]
            ],
            "type": "histogram2dcontour"
           }
          ],
          "mesh3d": [
           {
            "colorbar": {
             "outlinewidth": 0,
             "ticks": ""
            },
            "type": "mesh3d"
           }
          ],
          "parcoords": [
           {
            "line": {
             "colorbar": {
              "outlinewidth": 0,
              "ticks": ""
             }
            },
            "type": "parcoords"
           }
          ],
          "pie": [
           {
            "automargin": true,
            "type": "pie"
           }
          ],
          "scatter": [
           {
            "fillpattern": {
             "fillmode": "overlay",
             "size": 10,
             "solidity": 0.2
            },
            "type": "scatter"
           }
          ],
          "scatter3d": [
           {
            "line": {
             "colorbar": {
              "outlinewidth": 0,
              "ticks": ""
             }
            },
            "marker": {
             "colorbar": {
              "outlinewidth": 0,
              "ticks": ""
             }
            },
            "type": "scatter3d"
           }
          ],
          "scattercarpet": [
           {
            "marker": {
             "colorbar": {
              "outlinewidth": 0,
              "ticks": ""
             }
            },
            "type": "scattercarpet"
           }
          ],
          "scattergeo": [
           {
            "marker": {
             "colorbar": {
              "outlinewidth": 0,
              "ticks": ""
             }
            },
            "type": "scattergeo"
           }
          ],
          "scattergl": [
           {
            "marker": {
             "colorbar": {
              "outlinewidth": 0,
              "ticks": ""
             }
            },
            "type": "scattergl"
           }
          ],
          "scattermapbox": [
           {
            "marker": {
             "colorbar": {
              "outlinewidth": 0,
              "ticks": ""
             }
            },
            "type": "scattermapbox"
           }
          ],
          "scatterpolar": [
           {
            "marker": {
             "colorbar": {
              "outlinewidth": 0,
              "ticks": ""
             }
            },
            "type": "scatterpolar"
           }
          ],
          "scatterpolargl": [
           {
            "marker": {
             "colorbar": {
              "outlinewidth": 0,
              "ticks": ""
             }
            },
            "type": "scatterpolargl"
           }
          ],
          "scatterternary": [
           {
            "marker": {
             "colorbar": {
              "outlinewidth": 0,
              "ticks": ""
             }
            },
            "type": "scatterternary"
           }
          ],
          "surface": [
           {
            "colorbar": {
             "outlinewidth": 0,
             "ticks": ""
            },
            "colorscale": [
             [
              0,
              "#0d0887"
             ],
             [
              0.1111111111111111,
              "#46039f"
             ],
             [
              0.2222222222222222,
              "#7201a8"
             ],
             [
              0.3333333333333333,
              "#9c179e"
             ],
             [
              0.4444444444444444,
              "#bd3786"
             ],
             [
              0.5555555555555556,
              "#d8576b"
             ],
             [
              0.6666666666666666,
              "#ed7953"
             ],
             [
              0.7777777777777778,
              "#fb9f3a"
             ],
             [
              0.8888888888888888,
              "#fdca26"
             ],
             [
              1,
              "#f0f921"
             ]
            ],
            "type": "surface"
           }
          ],
          "table": [
           {
            "cells": {
             "fill": {
              "color": "#EBF0F8"
             },
             "line": {
              "color": "white"
             }
            },
            "header": {
             "fill": {
              "color": "#C8D4E3"
             },
             "line": {
              "color": "white"
             }
            },
            "type": "table"
           }
          ]
         },
         "layout": {
          "annotationdefaults": {
           "arrowcolor": "#2a3f5f",
           "arrowhead": 0,
           "arrowwidth": 1
          },
          "autotypenumbers": "strict",
          "coloraxis": {
           "colorbar": {
            "outlinewidth": 0,
            "ticks": ""
           }
          },
          "colorscale": {
           "diverging": [
            [
             0,
             "#8e0152"
            ],
            [
             0.1,
             "#c51b7d"
            ],
            [
             0.2,
             "#de77ae"
            ],
            [
             0.3,
             "#f1b6da"
            ],
            [
             0.4,
             "#fde0ef"
            ],
            [
             0.5,
             "#f7f7f7"
            ],
            [
             0.6,
             "#e6f5d0"
            ],
            [
             0.7,
             "#b8e186"
            ],
            [
             0.8,
             "#7fbc41"
            ],
            [
             0.9,
             "#4d9221"
            ],
            [
             1,
             "#276419"
            ]
           ],
           "sequential": [
            [
             0,
             "#0d0887"
            ],
            [
             0.1111111111111111,
             "#46039f"
            ],
            [
             0.2222222222222222,
             "#7201a8"
            ],
            [
             0.3333333333333333,
             "#9c179e"
            ],
            [
             0.4444444444444444,
             "#bd3786"
            ],
            [
             0.5555555555555556,
             "#d8576b"
            ],
            [
             0.6666666666666666,
             "#ed7953"
            ],
            [
             0.7777777777777778,
             "#fb9f3a"
            ],
            [
             0.8888888888888888,
             "#fdca26"
            ],
            [
             1,
             "#f0f921"
            ]
           ],
           "sequentialminus": [
            [
             0,
             "#0d0887"
            ],
            [
             0.1111111111111111,
             "#46039f"
            ],
            [
             0.2222222222222222,
             "#7201a8"
            ],
            [
             0.3333333333333333,
             "#9c179e"
            ],
            [
             0.4444444444444444,
             "#bd3786"
            ],
            [
             0.5555555555555556,
             "#d8576b"
            ],
            [
             0.6666666666666666,
             "#ed7953"
            ],
            [
             0.7777777777777778,
             "#fb9f3a"
            ],
            [
             0.8888888888888888,
             "#fdca26"
            ],
            [
             1,
             "#f0f921"
            ]
           ]
          },
          "colorway": [
           "#636efa",
           "#EF553B",
           "#00cc96",
           "#ab63fa",
           "#FFA15A",
           "#19d3f3",
           "#FF6692",
           "#B6E880",
           "#FF97FF",
           "#FECB52"
          ],
          "font": {
           "color": "#2a3f5f"
          },
          "geo": {
           "bgcolor": "white",
           "lakecolor": "white",
           "landcolor": "#E5ECF6",
           "showlakes": true,
           "showland": true,
           "subunitcolor": "white"
          },
          "hoverlabel": {
           "align": "left"
          },
          "hovermode": "closest",
          "mapbox": {
           "style": "light"
          },
          "paper_bgcolor": "white",
          "plot_bgcolor": "#E5ECF6",
          "polar": {
           "angularaxis": {
            "gridcolor": "white",
            "linecolor": "white",
            "ticks": ""
           },
           "bgcolor": "#E5ECF6",
           "radialaxis": {
            "gridcolor": "white",
            "linecolor": "white",
            "ticks": ""
           }
          },
          "scene": {
           "xaxis": {
            "backgroundcolor": "#E5ECF6",
            "gridcolor": "white",
            "gridwidth": 2,
            "linecolor": "white",
            "showbackground": true,
            "ticks": "",
            "zerolinecolor": "white"
           },
           "yaxis": {
            "backgroundcolor": "#E5ECF6",
            "gridcolor": "white",
            "gridwidth": 2,
            "linecolor": "white",
            "showbackground": true,
            "ticks": "",
            "zerolinecolor": "white"
           },
           "zaxis": {
            "backgroundcolor": "#E5ECF6",
            "gridcolor": "white",
            "gridwidth": 2,
            "linecolor": "white",
            "showbackground": true,
            "ticks": "",
            "zerolinecolor": "white"
           }
          },
          "shapedefaults": {
           "line": {
            "color": "#2a3f5f"
           }
          },
          "ternary": {
           "aaxis": {
            "gridcolor": "white",
            "linecolor": "white",
            "ticks": ""
           },
           "baxis": {
            "gridcolor": "white",
            "linecolor": "white",
            "ticks": ""
           },
           "bgcolor": "#E5ECF6",
           "caxis": {
            "gridcolor": "white",
            "linecolor": "white",
            "ticks": ""
           }
          },
          "title": {
           "x": 0.05
          },
          "xaxis": {
           "automargin": true,
           "gridcolor": "white",
           "linecolor": "white",
           "ticks": "",
           "title": {
            "standoff": 15
           },
           "zerolinecolor": "white",
           "zerolinewidth": 2
          },
          "yaxis": {
           "automargin": true,
           "gridcolor": "white",
           "linecolor": "white",
           "ticks": "",
           "title": {
            "standoff": 15
           },
           "zerolinecolor": "white",
           "zerolinewidth": 2
          }
         }
        }
       }
      },
      "text/html": [
       "<div>                            <div id=\"90fbd07f-d2c4-486a-8d5c-ca641af72356\" class=\"plotly-graph-div\" style=\"height:525px; width:100%;\"></div>            <script type=\"text/javascript\">                require([\"plotly\"], function(Plotly) {                    window.PLOTLYENV=window.PLOTLYENV || {};                                    if (document.getElementById(\"90fbd07f-d2c4-486a-8d5c-ca641af72356\")) {                    Plotly.newPlot(                        \"90fbd07f-d2c4-486a-8d5c-ca641af72356\",                        [{\"domain\":{\"x\":[0.0,1.0],\"y\":[0.0,1.0]},\"hole\":0.6,\"hovertemplate\":\"18-20 (count)=%{label}<br>factorNumber=%{value}<extra></extra>\",\"labels\":[16,16,2,0,7,5,18,0,4,9,15,11,12,6,22,8,8,11,6,12,14,29,17,13,9,9,10,18,13,14,5,8,2,11,26,9,4,5,19,2,15,21,6,5,2,17,1,6,4,8,3,10,0,8,15,2,2,0,7,6,7,17,0,13,6,8,5,8,8,23,13,9,8,6,10,10,2,8,7,9,7,6,7,5,8,2,0,7,3,4,11,11,10,6,8,24,5,12,11,17,8,11,13,4,5,0,13,0,3,4,15,0,5,13,10,17,7,8,4,9,6,5,4,2,16,7,11,10,2,13,2,14,3,0,4,22,7,0,8,8,3,2,8,12,17,3,4,10,24,27,11,17,17,8,6,0,0,0,0,0,0,0,0,0,0,0,0,0,0,0,0,0,0,0,0,0,0,0,0,0,17,24,16,13,4,8,2,1,2,2,5,0,7,2,16,0,1,8,3,1,5,3,1,0,0],\"legendgroup\":\"\",\"name\":\"\",\"showlegend\":true,\"values\":[69,61,38,42,68,54,51,9,50,45,67,60,55,54,44,47,61,37,38,66,57,61,51,61,49,40,76,82,41,53,39,31,38,54,67,51,43,41,43,36,63,68,35,38,18,44,37,49,47,34,14,43,35,40,63,25,33,23,33,13,27,65,3,42,68,35,39,50,46,70,67,42,29,38,62,76,34,46,29,42,23,27,49,59,59,46,25,45,26,24,44,65,44,41,27,61,32,71,88,63,54,31,37,63,46,49,53,38,50,69,79,31,30,77,60,74,37,40,51,82,66,55,30,44,84,60,67,52,28,47,45,49,44,60,77,77,66,48,39,48,48,41,50,94,64,92,63,78,97,90,100,98,86,114,82,47,36,55,70,49,62,79,48,38,3,48,71,65,61,53,31,78,51,60,64,62,79,44,82,94,107,102,148,88,75,79,62,70,69,135,99,72,62,60,86,96,121,85,77,50,64,83,74,95,84],\"type\":\"pie\"}],                        {\"template\":{\"data\":{\"histogram2dcontour\":[{\"type\":\"histogram2dcontour\",\"colorbar\":{\"outlinewidth\":0,\"ticks\":\"\"},\"colorscale\":[[0.0,\"#0d0887\"],[0.1111111111111111,\"#46039f\"],[0.2222222222222222,\"#7201a8\"],[0.3333333333333333,\"#9c179e\"],[0.4444444444444444,\"#bd3786\"],[0.5555555555555556,\"#d8576b\"],[0.6666666666666666,\"#ed7953\"],[0.7777777777777778,\"#fb9f3a\"],[0.8888888888888888,\"#fdca26\"],[1.0,\"#f0f921\"]]}],\"choropleth\":[{\"type\":\"choropleth\",\"colorbar\":{\"outlinewidth\":0,\"ticks\":\"\"}}],\"histogram2d\":[{\"type\":\"histogram2d\",\"colorbar\":{\"outlinewidth\":0,\"ticks\":\"\"},\"colorscale\":[[0.0,\"#0d0887\"],[0.1111111111111111,\"#46039f\"],[0.2222222222222222,\"#7201a8\"],[0.3333333333333333,\"#9c179e\"],[0.4444444444444444,\"#bd3786\"],[0.5555555555555556,\"#d8576b\"],[0.6666666666666666,\"#ed7953\"],[0.7777777777777778,\"#fb9f3a\"],[0.8888888888888888,\"#fdca26\"],[1.0,\"#f0f921\"]]}],\"heatmap\":[{\"type\":\"heatmap\",\"colorbar\":{\"outlinewidth\":0,\"ticks\":\"\"},\"colorscale\":[[0.0,\"#0d0887\"],[0.1111111111111111,\"#46039f\"],[0.2222222222222222,\"#7201a8\"],[0.3333333333333333,\"#9c179e\"],[0.4444444444444444,\"#bd3786\"],[0.5555555555555556,\"#d8576b\"],[0.6666666666666666,\"#ed7953\"],[0.7777777777777778,\"#fb9f3a\"],[0.8888888888888888,\"#fdca26\"],[1.0,\"#f0f921\"]]}],\"heatmapgl\":[{\"type\":\"heatmapgl\",\"colorbar\":{\"outlinewidth\":0,\"ticks\":\"\"},\"colorscale\":[[0.0,\"#0d0887\"],[0.1111111111111111,\"#46039f\"],[0.2222222222222222,\"#7201a8\"],[0.3333333333333333,\"#9c179e\"],[0.4444444444444444,\"#bd3786\"],[0.5555555555555556,\"#d8576b\"],[0.6666666666666666,\"#ed7953\"],[0.7777777777777778,\"#fb9f3a\"],[0.8888888888888888,\"#fdca26\"],[1.0,\"#f0f921\"]]}],\"contourcarpet\":[{\"type\":\"contourcarpet\",\"colorbar\":{\"outlinewidth\":0,\"ticks\":\"\"}}],\"contour\":[{\"type\":\"contour\",\"colorbar\":{\"outlinewidth\":0,\"ticks\":\"\"},\"colorscale\":[[0.0,\"#0d0887\"],[0.1111111111111111,\"#46039f\"],[0.2222222222222222,\"#7201a8\"],[0.3333333333333333,\"#9c179e\"],[0.4444444444444444,\"#bd3786\"],[0.5555555555555556,\"#d8576b\"],[0.6666666666666666,\"#ed7953\"],[0.7777777777777778,\"#fb9f3a\"],[0.8888888888888888,\"#fdca26\"],[1.0,\"#f0f921\"]]}],\"surface\":[{\"type\":\"surface\",\"colorbar\":{\"outlinewidth\":0,\"ticks\":\"\"},\"colorscale\":[[0.0,\"#0d0887\"],[0.1111111111111111,\"#46039f\"],[0.2222222222222222,\"#7201a8\"],[0.3333333333333333,\"#9c179e\"],[0.4444444444444444,\"#bd3786\"],[0.5555555555555556,\"#d8576b\"],[0.6666666666666666,\"#ed7953\"],[0.7777777777777778,\"#fb9f3a\"],[0.8888888888888888,\"#fdca26\"],[1.0,\"#f0f921\"]]}],\"mesh3d\":[{\"type\":\"mesh3d\",\"colorbar\":{\"outlinewidth\":0,\"ticks\":\"\"}}],\"scatter\":[{\"fillpattern\":{\"fillmode\":\"overlay\",\"size\":10,\"solidity\":0.2},\"type\":\"scatter\"}],\"parcoords\":[{\"type\":\"parcoords\",\"line\":{\"colorbar\":{\"outlinewidth\":0,\"ticks\":\"\"}}}],\"scatterpolargl\":[{\"type\":\"scatterpolargl\",\"marker\":{\"colorbar\":{\"outlinewidth\":0,\"ticks\":\"\"}}}],\"bar\":[{\"error_x\":{\"color\":\"#2a3f5f\"},\"error_y\":{\"color\":\"#2a3f5f\"},\"marker\":{\"line\":{\"color\":\"#E5ECF6\",\"width\":0.5},\"pattern\":{\"fillmode\":\"overlay\",\"size\":10,\"solidity\":0.2}},\"type\":\"bar\"}],\"scattergeo\":[{\"type\":\"scattergeo\",\"marker\":{\"colorbar\":{\"outlinewidth\":0,\"ticks\":\"\"}}}],\"scatterpolar\":[{\"type\":\"scatterpolar\",\"marker\":{\"colorbar\":{\"outlinewidth\":0,\"ticks\":\"\"}}}],\"histogram\":[{\"marker\":{\"pattern\":{\"fillmode\":\"overlay\",\"size\":10,\"solidity\":0.2}},\"type\":\"histogram\"}],\"scattergl\":[{\"type\":\"scattergl\",\"marker\":{\"colorbar\":{\"outlinewidth\":0,\"ticks\":\"\"}}}],\"scatter3d\":[{\"type\":\"scatter3d\",\"line\":{\"colorbar\":{\"outlinewidth\":0,\"ticks\":\"\"}},\"marker\":{\"colorbar\":{\"outlinewidth\":0,\"ticks\":\"\"}}}],\"scattermapbox\":[{\"type\":\"scattermapbox\",\"marker\":{\"colorbar\":{\"outlinewidth\":0,\"ticks\":\"\"}}}],\"scatterternary\":[{\"type\":\"scatterternary\",\"marker\":{\"colorbar\":{\"outlinewidth\":0,\"ticks\":\"\"}}}],\"scattercarpet\":[{\"type\":\"scattercarpet\",\"marker\":{\"colorbar\":{\"outlinewidth\":0,\"ticks\":\"\"}}}],\"carpet\":[{\"aaxis\":{\"endlinecolor\":\"#2a3f5f\",\"gridcolor\":\"white\",\"linecolor\":\"white\",\"minorgridcolor\":\"white\",\"startlinecolor\":\"#2a3f5f\"},\"baxis\":{\"endlinecolor\":\"#2a3f5f\",\"gridcolor\":\"white\",\"linecolor\":\"white\",\"minorgridcolor\":\"white\",\"startlinecolor\":\"#2a3f5f\"},\"type\":\"carpet\"}],\"table\":[{\"cells\":{\"fill\":{\"color\":\"#EBF0F8\"},\"line\":{\"color\":\"white\"}},\"header\":{\"fill\":{\"color\":\"#C8D4E3\"},\"line\":{\"color\":\"white\"}},\"type\":\"table\"}],\"barpolar\":[{\"marker\":{\"line\":{\"color\":\"#E5ECF6\",\"width\":0.5},\"pattern\":{\"fillmode\":\"overlay\",\"size\":10,\"solidity\":0.2}},\"type\":\"barpolar\"}],\"pie\":[{\"automargin\":true,\"type\":\"pie\"}]},\"layout\":{\"autotypenumbers\":\"strict\",\"colorway\":[\"#636efa\",\"#EF553B\",\"#00cc96\",\"#ab63fa\",\"#FFA15A\",\"#19d3f3\",\"#FF6692\",\"#B6E880\",\"#FF97FF\",\"#FECB52\"],\"font\":{\"color\":\"#2a3f5f\"},\"hovermode\":\"closest\",\"hoverlabel\":{\"align\":\"left\"},\"paper_bgcolor\":\"white\",\"plot_bgcolor\":\"#E5ECF6\",\"polar\":{\"bgcolor\":\"#E5ECF6\",\"angularaxis\":{\"gridcolor\":\"white\",\"linecolor\":\"white\",\"ticks\":\"\"},\"radialaxis\":{\"gridcolor\":\"white\",\"linecolor\":\"white\",\"ticks\":\"\"}},\"ternary\":{\"bgcolor\":\"#E5ECF6\",\"aaxis\":{\"gridcolor\":\"white\",\"linecolor\":\"white\",\"ticks\":\"\"},\"baxis\":{\"gridcolor\":\"white\",\"linecolor\":\"white\",\"ticks\":\"\"},\"caxis\":{\"gridcolor\":\"white\",\"linecolor\":\"white\",\"ticks\":\"\"}},\"coloraxis\":{\"colorbar\":{\"outlinewidth\":0,\"ticks\":\"\"}},\"colorscale\":{\"sequential\":[[0.0,\"#0d0887\"],[0.1111111111111111,\"#46039f\"],[0.2222222222222222,\"#7201a8\"],[0.3333333333333333,\"#9c179e\"],[0.4444444444444444,\"#bd3786\"],[0.5555555555555556,\"#d8576b\"],[0.6666666666666666,\"#ed7953\"],[0.7777777777777778,\"#fb9f3a\"],[0.8888888888888888,\"#fdca26\"],[1.0,\"#f0f921\"]],\"sequentialminus\":[[0.0,\"#0d0887\"],[0.1111111111111111,\"#46039f\"],[0.2222222222222222,\"#7201a8\"],[0.3333333333333333,\"#9c179e\"],[0.4444444444444444,\"#bd3786\"],[0.5555555555555556,\"#d8576b\"],[0.6666666666666666,\"#ed7953\"],[0.7777777777777778,\"#fb9f3a\"],[0.8888888888888888,\"#fdca26\"],[1.0,\"#f0f921\"]],\"diverging\":[[0,\"#8e0152\"],[0.1,\"#c51b7d\"],[0.2,\"#de77ae\"],[0.3,\"#f1b6da\"],[0.4,\"#fde0ef\"],[0.5,\"#f7f7f7\"],[0.6,\"#e6f5d0\"],[0.7,\"#b8e186\"],[0.8,\"#7fbc41\"],[0.9,\"#4d9221\"],[1,\"#276419\"]]},\"xaxis\":{\"gridcolor\":\"white\",\"linecolor\":\"white\",\"ticks\":\"\",\"title\":{\"standoff\":15},\"zerolinecolor\":\"white\",\"automargin\":true,\"zerolinewidth\":2},\"yaxis\":{\"gridcolor\":\"white\",\"linecolor\":\"white\",\"ticks\":\"\",\"title\":{\"standoff\":15},\"zerolinecolor\":\"white\",\"automargin\":true,\"zerolinewidth\":2},\"scene\":{\"xaxis\":{\"backgroundcolor\":\"#E5ECF6\",\"gridcolor\":\"white\",\"linecolor\":\"white\",\"showbackground\":true,\"ticks\":\"\",\"zerolinecolor\":\"white\",\"gridwidth\":2},\"yaxis\":{\"backgroundcolor\":\"#E5ECF6\",\"gridcolor\":\"white\",\"linecolor\":\"white\",\"showbackground\":true,\"ticks\":\"\",\"zerolinecolor\":\"white\",\"gridwidth\":2},\"zaxis\":{\"backgroundcolor\":\"#E5ECF6\",\"gridcolor\":\"white\",\"linecolor\":\"white\",\"showbackground\":true,\"ticks\":\"\",\"zerolinecolor\":\"white\",\"gridwidth\":2}},\"shapedefaults\":{\"line\":{\"color\":\"#2a3f5f\"}},\"annotationdefaults\":{\"arrowcolor\":\"#2a3f5f\",\"arrowhead\":0,\"arrowwidth\":1},\"geo\":{\"bgcolor\":\"white\",\"landcolor\":\"#E5ECF6\",\"subunitcolor\":\"white\",\"showland\":true,\"showlakes\":true,\"lakecolor\":\"white\"},\"title\":{\"x\":0.05},\"mapbox\":{\"style\":\"light\"}}},\"legend\":{\"tracegroupgap\":0},\"margin\":{\"t\":60}},                        {\"responsive\": true}                    ).then(function(){\n",
       "                            \n",
       "var gd = document.getElementById('90fbd07f-d2c4-486a-8d5c-ca641af72356');\n",
       "var x = new MutationObserver(function (mutations, observer) {{\n",
       "        var display = window.getComputedStyle(gd).display;\n",
       "        if (!display || display === 'none') {{\n",
       "            console.log([gd, 'removed!']);\n",
       "            Plotly.purge(gd);\n",
       "            observer.disconnect();\n",
       "        }}\n",
       "}});\n",
       "\n",
       "// Listen for the removal of the full notebook cells\n",
       "var notebookContainer = gd.closest('#notebook-container');\n",
       "if (notebookContainer) {{\n",
       "    x.observe(notebookContainer, {childList: true});\n",
       "}}\n",
       "\n",
       "// Listen for the clearing of the current output cell\n",
       "var outputEl = gd.closest('.output');\n",
       "if (outputEl) {{\n",
       "    x.observe(outputEl, {childList: true});\n",
       "}}\n",
       "\n",
       "                        })                };                });            </script>        </div>"
      ]
     },
     "metadata": {},
     "output_type": "display_data"
    }
   ],
   "source": [
    "fig = px.pie(food_df, names='08-18 (count)', values='factorNumber',hole=0.6 )\n",
    "fig.show()\n",
    "\n",
    "\n",
    "fig = px.pie(food_df, names='18-20 (count)', values='factorNumber', hole=0.6)\n",
    "fig.show()"
   ]
  },
  {
   "cell_type": "code",
   "execution_count": null,
   "id": "0d53652c",
   "metadata": {},
   "outputs": [],
   "source": []
  }
 ],
 "metadata": {
  "kernelspec": {
   "display_name": "Python 3 (ipykernel)",
   "language": "python",
   "name": "python3"
  },
  "language_info": {
   "codemirror_mode": {
    "name": "ipython",
    "version": 3
   },
   "file_extension": ".py",
   "mimetype": "text/x-python",
   "name": "python",
   "nbconvert_exporter": "python",
   "pygments_lexer": "ipython3",
   "version": "3.10.9"
  }
 },
 "nbformat": 4,
 "nbformat_minor": 5
}
